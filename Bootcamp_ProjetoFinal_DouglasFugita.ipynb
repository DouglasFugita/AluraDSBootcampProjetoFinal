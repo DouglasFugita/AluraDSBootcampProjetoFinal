{
  "nbformat": 4,
  "nbformat_minor": 0,
  "metadata": {
    "colab": {
      "name": "Bootcamp_ProjetoFinal_DouglasFugita.ipynb",
      "provenance": [],
      "collapsed_sections": [],
      "toc_visible": true
    },
    "kernelspec": {
      "name": "python3",
      "display_name": "Python 3"
    },
    "language_info": {
      "name": "python"
    },
    "widgets": {
      "application/vnd.jupyter.widget-state+json": {
        "6e89b718ec1047619dca7d39d632ef53": {
          "model_module": "@jupyter-widgets/controls",
          "model_name": "HBoxModel",
          "state": {
            "_view_name": "HBoxView",
            "_dom_classes": [],
            "_model_name": "HBoxModel",
            "_view_module": "@jupyter-widgets/controls",
            "_model_module_version": "1.5.0",
            "_view_count": null,
            "_view_module_version": "1.5.0",
            "box_style": "",
            "layout": "IPY_MODEL_ef3a80a5065b44068f5d3284307b8d13",
            "_model_module": "@jupyter-widgets/controls",
            "children": [
              "IPY_MODEL_8635c7e761b54a1daea0e65ac103fe18",
              "IPY_MODEL_1527921f7234416e9fc7635602abd0b3",
              "IPY_MODEL_05cc19abb87b499f8796f0a58cd42c54"
            ]
          }
        },
        "ef3a80a5065b44068f5d3284307b8d13": {
          "model_module": "@jupyter-widgets/base",
          "model_name": "LayoutModel",
          "state": {
            "_view_name": "LayoutView",
            "grid_template_rows": null,
            "right": null,
            "justify_content": null,
            "_view_module": "@jupyter-widgets/base",
            "overflow": null,
            "_model_module_version": "1.2.0",
            "_view_count": null,
            "flex_flow": null,
            "width": null,
            "min_width": null,
            "border": null,
            "align_items": null,
            "bottom": null,
            "_model_module": "@jupyter-widgets/base",
            "top": null,
            "grid_column": null,
            "overflow_y": null,
            "overflow_x": null,
            "grid_auto_flow": null,
            "grid_area": null,
            "grid_template_columns": null,
            "flex": null,
            "_model_name": "LayoutModel",
            "justify_items": null,
            "grid_row": null,
            "max_height": null,
            "align_content": null,
            "visibility": null,
            "align_self": null,
            "height": null,
            "min_height": null,
            "padding": null,
            "grid_auto_rows": null,
            "grid_gap": null,
            "max_width": null,
            "order": null,
            "_view_module_version": "1.2.0",
            "grid_template_areas": null,
            "object_position": null,
            "object_fit": null,
            "grid_auto_columns": null,
            "margin": null,
            "display": null,
            "left": null
          }
        },
        "8635c7e761b54a1daea0e65ac103fe18": {
          "model_module": "@jupyter-widgets/controls",
          "model_name": "HTMLModel",
          "state": {
            "_view_name": "HTMLView",
            "style": "IPY_MODEL_a7a53b26dff240f4894e215807d4507d",
            "_dom_classes": [],
            "description": "",
            "_model_name": "HTMLModel",
            "placeholder": "​",
            "_view_module": "@jupyter-widgets/controls",
            "_model_module_version": "1.5.0",
            "value": "100%",
            "_view_count": null,
            "_view_module_version": "1.5.0",
            "description_tooltip": null,
            "_model_module": "@jupyter-widgets/controls",
            "layout": "IPY_MODEL_66e378851cb043218c0f34f0e57a8031"
          }
        },
        "1527921f7234416e9fc7635602abd0b3": {
          "model_module": "@jupyter-widgets/controls",
          "model_name": "FloatProgressModel",
          "state": {
            "_view_name": "ProgressView",
            "style": "IPY_MODEL_a63ef76ea9214654887dbd9375b7869d",
            "_dom_classes": [],
            "description": "",
            "_model_name": "FloatProgressModel",
            "bar_style": "success",
            "max": 61,
            "_view_module": "@jupyter-widgets/controls",
            "_model_module_version": "1.5.0",
            "value": 61,
            "_view_count": null,
            "_view_module_version": "1.5.0",
            "orientation": "horizontal",
            "min": 0,
            "description_tooltip": null,
            "_model_module": "@jupyter-widgets/controls",
            "layout": "IPY_MODEL_920aec1c3f5e4e4e8531f2d0472edda1"
          }
        },
        "05cc19abb87b499f8796f0a58cd42c54": {
          "model_module": "@jupyter-widgets/controls",
          "model_name": "HTMLModel",
          "state": {
            "_view_name": "HTMLView",
            "style": "IPY_MODEL_d45f1f72860e4317ae5870a7ac7bfa91",
            "_dom_classes": [],
            "description": "",
            "_model_name": "HTMLModel",
            "placeholder": "​",
            "_view_module": "@jupyter-widgets/controls",
            "_model_module_version": "1.5.0",
            "value": " 61/61 [02:20&lt;00:00,  2.41s/it]",
            "_view_count": null,
            "_view_module_version": "1.5.0",
            "description_tooltip": null,
            "_model_module": "@jupyter-widgets/controls",
            "layout": "IPY_MODEL_b474206d5c2c45cd9c6bf914a4cc55fd"
          }
        },
        "a7a53b26dff240f4894e215807d4507d": {
          "model_module": "@jupyter-widgets/controls",
          "model_name": "DescriptionStyleModel",
          "state": {
            "_view_name": "StyleView",
            "_model_name": "DescriptionStyleModel",
            "description_width": "",
            "_view_module": "@jupyter-widgets/base",
            "_model_module_version": "1.5.0",
            "_view_count": null,
            "_view_module_version": "1.2.0",
            "_model_module": "@jupyter-widgets/controls"
          }
        },
        "66e378851cb043218c0f34f0e57a8031": {
          "model_module": "@jupyter-widgets/base",
          "model_name": "LayoutModel",
          "state": {
            "_view_name": "LayoutView",
            "grid_template_rows": null,
            "right": null,
            "justify_content": null,
            "_view_module": "@jupyter-widgets/base",
            "overflow": null,
            "_model_module_version": "1.2.0",
            "_view_count": null,
            "flex_flow": null,
            "width": null,
            "min_width": null,
            "border": null,
            "align_items": null,
            "bottom": null,
            "_model_module": "@jupyter-widgets/base",
            "top": null,
            "grid_column": null,
            "overflow_y": null,
            "overflow_x": null,
            "grid_auto_flow": null,
            "grid_area": null,
            "grid_template_columns": null,
            "flex": null,
            "_model_name": "LayoutModel",
            "justify_items": null,
            "grid_row": null,
            "max_height": null,
            "align_content": null,
            "visibility": null,
            "align_self": null,
            "height": null,
            "min_height": null,
            "padding": null,
            "grid_auto_rows": null,
            "grid_gap": null,
            "max_width": null,
            "order": null,
            "_view_module_version": "1.2.0",
            "grid_template_areas": null,
            "object_position": null,
            "object_fit": null,
            "grid_auto_columns": null,
            "margin": null,
            "display": null,
            "left": null
          }
        },
        "a63ef76ea9214654887dbd9375b7869d": {
          "model_module": "@jupyter-widgets/controls",
          "model_name": "ProgressStyleModel",
          "state": {
            "_view_name": "StyleView",
            "_model_name": "ProgressStyleModel",
            "description_width": "",
            "_view_module": "@jupyter-widgets/base",
            "_model_module_version": "1.5.0",
            "_view_count": null,
            "_view_module_version": "1.2.0",
            "bar_color": null,
            "_model_module": "@jupyter-widgets/controls"
          }
        },
        "920aec1c3f5e4e4e8531f2d0472edda1": {
          "model_module": "@jupyter-widgets/base",
          "model_name": "LayoutModel",
          "state": {
            "_view_name": "LayoutView",
            "grid_template_rows": null,
            "right": null,
            "justify_content": null,
            "_view_module": "@jupyter-widgets/base",
            "overflow": null,
            "_model_module_version": "1.2.0",
            "_view_count": null,
            "flex_flow": null,
            "width": null,
            "min_width": null,
            "border": null,
            "align_items": null,
            "bottom": null,
            "_model_module": "@jupyter-widgets/base",
            "top": null,
            "grid_column": null,
            "overflow_y": null,
            "overflow_x": null,
            "grid_auto_flow": null,
            "grid_area": null,
            "grid_template_columns": null,
            "flex": null,
            "_model_name": "LayoutModel",
            "justify_items": null,
            "grid_row": null,
            "max_height": null,
            "align_content": null,
            "visibility": null,
            "align_self": null,
            "height": null,
            "min_height": null,
            "padding": null,
            "grid_auto_rows": null,
            "grid_gap": null,
            "max_width": null,
            "order": null,
            "_view_module_version": "1.2.0",
            "grid_template_areas": null,
            "object_position": null,
            "object_fit": null,
            "grid_auto_columns": null,
            "margin": null,
            "display": null,
            "left": null
          }
        },
        "d45f1f72860e4317ae5870a7ac7bfa91": {
          "model_module": "@jupyter-widgets/controls",
          "model_name": "DescriptionStyleModel",
          "state": {
            "_view_name": "StyleView",
            "_model_name": "DescriptionStyleModel",
            "description_width": "",
            "_view_module": "@jupyter-widgets/base",
            "_model_module_version": "1.5.0",
            "_view_count": null,
            "_view_module_version": "1.2.0",
            "_model_module": "@jupyter-widgets/controls"
          }
        },
        "b474206d5c2c45cd9c6bf914a4cc55fd": {
          "model_module": "@jupyter-widgets/base",
          "model_name": "LayoutModel",
          "state": {
            "_view_name": "LayoutView",
            "grid_template_rows": null,
            "right": null,
            "justify_content": null,
            "_view_module": "@jupyter-widgets/base",
            "overflow": null,
            "_model_module_version": "1.2.0",
            "_view_count": null,
            "flex_flow": null,
            "width": null,
            "min_width": null,
            "border": null,
            "align_items": null,
            "bottom": null,
            "_model_module": "@jupyter-widgets/base",
            "top": null,
            "grid_column": null,
            "overflow_y": null,
            "overflow_x": null,
            "grid_auto_flow": null,
            "grid_area": null,
            "grid_template_columns": null,
            "flex": null,
            "_model_name": "LayoutModel",
            "justify_items": null,
            "grid_row": null,
            "max_height": null,
            "align_content": null,
            "visibility": null,
            "align_self": null,
            "height": null,
            "min_height": null,
            "padding": null,
            "grid_auto_rows": null,
            "grid_gap": null,
            "max_width": null,
            "order": null,
            "_view_module_version": "1.2.0",
            "grid_template_areas": null,
            "object_position": null,
            "object_fit": null,
            "grid_auto_columns": null,
            "margin": null,
            "display": null,
            "left": null
          }
        },
        "ad8f3c6dbbbd410388eef7756258736b": {
          "model_module": "@jupyter-widgets/controls",
          "model_name": "HBoxModel",
          "state": {
            "_view_name": "HBoxView",
            "_dom_classes": [],
            "_model_name": "HBoxModel",
            "_view_module": "@jupyter-widgets/controls",
            "_model_module_version": "1.5.0",
            "_view_count": null,
            "_view_module_version": "1.5.0",
            "box_style": "",
            "layout": "IPY_MODEL_56ed41f91473478599b0458d97328dfe",
            "_model_module": "@jupyter-widgets/controls",
            "children": [
              "IPY_MODEL_f25d67fb8d544174b0e000222376b886",
              "IPY_MODEL_3f646a43d4e2400a8ba9b8eaa000def3",
              "IPY_MODEL_21328ced4e56444f891ce5e7be98bf02"
            ]
          }
        },
        "56ed41f91473478599b0458d97328dfe": {
          "model_module": "@jupyter-widgets/base",
          "model_name": "LayoutModel",
          "state": {
            "_view_name": "LayoutView",
            "grid_template_rows": null,
            "right": null,
            "justify_content": null,
            "_view_module": "@jupyter-widgets/base",
            "overflow": null,
            "_model_module_version": "1.2.0",
            "_view_count": null,
            "flex_flow": null,
            "width": null,
            "min_width": null,
            "border": null,
            "align_items": null,
            "bottom": null,
            "_model_module": "@jupyter-widgets/base",
            "top": null,
            "grid_column": null,
            "overflow_y": null,
            "overflow_x": null,
            "grid_auto_flow": null,
            "grid_area": null,
            "grid_template_columns": null,
            "flex": null,
            "_model_name": "LayoutModel",
            "justify_items": null,
            "grid_row": null,
            "max_height": null,
            "align_content": null,
            "visibility": null,
            "align_self": null,
            "height": null,
            "min_height": null,
            "padding": null,
            "grid_auto_rows": null,
            "grid_gap": null,
            "max_width": null,
            "order": null,
            "_view_module_version": "1.2.0",
            "grid_template_areas": null,
            "object_position": null,
            "object_fit": null,
            "grid_auto_columns": null,
            "margin": null,
            "display": null,
            "left": null
          }
        },
        "f25d67fb8d544174b0e000222376b886": {
          "model_module": "@jupyter-widgets/controls",
          "model_name": "HTMLModel",
          "state": {
            "_view_name": "HTMLView",
            "style": "IPY_MODEL_0083d0947c804cbd91cbfe236dc0735f",
            "_dom_classes": [],
            "description": "",
            "_model_name": "HTMLModel",
            "placeholder": "​",
            "_view_module": "@jupyter-widgets/controls",
            "_model_module_version": "1.5.0",
            "value": "100%",
            "_view_count": null,
            "_view_module_version": "1.5.0",
            "description_tooltip": null,
            "_model_module": "@jupyter-widgets/controls",
            "layout": "IPY_MODEL_a48b8a6e795141129449be72659dad3d"
          }
        },
        "3f646a43d4e2400a8ba9b8eaa000def3": {
          "model_module": "@jupyter-widgets/controls",
          "model_name": "FloatProgressModel",
          "state": {
            "_view_name": "ProgressView",
            "style": "IPY_MODEL_d9c39cbe5ca54974b5316f666fc482b3",
            "_dom_classes": [],
            "description": "",
            "_model_name": "FloatProgressModel",
            "bar_style": "success",
            "max": 40,
            "_view_module": "@jupyter-widgets/controls",
            "_model_module_version": "1.5.0",
            "value": 40,
            "_view_count": null,
            "_view_module_version": "1.5.0",
            "orientation": "horizontal",
            "min": 0,
            "description_tooltip": null,
            "_model_module": "@jupyter-widgets/controls",
            "layout": "IPY_MODEL_43091aa26e974f2b9d8ba105fcd45cb0"
          }
        },
        "21328ced4e56444f891ce5e7be98bf02": {
          "model_module": "@jupyter-widgets/controls",
          "model_name": "HTMLModel",
          "state": {
            "_view_name": "HTMLView",
            "style": "IPY_MODEL_88e621aea3214ba9b29e9dc5f0507735",
            "_dom_classes": [],
            "description": "",
            "_model_name": "HTMLModel",
            "placeholder": "​",
            "_view_module": "@jupyter-widgets/controls",
            "_model_module_version": "1.5.0",
            "value": " 40/40 [00:47&lt;00:00,  1.25s/it]",
            "_view_count": null,
            "_view_module_version": "1.5.0",
            "description_tooltip": null,
            "_model_module": "@jupyter-widgets/controls",
            "layout": "IPY_MODEL_428f89404b7443cca03702d92d723f73"
          }
        },
        "0083d0947c804cbd91cbfe236dc0735f": {
          "model_module": "@jupyter-widgets/controls",
          "model_name": "DescriptionStyleModel",
          "state": {
            "_view_name": "StyleView",
            "_model_name": "DescriptionStyleModel",
            "description_width": "",
            "_view_module": "@jupyter-widgets/base",
            "_model_module_version": "1.5.0",
            "_view_count": null,
            "_view_module_version": "1.2.0",
            "_model_module": "@jupyter-widgets/controls"
          }
        },
        "a48b8a6e795141129449be72659dad3d": {
          "model_module": "@jupyter-widgets/base",
          "model_name": "LayoutModel",
          "state": {
            "_view_name": "LayoutView",
            "grid_template_rows": null,
            "right": null,
            "justify_content": null,
            "_view_module": "@jupyter-widgets/base",
            "overflow": null,
            "_model_module_version": "1.2.0",
            "_view_count": null,
            "flex_flow": null,
            "width": null,
            "min_width": null,
            "border": null,
            "align_items": null,
            "bottom": null,
            "_model_module": "@jupyter-widgets/base",
            "top": null,
            "grid_column": null,
            "overflow_y": null,
            "overflow_x": null,
            "grid_auto_flow": null,
            "grid_area": null,
            "grid_template_columns": null,
            "flex": null,
            "_model_name": "LayoutModel",
            "justify_items": null,
            "grid_row": null,
            "max_height": null,
            "align_content": null,
            "visibility": null,
            "align_self": null,
            "height": null,
            "min_height": null,
            "padding": null,
            "grid_auto_rows": null,
            "grid_gap": null,
            "max_width": null,
            "order": null,
            "_view_module_version": "1.2.0",
            "grid_template_areas": null,
            "object_position": null,
            "object_fit": null,
            "grid_auto_columns": null,
            "margin": null,
            "display": null,
            "left": null
          }
        },
        "d9c39cbe5ca54974b5316f666fc482b3": {
          "model_module": "@jupyter-widgets/controls",
          "model_name": "ProgressStyleModel",
          "state": {
            "_view_name": "StyleView",
            "_model_name": "ProgressStyleModel",
            "description_width": "",
            "_view_module": "@jupyter-widgets/base",
            "_model_module_version": "1.5.0",
            "_view_count": null,
            "_view_module_version": "1.2.0",
            "bar_color": null,
            "_model_module": "@jupyter-widgets/controls"
          }
        },
        "43091aa26e974f2b9d8ba105fcd45cb0": {
          "model_module": "@jupyter-widgets/base",
          "model_name": "LayoutModel",
          "state": {
            "_view_name": "LayoutView",
            "grid_template_rows": null,
            "right": null,
            "justify_content": null,
            "_view_module": "@jupyter-widgets/base",
            "overflow": null,
            "_model_module_version": "1.2.0",
            "_view_count": null,
            "flex_flow": null,
            "width": null,
            "min_width": null,
            "border": null,
            "align_items": null,
            "bottom": null,
            "_model_module": "@jupyter-widgets/base",
            "top": null,
            "grid_column": null,
            "overflow_y": null,
            "overflow_x": null,
            "grid_auto_flow": null,
            "grid_area": null,
            "grid_template_columns": null,
            "flex": null,
            "_model_name": "LayoutModel",
            "justify_items": null,
            "grid_row": null,
            "max_height": null,
            "align_content": null,
            "visibility": null,
            "align_self": null,
            "height": null,
            "min_height": null,
            "padding": null,
            "grid_auto_rows": null,
            "grid_gap": null,
            "max_width": null,
            "order": null,
            "_view_module_version": "1.2.0",
            "grid_template_areas": null,
            "object_position": null,
            "object_fit": null,
            "grid_auto_columns": null,
            "margin": null,
            "display": null,
            "left": null
          }
        },
        "88e621aea3214ba9b29e9dc5f0507735": {
          "model_module": "@jupyter-widgets/controls",
          "model_name": "DescriptionStyleModel",
          "state": {
            "_view_name": "StyleView",
            "_model_name": "DescriptionStyleModel",
            "description_width": "",
            "_view_module": "@jupyter-widgets/base",
            "_model_module_version": "1.5.0",
            "_view_count": null,
            "_view_module_version": "1.2.0",
            "_model_module": "@jupyter-widgets/controls"
          }
        },
        "428f89404b7443cca03702d92d723f73": {
          "model_module": "@jupyter-widgets/base",
          "model_name": "LayoutModel",
          "state": {
            "_view_name": "LayoutView",
            "grid_template_rows": null,
            "right": null,
            "justify_content": null,
            "_view_module": "@jupyter-widgets/base",
            "overflow": null,
            "_model_module_version": "1.2.0",
            "_view_count": null,
            "flex_flow": null,
            "width": null,
            "min_width": null,
            "border": null,
            "align_items": null,
            "bottom": null,
            "_model_module": "@jupyter-widgets/base",
            "top": null,
            "grid_column": null,
            "overflow_y": null,
            "overflow_x": null,
            "grid_auto_flow": null,
            "grid_area": null,
            "grid_template_columns": null,
            "flex": null,
            "_model_name": "LayoutModel",
            "justify_items": null,
            "grid_row": null,
            "max_height": null,
            "align_content": null,
            "visibility": null,
            "align_self": null,
            "height": null,
            "min_height": null,
            "padding": null,
            "grid_auto_rows": null,
            "grid_gap": null,
            "max_width": null,
            "order": null,
            "_view_module_version": "1.2.0",
            "grid_template_areas": null,
            "object_position": null,
            "object_fit": null,
            "grid_auto_columns": null,
            "margin": null,
            "display": null,
            "left": null
          }
        },
        "4c929f8ff28d44ec9a64af58297cb685": {
          "model_module": "@jupyter-widgets/controls",
          "model_name": "HBoxModel",
          "state": {
            "_view_name": "HBoxView",
            "_dom_classes": [],
            "_model_name": "HBoxModel",
            "_view_module": "@jupyter-widgets/controls",
            "_model_module_version": "1.5.0",
            "_view_count": null,
            "_view_module_version": "1.5.0",
            "box_style": "",
            "layout": "IPY_MODEL_f07b37bcca6b4e6587745eb331c4fd89",
            "_model_module": "@jupyter-widgets/controls",
            "children": [
              "IPY_MODEL_196fe6b204284f31b3b01abd633d160b",
              "IPY_MODEL_04bb3609735c44abb2d6a25649be047d",
              "IPY_MODEL_dfb623f579c149099bd14ca4ce45d52f"
            ]
          }
        },
        "f07b37bcca6b4e6587745eb331c4fd89": {
          "model_module": "@jupyter-widgets/base",
          "model_name": "LayoutModel",
          "state": {
            "_view_name": "LayoutView",
            "grid_template_rows": null,
            "right": null,
            "justify_content": null,
            "_view_module": "@jupyter-widgets/base",
            "overflow": null,
            "_model_module_version": "1.2.0",
            "_view_count": null,
            "flex_flow": null,
            "width": null,
            "min_width": null,
            "border": null,
            "align_items": null,
            "bottom": null,
            "_model_module": "@jupyter-widgets/base",
            "top": null,
            "grid_column": null,
            "overflow_y": null,
            "overflow_x": null,
            "grid_auto_flow": null,
            "grid_area": null,
            "grid_template_columns": null,
            "flex": null,
            "_model_name": "LayoutModel",
            "justify_items": null,
            "grid_row": null,
            "max_height": null,
            "align_content": null,
            "visibility": null,
            "align_self": null,
            "height": null,
            "min_height": null,
            "padding": null,
            "grid_auto_rows": null,
            "grid_gap": null,
            "max_width": null,
            "order": null,
            "_view_module_version": "1.2.0",
            "grid_template_areas": null,
            "object_position": null,
            "object_fit": null,
            "grid_auto_columns": null,
            "margin": null,
            "display": null,
            "left": null
          }
        },
        "196fe6b204284f31b3b01abd633d160b": {
          "model_module": "@jupyter-widgets/controls",
          "model_name": "HTMLModel",
          "state": {
            "_view_name": "HTMLView",
            "style": "IPY_MODEL_d8f08c360eab4270a23923b55ea94189",
            "_dom_classes": [],
            "description": "",
            "_model_name": "HTMLModel",
            "placeholder": "​",
            "_view_module": "@jupyter-widgets/controls",
            "_model_module_version": "1.5.0",
            "value": "100%",
            "_view_count": null,
            "_view_module_version": "1.5.0",
            "description_tooltip": null,
            "_model_module": "@jupyter-widgets/controls",
            "layout": "IPY_MODEL_20d314c378bb4eb295f4ddd0e11604e8"
          }
        },
        "04bb3609735c44abb2d6a25649be047d": {
          "model_module": "@jupyter-widgets/controls",
          "model_name": "FloatProgressModel",
          "state": {
            "_view_name": "ProgressView",
            "style": "IPY_MODEL_f8728ac3789e4ab5842899aab017cffd",
            "_dom_classes": [],
            "description": "",
            "_model_name": "FloatProgressModel",
            "bar_style": "success",
            "max": 10,
            "_view_module": "@jupyter-widgets/controls",
            "_model_module_version": "1.5.0",
            "value": 10,
            "_view_count": null,
            "_view_module_version": "1.5.0",
            "orientation": "horizontal",
            "min": 0,
            "description_tooltip": null,
            "_model_module": "@jupyter-widgets/controls",
            "layout": "IPY_MODEL_e9372f9995934d0792fcb8d322b7e4df"
          }
        },
        "dfb623f579c149099bd14ca4ce45d52f": {
          "model_module": "@jupyter-widgets/controls",
          "model_name": "HTMLModel",
          "state": {
            "_view_name": "HTMLView",
            "style": "IPY_MODEL_ec916ce9febb442a8baa4ec61ba991c6",
            "_dom_classes": [],
            "description": "",
            "_model_name": "HTMLModel",
            "placeholder": "​",
            "_view_module": "@jupyter-widgets/controls",
            "_model_module_version": "1.5.0",
            "value": " 10/10 [01:35&lt;00:00, 13.33s/it]",
            "_view_count": null,
            "_view_module_version": "1.5.0",
            "description_tooltip": null,
            "_model_module": "@jupyter-widgets/controls",
            "layout": "IPY_MODEL_b7e5d96c971b4d90a45fd54f5745e567"
          }
        },
        "d8f08c360eab4270a23923b55ea94189": {
          "model_module": "@jupyter-widgets/controls",
          "model_name": "DescriptionStyleModel",
          "state": {
            "_view_name": "StyleView",
            "_model_name": "DescriptionStyleModel",
            "description_width": "",
            "_view_module": "@jupyter-widgets/base",
            "_model_module_version": "1.5.0",
            "_view_count": null,
            "_view_module_version": "1.2.0",
            "_model_module": "@jupyter-widgets/controls"
          }
        },
        "20d314c378bb4eb295f4ddd0e11604e8": {
          "model_module": "@jupyter-widgets/base",
          "model_name": "LayoutModel",
          "state": {
            "_view_name": "LayoutView",
            "grid_template_rows": null,
            "right": null,
            "justify_content": null,
            "_view_module": "@jupyter-widgets/base",
            "overflow": null,
            "_model_module_version": "1.2.0",
            "_view_count": null,
            "flex_flow": null,
            "width": null,
            "min_width": null,
            "border": null,
            "align_items": null,
            "bottom": null,
            "_model_module": "@jupyter-widgets/base",
            "top": null,
            "grid_column": null,
            "overflow_y": null,
            "overflow_x": null,
            "grid_auto_flow": null,
            "grid_area": null,
            "grid_template_columns": null,
            "flex": null,
            "_model_name": "LayoutModel",
            "justify_items": null,
            "grid_row": null,
            "max_height": null,
            "align_content": null,
            "visibility": null,
            "align_self": null,
            "height": null,
            "min_height": null,
            "padding": null,
            "grid_auto_rows": null,
            "grid_gap": null,
            "max_width": null,
            "order": null,
            "_view_module_version": "1.2.0",
            "grid_template_areas": null,
            "object_position": null,
            "object_fit": null,
            "grid_auto_columns": null,
            "margin": null,
            "display": null,
            "left": null
          }
        },
        "f8728ac3789e4ab5842899aab017cffd": {
          "model_module": "@jupyter-widgets/controls",
          "model_name": "ProgressStyleModel",
          "state": {
            "_view_name": "StyleView",
            "_model_name": "ProgressStyleModel",
            "description_width": "",
            "_view_module": "@jupyter-widgets/base",
            "_model_module_version": "1.5.0",
            "_view_count": null,
            "_view_module_version": "1.2.0",
            "bar_color": null,
            "_model_module": "@jupyter-widgets/controls"
          }
        },
        "e9372f9995934d0792fcb8d322b7e4df": {
          "model_module": "@jupyter-widgets/base",
          "model_name": "LayoutModel",
          "state": {
            "_view_name": "LayoutView",
            "grid_template_rows": null,
            "right": null,
            "justify_content": null,
            "_view_module": "@jupyter-widgets/base",
            "overflow": null,
            "_model_module_version": "1.2.0",
            "_view_count": null,
            "flex_flow": null,
            "width": null,
            "min_width": null,
            "border": null,
            "align_items": null,
            "bottom": null,
            "_model_module": "@jupyter-widgets/base",
            "top": null,
            "grid_column": null,
            "overflow_y": null,
            "overflow_x": null,
            "grid_auto_flow": null,
            "grid_area": null,
            "grid_template_columns": null,
            "flex": null,
            "_model_name": "LayoutModel",
            "justify_items": null,
            "grid_row": null,
            "max_height": null,
            "align_content": null,
            "visibility": null,
            "align_self": null,
            "height": null,
            "min_height": null,
            "padding": null,
            "grid_auto_rows": null,
            "grid_gap": null,
            "max_width": null,
            "order": null,
            "_view_module_version": "1.2.0",
            "grid_template_areas": null,
            "object_position": null,
            "object_fit": null,
            "grid_auto_columns": null,
            "margin": null,
            "display": null,
            "left": null
          }
        },
        "ec916ce9febb442a8baa4ec61ba991c6": {
          "model_module": "@jupyter-widgets/controls",
          "model_name": "DescriptionStyleModel",
          "state": {
            "_view_name": "StyleView",
            "_model_name": "DescriptionStyleModel",
            "description_width": "",
            "_view_module": "@jupyter-widgets/base",
            "_model_module_version": "1.5.0",
            "_view_count": null,
            "_view_module_version": "1.2.0",
            "_model_module": "@jupyter-widgets/controls"
          }
        },
        "b7e5d96c971b4d90a45fd54f5745e567": {
          "model_module": "@jupyter-widgets/base",
          "model_name": "LayoutModel",
          "state": {
            "_view_name": "LayoutView",
            "grid_template_rows": null,
            "right": null,
            "justify_content": null,
            "_view_module": "@jupyter-widgets/base",
            "overflow": null,
            "_model_module_version": "1.2.0",
            "_view_count": null,
            "flex_flow": null,
            "width": null,
            "min_width": null,
            "border": null,
            "align_items": null,
            "bottom": null,
            "_model_module": "@jupyter-widgets/base",
            "top": null,
            "grid_column": null,
            "overflow_y": null,
            "overflow_x": null,
            "grid_auto_flow": null,
            "grid_area": null,
            "grid_template_columns": null,
            "flex": null,
            "_model_name": "LayoutModel",
            "justify_items": null,
            "grid_row": null,
            "max_height": null,
            "align_content": null,
            "visibility": null,
            "align_self": null,
            "height": null,
            "min_height": null,
            "padding": null,
            "grid_auto_rows": null,
            "grid_gap": null,
            "max_width": null,
            "order": null,
            "_view_module_version": "1.2.0",
            "grid_template_areas": null,
            "object_position": null,
            "object_fit": null,
            "grid_auto_columns": null,
            "margin": null,
            "display": null,
            "left": null
          }
        }
      }
    }
  },
  "cells": [
    {
      "cell_type": "markdown",
      "metadata": {
        "id": "6801SgWP7pNF"
      },
      "source": [
        "# Introdução\n",
        "---\n",
        "O ano é 2021. \n",
        "\n",
        "O mundo atravessa uma pandemia digna de filmes de ação, terror, ficção científica, etc.\n",
        "\n",
        "No final de 2019, na China, mais especificamente em Wuhan, foram descobertas as primeiras infeccçoes causadades pelo SARS-CoV-2, um vírus respiratório que, até o momento causou 2.7 milhões de mortes pelo mundo.\n",
        "\n",
        "No Brasil, o cenário não é muito diferente.\n",
        "Hoje (22/03/2021), com mais de 292 mil óbitos confirmados, o Brasil ocupa o segundo lugar no ranking de países que mais perderam vidas para a COVID-19.\n",
        "\n",
        "Atualmente, estamos beirando o colapso do sistema de saúde e acumulando mortes de pessoas que estavam aguardando por um leito de UTI.\n",
        "\n",
        "Tendo este cenário em mente, o hospital Sírio Libanês publicou no Kaggle (https://www.kaggle.com/Sírio-Libanes/covid19) um desafio com o objetivo de tentar identificar com base em uma série de indicadores da saúde do paciente, o mais rápido possível, se um paciente precisará de um leito de UTI ou não.\n",
        "\n",
        "A base de dados disponibilizada conta com dados relativos a:\n",
        "- Informações demográficas\n",
        "- Doenças prévias\n",
        "- Resultados de exames de sangue\n",
        "- Sinais vitais\n",
        "\n",
        "Para mais informações, acesse o site supra citado.\n",
        "\n",
        "---"
      ]
    },
    {
      "cell_type": "markdown",
      "metadata": {
        "id": "TA8BWWitSWTo"
      },
      "source": [
        "# Objetivo\n",
        "---\n",
        "- Conseguir prever, baseado em indicadores de saúde, se, logo nas primeiras horas, um paciente precisará de um leito de UTI ou não.\n",
        "\n",
        "---"
      ]
    },
    {
      "cell_type": "markdown",
      "metadata": {
        "id": "AEaez0IwNEZq"
      },
      "source": [
        "# Análise Exploratória\n"
      ]
    },
    {
      "cell_type": "markdown",
      "metadata": {
        "id": "cFHtCcHPNVmg"
      },
      "source": [
        "## Bibliotecas"
      ]
    },
    {
      "cell_type": "code",
      "metadata": {
        "id": "nFwb2J2RHGZm"
      },
      "source": [
        "!pip install pyforest\n",
        "!pip install lazypredict\n",
        "!pip install tqdm"
      ],
      "execution_count": null,
      "outputs": []
    },
    {
      "cell_type": "code",
      "metadata": {
        "id": "7zaYkb6RUVq-"
      },
      "source": [
        "import warnings\n",
        "warnings.filterwarnings('ignore')\n",
        "\n",
        "import tqdm.notebook as tq\n",
        "\n",
        "from tqdm import tqdm\n",
        "from tqdm import trange\n",
        "\n",
        "\n",
        "import pyforest\n",
        "import lazypredict\n",
        "from lazypredict.Supervised import LazyClassifier\n",
        "\n",
        "from lightgbm.sklearn import LGBMClassifier\n",
        "\n",
        "from sklearn.model_selection import train_test_split\n",
        "from sklearn.metrics import roc_auc_score\n",
        "from sklearn.metrics import classification_report\n",
        "\n",
        "from sklearn.model_selection import RepeatedStratifiedKFold\n",
        "from sklearn.model_selection import cross_validate"
      ],
      "execution_count": null,
      "outputs": []
    },
    {
      "cell_type": "markdown",
      "metadata": {
        "id": "hYKbuAd_ETei"
      },
      "source": [
        "## Definição de funções"
      ]
    },
    {
      "cell_type": "code",
      "metadata": {
        "id": "k9N47gW9oP2H",
        "colab": {
          "base_uri": "https://localhost:8080/",
          "height": 17
        },
        "outputId": "22a8cf78-dc56-4f4a-8c27-e0ce0592f8bd"
      },
      "source": [
        "# Definiciao de Seed para as tratativas aleatorias dos algoritmos de ML\n",
        "np.random.seed(5488217)"
      ],
      "execution_count": null,
      "outputs": [
        {
          "output_type": "display_data",
          "data": {
            "application/javascript": [
              "\n",
              "        if (window._pyforest_update_imports_cell) { window._pyforest_update_imports_cell('import numpy as np'); }\n",
              "    "
            ],
            "text/plain": [
              "<IPython.core.display.Javascript object>"
            ]
          },
          "metadata": {
            "tags": []
          }
        }
      ]
    },
    {
      "cell_type": "code",
      "metadata": {
        "id": "5G33qG6gUeCt"
      },
      "source": [
        "# Funcao que remove os paciente que foram internados na primeira janela\n",
        "def remove_UTI_primeria_janela (dados):\n",
        "  print (\"=== Dados Brutos ===\")\n",
        "  print (f\"Numero de Linhas: {dados.shape[0]}\")\n",
        "  print (f\"Numero de Pacientes Unicos: {dados['PATIENT_VISIT_IDENTIFIER'].nunique()}\")\n",
        "  pacientes_remover = dados.query('WINDOW==\"0-2\" and ICU==\"1\"')['PATIENT_VISIT_IDENTIFIER'].values\n",
        "  dados_tratados = dados.query('PATIENT_VISIT_IDENTIFIER not in @pacientes_remover')\n",
        "  print (\"=== Dados apos remocao dos pacientes que foram internado na UTI logo na primeira janela ===\")\n",
        "  print (f\"Numero de Linhas: {dados_tratados.shape[0]}\")\n",
        "  print (f\"Numero de Pacientes Unicos: {dados_tratados['PATIENT_VISIT_IDENTIFIER'].nunique()}\")  \n",
        "  return dados_tratados"
      ],
      "execution_count": null,
      "outputs": []
    },
    {
      "cell_type": "code",
      "metadata": {
        "id": "1K6duXWoXS1b"
      },
      "source": [
        "# Funcao que preenche dados faltantes baseado nos valores das linhas posteriores e anteriores.\n",
        "# O range [:,13:-2] se refere a todos os dados continuos da base de dados. \n",
        "# Os dados [:,:13] e [:,-2:-1] se referem aos dados categoricos\n",
        "# [:,-1:] e a coluna com a saida de dados\n",
        "\n",
        "def preenche_dados_faltantes(dados):\n",
        "  print(f\"Numero de colunas: {len(dados.columns)}\")\n",
        "  print(f\"Numero de colunas com campos nulos: {np.sum(dados.isnull().sum()>0)}\")\n",
        "  features_continuas_colunas = dados.iloc[:,13:-2].columns\n",
        "  features_continuas = dados.groupby(\"PATIENT_VISIT_IDENTIFIER\", as_index=False)[features_continuas_colunas].fillna(method='bfill').fillna(method='ffill')\n",
        "  features_categoricas = dados.iloc[:,:13]\n",
        "  saida = dados.iloc[:, -2:]\n",
        "  dados_tratados = pd.concat([features_categoricas, features_continuas, saida], ignore_index=True, axis = 1)\n",
        "  dados_tratados.columns = dados.columns\n",
        "\n",
        "  dados_tratados = dados_tratados.dropna()\n",
        "\n",
        "  print(f\"Numero de colunas com campos nulos apos tratamento dos dados: {np.sum(dados_tratados.isnull().sum()>0)}\")\n",
        "  return dados_tratados"
      ],
      "execution_count": null,
      "outputs": []
    },
    {
      "cell_type": "code",
      "metadata": {
        "id": "nE1qfaXRjnXl"
      },
      "source": [
        "# Funcao a ser utilizada na funcao apply para agrupar dados dos pacientes\n",
        "# Esta funcao verifica os registros nos quais o paciente foi para a UTI em qualquer janela de tempo\n",
        "# Caso ele tenha sido internado, o registro da primeira janela de tempo é marcado como True para o campo 'ICU'.\n",
        "# Caso contrario, a primeira janela de tempo é retornada.\n",
        "\n",
        "def agrupar_ICU(rows):\n",
        "  if(np.any(rows['ICU'])):\n",
        "    rows.loc[rows['WINDOW']=='0-2','ICU'] = 1\n",
        "  return rows.loc[rows['WINDOW']=='0-2']"
      ],
      "execution_count": null,
      "outputs": []
    },
    {
      "cell_type": "code",
      "metadata": {
        "id": "Mj_EiJlOnxGs"
      },
      "source": [
        "def tratar_dados_categoricos(dados):\n",
        "  age = {\n",
        "    '10th': 10,\n",
        "    '20th': 20,\n",
        "    '30th': 30,\n",
        "    '40th': 40,\n",
        "    '50th': 50,\n",
        "    '60th': 60,\n",
        "    '70th': 70,\n",
        "    '80th': 80,\n",
        "    '90th': 90,\n",
        "    'Above 90th':100\n",
        "  }\n",
        "\n",
        "  dados['AGE_PERCENTIL'] = dados['AGE_PERCENTIL'].map(age)\n",
        "  dados.drop('WINDOW', axis=1, inplace=True)\n",
        "  return dados"
      ],
      "execution_count": null,
      "outputs": []
    },
    {
      "cell_type": "code",
      "metadata": {
        "id": "Xiu0EwBTrurw"
      },
      "source": [
        "# Funçao disponibilizada pelos autores do desafio considerando as features de maior relevancia\n",
        "\n",
        "def makebio_df(df):\n",
        "\n",
        "  df[\"BLOODPRESSURE_ARTERIAL_MEAN\"] = (df['BLOODPRESSURE_SISTOLIC_MEAN'] + 2*df['BLOODPRESSURE_DIASTOLIC_MEAN'])/3\n",
        "  df[\"NEUTROPHILES/LINFOCITOS\"] = df['NEUTROPHILES_MEAN']/df['LINFOCITOS_MEAN']\n",
        "  df[\"GASO\"] = df.groupby(\"PATIENT_VISIT_IDENTIFIER\").P02_ARTERIAL_MEAN.apply(lambda x: x.fillna(method='ffill'))\n",
        "  df[\"GASO\"] = (~df[\"GASO\"].isna()).astype(int)\n",
        "  return df[[\"ICU\",\n",
        "               \"AGE_ABOVE65\", \n",
        "               \"GENDER\", \n",
        "               \"BLOODPRESSURE_ARTERIAL_MEAN\", \n",
        "               \"RESPIRATORY_RATE_MAX\", \n",
        "               \"HTN\", \n",
        "               \"DISEASE GROUPING 1\",\n",
        "               \"DISEASE GROUPING 2\",\n",
        "               \"DISEASE GROUPING 3\",\n",
        "               \"DISEASE GROUPING 4\",\n",
        "               \"DISEASE GROUPING 5\",\n",
        "               \"DISEASE GROUPING 6\",\n",
        "               \"NEUTROPHILES/LINFOCITOS\",\n",
        "               \"GASO\",\n",
        "               \"OXYGEN_SATURATION_MIN\",\n",
        "               \"HEART_RATE_MAX\",\n",
        "               \"PCR_MEAN\",\n",
        "               \"CREATININ_MEAN\"]]"
      ],
      "execution_count": null,
      "outputs": []
    },
    {
      "cell_type": "markdown",
      "metadata": {
        "id": "jpSI0ghumH-j"
      },
      "source": [
        "---\n",
        "Os dados que serão utilizados neste trabalho foram obtidos através do link https://www.kaggle.com/Sírio-Libanes/covid19/download em 16/03/2021\n",
        "\n",
        "---"
      ]
    },
    {
      "cell_type": "markdown",
      "metadata": {
        "id": "xmdDkB1eEjIV"
      },
      "source": [
        "## Tratamento dos dados"
      ]
    },
    {
      "cell_type": "code",
      "metadata": {
        "colab": {
          "base_uri": "https://localhost:8080/",
          "height": 473
        },
        "id": "9kKLnBvwMehY",
        "outputId": "d5eb687f-8167-4152-8c5b-540eee17a998"
      },
      "source": [
        "url = '/content/drive/MyDrive/Colab Notebooks/Kaggle_Sirio_Libanes_ICU_Prediction.xlsx'\n",
        "dados = pd.read_excel(url)\n",
        "dados"
      ],
      "execution_count": null,
      "outputs": [
        {
          "output_type": "display_data",
          "data": {
            "application/javascript": [
              "\n",
              "        if (window._pyforest_update_imports_cell) { window._pyforest_update_imports_cell('import numpy as np\\nimport pandas as pd'); }\n",
              "    "
            ],
            "text/plain": [
              "<IPython.core.display.Javascript object>"
            ]
          },
          "metadata": {
            "tags": []
          }
        },
        {
          "output_type": "execute_result",
          "data": {
            "text/html": [
              "<div>\n",
              "<style scoped>\n",
              "    .dataframe tbody tr th:only-of-type {\n",
              "        vertical-align: middle;\n",
              "    }\n",
              "\n",
              "    .dataframe tbody tr th {\n",
              "        vertical-align: top;\n",
              "    }\n",
              "\n",
              "    .dataframe thead th {\n",
              "        text-align: right;\n",
              "    }\n",
              "</style>\n",
              "<table border=\"1\" class=\"dataframe\">\n",
              "  <thead>\n",
              "    <tr style=\"text-align: right;\">\n",
              "      <th></th>\n",
              "      <th>PATIENT_VISIT_IDENTIFIER</th>\n",
              "      <th>AGE_ABOVE65</th>\n",
              "      <th>AGE_PERCENTIL</th>\n",
              "      <th>GENDER</th>\n",
              "      <th>DISEASE GROUPING 1</th>\n",
              "      <th>DISEASE GROUPING 2</th>\n",
              "      <th>DISEASE GROUPING 3</th>\n",
              "      <th>DISEASE GROUPING 4</th>\n",
              "      <th>DISEASE GROUPING 5</th>\n",
              "      <th>DISEASE GROUPING 6</th>\n",
              "      <th>HTN</th>\n",
              "      <th>IMMUNOCOMPROMISED</th>\n",
              "      <th>OTHER</th>\n",
              "      <th>ALBUMIN_MEDIAN</th>\n",
              "      <th>ALBUMIN_MEAN</th>\n",
              "      <th>ALBUMIN_MIN</th>\n",
              "      <th>ALBUMIN_MAX</th>\n",
              "      <th>ALBUMIN_DIFF</th>\n",
              "      <th>BE_ARTERIAL_MEDIAN</th>\n",
              "      <th>BE_ARTERIAL_MEAN</th>\n",
              "      <th>BE_ARTERIAL_MIN</th>\n",
              "      <th>BE_ARTERIAL_MAX</th>\n",
              "      <th>BE_ARTERIAL_DIFF</th>\n",
              "      <th>BE_VENOUS_MEDIAN</th>\n",
              "      <th>BE_VENOUS_MEAN</th>\n",
              "      <th>BE_VENOUS_MIN</th>\n",
              "      <th>BE_VENOUS_MAX</th>\n",
              "      <th>BE_VENOUS_DIFF</th>\n",
              "      <th>BIC_ARTERIAL_MEDIAN</th>\n",
              "      <th>BIC_ARTERIAL_MEAN</th>\n",
              "      <th>BIC_ARTERIAL_MIN</th>\n",
              "      <th>BIC_ARTERIAL_MAX</th>\n",
              "      <th>BIC_ARTERIAL_DIFF</th>\n",
              "      <th>BIC_VENOUS_MEDIAN</th>\n",
              "      <th>BIC_VENOUS_MEAN</th>\n",
              "      <th>BIC_VENOUS_MIN</th>\n",
              "      <th>BIC_VENOUS_MAX</th>\n",
              "      <th>BIC_VENOUS_DIFF</th>\n",
              "      <th>BILLIRUBIN_MEDIAN</th>\n",
              "      <th>BILLIRUBIN_MEAN</th>\n",
              "      <th>...</th>\n",
              "      <th>DIMER_MAX</th>\n",
              "      <th>DIMER_DIFF</th>\n",
              "      <th>BLOODPRESSURE_DIASTOLIC_MEAN</th>\n",
              "      <th>BLOODPRESSURE_SISTOLIC_MEAN</th>\n",
              "      <th>HEART_RATE_MEAN</th>\n",
              "      <th>RESPIRATORY_RATE_MEAN</th>\n",
              "      <th>TEMPERATURE_MEAN</th>\n",
              "      <th>OXYGEN_SATURATION_MEAN</th>\n",
              "      <th>BLOODPRESSURE_DIASTOLIC_MEDIAN</th>\n",
              "      <th>BLOODPRESSURE_SISTOLIC_MEDIAN</th>\n",
              "      <th>HEART_RATE_MEDIAN</th>\n",
              "      <th>RESPIRATORY_RATE_MEDIAN</th>\n",
              "      <th>TEMPERATURE_MEDIAN</th>\n",
              "      <th>OXYGEN_SATURATION_MEDIAN</th>\n",
              "      <th>BLOODPRESSURE_DIASTOLIC_MIN</th>\n",
              "      <th>BLOODPRESSURE_SISTOLIC_MIN</th>\n",
              "      <th>HEART_RATE_MIN</th>\n",
              "      <th>RESPIRATORY_RATE_MIN</th>\n",
              "      <th>TEMPERATURE_MIN</th>\n",
              "      <th>OXYGEN_SATURATION_MIN</th>\n",
              "      <th>BLOODPRESSURE_DIASTOLIC_MAX</th>\n",
              "      <th>BLOODPRESSURE_SISTOLIC_MAX</th>\n",
              "      <th>HEART_RATE_MAX</th>\n",
              "      <th>RESPIRATORY_RATE_MAX</th>\n",
              "      <th>TEMPERATURE_MAX</th>\n",
              "      <th>OXYGEN_SATURATION_MAX</th>\n",
              "      <th>BLOODPRESSURE_DIASTOLIC_DIFF</th>\n",
              "      <th>BLOODPRESSURE_SISTOLIC_DIFF</th>\n",
              "      <th>HEART_RATE_DIFF</th>\n",
              "      <th>RESPIRATORY_RATE_DIFF</th>\n",
              "      <th>TEMPERATURE_DIFF</th>\n",
              "      <th>OXYGEN_SATURATION_DIFF</th>\n",
              "      <th>BLOODPRESSURE_DIASTOLIC_DIFF_REL</th>\n",
              "      <th>BLOODPRESSURE_SISTOLIC_DIFF_REL</th>\n",
              "      <th>HEART_RATE_DIFF_REL</th>\n",
              "      <th>RESPIRATORY_RATE_DIFF_REL</th>\n",
              "      <th>TEMPERATURE_DIFF_REL</th>\n",
              "      <th>OXYGEN_SATURATION_DIFF_REL</th>\n",
              "      <th>WINDOW</th>\n",
              "      <th>ICU</th>\n",
              "    </tr>\n",
              "  </thead>\n",
              "  <tbody>\n",
              "    <tr>\n",
              "      <th>0</th>\n",
              "      <td>0</td>\n",
              "      <td>1</td>\n",
              "      <td>60th</td>\n",
              "      <td>0</td>\n",
              "      <td>0.0</td>\n",
              "      <td>0.0</td>\n",
              "      <td>0.0</td>\n",
              "      <td>0.0</td>\n",
              "      <td>1.0</td>\n",
              "      <td>1.0</td>\n",
              "      <td>0.0</td>\n",
              "      <td>0.0</td>\n",
              "      <td>1.0</td>\n",
              "      <td>NaN</td>\n",
              "      <td>NaN</td>\n",
              "      <td>NaN</td>\n",
              "      <td>NaN</td>\n",
              "      <td>NaN</td>\n",
              "      <td>NaN</td>\n",
              "      <td>NaN</td>\n",
              "      <td>NaN</td>\n",
              "      <td>NaN</td>\n",
              "      <td>NaN</td>\n",
              "      <td>NaN</td>\n",
              "      <td>NaN</td>\n",
              "      <td>NaN</td>\n",
              "      <td>NaN</td>\n",
              "      <td>NaN</td>\n",
              "      <td>NaN</td>\n",
              "      <td>NaN</td>\n",
              "      <td>NaN</td>\n",
              "      <td>NaN</td>\n",
              "      <td>NaN</td>\n",
              "      <td>NaN</td>\n",
              "      <td>NaN</td>\n",
              "      <td>NaN</td>\n",
              "      <td>NaN</td>\n",
              "      <td>NaN</td>\n",
              "      <td>NaN</td>\n",
              "      <td>NaN</td>\n",
              "      <td>...</td>\n",
              "      <td>NaN</td>\n",
              "      <td>NaN</td>\n",
              "      <td>0.086420</td>\n",
              "      <td>-0.230769</td>\n",
              "      <td>-0.283019</td>\n",
              "      <td>-0.593220</td>\n",
              "      <td>-0.285714</td>\n",
              "      <td>0.736842</td>\n",
              "      <td>0.086420</td>\n",
              "      <td>-0.230769</td>\n",
              "      <td>-0.283019</td>\n",
              "      <td>-0.586207</td>\n",
              "      <td>-0.285714</td>\n",
              "      <td>0.736842</td>\n",
              "      <td>0.237113</td>\n",
              "      <td>0.0000</td>\n",
              "      <td>-0.162393</td>\n",
              "      <td>-0.500000</td>\n",
              "      <td>0.208791</td>\n",
              "      <td>0.898990</td>\n",
              "      <td>-0.247863</td>\n",
              "      <td>-0.459459</td>\n",
              "      <td>-0.432836</td>\n",
              "      <td>-0.636364</td>\n",
              "      <td>-0.420290</td>\n",
              "      <td>0.736842</td>\n",
              "      <td>-1.000000</td>\n",
              "      <td>-1.000000</td>\n",
              "      <td>-1.000000</td>\n",
              "      <td>-1.000000</td>\n",
              "      <td>-1.000000</td>\n",
              "      <td>-1.000000</td>\n",
              "      <td>-1.000000</td>\n",
              "      <td>-1.000000</td>\n",
              "      <td>-1.000000</td>\n",
              "      <td>-1.000000</td>\n",
              "      <td>-1.000000</td>\n",
              "      <td>-1.000000</td>\n",
              "      <td>0-2</td>\n",
              "      <td>0</td>\n",
              "    </tr>\n",
              "    <tr>\n",
              "      <th>1</th>\n",
              "      <td>0</td>\n",
              "      <td>1</td>\n",
              "      <td>60th</td>\n",
              "      <td>0</td>\n",
              "      <td>0.0</td>\n",
              "      <td>0.0</td>\n",
              "      <td>0.0</td>\n",
              "      <td>0.0</td>\n",
              "      <td>1.0</td>\n",
              "      <td>1.0</td>\n",
              "      <td>0.0</td>\n",
              "      <td>0.0</td>\n",
              "      <td>1.0</td>\n",
              "      <td>NaN</td>\n",
              "      <td>NaN</td>\n",
              "      <td>NaN</td>\n",
              "      <td>NaN</td>\n",
              "      <td>NaN</td>\n",
              "      <td>NaN</td>\n",
              "      <td>NaN</td>\n",
              "      <td>NaN</td>\n",
              "      <td>NaN</td>\n",
              "      <td>NaN</td>\n",
              "      <td>NaN</td>\n",
              "      <td>NaN</td>\n",
              "      <td>NaN</td>\n",
              "      <td>NaN</td>\n",
              "      <td>NaN</td>\n",
              "      <td>NaN</td>\n",
              "      <td>NaN</td>\n",
              "      <td>NaN</td>\n",
              "      <td>NaN</td>\n",
              "      <td>NaN</td>\n",
              "      <td>NaN</td>\n",
              "      <td>NaN</td>\n",
              "      <td>NaN</td>\n",
              "      <td>NaN</td>\n",
              "      <td>NaN</td>\n",
              "      <td>NaN</td>\n",
              "      <td>NaN</td>\n",
              "      <td>...</td>\n",
              "      <td>NaN</td>\n",
              "      <td>NaN</td>\n",
              "      <td>0.333333</td>\n",
              "      <td>-0.230769</td>\n",
              "      <td>-0.132075</td>\n",
              "      <td>-0.593220</td>\n",
              "      <td>0.535714</td>\n",
              "      <td>0.578947</td>\n",
              "      <td>0.333333</td>\n",
              "      <td>-0.230769</td>\n",
              "      <td>-0.132075</td>\n",
              "      <td>-0.586207</td>\n",
              "      <td>0.535714</td>\n",
              "      <td>0.578947</td>\n",
              "      <td>0.443299</td>\n",
              "      <td>0.0000</td>\n",
              "      <td>-0.025641</td>\n",
              "      <td>-0.500000</td>\n",
              "      <td>0.714286</td>\n",
              "      <td>0.838384</td>\n",
              "      <td>-0.076923</td>\n",
              "      <td>-0.459459</td>\n",
              "      <td>-0.313433</td>\n",
              "      <td>-0.636364</td>\n",
              "      <td>0.246377</td>\n",
              "      <td>0.578947</td>\n",
              "      <td>-1.000000</td>\n",
              "      <td>-1.000000</td>\n",
              "      <td>-1.000000</td>\n",
              "      <td>-1.000000</td>\n",
              "      <td>-1.000000</td>\n",
              "      <td>-1.000000</td>\n",
              "      <td>-1.000000</td>\n",
              "      <td>-1.000000</td>\n",
              "      <td>-1.000000</td>\n",
              "      <td>-1.000000</td>\n",
              "      <td>-1.000000</td>\n",
              "      <td>-1.000000</td>\n",
              "      <td>2-4</td>\n",
              "      <td>0</td>\n",
              "    </tr>\n",
              "    <tr>\n",
              "      <th>2</th>\n",
              "      <td>0</td>\n",
              "      <td>1</td>\n",
              "      <td>60th</td>\n",
              "      <td>0</td>\n",
              "      <td>0.0</td>\n",
              "      <td>0.0</td>\n",
              "      <td>0.0</td>\n",
              "      <td>0.0</td>\n",
              "      <td>1.0</td>\n",
              "      <td>1.0</td>\n",
              "      <td>0.0</td>\n",
              "      <td>0.0</td>\n",
              "      <td>1.0</td>\n",
              "      <td>0.605263</td>\n",
              "      <td>0.605263</td>\n",
              "      <td>0.605263</td>\n",
              "      <td>0.605263</td>\n",
              "      <td>-1.0</td>\n",
              "      <td>-1.000000</td>\n",
              "      <td>-1.000000</td>\n",
              "      <td>-1.000000</td>\n",
              "      <td>-1.000000</td>\n",
              "      <td>-1.0</td>\n",
              "      <td>-1.000000</td>\n",
              "      <td>-1.000000</td>\n",
              "      <td>-1.000000</td>\n",
              "      <td>-1.000000</td>\n",
              "      <td>-1.0</td>\n",
              "      <td>-0.317073</td>\n",
              "      <td>-0.317073</td>\n",
              "      <td>-0.317073</td>\n",
              "      <td>-0.317073</td>\n",
              "      <td>-1.0</td>\n",
              "      <td>-0.317073</td>\n",
              "      <td>-0.317073</td>\n",
              "      <td>-0.317073</td>\n",
              "      <td>-0.317073</td>\n",
              "      <td>-1.0</td>\n",
              "      <td>-0.938950</td>\n",
              "      <td>-0.938950</td>\n",
              "      <td>...</td>\n",
              "      <td>-0.994912</td>\n",
              "      <td>-1.0</td>\n",
              "      <td>NaN</td>\n",
              "      <td>NaN</td>\n",
              "      <td>NaN</td>\n",
              "      <td>NaN</td>\n",
              "      <td>NaN</td>\n",
              "      <td>NaN</td>\n",
              "      <td>NaN</td>\n",
              "      <td>NaN</td>\n",
              "      <td>NaN</td>\n",
              "      <td>NaN</td>\n",
              "      <td>NaN</td>\n",
              "      <td>NaN</td>\n",
              "      <td>NaN</td>\n",
              "      <td>NaN</td>\n",
              "      <td>NaN</td>\n",
              "      <td>NaN</td>\n",
              "      <td>NaN</td>\n",
              "      <td>NaN</td>\n",
              "      <td>NaN</td>\n",
              "      <td>NaN</td>\n",
              "      <td>NaN</td>\n",
              "      <td>NaN</td>\n",
              "      <td>NaN</td>\n",
              "      <td>NaN</td>\n",
              "      <td>NaN</td>\n",
              "      <td>NaN</td>\n",
              "      <td>NaN</td>\n",
              "      <td>NaN</td>\n",
              "      <td>NaN</td>\n",
              "      <td>NaN</td>\n",
              "      <td>NaN</td>\n",
              "      <td>NaN</td>\n",
              "      <td>NaN</td>\n",
              "      <td>NaN</td>\n",
              "      <td>NaN</td>\n",
              "      <td>NaN</td>\n",
              "      <td>4-6</td>\n",
              "      <td>0</td>\n",
              "    </tr>\n",
              "    <tr>\n",
              "      <th>3</th>\n",
              "      <td>0</td>\n",
              "      <td>1</td>\n",
              "      <td>60th</td>\n",
              "      <td>0</td>\n",
              "      <td>0.0</td>\n",
              "      <td>0.0</td>\n",
              "      <td>0.0</td>\n",
              "      <td>0.0</td>\n",
              "      <td>1.0</td>\n",
              "      <td>1.0</td>\n",
              "      <td>0.0</td>\n",
              "      <td>0.0</td>\n",
              "      <td>1.0</td>\n",
              "      <td>NaN</td>\n",
              "      <td>NaN</td>\n",
              "      <td>NaN</td>\n",
              "      <td>NaN</td>\n",
              "      <td>NaN</td>\n",
              "      <td>NaN</td>\n",
              "      <td>NaN</td>\n",
              "      <td>NaN</td>\n",
              "      <td>NaN</td>\n",
              "      <td>NaN</td>\n",
              "      <td>NaN</td>\n",
              "      <td>NaN</td>\n",
              "      <td>NaN</td>\n",
              "      <td>NaN</td>\n",
              "      <td>NaN</td>\n",
              "      <td>NaN</td>\n",
              "      <td>NaN</td>\n",
              "      <td>NaN</td>\n",
              "      <td>NaN</td>\n",
              "      <td>NaN</td>\n",
              "      <td>NaN</td>\n",
              "      <td>NaN</td>\n",
              "      <td>NaN</td>\n",
              "      <td>NaN</td>\n",
              "      <td>NaN</td>\n",
              "      <td>NaN</td>\n",
              "      <td>NaN</td>\n",
              "      <td>...</td>\n",
              "      <td>NaN</td>\n",
              "      <td>NaN</td>\n",
              "      <td>NaN</td>\n",
              "      <td>NaN</td>\n",
              "      <td>NaN</td>\n",
              "      <td>NaN</td>\n",
              "      <td>-0.107143</td>\n",
              "      <td>0.736842</td>\n",
              "      <td>NaN</td>\n",
              "      <td>NaN</td>\n",
              "      <td>NaN</td>\n",
              "      <td>NaN</td>\n",
              "      <td>-0.107143</td>\n",
              "      <td>0.736842</td>\n",
              "      <td>NaN</td>\n",
              "      <td>NaN</td>\n",
              "      <td>NaN</td>\n",
              "      <td>NaN</td>\n",
              "      <td>0.318681</td>\n",
              "      <td>0.898990</td>\n",
              "      <td>NaN</td>\n",
              "      <td>NaN</td>\n",
              "      <td>NaN</td>\n",
              "      <td>NaN</td>\n",
              "      <td>-0.275362</td>\n",
              "      <td>0.736842</td>\n",
              "      <td>NaN</td>\n",
              "      <td>NaN</td>\n",
              "      <td>NaN</td>\n",
              "      <td>NaN</td>\n",
              "      <td>-1.000000</td>\n",
              "      <td>-1.000000</td>\n",
              "      <td>NaN</td>\n",
              "      <td>NaN</td>\n",
              "      <td>NaN</td>\n",
              "      <td>NaN</td>\n",
              "      <td>-1.000000</td>\n",
              "      <td>-1.000000</td>\n",
              "      <td>6-12</td>\n",
              "      <td>0</td>\n",
              "    </tr>\n",
              "    <tr>\n",
              "      <th>4</th>\n",
              "      <td>0</td>\n",
              "      <td>1</td>\n",
              "      <td>60th</td>\n",
              "      <td>0</td>\n",
              "      <td>0.0</td>\n",
              "      <td>0.0</td>\n",
              "      <td>0.0</td>\n",
              "      <td>0.0</td>\n",
              "      <td>1.0</td>\n",
              "      <td>1.0</td>\n",
              "      <td>0.0</td>\n",
              "      <td>0.0</td>\n",
              "      <td>1.0</td>\n",
              "      <td>0.000000</td>\n",
              "      <td>0.000000</td>\n",
              "      <td>0.000000</td>\n",
              "      <td>0.000000</td>\n",
              "      <td>-1.0</td>\n",
              "      <td>-0.871658</td>\n",
              "      <td>-0.871658</td>\n",
              "      <td>-0.871658</td>\n",
              "      <td>-0.871658</td>\n",
              "      <td>-1.0</td>\n",
              "      <td>-0.863874</td>\n",
              "      <td>-0.863874</td>\n",
              "      <td>-0.863874</td>\n",
              "      <td>-0.863874</td>\n",
              "      <td>-1.0</td>\n",
              "      <td>-0.317073</td>\n",
              "      <td>-0.317073</td>\n",
              "      <td>-0.317073</td>\n",
              "      <td>-0.317073</td>\n",
              "      <td>-1.0</td>\n",
              "      <td>-0.414634</td>\n",
              "      <td>-0.414634</td>\n",
              "      <td>-0.414634</td>\n",
              "      <td>-0.414634</td>\n",
              "      <td>-1.0</td>\n",
              "      <td>-0.979069</td>\n",
              "      <td>-0.979069</td>\n",
              "      <td>...</td>\n",
              "      <td>-0.996762</td>\n",
              "      <td>-1.0</td>\n",
              "      <td>-0.243021</td>\n",
              "      <td>-0.338537</td>\n",
              "      <td>-0.213031</td>\n",
              "      <td>-0.317859</td>\n",
              "      <td>0.033779</td>\n",
              "      <td>0.665932</td>\n",
              "      <td>-0.283951</td>\n",
              "      <td>-0.376923</td>\n",
              "      <td>-0.188679</td>\n",
              "      <td>-0.379310</td>\n",
              "      <td>0.035714</td>\n",
              "      <td>0.631579</td>\n",
              "      <td>-0.340206</td>\n",
              "      <td>-0.4875</td>\n",
              "      <td>-0.572650</td>\n",
              "      <td>-0.857143</td>\n",
              "      <td>0.098901</td>\n",
              "      <td>0.797980</td>\n",
              "      <td>-0.076923</td>\n",
              "      <td>0.286486</td>\n",
              "      <td>0.298507</td>\n",
              "      <td>0.272727</td>\n",
              "      <td>0.362319</td>\n",
              "      <td>0.947368</td>\n",
              "      <td>-0.339130</td>\n",
              "      <td>0.325153</td>\n",
              "      <td>0.114504</td>\n",
              "      <td>0.176471</td>\n",
              "      <td>-0.238095</td>\n",
              "      <td>-0.818182</td>\n",
              "      <td>-0.389967</td>\n",
              "      <td>0.407558</td>\n",
              "      <td>-0.230462</td>\n",
              "      <td>0.096774</td>\n",
              "      <td>-0.242282</td>\n",
              "      <td>-0.814433</td>\n",
              "      <td>ABOVE_12</td>\n",
              "      <td>1</td>\n",
              "    </tr>\n",
              "    <tr>\n",
              "      <th>...</th>\n",
              "      <td>...</td>\n",
              "      <td>...</td>\n",
              "      <td>...</td>\n",
              "      <td>...</td>\n",
              "      <td>...</td>\n",
              "      <td>...</td>\n",
              "      <td>...</td>\n",
              "      <td>...</td>\n",
              "      <td>...</td>\n",
              "      <td>...</td>\n",
              "      <td>...</td>\n",
              "      <td>...</td>\n",
              "      <td>...</td>\n",
              "      <td>...</td>\n",
              "      <td>...</td>\n",
              "      <td>...</td>\n",
              "      <td>...</td>\n",
              "      <td>...</td>\n",
              "      <td>...</td>\n",
              "      <td>...</td>\n",
              "      <td>...</td>\n",
              "      <td>...</td>\n",
              "      <td>...</td>\n",
              "      <td>...</td>\n",
              "      <td>...</td>\n",
              "      <td>...</td>\n",
              "      <td>...</td>\n",
              "      <td>...</td>\n",
              "      <td>...</td>\n",
              "      <td>...</td>\n",
              "      <td>...</td>\n",
              "      <td>...</td>\n",
              "      <td>...</td>\n",
              "      <td>...</td>\n",
              "      <td>...</td>\n",
              "      <td>...</td>\n",
              "      <td>...</td>\n",
              "      <td>...</td>\n",
              "      <td>...</td>\n",
              "      <td>...</td>\n",
              "      <td>...</td>\n",
              "      <td>...</td>\n",
              "      <td>...</td>\n",
              "      <td>...</td>\n",
              "      <td>...</td>\n",
              "      <td>...</td>\n",
              "      <td>...</td>\n",
              "      <td>...</td>\n",
              "      <td>...</td>\n",
              "      <td>...</td>\n",
              "      <td>...</td>\n",
              "      <td>...</td>\n",
              "      <td>...</td>\n",
              "      <td>...</td>\n",
              "      <td>...</td>\n",
              "      <td>...</td>\n",
              "      <td>...</td>\n",
              "      <td>...</td>\n",
              "      <td>...</td>\n",
              "      <td>...</td>\n",
              "      <td>...</td>\n",
              "      <td>...</td>\n",
              "      <td>...</td>\n",
              "      <td>...</td>\n",
              "      <td>...</td>\n",
              "      <td>...</td>\n",
              "      <td>...</td>\n",
              "      <td>...</td>\n",
              "      <td>...</td>\n",
              "      <td>...</td>\n",
              "      <td>...</td>\n",
              "      <td>...</td>\n",
              "      <td>...</td>\n",
              "      <td>...</td>\n",
              "      <td>...</td>\n",
              "      <td>...</td>\n",
              "      <td>...</td>\n",
              "      <td>...</td>\n",
              "      <td>...</td>\n",
              "      <td>...</td>\n",
              "      <td>...</td>\n",
              "    </tr>\n",
              "    <tr>\n",
              "      <th>1920</th>\n",
              "      <td>384</td>\n",
              "      <td>0</td>\n",
              "      <td>50th</td>\n",
              "      <td>1</td>\n",
              "      <td>0.0</td>\n",
              "      <td>0.0</td>\n",
              "      <td>0.0</td>\n",
              "      <td>0.0</td>\n",
              "      <td>0.0</td>\n",
              "      <td>0.0</td>\n",
              "      <td>0.0</td>\n",
              "      <td>0.0</td>\n",
              "      <td>1.0</td>\n",
              "      <td>NaN</td>\n",
              "      <td>NaN</td>\n",
              "      <td>NaN</td>\n",
              "      <td>NaN</td>\n",
              "      <td>NaN</td>\n",
              "      <td>NaN</td>\n",
              "      <td>NaN</td>\n",
              "      <td>NaN</td>\n",
              "      <td>NaN</td>\n",
              "      <td>NaN</td>\n",
              "      <td>NaN</td>\n",
              "      <td>NaN</td>\n",
              "      <td>NaN</td>\n",
              "      <td>NaN</td>\n",
              "      <td>NaN</td>\n",
              "      <td>NaN</td>\n",
              "      <td>NaN</td>\n",
              "      <td>NaN</td>\n",
              "      <td>NaN</td>\n",
              "      <td>NaN</td>\n",
              "      <td>NaN</td>\n",
              "      <td>NaN</td>\n",
              "      <td>NaN</td>\n",
              "      <td>NaN</td>\n",
              "      <td>NaN</td>\n",
              "      <td>NaN</td>\n",
              "      <td>NaN</td>\n",
              "      <td>...</td>\n",
              "      <td>NaN</td>\n",
              "      <td>NaN</td>\n",
              "      <td>0.012346</td>\n",
              "      <td>-0.292308</td>\n",
              "      <td>0.056604</td>\n",
              "      <td>-0.525424</td>\n",
              "      <td>0.535714</td>\n",
              "      <td>0.789474</td>\n",
              "      <td>0.012346</td>\n",
              "      <td>-0.292308</td>\n",
              "      <td>0.056604</td>\n",
              "      <td>-0.517241</td>\n",
              "      <td>0.535714</td>\n",
              "      <td>0.789474</td>\n",
              "      <td>0.175258</td>\n",
              "      <td>-0.0500</td>\n",
              "      <td>0.145299</td>\n",
              "      <td>-0.428571</td>\n",
              "      <td>0.714286</td>\n",
              "      <td>0.919192</td>\n",
              "      <td>-0.299145</td>\n",
              "      <td>-0.502703</td>\n",
              "      <td>-0.164179</td>\n",
              "      <td>-0.575758</td>\n",
              "      <td>0.246377</td>\n",
              "      <td>0.789474</td>\n",
              "      <td>-1.000000</td>\n",
              "      <td>-1.000000</td>\n",
              "      <td>-1.000000</td>\n",
              "      <td>-1.000000</td>\n",
              "      <td>-1.000000</td>\n",
              "      <td>-1.000000</td>\n",
              "      <td>-1.000000</td>\n",
              "      <td>-1.000000</td>\n",
              "      <td>-1.000000</td>\n",
              "      <td>-1.000000</td>\n",
              "      <td>-1.000000</td>\n",
              "      <td>-1.000000</td>\n",
              "      <td>0-2</td>\n",
              "      <td>0</td>\n",
              "    </tr>\n",
              "    <tr>\n",
              "      <th>1921</th>\n",
              "      <td>384</td>\n",
              "      <td>0</td>\n",
              "      <td>50th</td>\n",
              "      <td>1</td>\n",
              "      <td>0.0</td>\n",
              "      <td>0.0</td>\n",
              "      <td>0.0</td>\n",
              "      <td>0.0</td>\n",
              "      <td>0.0</td>\n",
              "      <td>0.0</td>\n",
              "      <td>0.0</td>\n",
              "      <td>0.0</td>\n",
              "      <td>1.0</td>\n",
              "      <td>0.605263</td>\n",
              "      <td>0.605263</td>\n",
              "      <td>0.605263</td>\n",
              "      <td>0.605263</td>\n",
              "      <td>-1.0</td>\n",
              "      <td>-1.000000</td>\n",
              "      <td>-1.000000</td>\n",
              "      <td>-1.000000</td>\n",
              "      <td>-1.000000</td>\n",
              "      <td>-1.0</td>\n",
              "      <td>-0.717277</td>\n",
              "      <td>-0.717277</td>\n",
              "      <td>-0.717277</td>\n",
              "      <td>-0.717277</td>\n",
              "      <td>-1.0</td>\n",
              "      <td>-0.317073</td>\n",
              "      <td>-0.317073</td>\n",
              "      <td>-0.317073</td>\n",
              "      <td>-0.317073</td>\n",
              "      <td>-1.0</td>\n",
              "      <td>-0.170732</td>\n",
              "      <td>-0.170732</td>\n",
              "      <td>-0.170732</td>\n",
              "      <td>-0.170732</td>\n",
              "      <td>-1.0</td>\n",
              "      <td>-0.982208</td>\n",
              "      <td>-0.982208</td>\n",
              "      <td>...</td>\n",
              "      <td>-0.979571</td>\n",
              "      <td>-1.0</td>\n",
              "      <td>0.086420</td>\n",
              "      <td>-0.384615</td>\n",
              "      <td>-0.113208</td>\n",
              "      <td>-0.593220</td>\n",
              "      <td>0.142857</td>\n",
              "      <td>0.578947</td>\n",
              "      <td>0.086420</td>\n",
              "      <td>-0.384615</td>\n",
              "      <td>-0.113208</td>\n",
              "      <td>-0.586207</td>\n",
              "      <td>0.142857</td>\n",
              "      <td>0.578947</td>\n",
              "      <td>0.237113</td>\n",
              "      <td>-0.1250</td>\n",
              "      <td>-0.008547</td>\n",
              "      <td>-0.500000</td>\n",
              "      <td>0.472527</td>\n",
              "      <td>0.838384</td>\n",
              "      <td>-0.247863</td>\n",
              "      <td>-0.567568</td>\n",
              "      <td>-0.298507</td>\n",
              "      <td>-0.636364</td>\n",
              "      <td>-0.072464</td>\n",
              "      <td>0.578947</td>\n",
              "      <td>-1.000000</td>\n",
              "      <td>-1.000000</td>\n",
              "      <td>-1.000000</td>\n",
              "      <td>-1.000000</td>\n",
              "      <td>-1.000000</td>\n",
              "      <td>-1.000000</td>\n",
              "      <td>-1.000000</td>\n",
              "      <td>-1.000000</td>\n",
              "      <td>-1.000000</td>\n",
              "      <td>-1.000000</td>\n",
              "      <td>-1.000000</td>\n",
              "      <td>-1.000000</td>\n",
              "      <td>2-4</td>\n",
              "      <td>0</td>\n",
              "    </tr>\n",
              "    <tr>\n",
              "      <th>1922</th>\n",
              "      <td>384</td>\n",
              "      <td>0</td>\n",
              "      <td>50th</td>\n",
              "      <td>1</td>\n",
              "      <td>0.0</td>\n",
              "      <td>0.0</td>\n",
              "      <td>0.0</td>\n",
              "      <td>0.0</td>\n",
              "      <td>0.0</td>\n",
              "      <td>0.0</td>\n",
              "      <td>0.0</td>\n",
              "      <td>0.0</td>\n",
              "      <td>1.0</td>\n",
              "      <td>NaN</td>\n",
              "      <td>NaN</td>\n",
              "      <td>NaN</td>\n",
              "      <td>NaN</td>\n",
              "      <td>NaN</td>\n",
              "      <td>NaN</td>\n",
              "      <td>NaN</td>\n",
              "      <td>NaN</td>\n",
              "      <td>NaN</td>\n",
              "      <td>NaN</td>\n",
              "      <td>NaN</td>\n",
              "      <td>NaN</td>\n",
              "      <td>NaN</td>\n",
              "      <td>NaN</td>\n",
              "      <td>NaN</td>\n",
              "      <td>NaN</td>\n",
              "      <td>NaN</td>\n",
              "      <td>NaN</td>\n",
              "      <td>NaN</td>\n",
              "      <td>NaN</td>\n",
              "      <td>NaN</td>\n",
              "      <td>NaN</td>\n",
              "      <td>NaN</td>\n",
              "      <td>NaN</td>\n",
              "      <td>NaN</td>\n",
              "      <td>NaN</td>\n",
              "      <td>NaN</td>\n",
              "      <td>...</td>\n",
              "      <td>NaN</td>\n",
              "      <td>NaN</td>\n",
              "      <td>0.086420</td>\n",
              "      <td>-0.230769</td>\n",
              "      <td>-0.169811</td>\n",
              "      <td>-0.593220</td>\n",
              "      <td>0.142857</td>\n",
              "      <td>0.736842</td>\n",
              "      <td>0.086420</td>\n",
              "      <td>-0.230769</td>\n",
              "      <td>-0.169811</td>\n",
              "      <td>-0.586207</td>\n",
              "      <td>0.142857</td>\n",
              "      <td>0.736842</td>\n",
              "      <td>0.237113</td>\n",
              "      <td>0.0000</td>\n",
              "      <td>-0.059829</td>\n",
              "      <td>-0.500000</td>\n",
              "      <td>0.472527</td>\n",
              "      <td>0.898990</td>\n",
              "      <td>-0.247863</td>\n",
              "      <td>-0.459459</td>\n",
              "      <td>-0.343284</td>\n",
              "      <td>-0.636364</td>\n",
              "      <td>-0.072464</td>\n",
              "      <td>0.736842</td>\n",
              "      <td>-1.000000</td>\n",
              "      <td>-1.000000</td>\n",
              "      <td>-1.000000</td>\n",
              "      <td>-1.000000</td>\n",
              "      <td>-1.000000</td>\n",
              "      <td>-1.000000</td>\n",
              "      <td>-1.000000</td>\n",
              "      <td>-1.000000</td>\n",
              "      <td>-1.000000</td>\n",
              "      <td>-1.000000</td>\n",
              "      <td>-1.000000</td>\n",
              "      <td>-1.000000</td>\n",
              "      <td>4-6</td>\n",
              "      <td>0</td>\n",
              "    </tr>\n",
              "    <tr>\n",
              "      <th>1923</th>\n",
              "      <td>384</td>\n",
              "      <td>0</td>\n",
              "      <td>50th</td>\n",
              "      <td>1</td>\n",
              "      <td>0.0</td>\n",
              "      <td>0.0</td>\n",
              "      <td>0.0</td>\n",
              "      <td>0.0</td>\n",
              "      <td>0.0</td>\n",
              "      <td>0.0</td>\n",
              "      <td>0.0</td>\n",
              "      <td>0.0</td>\n",
              "      <td>1.0</td>\n",
              "      <td>NaN</td>\n",
              "      <td>NaN</td>\n",
              "      <td>NaN</td>\n",
              "      <td>NaN</td>\n",
              "      <td>NaN</td>\n",
              "      <td>NaN</td>\n",
              "      <td>NaN</td>\n",
              "      <td>NaN</td>\n",
              "      <td>NaN</td>\n",
              "      <td>NaN</td>\n",
              "      <td>NaN</td>\n",
              "      <td>NaN</td>\n",
              "      <td>NaN</td>\n",
              "      <td>NaN</td>\n",
              "      <td>NaN</td>\n",
              "      <td>NaN</td>\n",
              "      <td>NaN</td>\n",
              "      <td>NaN</td>\n",
              "      <td>NaN</td>\n",
              "      <td>NaN</td>\n",
              "      <td>NaN</td>\n",
              "      <td>NaN</td>\n",
              "      <td>NaN</td>\n",
              "      <td>NaN</td>\n",
              "      <td>NaN</td>\n",
              "      <td>NaN</td>\n",
              "      <td>NaN</td>\n",
              "      <td>...</td>\n",
              "      <td>NaN</td>\n",
              "      <td>NaN</td>\n",
              "      <td>0.209877</td>\n",
              "      <td>-0.384615</td>\n",
              "      <td>-0.188679</td>\n",
              "      <td>-0.661017</td>\n",
              "      <td>0.285714</td>\n",
              "      <td>0.473684</td>\n",
              "      <td>0.209877</td>\n",
              "      <td>-0.384615</td>\n",
              "      <td>-0.188679</td>\n",
              "      <td>-0.655172</td>\n",
              "      <td>0.285714</td>\n",
              "      <td>0.473684</td>\n",
              "      <td>0.340206</td>\n",
              "      <td>-0.1250</td>\n",
              "      <td>-0.076923</td>\n",
              "      <td>-0.571429</td>\n",
              "      <td>0.560440</td>\n",
              "      <td>0.797980</td>\n",
              "      <td>-0.162393</td>\n",
              "      <td>-0.567568</td>\n",
              "      <td>-0.358209</td>\n",
              "      <td>-0.696970</td>\n",
              "      <td>0.043478</td>\n",
              "      <td>0.473684</td>\n",
              "      <td>-1.000000</td>\n",
              "      <td>-1.000000</td>\n",
              "      <td>-1.000000</td>\n",
              "      <td>-1.000000</td>\n",
              "      <td>-1.000000</td>\n",
              "      <td>-1.000000</td>\n",
              "      <td>-1.000000</td>\n",
              "      <td>-1.000000</td>\n",
              "      <td>-1.000000</td>\n",
              "      <td>-1.000000</td>\n",
              "      <td>-1.000000</td>\n",
              "      <td>-1.000000</td>\n",
              "      <td>6-12</td>\n",
              "      <td>0</td>\n",
              "    </tr>\n",
              "    <tr>\n",
              "      <th>1924</th>\n",
              "      <td>384</td>\n",
              "      <td>0</td>\n",
              "      <td>50th</td>\n",
              "      <td>1</td>\n",
              "      <td>0.0</td>\n",
              "      <td>0.0</td>\n",
              "      <td>1.0</td>\n",
              "      <td>0.0</td>\n",
              "      <td>0.0</td>\n",
              "      <td>0.0</td>\n",
              "      <td>0.0</td>\n",
              "      <td>0.0</td>\n",
              "      <td>1.0</td>\n",
              "      <td>0.605263</td>\n",
              "      <td>0.605263</td>\n",
              "      <td>0.605263</td>\n",
              "      <td>0.605263</td>\n",
              "      <td>-1.0</td>\n",
              "      <td>-1.000000</td>\n",
              "      <td>-1.000000</td>\n",
              "      <td>-1.000000</td>\n",
              "      <td>-1.000000</td>\n",
              "      <td>-1.0</td>\n",
              "      <td>-1.000000</td>\n",
              "      <td>-1.000000</td>\n",
              "      <td>-1.000000</td>\n",
              "      <td>-1.000000</td>\n",
              "      <td>-1.0</td>\n",
              "      <td>-0.317073</td>\n",
              "      <td>-0.317073</td>\n",
              "      <td>-0.317073</td>\n",
              "      <td>-0.317073</td>\n",
              "      <td>-1.0</td>\n",
              "      <td>-0.317073</td>\n",
              "      <td>-0.317073</td>\n",
              "      <td>-0.317073</td>\n",
              "      <td>-0.317073</td>\n",
              "      <td>-1.0</td>\n",
              "      <td>-0.983255</td>\n",
              "      <td>-0.983255</td>\n",
              "      <td>...</td>\n",
              "      <td>-0.888448</td>\n",
              "      <td>-1.0</td>\n",
              "      <td>-0.185185</td>\n",
              "      <td>-0.539103</td>\n",
              "      <td>-0.107704</td>\n",
              "      <td>-0.610169</td>\n",
              "      <td>0.050595</td>\n",
              "      <td>0.662281</td>\n",
              "      <td>-0.160494</td>\n",
              "      <td>-0.538462</td>\n",
              "      <td>-0.075472</td>\n",
              "      <td>-0.586207</td>\n",
              "      <td>0.071429</td>\n",
              "      <td>0.631579</td>\n",
              "      <td>-0.175258</td>\n",
              "      <td>-0.3750</td>\n",
              "      <td>-0.247863</td>\n",
              "      <td>-0.785714</td>\n",
              "      <td>0.186813</td>\n",
              "      <td>0.777778</td>\n",
              "      <td>-0.247863</td>\n",
              "      <td>-0.470270</td>\n",
              "      <td>-0.149254</td>\n",
              "      <td>-0.515152</td>\n",
              "      <td>0.101449</td>\n",
              "      <td>0.842105</td>\n",
              "      <td>-0.652174</td>\n",
              "      <td>-0.644172</td>\n",
              "      <td>-0.633588</td>\n",
              "      <td>-0.647059</td>\n",
              "      <td>-0.547619</td>\n",
              "      <td>-0.838384</td>\n",
              "      <td>-0.701863</td>\n",
              "      <td>-0.585967</td>\n",
              "      <td>-0.763868</td>\n",
              "      <td>-0.612903</td>\n",
              "      <td>-0.551337</td>\n",
              "      <td>-0.835052</td>\n",
              "      <td>ABOVE_12</td>\n",
              "      <td>0</td>\n",
              "    </tr>\n",
              "  </tbody>\n",
              "</table>\n",
              "<p>1925 rows × 231 columns</p>\n",
              "</div>"
            ],
            "text/plain": [
              "      PATIENT_VISIT_IDENTIFIER  AGE_ABOVE65  ...    WINDOW  ICU\n",
              "0                            0            1  ...       0-2    0\n",
              "1                            0            1  ...       2-4    0\n",
              "2                            0            1  ...       4-6    0\n",
              "3                            0            1  ...      6-12    0\n",
              "4                            0            1  ...  ABOVE_12    1\n",
              "...                        ...          ...  ...       ...  ...\n",
              "1920                       384            0  ...       0-2    0\n",
              "1921                       384            0  ...       2-4    0\n",
              "1922                       384            0  ...       4-6    0\n",
              "1923                       384            0  ...      6-12    0\n",
              "1924                       384            0  ...  ABOVE_12    0\n",
              "\n",
              "[1925 rows x 231 columns]"
            ]
          },
          "metadata": {
            "tags": []
          },
          "execution_count": 9
        }
      ]
    },
    {
      "cell_type": "markdown",
      "metadata": {
        "id": "T7dazM6wROQW"
      },
      "source": [
        "---\n",
        "As 1925 linhas são relativas aos vários indicadores que foram gerados durante o tempo de permanência do paciente no hospital até que ele fosse encaminhado à UTI ou não.\n",
        "\n",
        "Estas 1925 linhas estão relacionadas a 385 pacientes diferentes.\n",
        "\n",
        "---"
      ]
    },
    {
      "cell_type": "markdown",
      "metadata": {
        "id": "Q2NDZxsLgT8p"
      },
      "source": [
        "---\n",
        "De acordo com a proposição do problema, os dados da janela em que o usuário foi internado na UTI não devem ser utilizados. Sendo assim, os pacientes que foram internados logo na primeira janela serão removidos do conjuntos de dados a ser trabalhado, restando 353 pacientes únicos.\n",
        "\n",
        "---"
      ]
    },
    {
      "cell_type": "code",
      "metadata": {
        "colab": {
          "base_uri": "https://localhost:8080/"
        },
        "id": "mHTRKpIuPfij",
        "outputId": "fb547961-9e1b-4a92-ad0e-0944223fc326"
      },
      "source": [
        "dados_sem_UTI_primeira_janela = remove_UTI_primeria_janela(dados)"
      ],
      "execution_count": null,
      "outputs": [
        {
          "output_type": "stream",
          "text": [
            "=== Dados Brutos ===\n",
            "Numero de Linhas: 1925\n",
            "Numero de Pacientes Unicos: 385\n",
            "=== Dados apos remocao dos pacientes que foram internado na UTI logo na primeira janela ===\n",
            "Numero de Linhas: 1765\n",
            "Numero de Pacientes Unicos: 353\n"
          ],
          "name": "stdout"
        }
      ]
    },
    {
      "cell_type": "markdown",
      "metadata": {
        "id": "_mzxQE-ba4pe"
      },
      "source": [
        "---\n",
        "O conjunto dos dados é composto por 231 colunas, nas quais 225 possuem campos não preenchidos. Estes campos serão preenchidos utilizando os dados do pacientes disponíveis nas janelas anteriores ou posteriores.\n",
        "\n",
        "Esta estratégia foi recomendada pelo time do Sirio Libanês, como pode ser visto em https://www.kaggle.com/Sírio-Libanes/covid19 na seção Tips & Tricks - Missing Data\n",
        "\n",
        "---"
      ]
    },
    {
      "cell_type": "code",
      "metadata": {
        "colab": {
          "base_uri": "https://localhost:8080/",
          "height": 68
        },
        "id": "xgQ2uF9abOav",
        "outputId": "4c0da184-470d-45ff-e3bd-c81dfb03cb97"
      },
      "source": [
        "dados_preenchidos = preenche_dados_faltantes(dados_sem_UTI_primeira_janela)"
      ],
      "execution_count": null,
      "outputs": [
        {
          "output_type": "stream",
          "text": [
            "Numero de colunas: 231\n"
          ],
          "name": "stdout"
        },
        {
          "output_type": "display_data",
          "data": {
            "application/javascript": [
              "\n",
              "        if (window._pyforest_update_imports_cell) { window._pyforest_update_imports_cell('import numpy as np\\nimport pandas as pd'); }\n",
              "    "
            ],
            "text/plain": [
              "<IPython.core.display.Javascript object>"
            ]
          },
          "metadata": {
            "tags": []
          }
        },
        {
          "output_type": "stream",
          "text": [
            "Numero de colunas com campos nulos: 225\n"
          ],
          "name": "stdout"
        },
        {
          "output_type": "display_data",
          "data": {
            "application/javascript": [
              "\n",
              "        if (window._pyforest_update_imports_cell) { window._pyforest_update_imports_cell('import numpy as np\\nimport pandas as pd'); }\n",
              "    "
            ],
            "text/plain": [
              "<IPython.core.display.Javascript object>"
            ]
          },
          "metadata": {
            "tags": []
          }
        },
        {
          "output_type": "display_data",
          "data": {
            "application/javascript": [
              "\n",
              "        if (window._pyforest_update_imports_cell) { window._pyforest_update_imports_cell('import numpy as np\\nimport pandas as pd'); }\n",
              "    "
            ],
            "text/plain": [
              "<IPython.core.display.Javascript object>"
            ]
          },
          "metadata": {
            "tags": []
          }
        },
        {
          "output_type": "stream",
          "text": [
            "Numero de colunas com campos nulos apos tratamento dos dados: 0\n"
          ],
          "name": "stdout"
        }
      ]
    },
    {
      "cell_type": "markdown",
      "metadata": {
        "id": "QNMrn5tNkboN"
      },
      "source": [
        "---\n",
        "Um dos componentes do problema é a identificação da necessidade de UTI o mais breve possível, como indicado em https://www.kaggle.com/Sírio-Libanes/covid19 na seção Tips & Tricks - The earlier, the better!).\n",
        "\n",
        "Sendo assim, os dados utilizarão somente os registros da primeira janela de tempo disponível.\n",
        "Os pacientes que foram internados em qualquer janela de tempo serão alterados e o campo 'ICU' conterá a informação de internação.\n",
        "\n",
        "---"
      ]
    },
    {
      "cell_type": "code",
      "metadata": {
        "colab": {
          "base_uri": "https://localhost:8080/",
          "height": 34
        },
        "id": "Ke8rWYkzkbIa",
        "outputId": "0ae157a6-8928-4625-a3a7-341803b4f342"
      },
      "source": [
        "dados_limpos = dados_preenchidos.groupby('PATIENT_VISIT_IDENTIFIER', as_index=False).apply(agrupar_ICU)\n",
        "print(f\"Numero de Linhas: {dados_limpos.shape[0]}\")"
      ],
      "execution_count": null,
      "outputs": [
        {
          "output_type": "display_data",
          "data": {
            "application/javascript": [
              "\n",
              "        if (window._pyforest_update_imports_cell) { window._pyforest_update_imports_cell('import numpy as np\\nimport pandas as pd'); }\n",
              "    "
            ],
            "text/plain": [
              "<IPython.core.display.Javascript object>"
            ]
          },
          "metadata": {
            "tags": []
          }
        },
        {
          "output_type": "display_data",
          "data": {
            "application/javascript": [
              "\n",
              "        if (window._pyforest_update_imports_cell) { window._pyforest_update_imports_cell('import numpy as np\\nimport pandas as pd'); }\n",
              "    "
            ],
            "text/plain": [
              "<IPython.core.display.Javascript object>"
            ]
          },
          "metadata": {
            "tags": []
          }
        },
        {
          "output_type": "display_data",
          "data": {
            "application/javascript": [
              "\n",
              "        if (window._pyforest_update_imports_cell) { window._pyforest_update_imports_cell('import numpy as np\\nimport pandas as pd'); }\n",
              "    "
            ],
            "text/plain": [
              "<IPython.core.display.Javascript object>"
            ]
          },
          "metadata": {
            "tags": []
          }
        },
        {
          "output_type": "display_data",
          "data": {
            "application/javascript": [
              "\n",
              "        if (window._pyforest_update_imports_cell) { window._pyforest_update_imports_cell('import numpy as np\\nimport pandas as pd'); }\n",
              "    "
            ],
            "text/plain": [
              "<IPython.core.display.Javascript object>"
            ]
          },
          "metadata": {
            "tags": []
          }
        },
        {
          "output_type": "display_data",
          "data": {
            "application/javascript": [
              "\n",
              "        if (window._pyforest_update_imports_cell) { window._pyforest_update_imports_cell('import numpy as np\\nimport pandas as pd'); }\n",
              "    "
            ],
            "text/plain": [
              "<IPython.core.display.Javascript object>"
            ]
          },
          "metadata": {
            "tags": []
          }
        },
        {
          "output_type": "display_data",
          "data": {
            "application/javascript": [
              "\n",
              "        if (window._pyforest_update_imports_cell) { window._pyforest_update_imports_cell('import numpy as np\\nimport pandas as pd'); }\n",
              "    "
            ],
            "text/plain": [
              "<IPython.core.display.Javascript object>"
            ]
          },
          "metadata": {
            "tags": []
          }
        },
        {
          "output_type": "display_data",
          "data": {
            "application/javascript": [
              "\n",
              "        if (window._pyforest_update_imports_cell) { window._pyforest_update_imports_cell('import numpy as np\\nimport pandas as pd'); }\n",
              "    "
            ],
            "text/plain": [
              "<IPython.core.display.Javascript object>"
            ]
          },
          "metadata": {
            "tags": []
          }
        },
        {
          "output_type": "display_data",
          "data": {
            "application/javascript": [
              "\n",
              "        if (window._pyforest_update_imports_cell) { window._pyforest_update_imports_cell('import numpy as np\\nimport pandas as pd'); }\n",
              "    "
            ],
            "text/plain": [
              "<IPython.core.display.Javascript object>"
            ]
          },
          "metadata": {
            "tags": []
          }
        },
        {
          "output_type": "display_data",
          "data": {
            "application/javascript": [
              "\n",
              "        if (window._pyforest_update_imports_cell) { window._pyforest_update_imports_cell('import numpy as np\\nimport pandas as pd'); }\n",
              "    "
            ],
            "text/plain": [
              "<IPython.core.display.Javascript object>"
            ]
          },
          "metadata": {
            "tags": []
          }
        },
        {
          "output_type": "display_data",
          "data": {
            "application/javascript": [
              "\n",
              "        if (window._pyforest_update_imports_cell) { window._pyforest_update_imports_cell('import numpy as np\\nimport pandas as pd'); }\n",
              "    "
            ],
            "text/plain": [
              "<IPython.core.display.Javascript object>"
            ]
          },
          "metadata": {
            "tags": []
          }
        },
        {
          "output_type": "display_data",
          "data": {
            "application/javascript": [
              "\n",
              "        if (window._pyforest_update_imports_cell) { window._pyforest_update_imports_cell('import numpy as np\\nimport pandas as pd'); }\n",
              "    "
            ],
            "text/plain": [
              "<IPython.core.display.Javascript object>"
            ]
          },
          "metadata": {
            "tags": []
          }
        },
        {
          "output_type": "display_data",
          "data": {
            "application/javascript": [
              "\n",
              "        if (window._pyforest_update_imports_cell) { window._pyforest_update_imports_cell('import numpy as np\\nimport pandas as pd'); }\n",
              "    "
            ],
            "text/plain": [
              "<IPython.core.display.Javascript object>"
            ]
          },
          "metadata": {
            "tags": []
          }
        },
        {
          "output_type": "display_data",
          "data": {
            "application/javascript": [
              "\n",
              "        if (window._pyforest_update_imports_cell) { window._pyforest_update_imports_cell('import numpy as np\\nimport pandas as pd'); }\n",
              "    "
            ],
            "text/plain": [
              "<IPython.core.display.Javascript object>"
            ]
          },
          "metadata": {
            "tags": []
          }
        },
        {
          "output_type": "display_data",
          "data": {
            "application/javascript": [
              "\n",
              "        if (window._pyforest_update_imports_cell) { window._pyforest_update_imports_cell('import numpy as np\\nimport pandas as pd'); }\n",
              "    "
            ],
            "text/plain": [
              "<IPython.core.display.Javascript object>"
            ]
          },
          "metadata": {
            "tags": []
          }
        },
        {
          "output_type": "display_data",
          "data": {
            "application/javascript": [
              "\n",
              "        if (window._pyforest_update_imports_cell) { window._pyforest_update_imports_cell('import numpy as np\\nimport pandas as pd'); }\n",
              "    "
            ],
            "text/plain": [
              "<IPython.core.display.Javascript object>"
            ]
          },
          "metadata": {
            "tags": []
          }
        },
        {
          "output_type": "display_data",
          "data": {
            "application/javascript": [
              "\n",
              "        if (window._pyforest_update_imports_cell) { window._pyforest_update_imports_cell('import numpy as np\\nimport pandas as pd'); }\n",
              "    "
            ],
            "text/plain": [
              "<IPython.core.display.Javascript object>"
            ]
          },
          "metadata": {
            "tags": []
          }
        },
        {
          "output_type": "display_data",
          "data": {
            "application/javascript": [
              "\n",
              "        if (window._pyforest_update_imports_cell) { window._pyforest_update_imports_cell('import numpy as np\\nimport pandas as pd'); }\n",
              "    "
            ],
            "text/plain": [
              "<IPython.core.display.Javascript object>"
            ]
          },
          "metadata": {
            "tags": []
          }
        },
        {
          "output_type": "display_data",
          "data": {
            "application/javascript": [
              "\n",
              "        if (window._pyforest_update_imports_cell) { window._pyforest_update_imports_cell('import numpy as np\\nimport pandas as pd'); }\n",
              "    "
            ],
            "text/plain": [
              "<IPython.core.display.Javascript object>"
            ]
          },
          "metadata": {
            "tags": []
          }
        },
        {
          "output_type": "display_data",
          "data": {
            "application/javascript": [
              "\n",
              "        if (window._pyforest_update_imports_cell) { window._pyforest_update_imports_cell('import numpy as np\\nimport pandas as pd'); }\n",
              "    "
            ],
            "text/plain": [
              "<IPython.core.display.Javascript object>"
            ]
          },
          "metadata": {
            "tags": []
          }
        },
        {
          "output_type": "display_data",
          "data": {
            "application/javascript": [
              "\n",
              "        if (window._pyforest_update_imports_cell) { window._pyforest_update_imports_cell('import numpy as np\\nimport pandas as pd'); }\n",
              "    "
            ],
            "text/plain": [
              "<IPython.core.display.Javascript object>"
            ]
          },
          "metadata": {
            "tags": []
          }
        },
        {
          "output_type": "display_data",
          "data": {
            "application/javascript": [
              "\n",
              "        if (window._pyforest_update_imports_cell) { window._pyforest_update_imports_cell('import numpy as np\\nimport pandas as pd'); }\n",
              "    "
            ],
            "text/plain": [
              "<IPython.core.display.Javascript object>"
            ]
          },
          "metadata": {
            "tags": []
          }
        },
        {
          "output_type": "display_data",
          "data": {
            "application/javascript": [
              "\n",
              "        if (window._pyforest_update_imports_cell) { window._pyforest_update_imports_cell('import numpy as np\\nimport pandas as pd'); }\n",
              "    "
            ],
            "text/plain": [
              "<IPython.core.display.Javascript object>"
            ]
          },
          "metadata": {
            "tags": []
          }
        },
        {
          "output_type": "display_data",
          "data": {
            "application/javascript": [
              "\n",
              "        if (window._pyforest_update_imports_cell) { window._pyforest_update_imports_cell('import numpy as np\\nimport pandas as pd'); }\n",
              "    "
            ],
            "text/plain": [
              "<IPython.core.display.Javascript object>"
            ]
          },
          "metadata": {
            "tags": []
          }
        },
        {
          "output_type": "display_data",
          "data": {
            "application/javascript": [
              "\n",
              "        if (window._pyforest_update_imports_cell) { window._pyforest_update_imports_cell('import numpy as np\\nimport pandas as pd'); }\n",
              "    "
            ],
            "text/plain": [
              "<IPython.core.display.Javascript object>"
            ]
          },
          "metadata": {
            "tags": []
          }
        },
        {
          "output_type": "display_data",
          "data": {
            "application/javascript": [
              "\n",
              "        if (window._pyforest_update_imports_cell) { window._pyforest_update_imports_cell('import numpy as np\\nimport pandas as pd'); }\n",
              "    "
            ],
            "text/plain": [
              "<IPython.core.display.Javascript object>"
            ]
          },
          "metadata": {
            "tags": []
          }
        },
        {
          "output_type": "display_data",
          "data": {
            "application/javascript": [
              "\n",
              "        if (window._pyforest_update_imports_cell) { window._pyforest_update_imports_cell('import numpy as np\\nimport pandas as pd'); }\n",
              "    "
            ],
            "text/plain": [
              "<IPython.core.display.Javascript object>"
            ]
          },
          "metadata": {
            "tags": []
          }
        },
        {
          "output_type": "display_data",
          "data": {
            "application/javascript": [
              "\n",
              "        if (window._pyforest_update_imports_cell) { window._pyforest_update_imports_cell('import numpy as np\\nimport pandas as pd'); }\n",
              "    "
            ],
            "text/plain": [
              "<IPython.core.display.Javascript object>"
            ]
          },
          "metadata": {
            "tags": []
          }
        },
        {
          "output_type": "display_data",
          "data": {
            "application/javascript": [
              "\n",
              "        if (window._pyforest_update_imports_cell) { window._pyforest_update_imports_cell('import numpy as np\\nimport pandas as pd'); }\n",
              "    "
            ],
            "text/plain": [
              "<IPython.core.display.Javascript object>"
            ]
          },
          "metadata": {
            "tags": []
          }
        },
        {
          "output_type": "display_data",
          "data": {
            "application/javascript": [
              "\n",
              "        if (window._pyforest_update_imports_cell) { window._pyforest_update_imports_cell('import numpy as np\\nimport pandas as pd'); }\n",
              "    "
            ],
            "text/plain": [
              "<IPython.core.display.Javascript object>"
            ]
          },
          "metadata": {
            "tags": []
          }
        },
        {
          "output_type": "display_data",
          "data": {
            "application/javascript": [
              "\n",
              "        if (window._pyforest_update_imports_cell) { window._pyforest_update_imports_cell('import numpy as np\\nimport pandas as pd'); }\n",
              "    "
            ],
            "text/plain": [
              "<IPython.core.display.Javascript object>"
            ]
          },
          "metadata": {
            "tags": []
          }
        },
        {
          "output_type": "display_data",
          "data": {
            "application/javascript": [
              "\n",
              "        if (window._pyforest_update_imports_cell) { window._pyforest_update_imports_cell('import numpy as np\\nimport pandas as pd'); }\n",
              "    "
            ],
            "text/plain": [
              "<IPython.core.display.Javascript object>"
            ]
          },
          "metadata": {
            "tags": []
          }
        },
        {
          "output_type": "display_data",
          "data": {
            "application/javascript": [
              "\n",
              "        if (window._pyforest_update_imports_cell) { window._pyforest_update_imports_cell('import numpy as np\\nimport pandas as pd'); }\n",
              "    "
            ],
            "text/plain": [
              "<IPython.core.display.Javascript object>"
            ]
          },
          "metadata": {
            "tags": []
          }
        },
        {
          "output_type": "display_data",
          "data": {
            "application/javascript": [
              "\n",
              "        if (window._pyforest_update_imports_cell) { window._pyforest_update_imports_cell('import numpy as np\\nimport pandas as pd'); }\n",
              "    "
            ],
            "text/plain": [
              "<IPython.core.display.Javascript object>"
            ]
          },
          "metadata": {
            "tags": []
          }
        },
        {
          "output_type": "display_data",
          "data": {
            "application/javascript": [
              "\n",
              "        if (window._pyforest_update_imports_cell) { window._pyforest_update_imports_cell('import numpy as np\\nimport pandas as pd'); }\n",
              "    "
            ],
            "text/plain": [
              "<IPython.core.display.Javascript object>"
            ]
          },
          "metadata": {
            "tags": []
          }
        },
        {
          "output_type": "display_data",
          "data": {
            "application/javascript": [
              "\n",
              "        if (window._pyforest_update_imports_cell) { window._pyforest_update_imports_cell('import numpy as np\\nimport pandas as pd'); }\n",
              "    "
            ],
            "text/plain": [
              "<IPython.core.display.Javascript object>"
            ]
          },
          "metadata": {
            "tags": []
          }
        },
        {
          "output_type": "display_data",
          "data": {
            "application/javascript": [
              "\n",
              "        if (window._pyforest_update_imports_cell) { window._pyforest_update_imports_cell('import numpy as np\\nimport pandas as pd'); }\n",
              "    "
            ],
            "text/plain": [
              "<IPython.core.display.Javascript object>"
            ]
          },
          "metadata": {
            "tags": []
          }
        },
        {
          "output_type": "display_data",
          "data": {
            "application/javascript": [
              "\n",
              "        if (window._pyforest_update_imports_cell) { window._pyforest_update_imports_cell('import numpy as np\\nimport pandas as pd'); }\n",
              "    "
            ],
            "text/plain": [
              "<IPython.core.display.Javascript object>"
            ]
          },
          "metadata": {
            "tags": []
          }
        },
        {
          "output_type": "display_data",
          "data": {
            "application/javascript": [
              "\n",
              "        if (window._pyforest_update_imports_cell) { window._pyforest_update_imports_cell('import numpy as np\\nimport pandas as pd'); }\n",
              "    "
            ],
            "text/plain": [
              "<IPython.core.display.Javascript object>"
            ]
          },
          "metadata": {
            "tags": []
          }
        },
        {
          "output_type": "display_data",
          "data": {
            "application/javascript": [
              "\n",
              "        if (window._pyforest_update_imports_cell) { window._pyforest_update_imports_cell('import numpy as np\\nimport pandas as pd'); }\n",
              "    "
            ],
            "text/plain": [
              "<IPython.core.display.Javascript object>"
            ]
          },
          "metadata": {
            "tags": []
          }
        },
        {
          "output_type": "display_data",
          "data": {
            "application/javascript": [
              "\n",
              "        if (window._pyforest_update_imports_cell) { window._pyforest_update_imports_cell('import numpy as np\\nimport pandas as pd'); }\n",
              "    "
            ],
            "text/plain": [
              "<IPython.core.display.Javascript object>"
            ]
          },
          "metadata": {
            "tags": []
          }
        },
        {
          "output_type": "display_data",
          "data": {
            "application/javascript": [
              "\n",
              "        if (window._pyforest_update_imports_cell) { window._pyforest_update_imports_cell('import numpy as np\\nimport pandas as pd'); }\n",
              "    "
            ],
            "text/plain": [
              "<IPython.core.display.Javascript object>"
            ]
          },
          "metadata": {
            "tags": []
          }
        },
        {
          "output_type": "display_data",
          "data": {
            "application/javascript": [
              "\n",
              "        if (window._pyforest_update_imports_cell) { window._pyforest_update_imports_cell('import numpy as np\\nimport pandas as pd'); }\n",
              "    "
            ],
            "text/plain": [
              "<IPython.core.display.Javascript object>"
            ]
          },
          "metadata": {
            "tags": []
          }
        },
        {
          "output_type": "display_data",
          "data": {
            "application/javascript": [
              "\n",
              "        if (window._pyforest_update_imports_cell) { window._pyforest_update_imports_cell('import numpy as np\\nimport pandas as pd'); }\n",
              "    "
            ],
            "text/plain": [
              "<IPython.core.display.Javascript object>"
            ]
          },
          "metadata": {
            "tags": []
          }
        },
        {
          "output_type": "display_data",
          "data": {
            "application/javascript": [
              "\n",
              "        if (window._pyforest_update_imports_cell) { window._pyforest_update_imports_cell('import numpy as np\\nimport pandas as pd'); }\n",
              "    "
            ],
            "text/plain": [
              "<IPython.core.display.Javascript object>"
            ]
          },
          "metadata": {
            "tags": []
          }
        },
        {
          "output_type": "display_data",
          "data": {
            "application/javascript": [
              "\n",
              "        if (window._pyforest_update_imports_cell) { window._pyforest_update_imports_cell('import numpy as np\\nimport pandas as pd'); }\n",
              "    "
            ],
            "text/plain": [
              "<IPython.core.display.Javascript object>"
            ]
          },
          "metadata": {
            "tags": []
          }
        },
        {
          "output_type": "display_data",
          "data": {
            "application/javascript": [
              "\n",
              "        if (window._pyforest_update_imports_cell) { window._pyforest_update_imports_cell('import numpy as np\\nimport pandas as pd'); }\n",
              "    "
            ],
            "text/plain": [
              "<IPython.core.display.Javascript object>"
            ]
          },
          "metadata": {
            "tags": []
          }
        },
        {
          "output_type": "display_data",
          "data": {
            "application/javascript": [
              "\n",
              "        if (window._pyforest_update_imports_cell) { window._pyforest_update_imports_cell('import numpy as np\\nimport pandas as pd'); }\n",
              "    "
            ],
            "text/plain": [
              "<IPython.core.display.Javascript object>"
            ]
          },
          "metadata": {
            "tags": []
          }
        },
        {
          "output_type": "display_data",
          "data": {
            "application/javascript": [
              "\n",
              "        if (window._pyforest_update_imports_cell) { window._pyforest_update_imports_cell('import numpy as np\\nimport pandas as pd'); }\n",
              "    "
            ],
            "text/plain": [
              "<IPython.core.display.Javascript object>"
            ]
          },
          "metadata": {
            "tags": []
          }
        },
        {
          "output_type": "display_data",
          "data": {
            "application/javascript": [
              "\n",
              "        if (window._pyforest_update_imports_cell) { window._pyforest_update_imports_cell('import numpy as np\\nimport pandas as pd'); }\n",
              "    "
            ],
            "text/plain": [
              "<IPython.core.display.Javascript object>"
            ]
          },
          "metadata": {
            "tags": []
          }
        },
        {
          "output_type": "display_data",
          "data": {
            "application/javascript": [
              "\n",
              "        if (window._pyforest_update_imports_cell) { window._pyforest_update_imports_cell('import numpy as np\\nimport pandas as pd'); }\n",
              "    "
            ],
            "text/plain": [
              "<IPython.core.display.Javascript object>"
            ]
          },
          "metadata": {
            "tags": []
          }
        },
        {
          "output_type": "display_data",
          "data": {
            "application/javascript": [
              "\n",
              "        if (window._pyforest_update_imports_cell) { window._pyforest_update_imports_cell('import numpy as np\\nimport pandas as pd'); }\n",
              "    "
            ],
            "text/plain": [
              "<IPython.core.display.Javascript object>"
            ]
          },
          "metadata": {
            "tags": []
          }
        },
        {
          "output_type": "display_data",
          "data": {
            "application/javascript": [
              "\n",
              "        if (window._pyforest_update_imports_cell) { window._pyforest_update_imports_cell('import numpy as np\\nimport pandas as pd'); }\n",
              "    "
            ],
            "text/plain": [
              "<IPython.core.display.Javascript object>"
            ]
          },
          "metadata": {
            "tags": []
          }
        },
        {
          "output_type": "display_data",
          "data": {
            "application/javascript": [
              "\n",
              "        if (window._pyforest_update_imports_cell) { window._pyforest_update_imports_cell('import numpy as np\\nimport pandas as pd'); }\n",
              "    "
            ],
            "text/plain": [
              "<IPython.core.display.Javascript object>"
            ]
          },
          "metadata": {
            "tags": []
          }
        },
        {
          "output_type": "display_data",
          "data": {
            "application/javascript": [
              "\n",
              "        if (window._pyforest_update_imports_cell) { window._pyforest_update_imports_cell('import numpy as np\\nimport pandas as pd'); }\n",
              "    "
            ],
            "text/plain": [
              "<IPython.core.display.Javascript object>"
            ]
          },
          "metadata": {
            "tags": []
          }
        },
        {
          "output_type": "display_data",
          "data": {
            "application/javascript": [
              "\n",
              "        if (window._pyforest_update_imports_cell) { window._pyforest_update_imports_cell('import numpy as np\\nimport pandas as pd'); }\n",
              "    "
            ],
            "text/plain": [
              "<IPython.core.display.Javascript object>"
            ]
          },
          "metadata": {
            "tags": []
          }
        },
        {
          "output_type": "display_data",
          "data": {
            "application/javascript": [
              "\n",
              "        if (window._pyforest_update_imports_cell) { window._pyforest_update_imports_cell('import numpy as np\\nimport pandas as pd'); }\n",
              "    "
            ],
            "text/plain": [
              "<IPython.core.display.Javascript object>"
            ]
          },
          "metadata": {
            "tags": []
          }
        },
        {
          "output_type": "display_data",
          "data": {
            "application/javascript": [
              "\n",
              "        if (window._pyforest_update_imports_cell) { window._pyforest_update_imports_cell('import numpy as np\\nimport pandas as pd'); }\n",
              "    "
            ],
            "text/plain": [
              "<IPython.core.display.Javascript object>"
            ]
          },
          "metadata": {
            "tags": []
          }
        },
        {
          "output_type": "display_data",
          "data": {
            "application/javascript": [
              "\n",
              "        if (window._pyforest_update_imports_cell) { window._pyforest_update_imports_cell('import numpy as np\\nimport pandas as pd'); }\n",
              "    "
            ],
            "text/plain": [
              "<IPython.core.display.Javascript object>"
            ]
          },
          "metadata": {
            "tags": []
          }
        },
        {
          "output_type": "display_data",
          "data": {
            "application/javascript": [
              "\n",
              "        if (window._pyforest_update_imports_cell) { window._pyforest_update_imports_cell('import numpy as np\\nimport pandas as pd'); }\n",
              "    "
            ],
            "text/plain": [
              "<IPython.core.display.Javascript object>"
            ]
          },
          "metadata": {
            "tags": []
          }
        },
        {
          "output_type": "display_data",
          "data": {
            "application/javascript": [
              "\n",
              "        if (window._pyforest_update_imports_cell) { window._pyforest_update_imports_cell('import numpy as np\\nimport pandas as pd'); }\n",
              "    "
            ],
            "text/plain": [
              "<IPython.core.display.Javascript object>"
            ]
          },
          "metadata": {
            "tags": []
          }
        },
        {
          "output_type": "display_data",
          "data": {
            "application/javascript": [
              "\n",
              "        if (window._pyforest_update_imports_cell) { window._pyforest_update_imports_cell('import numpy as np\\nimport pandas as pd'); }\n",
              "    "
            ],
            "text/plain": [
              "<IPython.core.display.Javascript object>"
            ]
          },
          "metadata": {
            "tags": []
          }
        },
        {
          "output_type": "display_data",
          "data": {
            "application/javascript": [
              "\n",
              "        if (window._pyforest_update_imports_cell) { window._pyforest_update_imports_cell('import numpy as np\\nimport pandas as pd'); }\n",
              "    "
            ],
            "text/plain": [
              "<IPython.core.display.Javascript object>"
            ]
          },
          "metadata": {
            "tags": []
          }
        },
        {
          "output_type": "display_data",
          "data": {
            "application/javascript": [
              "\n",
              "        if (window._pyforest_update_imports_cell) { window._pyforest_update_imports_cell('import numpy as np\\nimport pandas as pd'); }\n",
              "    "
            ],
            "text/plain": [
              "<IPython.core.display.Javascript object>"
            ]
          },
          "metadata": {
            "tags": []
          }
        },
        {
          "output_type": "display_data",
          "data": {
            "application/javascript": [
              "\n",
              "        if (window._pyforest_update_imports_cell) { window._pyforest_update_imports_cell('import numpy as np\\nimport pandas as pd'); }\n",
              "    "
            ],
            "text/plain": [
              "<IPython.core.display.Javascript object>"
            ]
          },
          "metadata": {
            "tags": []
          }
        },
        {
          "output_type": "display_data",
          "data": {
            "application/javascript": [
              "\n",
              "        if (window._pyforest_update_imports_cell) { window._pyforest_update_imports_cell('import numpy as np\\nimport pandas as pd'); }\n",
              "    "
            ],
            "text/plain": [
              "<IPython.core.display.Javascript object>"
            ]
          },
          "metadata": {
            "tags": []
          }
        },
        {
          "output_type": "display_data",
          "data": {
            "application/javascript": [
              "\n",
              "        if (window._pyforest_update_imports_cell) { window._pyforest_update_imports_cell('import numpy as np\\nimport pandas as pd'); }\n",
              "    "
            ],
            "text/plain": [
              "<IPython.core.display.Javascript object>"
            ]
          },
          "metadata": {
            "tags": []
          }
        },
        {
          "output_type": "display_data",
          "data": {
            "application/javascript": [
              "\n",
              "        if (window._pyforest_update_imports_cell) { window._pyforest_update_imports_cell('import numpy as np\\nimport pandas as pd'); }\n",
              "    "
            ],
            "text/plain": [
              "<IPython.core.display.Javascript object>"
            ]
          },
          "metadata": {
            "tags": []
          }
        },
        {
          "output_type": "display_data",
          "data": {
            "application/javascript": [
              "\n",
              "        if (window._pyforest_update_imports_cell) { window._pyforest_update_imports_cell('import numpy as np\\nimport pandas as pd'); }\n",
              "    "
            ],
            "text/plain": [
              "<IPython.core.display.Javascript object>"
            ]
          },
          "metadata": {
            "tags": []
          }
        },
        {
          "output_type": "display_data",
          "data": {
            "application/javascript": [
              "\n",
              "        if (window._pyforest_update_imports_cell) { window._pyforest_update_imports_cell('import numpy as np\\nimport pandas as pd'); }\n",
              "    "
            ],
            "text/plain": [
              "<IPython.core.display.Javascript object>"
            ]
          },
          "metadata": {
            "tags": []
          }
        },
        {
          "output_type": "display_data",
          "data": {
            "application/javascript": [
              "\n",
              "        if (window._pyforest_update_imports_cell) { window._pyforest_update_imports_cell('import numpy as np\\nimport pandas as pd'); }\n",
              "    "
            ],
            "text/plain": [
              "<IPython.core.display.Javascript object>"
            ]
          },
          "metadata": {
            "tags": []
          }
        },
        {
          "output_type": "display_data",
          "data": {
            "application/javascript": [
              "\n",
              "        if (window._pyforest_update_imports_cell) { window._pyforest_update_imports_cell('import numpy as np\\nimport pandas as pd'); }\n",
              "    "
            ],
            "text/plain": [
              "<IPython.core.display.Javascript object>"
            ]
          },
          "metadata": {
            "tags": []
          }
        },
        {
          "output_type": "display_data",
          "data": {
            "application/javascript": [
              "\n",
              "        if (window._pyforest_update_imports_cell) { window._pyforest_update_imports_cell('import numpy as np\\nimport pandas as pd'); }\n",
              "    "
            ],
            "text/plain": [
              "<IPython.core.display.Javascript object>"
            ]
          },
          "metadata": {
            "tags": []
          }
        },
        {
          "output_type": "display_data",
          "data": {
            "application/javascript": [
              "\n",
              "        if (window._pyforest_update_imports_cell) { window._pyforest_update_imports_cell('import numpy as np\\nimport pandas as pd'); }\n",
              "    "
            ],
            "text/plain": [
              "<IPython.core.display.Javascript object>"
            ]
          },
          "metadata": {
            "tags": []
          }
        },
        {
          "output_type": "display_data",
          "data": {
            "application/javascript": [
              "\n",
              "        if (window._pyforest_update_imports_cell) { window._pyforest_update_imports_cell('import numpy as np\\nimport pandas as pd'); }\n",
              "    "
            ],
            "text/plain": [
              "<IPython.core.display.Javascript object>"
            ]
          },
          "metadata": {
            "tags": []
          }
        },
        {
          "output_type": "display_data",
          "data": {
            "application/javascript": [
              "\n",
              "        if (window._pyforest_update_imports_cell) { window._pyforest_update_imports_cell('import numpy as np\\nimport pandas as pd'); }\n",
              "    "
            ],
            "text/plain": [
              "<IPython.core.display.Javascript object>"
            ]
          },
          "metadata": {
            "tags": []
          }
        },
        {
          "output_type": "display_data",
          "data": {
            "application/javascript": [
              "\n",
              "        if (window._pyforest_update_imports_cell) { window._pyforest_update_imports_cell('import numpy as np\\nimport pandas as pd'); }\n",
              "    "
            ],
            "text/plain": [
              "<IPython.core.display.Javascript object>"
            ]
          },
          "metadata": {
            "tags": []
          }
        },
        {
          "output_type": "display_data",
          "data": {
            "application/javascript": [
              "\n",
              "        if (window._pyforest_update_imports_cell) { window._pyforest_update_imports_cell('import numpy as np\\nimport pandas as pd'); }\n",
              "    "
            ],
            "text/plain": [
              "<IPython.core.display.Javascript object>"
            ]
          },
          "metadata": {
            "tags": []
          }
        },
        {
          "output_type": "display_data",
          "data": {
            "application/javascript": [
              "\n",
              "        if (window._pyforest_update_imports_cell) { window._pyforest_update_imports_cell('import numpy as np\\nimport pandas as pd'); }\n",
              "    "
            ],
            "text/plain": [
              "<IPython.core.display.Javascript object>"
            ]
          },
          "metadata": {
            "tags": []
          }
        },
        {
          "output_type": "display_data",
          "data": {
            "application/javascript": [
              "\n",
              "        if (window._pyforest_update_imports_cell) { window._pyforest_update_imports_cell('import numpy as np\\nimport pandas as pd'); }\n",
              "    "
            ],
            "text/plain": [
              "<IPython.core.display.Javascript object>"
            ]
          },
          "metadata": {
            "tags": []
          }
        },
        {
          "output_type": "display_data",
          "data": {
            "application/javascript": [
              "\n",
              "        if (window._pyforest_update_imports_cell) { window._pyforest_update_imports_cell('import numpy as np\\nimport pandas as pd'); }\n",
              "    "
            ],
            "text/plain": [
              "<IPython.core.display.Javascript object>"
            ]
          },
          "metadata": {
            "tags": []
          }
        },
        {
          "output_type": "display_data",
          "data": {
            "application/javascript": [
              "\n",
              "        if (window._pyforest_update_imports_cell) { window._pyforest_update_imports_cell('import numpy as np\\nimport pandas as pd'); }\n",
              "    "
            ],
            "text/plain": [
              "<IPython.core.display.Javascript object>"
            ]
          },
          "metadata": {
            "tags": []
          }
        },
        {
          "output_type": "display_data",
          "data": {
            "application/javascript": [
              "\n",
              "        if (window._pyforest_update_imports_cell) { window._pyforest_update_imports_cell('import numpy as np\\nimport pandas as pd'); }\n",
              "    "
            ],
            "text/plain": [
              "<IPython.core.display.Javascript object>"
            ]
          },
          "metadata": {
            "tags": []
          }
        },
        {
          "output_type": "display_data",
          "data": {
            "application/javascript": [
              "\n",
              "        if (window._pyforest_update_imports_cell) { window._pyforest_update_imports_cell('import numpy as np\\nimport pandas as pd'); }\n",
              "    "
            ],
            "text/plain": [
              "<IPython.core.display.Javascript object>"
            ]
          },
          "metadata": {
            "tags": []
          }
        },
        {
          "output_type": "display_data",
          "data": {
            "application/javascript": [
              "\n",
              "        if (window._pyforest_update_imports_cell) { window._pyforest_update_imports_cell('import numpy as np\\nimport pandas as pd'); }\n",
              "    "
            ],
            "text/plain": [
              "<IPython.core.display.Javascript object>"
            ]
          },
          "metadata": {
            "tags": []
          }
        },
        {
          "output_type": "display_data",
          "data": {
            "application/javascript": [
              "\n",
              "        if (window._pyforest_update_imports_cell) { window._pyforest_update_imports_cell('import numpy as np\\nimport pandas as pd'); }\n",
              "    "
            ],
            "text/plain": [
              "<IPython.core.display.Javascript object>"
            ]
          },
          "metadata": {
            "tags": []
          }
        },
        {
          "output_type": "display_data",
          "data": {
            "application/javascript": [
              "\n",
              "        if (window._pyforest_update_imports_cell) { window._pyforest_update_imports_cell('import numpy as np\\nimport pandas as pd'); }\n",
              "    "
            ],
            "text/plain": [
              "<IPython.core.display.Javascript object>"
            ]
          },
          "metadata": {
            "tags": []
          }
        },
        {
          "output_type": "display_data",
          "data": {
            "application/javascript": [
              "\n",
              "        if (window._pyforest_update_imports_cell) { window._pyforest_update_imports_cell('import numpy as np\\nimport pandas as pd'); }\n",
              "    "
            ],
            "text/plain": [
              "<IPython.core.display.Javascript object>"
            ]
          },
          "metadata": {
            "tags": []
          }
        },
        {
          "output_type": "display_data",
          "data": {
            "application/javascript": [
              "\n",
              "        if (window._pyforest_update_imports_cell) { window._pyforest_update_imports_cell('import numpy as np\\nimport pandas as pd'); }\n",
              "    "
            ],
            "text/plain": [
              "<IPython.core.display.Javascript object>"
            ]
          },
          "metadata": {
            "tags": []
          }
        },
        {
          "output_type": "display_data",
          "data": {
            "application/javascript": [
              "\n",
              "        if (window._pyforest_update_imports_cell) { window._pyforest_update_imports_cell('import numpy as np\\nimport pandas as pd'); }\n",
              "    "
            ],
            "text/plain": [
              "<IPython.core.display.Javascript object>"
            ]
          },
          "metadata": {
            "tags": []
          }
        },
        {
          "output_type": "display_data",
          "data": {
            "application/javascript": [
              "\n",
              "        if (window._pyforest_update_imports_cell) { window._pyforest_update_imports_cell('import numpy as np\\nimport pandas as pd'); }\n",
              "    "
            ],
            "text/plain": [
              "<IPython.core.display.Javascript object>"
            ]
          },
          "metadata": {
            "tags": []
          }
        },
        {
          "output_type": "display_data",
          "data": {
            "application/javascript": [
              "\n",
              "        if (window._pyforest_update_imports_cell) { window._pyforest_update_imports_cell('import numpy as np\\nimport pandas as pd'); }\n",
              "    "
            ],
            "text/plain": [
              "<IPython.core.display.Javascript object>"
            ]
          },
          "metadata": {
            "tags": []
          }
        },
        {
          "output_type": "display_data",
          "data": {
            "application/javascript": [
              "\n",
              "        if (window._pyforest_update_imports_cell) { window._pyforest_update_imports_cell('import numpy as np\\nimport pandas as pd'); }\n",
              "    "
            ],
            "text/plain": [
              "<IPython.core.display.Javascript object>"
            ]
          },
          "metadata": {
            "tags": []
          }
        },
        {
          "output_type": "display_data",
          "data": {
            "application/javascript": [
              "\n",
              "        if (window._pyforest_update_imports_cell) { window._pyforest_update_imports_cell('import numpy as np\\nimport pandas as pd'); }\n",
              "    "
            ],
            "text/plain": [
              "<IPython.core.display.Javascript object>"
            ]
          },
          "metadata": {
            "tags": []
          }
        },
        {
          "output_type": "display_data",
          "data": {
            "application/javascript": [
              "\n",
              "        if (window._pyforest_update_imports_cell) { window._pyforest_update_imports_cell('import numpy as np\\nimport pandas as pd'); }\n",
              "    "
            ],
            "text/plain": [
              "<IPython.core.display.Javascript object>"
            ]
          },
          "metadata": {
            "tags": []
          }
        },
        {
          "output_type": "display_data",
          "data": {
            "application/javascript": [
              "\n",
              "        if (window._pyforest_update_imports_cell) { window._pyforest_update_imports_cell('import numpy as np\\nimport pandas as pd'); }\n",
              "    "
            ],
            "text/plain": [
              "<IPython.core.display.Javascript object>"
            ]
          },
          "metadata": {
            "tags": []
          }
        },
        {
          "output_type": "display_data",
          "data": {
            "application/javascript": [
              "\n",
              "        if (window._pyforest_update_imports_cell) { window._pyforest_update_imports_cell('import numpy as np\\nimport pandas as pd'); }\n",
              "    "
            ],
            "text/plain": [
              "<IPython.core.display.Javascript object>"
            ]
          },
          "metadata": {
            "tags": []
          }
        },
        {
          "output_type": "display_data",
          "data": {
            "application/javascript": [
              "\n",
              "        if (window._pyforest_update_imports_cell) { window._pyforest_update_imports_cell('import numpy as np\\nimport pandas as pd'); }\n",
              "    "
            ],
            "text/plain": [
              "<IPython.core.display.Javascript object>"
            ]
          },
          "metadata": {
            "tags": []
          }
        },
        {
          "output_type": "display_data",
          "data": {
            "application/javascript": [
              "\n",
              "        if (window._pyforest_update_imports_cell) { window._pyforest_update_imports_cell('import numpy as np\\nimport pandas as pd'); }\n",
              "    "
            ],
            "text/plain": [
              "<IPython.core.display.Javascript object>"
            ]
          },
          "metadata": {
            "tags": []
          }
        },
        {
          "output_type": "display_data",
          "data": {
            "application/javascript": [
              "\n",
              "        if (window._pyforest_update_imports_cell) { window._pyforest_update_imports_cell('import numpy as np\\nimport pandas as pd'); }\n",
              "    "
            ],
            "text/plain": [
              "<IPython.core.display.Javascript object>"
            ]
          },
          "metadata": {
            "tags": []
          }
        },
        {
          "output_type": "display_data",
          "data": {
            "application/javascript": [
              "\n",
              "        if (window._pyforest_update_imports_cell) { window._pyforest_update_imports_cell('import numpy as np\\nimport pandas as pd'); }\n",
              "    "
            ],
            "text/plain": [
              "<IPython.core.display.Javascript object>"
            ]
          },
          "metadata": {
            "tags": []
          }
        },
        {
          "output_type": "display_data",
          "data": {
            "application/javascript": [
              "\n",
              "        if (window._pyforest_update_imports_cell) { window._pyforest_update_imports_cell('import numpy as np\\nimport pandas as pd'); }\n",
              "    "
            ],
            "text/plain": [
              "<IPython.core.display.Javascript object>"
            ]
          },
          "metadata": {
            "tags": []
          }
        },
        {
          "output_type": "display_data",
          "data": {
            "application/javascript": [
              "\n",
              "        if (window._pyforest_update_imports_cell) { window._pyforest_update_imports_cell('import numpy as np\\nimport pandas as pd'); }\n",
              "    "
            ],
            "text/plain": [
              "<IPython.core.display.Javascript object>"
            ]
          },
          "metadata": {
            "tags": []
          }
        },
        {
          "output_type": "display_data",
          "data": {
            "application/javascript": [
              "\n",
              "        if (window._pyforest_update_imports_cell) { window._pyforest_update_imports_cell('import numpy as np\\nimport pandas as pd'); }\n",
              "    "
            ],
            "text/plain": [
              "<IPython.core.display.Javascript object>"
            ]
          },
          "metadata": {
            "tags": []
          }
        },
        {
          "output_type": "display_data",
          "data": {
            "application/javascript": [
              "\n",
              "        if (window._pyforest_update_imports_cell) { window._pyforest_update_imports_cell('import numpy as np\\nimport pandas as pd'); }\n",
              "    "
            ],
            "text/plain": [
              "<IPython.core.display.Javascript object>"
            ]
          },
          "metadata": {
            "tags": []
          }
        },
        {
          "output_type": "display_data",
          "data": {
            "application/javascript": [
              "\n",
              "        if (window._pyforest_update_imports_cell) { window._pyforest_update_imports_cell('import numpy as np\\nimport pandas as pd'); }\n",
              "    "
            ],
            "text/plain": [
              "<IPython.core.display.Javascript object>"
            ]
          },
          "metadata": {
            "tags": []
          }
        },
        {
          "output_type": "display_data",
          "data": {
            "application/javascript": [
              "\n",
              "        if (window._pyforest_update_imports_cell) { window._pyforest_update_imports_cell('import numpy as np\\nimport pandas as pd'); }\n",
              "    "
            ],
            "text/plain": [
              "<IPython.core.display.Javascript object>"
            ]
          },
          "metadata": {
            "tags": []
          }
        },
        {
          "output_type": "display_data",
          "data": {
            "application/javascript": [
              "\n",
              "        if (window._pyforest_update_imports_cell) { window._pyforest_update_imports_cell('import numpy as np\\nimport pandas as pd'); }\n",
              "    "
            ],
            "text/plain": [
              "<IPython.core.display.Javascript object>"
            ]
          },
          "metadata": {
            "tags": []
          }
        },
        {
          "output_type": "display_data",
          "data": {
            "application/javascript": [
              "\n",
              "        if (window._pyforest_update_imports_cell) { window._pyforest_update_imports_cell('import numpy as np\\nimport pandas as pd'); }\n",
              "    "
            ],
            "text/plain": [
              "<IPython.core.display.Javascript object>"
            ]
          },
          "metadata": {
            "tags": []
          }
        },
        {
          "output_type": "display_data",
          "data": {
            "application/javascript": [
              "\n",
              "        if (window._pyforest_update_imports_cell) { window._pyforest_update_imports_cell('import numpy as np\\nimport pandas as pd'); }\n",
              "    "
            ],
            "text/plain": [
              "<IPython.core.display.Javascript object>"
            ]
          },
          "metadata": {
            "tags": []
          }
        },
        {
          "output_type": "display_data",
          "data": {
            "application/javascript": [
              "\n",
              "        if (window._pyforest_update_imports_cell) { window._pyforest_update_imports_cell('import numpy as np\\nimport pandas as pd'); }\n",
              "    "
            ],
            "text/plain": [
              "<IPython.core.display.Javascript object>"
            ]
          },
          "metadata": {
            "tags": []
          }
        },
        {
          "output_type": "display_data",
          "data": {
            "application/javascript": [
              "\n",
              "        if (window._pyforest_update_imports_cell) { window._pyforest_update_imports_cell('import numpy as np\\nimport pandas as pd'); }\n",
              "    "
            ],
            "text/plain": [
              "<IPython.core.display.Javascript object>"
            ]
          },
          "metadata": {
            "tags": []
          }
        },
        {
          "output_type": "display_data",
          "data": {
            "application/javascript": [
              "\n",
              "        if (window._pyforest_update_imports_cell) { window._pyforest_update_imports_cell('import numpy as np\\nimport pandas as pd'); }\n",
              "    "
            ],
            "text/plain": [
              "<IPython.core.display.Javascript object>"
            ]
          },
          "metadata": {
            "tags": []
          }
        },
        {
          "output_type": "display_data",
          "data": {
            "application/javascript": [
              "\n",
              "        if (window._pyforest_update_imports_cell) { window._pyforest_update_imports_cell('import numpy as np\\nimport pandas as pd'); }\n",
              "    "
            ],
            "text/plain": [
              "<IPython.core.display.Javascript object>"
            ]
          },
          "metadata": {
            "tags": []
          }
        },
        {
          "output_type": "display_data",
          "data": {
            "application/javascript": [
              "\n",
              "        if (window._pyforest_update_imports_cell) { window._pyforest_update_imports_cell('import numpy as np\\nimport pandas as pd'); }\n",
              "    "
            ],
            "text/plain": [
              "<IPython.core.display.Javascript object>"
            ]
          },
          "metadata": {
            "tags": []
          }
        },
        {
          "output_type": "display_data",
          "data": {
            "application/javascript": [
              "\n",
              "        if (window._pyforest_update_imports_cell) { window._pyforest_update_imports_cell('import numpy as np\\nimport pandas as pd'); }\n",
              "    "
            ],
            "text/plain": [
              "<IPython.core.display.Javascript object>"
            ]
          },
          "metadata": {
            "tags": []
          }
        },
        {
          "output_type": "display_data",
          "data": {
            "application/javascript": [
              "\n",
              "        if (window._pyforest_update_imports_cell) { window._pyforest_update_imports_cell('import numpy as np\\nimport pandas as pd'); }\n",
              "    "
            ],
            "text/plain": [
              "<IPython.core.display.Javascript object>"
            ]
          },
          "metadata": {
            "tags": []
          }
        },
        {
          "output_type": "display_data",
          "data": {
            "application/javascript": [
              "\n",
              "        if (window._pyforest_update_imports_cell) { window._pyforest_update_imports_cell('import numpy as np\\nimport pandas as pd'); }\n",
              "    "
            ],
            "text/plain": [
              "<IPython.core.display.Javascript object>"
            ]
          },
          "metadata": {
            "tags": []
          }
        },
        {
          "output_type": "display_data",
          "data": {
            "application/javascript": [
              "\n",
              "        if (window._pyforest_update_imports_cell) { window._pyforest_update_imports_cell('import numpy as np\\nimport pandas as pd'); }\n",
              "    "
            ],
            "text/plain": [
              "<IPython.core.display.Javascript object>"
            ]
          },
          "metadata": {
            "tags": []
          }
        },
        {
          "output_type": "display_data",
          "data": {
            "application/javascript": [
              "\n",
              "        if (window._pyforest_update_imports_cell) { window._pyforest_update_imports_cell('import numpy as np\\nimport pandas as pd'); }\n",
              "    "
            ],
            "text/plain": [
              "<IPython.core.display.Javascript object>"
            ]
          },
          "metadata": {
            "tags": []
          }
        },
        {
          "output_type": "display_data",
          "data": {
            "application/javascript": [
              "\n",
              "        if (window._pyforest_update_imports_cell) { window._pyforest_update_imports_cell('import numpy as np\\nimport pandas as pd'); }\n",
              "    "
            ],
            "text/plain": [
              "<IPython.core.display.Javascript object>"
            ]
          },
          "metadata": {
            "tags": []
          }
        },
        {
          "output_type": "display_data",
          "data": {
            "application/javascript": [
              "\n",
              "        if (window._pyforest_update_imports_cell) { window._pyforest_update_imports_cell('import numpy as np\\nimport pandas as pd'); }\n",
              "    "
            ],
            "text/plain": [
              "<IPython.core.display.Javascript object>"
            ]
          },
          "metadata": {
            "tags": []
          }
        },
        {
          "output_type": "display_data",
          "data": {
            "application/javascript": [
              "\n",
              "        if (window._pyforest_update_imports_cell) { window._pyforest_update_imports_cell('import numpy as np\\nimport pandas as pd'); }\n",
              "    "
            ],
            "text/plain": [
              "<IPython.core.display.Javascript object>"
            ]
          },
          "metadata": {
            "tags": []
          }
        },
        {
          "output_type": "display_data",
          "data": {
            "application/javascript": [
              "\n",
              "        if (window._pyforest_update_imports_cell) { window._pyforest_update_imports_cell('import numpy as np\\nimport pandas as pd'); }\n",
              "    "
            ],
            "text/plain": [
              "<IPython.core.display.Javascript object>"
            ]
          },
          "metadata": {
            "tags": []
          }
        },
        {
          "output_type": "display_data",
          "data": {
            "application/javascript": [
              "\n",
              "        if (window._pyforest_update_imports_cell) { window._pyforest_update_imports_cell('import numpy as np\\nimport pandas as pd'); }\n",
              "    "
            ],
            "text/plain": [
              "<IPython.core.display.Javascript object>"
            ]
          },
          "metadata": {
            "tags": []
          }
        },
        {
          "output_type": "display_data",
          "data": {
            "application/javascript": [
              "\n",
              "        if (window._pyforest_update_imports_cell) { window._pyforest_update_imports_cell('import numpy as np\\nimport pandas as pd'); }\n",
              "    "
            ],
            "text/plain": [
              "<IPython.core.display.Javascript object>"
            ]
          },
          "metadata": {
            "tags": []
          }
        },
        {
          "output_type": "display_data",
          "data": {
            "application/javascript": [
              "\n",
              "        if (window._pyforest_update_imports_cell) { window._pyforest_update_imports_cell('import numpy as np\\nimport pandas as pd'); }\n",
              "    "
            ],
            "text/plain": [
              "<IPython.core.display.Javascript object>"
            ]
          },
          "metadata": {
            "tags": []
          }
        },
        {
          "output_type": "display_data",
          "data": {
            "application/javascript": [
              "\n",
              "        if (window._pyforest_update_imports_cell) { window._pyforest_update_imports_cell('import numpy as np\\nimport pandas as pd'); }\n",
              "    "
            ],
            "text/plain": [
              "<IPython.core.display.Javascript object>"
            ]
          },
          "metadata": {
            "tags": []
          }
        },
        {
          "output_type": "display_data",
          "data": {
            "application/javascript": [
              "\n",
              "        if (window._pyforest_update_imports_cell) { window._pyforest_update_imports_cell('import numpy as np\\nimport pandas as pd'); }\n",
              "    "
            ],
            "text/plain": [
              "<IPython.core.display.Javascript object>"
            ]
          },
          "metadata": {
            "tags": []
          }
        },
        {
          "output_type": "display_data",
          "data": {
            "application/javascript": [
              "\n",
              "        if (window._pyforest_update_imports_cell) { window._pyforest_update_imports_cell('import numpy as np\\nimport pandas as pd'); }\n",
              "    "
            ],
            "text/plain": [
              "<IPython.core.display.Javascript object>"
            ]
          },
          "metadata": {
            "tags": []
          }
        },
        {
          "output_type": "display_data",
          "data": {
            "application/javascript": [
              "\n",
              "        if (window._pyforest_update_imports_cell) { window._pyforest_update_imports_cell('import numpy as np\\nimport pandas as pd'); }\n",
              "    "
            ],
            "text/plain": [
              "<IPython.core.display.Javascript object>"
            ]
          },
          "metadata": {
            "tags": []
          }
        },
        {
          "output_type": "display_data",
          "data": {
            "application/javascript": [
              "\n",
              "        if (window._pyforest_update_imports_cell) { window._pyforest_update_imports_cell('import numpy as np\\nimport pandas as pd'); }\n",
              "    "
            ],
            "text/plain": [
              "<IPython.core.display.Javascript object>"
            ]
          },
          "metadata": {
            "tags": []
          }
        },
        {
          "output_type": "display_data",
          "data": {
            "application/javascript": [
              "\n",
              "        if (window._pyforest_update_imports_cell) { window._pyforest_update_imports_cell('import numpy as np\\nimport pandas as pd'); }\n",
              "    "
            ],
            "text/plain": [
              "<IPython.core.display.Javascript object>"
            ]
          },
          "metadata": {
            "tags": []
          }
        },
        {
          "output_type": "display_data",
          "data": {
            "application/javascript": [
              "\n",
              "        if (window._pyforest_update_imports_cell) { window._pyforest_update_imports_cell('import numpy as np\\nimport pandas as pd'); }\n",
              "    "
            ],
            "text/plain": [
              "<IPython.core.display.Javascript object>"
            ]
          },
          "metadata": {
            "tags": []
          }
        },
        {
          "output_type": "display_data",
          "data": {
            "application/javascript": [
              "\n",
              "        if (window._pyforest_update_imports_cell) { window._pyforest_update_imports_cell('import numpy as np\\nimport pandas as pd'); }\n",
              "    "
            ],
            "text/plain": [
              "<IPython.core.display.Javascript object>"
            ]
          },
          "metadata": {
            "tags": []
          }
        },
        {
          "output_type": "display_data",
          "data": {
            "application/javascript": [
              "\n",
              "        if (window._pyforest_update_imports_cell) { window._pyforest_update_imports_cell('import numpy as np\\nimport pandas as pd'); }\n",
              "    "
            ],
            "text/plain": [
              "<IPython.core.display.Javascript object>"
            ]
          },
          "metadata": {
            "tags": []
          }
        },
        {
          "output_type": "display_data",
          "data": {
            "application/javascript": [
              "\n",
              "        if (window._pyforest_update_imports_cell) { window._pyforest_update_imports_cell('import numpy as np\\nimport pandas as pd'); }\n",
              "    "
            ],
            "text/plain": [
              "<IPython.core.display.Javascript object>"
            ]
          },
          "metadata": {
            "tags": []
          }
        },
        {
          "output_type": "display_data",
          "data": {
            "application/javascript": [
              "\n",
              "        if (window._pyforest_update_imports_cell) { window._pyforest_update_imports_cell('import numpy as np\\nimport pandas as pd'); }\n",
              "    "
            ],
            "text/plain": [
              "<IPython.core.display.Javascript object>"
            ]
          },
          "metadata": {
            "tags": []
          }
        },
        {
          "output_type": "display_data",
          "data": {
            "application/javascript": [
              "\n",
              "        if (window._pyforest_update_imports_cell) { window._pyforest_update_imports_cell('import numpy as np\\nimport pandas as pd'); }\n",
              "    "
            ],
            "text/plain": [
              "<IPython.core.display.Javascript object>"
            ]
          },
          "metadata": {
            "tags": []
          }
        },
        {
          "output_type": "display_data",
          "data": {
            "application/javascript": [
              "\n",
              "        if (window._pyforest_update_imports_cell) { window._pyforest_update_imports_cell('import numpy as np\\nimport pandas as pd'); }\n",
              "    "
            ],
            "text/plain": [
              "<IPython.core.display.Javascript object>"
            ]
          },
          "metadata": {
            "tags": []
          }
        },
        {
          "output_type": "display_data",
          "data": {
            "application/javascript": [
              "\n",
              "        if (window._pyforest_update_imports_cell) { window._pyforest_update_imports_cell('import numpy as np\\nimport pandas as pd'); }\n",
              "    "
            ],
            "text/plain": [
              "<IPython.core.display.Javascript object>"
            ]
          },
          "metadata": {
            "tags": []
          }
        },
        {
          "output_type": "display_data",
          "data": {
            "application/javascript": [
              "\n",
              "        if (window._pyforest_update_imports_cell) { window._pyforest_update_imports_cell('import numpy as np\\nimport pandas as pd'); }\n",
              "    "
            ],
            "text/plain": [
              "<IPython.core.display.Javascript object>"
            ]
          },
          "metadata": {
            "tags": []
          }
        },
        {
          "output_type": "display_data",
          "data": {
            "application/javascript": [
              "\n",
              "        if (window._pyforest_update_imports_cell) { window._pyforest_update_imports_cell('import numpy as np\\nimport pandas as pd'); }\n",
              "    "
            ],
            "text/plain": [
              "<IPython.core.display.Javascript object>"
            ]
          },
          "metadata": {
            "tags": []
          }
        },
        {
          "output_type": "display_data",
          "data": {
            "application/javascript": [
              "\n",
              "        if (window._pyforest_update_imports_cell) { window._pyforest_update_imports_cell('import numpy as np\\nimport pandas as pd'); }\n",
              "    "
            ],
            "text/plain": [
              "<IPython.core.display.Javascript object>"
            ]
          },
          "metadata": {
            "tags": []
          }
        },
        {
          "output_type": "display_data",
          "data": {
            "application/javascript": [
              "\n",
              "        if (window._pyforest_update_imports_cell) { window._pyforest_update_imports_cell('import numpy as np\\nimport pandas as pd'); }\n",
              "    "
            ],
            "text/plain": [
              "<IPython.core.display.Javascript object>"
            ]
          },
          "metadata": {
            "tags": []
          }
        },
        {
          "output_type": "display_data",
          "data": {
            "application/javascript": [
              "\n",
              "        if (window._pyforest_update_imports_cell) { window._pyforest_update_imports_cell('import numpy as np\\nimport pandas as pd'); }\n",
              "    "
            ],
            "text/plain": [
              "<IPython.core.display.Javascript object>"
            ]
          },
          "metadata": {
            "tags": []
          }
        },
        {
          "output_type": "display_data",
          "data": {
            "application/javascript": [
              "\n",
              "        if (window._pyforest_update_imports_cell) { window._pyforest_update_imports_cell('import numpy as np\\nimport pandas as pd'); }\n",
              "    "
            ],
            "text/plain": [
              "<IPython.core.display.Javascript object>"
            ]
          },
          "metadata": {
            "tags": []
          }
        },
        {
          "output_type": "display_data",
          "data": {
            "application/javascript": [
              "\n",
              "        if (window._pyforest_update_imports_cell) { window._pyforest_update_imports_cell('import numpy as np\\nimport pandas as pd'); }\n",
              "    "
            ],
            "text/plain": [
              "<IPython.core.display.Javascript object>"
            ]
          },
          "metadata": {
            "tags": []
          }
        },
        {
          "output_type": "display_data",
          "data": {
            "application/javascript": [
              "\n",
              "        if (window._pyforest_update_imports_cell) { window._pyforest_update_imports_cell('import numpy as np\\nimport pandas as pd'); }\n",
              "    "
            ],
            "text/plain": [
              "<IPython.core.display.Javascript object>"
            ]
          },
          "metadata": {
            "tags": []
          }
        },
        {
          "output_type": "display_data",
          "data": {
            "application/javascript": [
              "\n",
              "        if (window._pyforest_update_imports_cell) { window._pyforest_update_imports_cell('import numpy as np\\nimport pandas as pd'); }\n",
              "    "
            ],
            "text/plain": [
              "<IPython.core.display.Javascript object>"
            ]
          },
          "metadata": {
            "tags": []
          }
        },
        {
          "output_type": "display_data",
          "data": {
            "application/javascript": [
              "\n",
              "        if (window._pyforest_update_imports_cell) { window._pyforest_update_imports_cell('import numpy as np\\nimport pandas as pd'); }\n",
              "    "
            ],
            "text/plain": [
              "<IPython.core.display.Javascript object>"
            ]
          },
          "metadata": {
            "tags": []
          }
        },
        {
          "output_type": "display_data",
          "data": {
            "application/javascript": [
              "\n",
              "        if (window._pyforest_update_imports_cell) { window._pyforest_update_imports_cell('import numpy as np\\nimport pandas as pd'); }\n",
              "    "
            ],
            "text/plain": [
              "<IPython.core.display.Javascript object>"
            ]
          },
          "metadata": {
            "tags": []
          }
        },
        {
          "output_type": "display_data",
          "data": {
            "application/javascript": [
              "\n",
              "        if (window._pyforest_update_imports_cell) { window._pyforest_update_imports_cell('import numpy as np\\nimport pandas as pd'); }\n",
              "    "
            ],
            "text/plain": [
              "<IPython.core.display.Javascript object>"
            ]
          },
          "metadata": {
            "tags": []
          }
        },
        {
          "output_type": "display_data",
          "data": {
            "application/javascript": [
              "\n",
              "        if (window._pyforest_update_imports_cell) { window._pyforest_update_imports_cell('import numpy as np\\nimport pandas as pd'); }\n",
              "    "
            ],
            "text/plain": [
              "<IPython.core.display.Javascript object>"
            ]
          },
          "metadata": {
            "tags": []
          }
        },
        {
          "output_type": "display_data",
          "data": {
            "application/javascript": [
              "\n",
              "        if (window._pyforest_update_imports_cell) { window._pyforest_update_imports_cell('import numpy as np\\nimport pandas as pd'); }\n",
              "    "
            ],
            "text/plain": [
              "<IPython.core.display.Javascript object>"
            ]
          },
          "metadata": {
            "tags": []
          }
        },
        {
          "output_type": "display_data",
          "data": {
            "application/javascript": [
              "\n",
              "        if (window._pyforest_update_imports_cell) { window._pyforest_update_imports_cell('import numpy as np\\nimport pandas as pd'); }\n",
              "    "
            ],
            "text/plain": [
              "<IPython.core.display.Javascript object>"
            ]
          },
          "metadata": {
            "tags": []
          }
        },
        {
          "output_type": "display_data",
          "data": {
            "application/javascript": [
              "\n",
              "        if (window._pyforest_update_imports_cell) { window._pyforest_update_imports_cell('import numpy as np\\nimport pandas as pd'); }\n",
              "    "
            ],
            "text/plain": [
              "<IPython.core.display.Javascript object>"
            ]
          },
          "metadata": {
            "tags": []
          }
        },
        {
          "output_type": "display_data",
          "data": {
            "application/javascript": [
              "\n",
              "        if (window._pyforest_update_imports_cell) { window._pyforest_update_imports_cell('import numpy as np\\nimport pandas as pd'); }\n",
              "    "
            ],
            "text/plain": [
              "<IPython.core.display.Javascript object>"
            ]
          },
          "metadata": {
            "tags": []
          }
        },
        {
          "output_type": "display_data",
          "data": {
            "application/javascript": [
              "\n",
              "        if (window._pyforest_update_imports_cell) { window._pyforest_update_imports_cell('import numpy as np\\nimport pandas as pd'); }\n",
              "    "
            ],
            "text/plain": [
              "<IPython.core.display.Javascript object>"
            ]
          },
          "metadata": {
            "tags": []
          }
        },
        {
          "output_type": "display_data",
          "data": {
            "application/javascript": [
              "\n",
              "        if (window._pyforest_update_imports_cell) { window._pyforest_update_imports_cell('import numpy as np\\nimport pandas as pd'); }\n",
              "    "
            ],
            "text/plain": [
              "<IPython.core.display.Javascript object>"
            ]
          },
          "metadata": {
            "tags": []
          }
        },
        {
          "output_type": "display_data",
          "data": {
            "application/javascript": [
              "\n",
              "        if (window._pyforest_update_imports_cell) { window._pyforest_update_imports_cell('import numpy as np\\nimport pandas as pd'); }\n",
              "    "
            ],
            "text/plain": [
              "<IPython.core.display.Javascript object>"
            ]
          },
          "metadata": {
            "tags": []
          }
        },
        {
          "output_type": "display_data",
          "data": {
            "application/javascript": [
              "\n",
              "        if (window._pyforest_update_imports_cell) { window._pyforest_update_imports_cell('import numpy as np\\nimport pandas as pd'); }\n",
              "    "
            ],
            "text/plain": [
              "<IPython.core.display.Javascript object>"
            ]
          },
          "metadata": {
            "tags": []
          }
        },
        {
          "output_type": "display_data",
          "data": {
            "application/javascript": [
              "\n",
              "        if (window._pyforest_update_imports_cell) { window._pyforest_update_imports_cell('import numpy as np\\nimport pandas as pd'); }\n",
              "    "
            ],
            "text/plain": [
              "<IPython.core.display.Javascript object>"
            ]
          },
          "metadata": {
            "tags": []
          }
        },
        {
          "output_type": "display_data",
          "data": {
            "application/javascript": [
              "\n",
              "        if (window._pyforest_update_imports_cell) { window._pyforest_update_imports_cell('import numpy as np\\nimport pandas as pd'); }\n",
              "    "
            ],
            "text/plain": [
              "<IPython.core.display.Javascript object>"
            ]
          },
          "metadata": {
            "tags": []
          }
        },
        {
          "output_type": "display_data",
          "data": {
            "application/javascript": [
              "\n",
              "        if (window._pyforest_update_imports_cell) { window._pyforest_update_imports_cell('import numpy as np\\nimport pandas as pd'); }\n",
              "    "
            ],
            "text/plain": [
              "<IPython.core.display.Javascript object>"
            ]
          },
          "metadata": {
            "tags": []
          }
        },
        {
          "output_type": "display_data",
          "data": {
            "application/javascript": [
              "\n",
              "        if (window._pyforest_update_imports_cell) { window._pyforest_update_imports_cell('import numpy as np\\nimport pandas as pd'); }\n",
              "    "
            ],
            "text/plain": [
              "<IPython.core.display.Javascript object>"
            ]
          },
          "metadata": {
            "tags": []
          }
        },
        {
          "output_type": "display_data",
          "data": {
            "application/javascript": [
              "\n",
              "        if (window._pyforest_update_imports_cell) { window._pyforest_update_imports_cell('import numpy as np\\nimport pandas as pd'); }\n",
              "    "
            ],
            "text/plain": [
              "<IPython.core.display.Javascript object>"
            ]
          },
          "metadata": {
            "tags": []
          }
        },
        {
          "output_type": "display_data",
          "data": {
            "application/javascript": [
              "\n",
              "        if (window._pyforest_update_imports_cell) { window._pyforest_update_imports_cell('import numpy as np\\nimport pandas as pd'); }\n",
              "    "
            ],
            "text/plain": [
              "<IPython.core.display.Javascript object>"
            ]
          },
          "metadata": {
            "tags": []
          }
        },
        {
          "output_type": "display_data",
          "data": {
            "application/javascript": [
              "\n",
              "        if (window._pyforest_update_imports_cell) { window._pyforest_update_imports_cell('import numpy as np\\nimport pandas as pd'); }\n",
              "    "
            ],
            "text/plain": [
              "<IPython.core.display.Javascript object>"
            ]
          },
          "metadata": {
            "tags": []
          }
        },
        {
          "output_type": "display_data",
          "data": {
            "application/javascript": [
              "\n",
              "        if (window._pyforest_update_imports_cell) { window._pyforest_update_imports_cell('import numpy as np\\nimport pandas as pd'); }\n",
              "    "
            ],
            "text/plain": [
              "<IPython.core.display.Javascript object>"
            ]
          },
          "metadata": {
            "tags": []
          }
        },
        {
          "output_type": "display_data",
          "data": {
            "application/javascript": [
              "\n",
              "        if (window._pyforest_update_imports_cell) { window._pyforest_update_imports_cell('import numpy as np\\nimport pandas as pd'); }\n",
              "    "
            ],
            "text/plain": [
              "<IPython.core.display.Javascript object>"
            ]
          },
          "metadata": {
            "tags": []
          }
        },
        {
          "output_type": "display_data",
          "data": {
            "application/javascript": [
              "\n",
              "        if (window._pyforest_update_imports_cell) { window._pyforest_update_imports_cell('import numpy as np\\nimport pandas as pd'); }\n",
              "    "
            ],
            "text/plain": [
              "<IPython.core.display.Javascript object>"
            ]
          },
          "metadata": {
            "tags": []
          }
        },
        {
          "output_type": "display_data",
          "data": {
            "application/javascript": [
              "\n",
              "        if (window._pyforest_update_imports_cell) { window._pyforest_update_imports_cell('import numpy as np\\nimport pandas as pd'); }\n",
              "    "
            ],
            "text/plain": [
              "<IPython.core.display.Javascript object>"
            ]
          },
          "metadata": {
            "tags": []
          }
        },
        {
          "output_type": "display_data",
          "data": {
            "application/javascript": [
              "\n",
              "        if (window._pyforest_update_imports_cell) { window._pyforest_update_imports_cell('import numpy as np\\nimport pandas as pd'); }\n",
              "    "
            ],
            "text/plain": [
              "<IPython.core.display.Javascript object>"
            ]
          },
          "metadata": {
            "tags": []
          }
        },
        {
          "output_type": "display_data",
          "data": {
            "application/javascript": [
              "\n",
              "        if (window._pyforest_update_imports_cell) { window._pyforest_update_imports_cell('import numpy as np\\nimport pandas as pd'); }\n",
              "    "
            ],
            "text/plain": [
              "<IPython.core.display.Javascript object>"
            ]
          },
          "metadata": {
            "tags": []
          }
        },
        {
          "output_type": "display_data",
          "data": {
            "application/javascript": [
              "\n",
              "        if (window._pyforest_update_imports_cell) { window._pyforest_update_imports_cell('import numpy as np\\nimport pandas as pd'); }\n",
              "    "
            ],
            "text/plain": [
              "<IPython.core.display.Javascript object>"
            ]
          },
          "metadata": {
            "tags": []
          }
        },
        {
          "output_type": "display_data",
          "data": {
            "application/javascript": [
              "\n",
              "        if (window._pyforest_update_imports_cell) { window._pyforest_update_imports_cell('import numpy as np\\nimport pandas as pd'); }\n",
              "    "
            ],
            "text/plain": [
              "<IPython.core.display.Javascript object>"
            ]
          },
          "metadata": {
            "tags": []
          }
        },
        {
          "output_type": "display_data",
          "data": {
            "application/javascript": [
              "\n",
              "        if (window._pyforest_update_imports_cell) { window._pyforest_update_imports_cell('import numpy as np\\nimport pandas as pd'); }\n",
              "    "
            ],
            "text/plain": [
              "<IPython.core.display.Javascript object>"
            ]
          },
          "metadata": {
            "tags": []
          }
        },
        {
          "output_type": "display_data",
          "data": {
            "application/javascript": [
              "\n",
              "        if (window._pyforest_update_imports_cell) { window._pyforest_update_imports_cell('import numpy as np\\nimport pandas as pd'); }\n",
              "    "
            ],
            "text/plain": [
              "<IPython.core.display.Javascript object>"
            ]
          },
          "metadata": {
            "tags": []
          }
        },
        {
          "output_type": "display_data",
          "data": {
            "application/javascript": [
              "\n",
              "        if (window._pyforest_update_imports_cell) { window._pyforest_update_imports_cell('import numpy as np\\nimport pandas as pd'); }\n",
              "    "
            ],
            "text/plain": [
              "<IPython.core.display.Javascript object>"
            ]
          },
          "metadata": {
            "tags": []
          }
        },
        {
          "output_type": "display_data",
          "data": {
            "application/javascript": [
              "\n",
              "        if (window._pyforest_update_imports_cell) { window._pyforest_update_imports_cell('import numpy as np\\nimport pandas as pd'); }\n",
              "    "
            ],
            "text/plain": [
              "<IPython.core.display.Javascript object>"
            ]
          },
          "metadata": {
            "tags": []
          }
        },
        {
          "output_type": "display_data",
          "data": {
            "application/javascript": [
              "\n",
              "        if (window._pyforest_update_imports_cell) { window._pyforest_update_imports_cell('import numpy as np\\nimport pandas as pd'); }\n",
              "    "
            ],
            "text/plain": [
              "<IPython.core.display.Javascript object>"
            ]
          },
          "metadata": {
            "tags": []
          }
        },
        {
          "output_type": "display_data",
          "data": {
            "application/javascript": [
              "\n",
              "        if (window._pyforest_update_imports_cell) { window._pyforest_update_imports_cell('import numpy as np\\nimport pandas as pd'); }\n",
              "    "
            ],
            "text/plain": [
              "<IPython.core.display.Javascript object>"
            ]
          },
          "metadata": {
            "tags": []
          }
        },
        {
          "output_type": "display_data",
          "data": {
            "application/javascript": [
              "\n",
              "        if (window._pyforest_update_imports_cell) { window._pyforest_update_imports_cell('import numpy as np\\nimport pandas as pd'); }\n",
              "    "
            ],
            "text/plain": [
              "<IPython.core.display.Javascript object>"
            ]
          },
          "metadata": {
            "tags": []
          }
        },
        {
          "output_type": "display_data",
          "data": {
            "application/javascript": [
              "\n",
              "        if (window._pyforest_update_imports_cell) { window._pyforest_update_imports_cell('import numpy as np\\nimport pandas as pd'); }\n",
              "    "
            ],
            "text/plain": [
              "<IPython.core.display.Javascript object>"
            ]
          },
          "metadata": {
            "tags": []
          }
        },
        {
          "output_type": "display_data",
          "data": {
            "application/javascript": [
              "\n",
              "        if (window._pyforest_update_imports_cell) { window._pyforest_update_imports_cell('import numpy as np\\nimport pandas as pd'); }\n",
              "    "
            ],
            "text/plain": [
              "<IPython.core.display.Javascript object>"
            ]
          },
          "metadata": {
            "tags": []
          }
        },
        {
          "output_type": "display_data",
          "data": {
            "application/javascript": [
              "\n",
              "        if (window._pyforest_update_imports_cell) { window._pyforest_update_imports_cell('import numpy as np\\nimport pandas as pd'); }\n",
              "    "
            ],
            "text/plain": [
              "<IPython.core.display.Javascript object>"
            ]
          },
          "metadata": {
            "tags": []
          }
        },
        {
          "output_type": "display_data",
          "data": {
            "application/javascript": [
              "\n",
              "        if (window._pyforest_update_imports_cell) { window._pyforest_update_imports_cell('import numpy as np\\nimport pandas as pd'); }\n",
              "    "
            ],
            "text/plain": [
              "<IPython.core.display.Javascript object>"
            ]
          },
          "metadata": {
            "tags": []
          }
        },
        {
          "output_type": "display_data",
          "data": {
            "application/javascript": [
              "\n",
              "        if (window._pyforest_update_imports_cell) { window._pyforest_update_imports_cell('import numpy as np\\nimport pandas as pd'); }\n",
              "    "
            ],
            "text/plain": [
              "<IPython.core.display.Javascript object>"
            ]
          },
          "metadata": {
            "tags": []
          }
        },
        {
          "output_type": "display_data",
          "data": {
            "application/javascript": [
              "\n",
              "        if (window._pyforest_update_imports_cell) { window._pyforest_update_imports_cell('import numpy as np\\nimport pandas as pd'); }\n",
              "    "
            ],
            "text/plain": [
              "<IPython.core.display.Javascript object>"
            ]
          },
          "metadata": {
            "tags": []
          }
        },
        {
          "output_type": "display_data",
          "data": {
            "application/javascript": [
              "\n",
              "        if (window._pyforest_update_imports_cell) { window._pyforest_update_imports_cell('import numpy as np\\nimport pandas as pd'); }\n",
              "    "
            ],
            "text/plain": [
              "<IPython.core.display.Javascript object>"
            ]
          },
          "metadata": {
            "tags": []
          }
        },
        {
          "output_type": "display_data",
          "data": {
            "application/javascript": [
              "\n",
              "        if (window._pyforest_update_imports_cell) { window._pyforest_update_imports_cell('import numpy as np\\nimport pandas as pd'); }\n",
              "    "
            ],
            "text/plain": [
              "<IPython.core.display.Javascript object>"
            ]
          },
          "metadata": {
            "tags": []
          }
        },
        {
          "output_type": "display_data",
          "data": {
            "application/javascript": [
              "\n",
              "        if (window._pyforest_update_imports_cell) { window._pyforest_update_imports_cell('import numpy as np\\nimport pandas as pd'); }\n",
              "    "
            ],
            "text/plain": [
              "<IPython.core.display.Javascript object>"
            ]
          },
          "metadata": {
            "tags": []
          }
        },
        {
          "output_type": "display_data",
          "data": {
            "application/javascript": [
              "\n",
              "        if (window._pyforest_update_imports_cell) { window._pyforest_update_imports_cell('import numpy as np\\nimport pandas as pd'); }\n",
              "    "
            ],
            "text/plain": [
              "<IPython.core.display.Javascript object>"
            ]
          },
          "metadata": {
            "tags": []
          }
        },
        {
          "output_type": "display_data",
          "data": {
            "application/javascript": [
              "\n",
              "        if (window._pyforest_update_imports_cell) { window._pyforest_update_imports_cell('import numpy as np\\nimport pandas as pd'); }\n",
              "    "
            ],
            "text/plain": [
              "<IPython.core.display.Javascript object>"
            ]
          },
          "metadata": {
            "tags": []
          }
        },
        {
          "output_type": "display_data",
          "data": {
            "application/javascript": [
              "\n",
              "        if (window._pyforest_update_imports_cell) { window._pyforest_update_imports_cell('import numpy as np\\nimport pandas as pd'); }\n",
              "    "
            ],
            "text/plain": [
              "<IPython.core.display.Javascript object>"
            ]
          },
          "metadata": {
            "tags": []
          }
        },
        {
          "output_type": "display_data",
          "data": {
            "application/javascript": [
              "\n",
              "        if (window._pyforest_update_imports_cell) { window._pyforest_update_imports_cell('import numpy as np\\nimport pandas as pd'); }\n",
              "    "
            ],
            "text/plain": [
              "<IPython.core.display.Javascript object>"
            ]
          },
          "metadata": {
            "tags": []
          }
        },
        {
          "output_type": "display_data",
          "data": {
            "application/javascript": [
              "\n",
              "        if (window._pyforest_update_imports_cell) { window._pyforest_update_imports_cell('import numpy as np\\nimport pandas as pd'); }\n",
              "    "
            ],
            "text/plain": [
              "<IPython.core.display.Javascript object>"
            ]
          },
          "metadata": {
            "tags": []
          }
        },
        {
          "output_type": "display_data",
          "data": {
            "application/javascript": [
              "\n",
              "        if (window._pyforest_update_imports_cell) { window._pyforest_update_imports_cell('import numpy as np\\nimport pandas as pd'); }\n",
              "    "
            ],
            "text/plain": [
              "<IPython.core.display.Javascript object>"
            ]
          },
          "metadata": {
            "tags": []
          }
        },
        {
          "output_type": "display_data",
          "data": {
            "application/javascript": [
              "\n",
              "        if (window._pyforest_update_imports_cell) { window._pyforest_update_imports_cell('import numpy as np\\nimport pandas as pd'); }\n",
              "    "
            ],
            "text/plain": [
              "<IPython.core.display.Javascript object>"
            ]
          },
          "metadata": {
            "tags": []
          }
        },
        {
          "output_type": "display_data",
          "data": {
            "application/javascript": [
              "\n",
              "        if (window._pyforest_update_imports_cell) { window._pyforest_update_imports_cell('import numpy as np\\nimport pandas as pd'); }\n",
              "    "
            ],
            "text/plain": [
              "<IPython.core.display.Javascript object>"
            ]
          },
          "metadata": {
            "tags": []
          }
        },
        {
          "output_type": "display_data",
          "data": {
            "application/javascript": [
              "\n",
              "        if (window._pyforest_update_imports_cell) { window._pyforest_update_imports_cell('import numpy as np\\nimport pandas as pd'); }\n",
              "    "
            ],
            "text/plain": [
              "<IPython.core.display.Javascript object>"
            ]
          },
          "metadata": {
            "tags": []
          }
        },
        {
          "output_type": "display_data",
          "data": {
            "application/javascript": [
              "\n",
              "        if (window._pyforest_update_imports_cell) { window._pyforest_update_imports_cell('import numpy as np\\nimport pandas as pd'); }\n",
              "    "
            ],
            "text/plain": [
              "<IPython.core.display.Javascript object>"
            ]
          },
          "metadata": {
            "tags": []
          }
        },
        {
          "output_type": "display_data",
          "data": {
            "application/javascript": [
              "\n",
              "        if (window._pyforest_update_imports_cell) { window._pyforest_update_imports_cell('import numpy as np\\nimport pandas as pd'); }\n",
              "    "
            ],
            "text/plain": [
              "<IPython.core.display.Javascript object>"
            ]
          },
          "metadata": {
            "tags": []
          }
        },
        {
          "output_type": "display_data",
          "data": {
            "application/javascript": [
              "\n",
              "        if (window._pyforest_update_imports_cell) { window._pyforest_update_imports_cell('import numpy as np\\nimport pandas as pd'); }\n",
              "    "
            ],
            "text/plain": [
              "<IPython.core.display.Javascript object>"
            ]
          },
          "metadata": {
            "tags": []
          }
        },
        {
          "output_type": "display_data",
          "data": {
            "application/javascript": [
              "\n",
              "        if (window._pyforest_update_imports_cell) { window._pyforest_update_imports_cell('import numpy as np\\nimport pandas as pd'); }\n",
              "    "
            ],
            "text/plain": [
              "<IPython.core.display.Javascript object>"
            ]
          },
          "metadata": {
            "tags": []
          }
        },
        {
          "output_type": "display_data",
          "data": {
            "application/javascript": [
              "\n",
              "        if (window._pyforest_update_imports_cell) { window._pyforest_update_imports_cell('import numpy as np\\nimport pandas as pd'); }\n",
              "    "
            ],
            "text/plain": [
              "<IPython.core.display.Javascript object>"
            ]
          },
          "metadata": {
            "tags": []
          }
        },
        {
          "output_type": "display_data",
          "data": {
            "application/javascript": [
              "\n",
              "        if (window._pyforest_update_imports_cell) { window._pyforest_update_imports_cell('import numpy as np\\nimport pandas as pd'); }\n",
              "    "
            ],
            "text/plain": [
              "<IPython.core.display.Javascript object>"
            ]
          },
          "metadata": {
            "tags": []
          }
        },
        {
          "output_type": "display_data",
          "data": {
            "application/javascript": [
              "\n",
              "        if (window._pyforest_update_imports_cell) { window._pyforest_update_imports_cell('import numpy as np\\nimport pandas as pd'); }\n",
              "    "
            ],
            "text/plain": [
              "<IPython.core.display.Javascript object>"
            ]
          },
          "metadata": {
            "tags": []
          }
        },
        {
          "output_type": "display_data",
          "data": {
            "application/javascript": [
              "\n",
              "        if (window._pyforest_update_imports_cell) { window._pyforest_update_imports_cell('import numpy as np\\nimport pandas as pd'); }\n",
              "    "
            ],
            "text/plain": [
              "<IPython.core.display.Javascript object>"
            ]
          },
          "metadata": {
            "tags": []
          }
        },
        {
          "output_type": "display_data",
          "data": {
            "application/javascript": [
              "\n",
              "        if (window._pyforest_update_imports_cell) { window._pyforest_update_imports_cell('import numpy as np\\nimport pandas as pd'); }\n",
              "    "
            ],
            "text/plain": [
              "<IPython.core.display.Javascript object>"
            ]
          },
          "metadata": {
            "tags": []
          }
        },
        {
          "output_type": "display_data",
          "data": {
            "application/javascript": [
              "\n",
              "        if (window._pyforest_update_imports_cell) { window._pyforest_update_imports_cell('import numpy as np\\nimport pandas as pd'); }\n",
              "    "
            ],
            "text/plain": [
              "<IPython.core.display.Javascript object>"
            ]
          },
          "metadata": {
            "tags": []
          }
        },
        {
          "output_type": "display_data",
          "data": {
            "application/javascript": [
              "\n",
              "        if (window._pyforest_update_imports_cell) { window._pyforest_update_imports_cell('import numpy as np\\nimport pandas as pd'); }\n",
              "    "
            ],
            "text/plain": [
              "<IPython.core.display.Javascript object>"
            ]
          },
          "metadata": {
            "tags": []
          }
        },
        {
          "output_type": "display_data",
          "data": {
            "application/javascript": [
              "\n",
              "        if (window._pyforest_update_imports_cell) { window._pyforest_update_imports_cell('import numpy as np\\nimport pandas as pd'); }\n",
              "    "
            ],
            "text/plain": [
              "<IPython.core.display.Javascript object>"
            ]
          },
          "metadata": {
            "tags": []
          }
        },
        {
          "output_type": "display_data",
          "data": {
            "application/javascript": [
              "\n",
              "        if (window._pyforest_update_imports_cell) { window._pyforest_update_imports_cell('import numpy as np\\nimport pandas as pd'); }\n",
              "    "
            ],
            "text/plain": [
              "<IPython.core.display.Javascript object>"
            ]
          },
          "metadata": {
            "tags": []
          }
        },
        {
          "output_type": "display_data",
          "data": {
            "application/javascript": [
              "\n",
              "        if (window._pyforest_update_imports_cell) { window._pyforest_update_imports_cell('import numpy as np\\nimport pandas as pd'); }\n",
              "    "
            ],
            "text/plain": [
              "<IPython.core.display.Javascript object>"
            ]
          },
          "metadata": {
            "tags": []
          }
        },
        {
          "output_type": "display_data",
          "data": {
            "application/javascript": [
              "\n",
              "        if (window._pyforest_update_imports_cell) { window._pyforest_update_imports_cell('import numpy as np\\nimport pandas as pd'); }\n",
              "    "
            ],
            "text/plain": [
              "<IPython.core.display.Javascript object>"
            ]
          },
          "metadata": {
            "tags": []
          }
        },
        {
          "output_type": "display_data",
          "data": {
            "application/javascript": [
              "\n",
              "        if (window._pyforest_update_imports_cell) { window._pyforest_update_imports_cell('import numpy as np\\nimport pandas as pd'); }\n",
              "    "
            ],
            "text/plain": [
              "<IPython.core.display.Javascript object>"
            ]
          },
          "metadata": {
            "tags": []
          }
        },
        {
          "output_type": "display_data",
          "data": {
            "application/javascript": [
              "\n",
              "        if (window._pyforest_update_imports_cell) { window._pyforest_update_imports_cell('import numpy as np\\nimport pandas as pd'); }\n",
              "    "
            ],
            "text/plain": [
              "<IPython.core.display.Javascript object>"
            ]
          },
          "metadata": {
            "tags": []
          }
        },
        {
          "output_type": "display_data",
          "data": {
            "application/javascript": [
              "\n",
              "        if (window._pyforest_update_imports_cell) { window._pyforest_update_imports_cell('import numpy as np\\nimport pandas as pd'); }\n",
              "    "
            ],
            "text/plain": [
              "<IPython.core.display.Javascript object>"
            ]
          },
          "metadata": {
            "tags": []
          }
        },
        {
          "output_type": "display_data",
          "data": {
            "application/javascript": [
              "\n",
              "        if (window._pyforest_update_imports_cell) { window._pyforest_update_imports_cell('import numpy as np\\nimport pandas as pd'); }\n",
              "    "
            ],
            "text/plain": [
              "<IPython.core.display.Javascript object>"
            ]
          },
          "metadata": {
            "tags": []
          }
        },
        {
          "output_type": "display_data",
          "data": {
            "application/javascript": [
              "\n",
              "        if (window._pyforest_update_imports_cell) { window._pyforest_update_imports_cell('import numpy as np\\nimport pandas as pd'); }\n",
              "    "
            ],
            "text/plain": [
              "<IPython.core.display.Javascript object>"
            ]
          },
          "metadata": {
            "tags": []
          }
        },
        {
          "output_type": "display_data",
          "data": {
            "application/javascript": [
              "\n",
              "        if (window._pyforest_update_imports_cell) { window._pyforest_update_imports_cell('import numpy as np\\nimport pandas as pd'); }\n",
              "    "
            ],
            "text/plain": [
              "<IPython.core.display.Javascript object>"
            ]
          },
          "metadata": {
            "tags": []
          }
        },
        {
          "output_type": "display_data",
          "data": {
            "application/javascript": [
              "\n",
              "        if (window._pyforest_update_imports_cell) { window._pyforest_update_imports_cell('import numpy as np\\nimport pandas as pd'); }\n",
              "    "
            ],
            "text/plain": [
              "<IPython.core.display.Javascript object>"
            ]
          },
          "metadata": {
            "tags": []
          }
        },
        {
          "output_type": "display_data",
          "data": {
            "application/javascript": [
              "\n",
              "        if (window._pyforest_update_imports_cell) { window._pyforest_update_imports_cell('import numpy as np\\nimport pandas as pd'); }\n",
              "    "
            ],
            "text/plain": [
              "<IPython.core.display.Javascript object>"
            ]
          },
          "metadata": {
            "tags": []
          }
        },
        {
          "output_type": "display_data",
          "data": {
            "application/javascript": [
              "\n",
              "        if (window._pyforest_update_imports_cell) { window._pyforest_update_imports_cell('import numpy as np\\nimport pandas as pd'); }\n",
              "    "
            ],
            "text/plain": [
              "<IPython.core.display.Javascript object>"
            ]
          },
          "metadata": {
            "tags": []
          }
        },
        {
          "output_type": "display_data",
          "data": {
            "application/javascript": [
              "\n",
              "        if (window._pyforest_update_imports_cell) { window._pyforest_update_imports_cell('import numpy as np\\nimport pandas as pd'); }\n",
              "    "
            ],
            "text/plain": [
              "<IPython.core.display.Javascript object>"
            ]
          },
          "metadata": {
            "tags": []
          }
        },
        {
          "output_type": "display_data",
          "data": {
            "application/javascript": [
              "\n",
              "        if (window._pyforest_update_imports_cell) { window._pyforest_update_imports_cell('import numpy as np\\nimport pandas as pd'); }\n",
              "    "
            ],
            "text/plain": [
              "<IPython.core.display.Javascript object>"
            ]
          },
          "metadata": {
            "tags": []
          }
        },
        {
          "output_type": "display_data",
          "data": {
            "application/javascript": [
              "\n",
              "        if (window._pyforest_update_imports_cell) { window._pyforest_update_imports_cell('import numpy as np\\nimport pandas as pd'); }\n",
              "    "
            ],
            "text/plain": [
              "<IPython.core.display.Javascript object>"
            ]
          },
          "metadata": {
            "tags": []
          }
        },
        {
          "output_type": "display_data",
          "data": {
            "application/javascript": [
              "\n",
              "        if (window._pyforest_update_imports_cell) { window._pyforest_update_imports_cell('import numpy as np\\nimport pandas as pd'); }\n",
              "    "
            ],
            "text/plain": [
              "<IPython.core.display.Javascript object>"
            ]
          },
          "metadata": {
            "tags": []
          }
        },
        {
          "output_type": "display_data",
          "data": {
            "application/javascript": [
              "\n",
              "        if (window._pyforest_update_imports_cell) { window._pyforest_update_imports_cell('import numpy as np\\nimport pandas as pd'); }\n",
              "    "
            ],
            "text/plain": [
              "<IPython.core.display.Javascript object>"
            ]
          },
          "metadata": {
            "tags": []
          }
        },
        {
          "output_type": "display_data",
          "data": {
            "application/javascript": [
              "\n",
              "        if (window._pyforest_update_imports_cell) { window._pyforest_update_imports_cell('import numpy as np\\nimport pandas as pd'); }\n",
              "    "
            ],
            "text/plain": [
              "<IPython.core.display.Javascript object>"
            ]
          },
          "metadata": {
            "tags": []
          }
        },
        {
          "output_type": "display_data",
          "data": {
            "application/javascript": [
              "\n",
              "        if (window._pyforest_update_imports_cell) { window._pyforest_update_imports_cell('import numpy as np\\nimport pandas as pd'); }\n",
              "    "
            ],
            "text/plain": [
              "<IPython.core.display.Javascript object>"
            ]
          },
          "metadata": {
            "tags": []
          }
        },
        {
          "output_type": "display_data",
          "data": {
            "application/javascript": [
              "\n",
              "        if (window._pyforest_update_imports_cell) { window._pyforest_update_imports_cell('import numpy as np\\nimport pandas as pd'); }\n",
              "    "
            ],
            "text/plain": [
              "<IPython.core.display.Javascript object>"
            ]
          },
          "metadata": {
            "tags": []
          }
        },
        {
          "output_type": "display_data",
          "data": {
            "application/javascript": [
              "\n",
              "        if (window._pyforest_update_imports_cell) { window._pyforest_update_imports_cell('import numpy as np\\nimport pandas as pd'); }\n",
              "    "
            ],
            "text/plain": [
              "<IPython.core.display.Javascript object>"
            ]
          },
          "metadata": {
            "tags": []
          }
        },
        {
          "output_type": "display_data",
          "data": {
            "application/javascript": [
              "\n",
              "        if (window._pyforest_update_imports_cell) { window._pyforest_update_imports_cell('import numpy as np\\nimport pandas as pd'); }\n",
              "    "
            ],
            "text/plain": [
              "<IPython.core.display.Javascript object>"
            ]
          },
          "metadata": {
            "tags": []
          }
        },
        {
          "output_type": "display_data",
          "data": {
            "application/javascript": [
              "\n",
              "        if (window._pyforest_update_imports_cell) { window._pyforest_update_imports_cell('import numpy as np\\nimport pandas as pd'); }\n",
              "    "
            ],
            "text/plain": [
              "<IPython.core.display.Javascript object>"
            ]
          },
          "metadata": {
            "tags": []
          }
        },
        {
          "output_type": "display_data",
          "data": {
            "application/javascript": [
              "\n",
              "        if (window._pyforest_update_imports_cell) { window._pyforest_update_imports_cell('import numpy as np\\nimport pandas as pd'); }\n",
              "    "
            ],
            "text/plain": [
              "<IPython.core.display.Javascript object>"
            ]
          },
          "metadata": {
            "tags": []
          }
        },
        {
          "output_type": "display_data",
          "data": {
            "application/javascript": [
              "\n",
              "        if (window._pyforest_update_imports_cell) { window._pyforest_update_imports_cell('import numpy as np\\nimport pandas as pd'); }\n",
              "    "
            ],
            "text/plain": [
              "<IPython.core.display.Javascript object>"
            ]
          },
          "metadata": {
            "tags": []
          }
        },
        {
          "output_type": "display_data",
          "data": {
            "application/javascript": [
              "\n",
              "        if (window._pyforest_update_imports_cell) { window._pyforest_update_imports_cell('import numpy as np\\nimport pandas as pd'); }\n",
              "    "
            ],
            "text/plain": [
              "<IPython.core.display.Javascript object>"
            ]
          },
          "metadata": {
            "tags": []
          }
        },
        {
          "output_type": "display_data",
          "data": {
            "application/javascript": [
              "\n",
              "        if (window._pyforest_update_imports_cell) { window._pyforest_update_imports_cell('import numpy as np\\nimport pandas as pd'); }\n",
              "    "
            ],
            "text/plain": [
              "<IPython.core.display.Javascript object>"
            ]
          },
          "metadata": {
            "tags": []
          }
        },
        {
          "output_type": "display_data",
          "data": {
            "application/javascript": [
              "\n",
              "        if (window._pyforest_update_imports_cell) { window._pyforest_update_imports_cell('import numpy as np\\nimport pandas as pd'); }\n",
              "    "
            ],
            "text/plain": [
              "<IPython.core.display.Javascript object>"
            ]
          },
          "metadata": {
            "tags": []
          }
        },
        {
          "output_type": "display_data",
          "data": {
            "application/javascript": [
              "\n",
              "        if (window._pyforest_update_imports_cell) { window._pyforest_update_imports_cell('import numpy as np\\nimport pandas as pd'); }\n",
              "    "
            ],
            "text/plain": [
              "<IPython.core.display.Javascript object>"
            ]
          },
          "metadata": {
            "tags": []
          }
        },
        {
          "output_type": "display_data",
          "data": {
            "application/javascript": [
              "\n",
              "        if (window._pyforest_update_imports_cell) { window._pyforest_update_imports_cell('import numpy as np\\nimport pandas as pd'); }\n",
              "    "
            ],
            "text/plain": [
              "<IPython.core.display.Javascript object>"
            ]
          },
          "metadata": {
            "tags": []
          }
        },
        {
          "output_type": "display_data",
          "data": {
            "application/javascript": [
              "\n",
              "        if (window._pyforest_update_imports_cell) { window._pyforest_update_imports_cell('import numpy as np\\nimport pandas as pd'); }\n",
              "    "
            ],
            "text/plain": [
              "<IPython.core.display.Javascript object>"
            ]
          },
          "metadata": {
            "tags": []
          }
        },
        {
          "output_type": "display_data",
          "data": {
            "application/javascript": [
              "\n",
              "        if (window._pyforest_update_imports_cell) { window._pyforest_update_imports_cell('import numpy as np\\nimport pandas as pd'); }\n",
              "    "
            ],
            "text/plain": [
              "<IPython.core.display.Javascript object>"
            ]
          },
          "metadata": {
            "tags": []
          }
        },
        {
          "output_type": "display_data",
          "data": {
            "application/javascript": [
              "\n",
              "        if (window._pyforest_update_imports_cell) { window._pyforest_update_imports_cell('import numpy as np\\nimport pandas as pd'); }\n",
              "    "
            ],
            "text/plain": [
              "<IPython.core.display.Javascript object>"
            ]
          },
          "metadata": {
            "tags": []
          }
        },
        {
          "output_type": "display_data",
          "data": {
            "application/javascript": [
              "\n",
              "        if (window._pyforest_update_imports_cell) { window._pyforest_update_imports_cell('import numpy as np\\nimport pandas as pd'); }\n",
              "    "
            ],
            "text/plain": [
              "<IPython.core.display.Javascript object>"
            ]
          },
          "metadata": {
            "tags": []
          }
        },
        {
          "output_type": "display_data",
          "data": {
            "application/javascript": [
              "\n",
              "        if (window._pyforest_update_imports_cell) { window._pyforest_update_imports_cell('import numpy as np\\nimport pandas as pd'); }\n",
              "    "
            ],
            "text/plain": [
              "<IPython.core.display.Javascript object>"
            ]
          },
          "metadata": {
            "tags": []
          }
        },
        {
          "output_type": "display_data",
          "data": {
            "application/javascript": [
              "\n",
              "        if (window._pyforest_update_imports_cell) { window._pyforest_update_imports_cell('import numpy as np\\nimport pandas as pd'); }\n",
              "    "
            ],
            "text/plain": [
              "<IPython.core.display.Javascript object>"
            ]
          },
          "metadata": {
            "tags": []
          }
        },
        {
          "output_type": "display_data",
          "data": {
            "application/javascript": [
              "\n",
              "        if (window._pyforest_update_imports_cell) { window._pyforest_update_imports_cell('import numpy as np\\nimport pandas as pd'); }\n",
              "    "
            ],
            "text/plain": [
              "<IPython.core.display.Javascript object>"
            ]
          },
          "metadata": {
            "tags": []
          }
        },
        {
          "output_type": "display_data",
          "data": {
            "application/javascript": [
              "\n",
              "        if (window._pyforest_update_imports_cell) { window._pyforest_update_imports_cell('import numpy as np\\nimport pandas as pd'); }\n",
              "    "
            ],
            "text/plain": [
              "<IPython.core.display.Javascript object>"
            ]
          },
          "metadata": {
            "tags": []
          }
        },
        {
          "output_type": "display_data",
          "data": {
            "application/javascript": [
              "\n",
              "        if (window._pyforest_update_imports_cell) { window._pyforest_update_imports_cell('import numpy as np\\nimport pandas as pd'); }\n",
              "    "
            ],
            "text/plain": [
              "<IPython.core.display.Javascript object>"
            ]
          },
          "metadata": {
            "tags": []
          }
        },
        {
          "output_type": "display_data",
          "data": {
            "application/javascript": [
              "\n",
              "        if (window._pyforest_update_imports_cell) { window._pyforest_update_imports_cell('import numpy as np\\nimport pandas as pd'); }\n",
              "    "
            ],
            "text/plain": [
              "<IPython.core.display.Javascript object>"
            ]
          },
          "metadata": {
            "tags": []
          }
        },
        {
          "output_type": "display_data",
          "data": {
            "application/javascript": [
              "\n",
              "        if (window._pyforest_update_imports_cell) { window._pyforest_update_imports_cell('import numpy as np\\nimport pandas as pd'); }\n",
              "    "
            ],
            "text/plain": [
              "<IPython.core.display.Javascript object>"
            ]
          },
          "metadata": {
            "tags": []
          }
        },
        {
          "output_type": "display_data",
          "data": {
            "application/javascript": [
              "\n",
              "        if (window._pyforest_update_imports_cell) { window._pyforest_update_imports_cell('import numpy as np\\nimport pandas as pd'); }\n",
              "    "
            ],
            "text/plain": [
              "<IPython.core.display.Javascript object>"
            ]
          },
          "metadata": {
            "tags": []
          }
        },
        {
          "output_type": "display_data",
          "data": {
            "application/javascript": [
              "\n",
              "        if (window._pyforest_update_imports_cell) { window._pyforest_update_imports_cell('import numpy as np\\nimport pandas as pd'); }\n",
              "    "
            ],
            "text/plain": [
              "<IPython.core.display.Javascript object>"
            ]
          },
          "metadata": {
            "tags": []
          }
        },
        {
          "output_type": "display_data",
          "data": {
            "application/javascript": [
              "\n",
              "        if (window._pyforest_update_imports_cell) { window._pyforest_update_imports_cell('import numpy as np\\nimport pandas as pd'); }\n",
              "    "
            ],
            "text/plain": [
              "<IPython.core.display.Javascript object>"
            ]
          },
          "metadata": {
            "tags": []
          }
        },
        {
          "output_type": "display_data",
          "data": {
            "application/javascript": [
              "\n",
              "        if (window._pyforest_update_imports_cell) { window._pyforest_update_imports_cell('import numpy as np\\nimport pandas as pd'); }\n",
              "    "
            ],
            "text/plain": [
              "<IPython.core.display.Javascript object>"
            ]
          },
          "metadata": {
            "tags": []
          }
        },
        {
          "output_type": "display_data",
          "data": {
            "application/javascript": [
              "\n",
              "        if (window._pyforest_update_imports_cell) { window._pyforest_update_imports_cell('import numpy as np\\nimport pandas as pd'); }\n",
              "    "
            ],
            "text/plain": [
              "<IPython.core.display.Javascript object>"
            ]
          },
          "metadata": {
            "tags": []
          }
        },
        {
          "output_type": "display_data",
          "data": {
            "application/javascript": [
              "\n",
              "        if (window._pyforest_update_imports_cell) { window._pyforest_update_imports_cell('import numpy as np\\nimport pandas as pd'); }\n",
              "    "
            ],
            "text/plain": [
              "<IPython.core.display.Javascript object>"
            ]
          },
          "metadata": {
            "tags": []
          }
        },
        {
          "output_type": "display_data",
          "data": {
            "application/javascript": [
              "\n",
              "        if (window._pyforest_update_imports_cell) { window._pyforest_update_imports_cell('import numpy as np\\nimport pandas as pd'); }\n",
              "    "
            ],
            "text/plain": [
              "<IPython.core.display.Javascript object>"
            ]
          },
          "metadata": {
            "tags": []
          }
        },
        {
          "output_type": "display_data",
          "data": {
            "application/javascript": [
              "\n",
              "        if (window._pyforest_update_imports_cell) { window._pyforest_update_imports_cell('import numpy as np\\nimport pandas as pd'); }\n",
              "    "
            ],
            "text/plain": [
              "<IPython.core.display.Javascript object>"
            ]
          },
          "metadata": {
            "tags": []
          }
        },
        {
          "output_type": "display_data",
          "data": {
            "application/javascript": [
              "\n",
              "        if (window._pyforest_update_imports_cell) { window._pyforest_update_imports_cell('import numpy as np\\nimport pandas as pd'); }\n",
              "    "
            ],
            "text/plain": [
              "<IPython.core.display.Javascript object>"
            ]
          },
          "metadata": {
            "tags": []
          }
        },
        {
          "output_type": "display_data",
          "data": {
            "application/javascript": [
              "\n",
              "        if (window._pyforest_update_imports_cell) { window._pyforest_update_imports_cell('import numpy as np\\nimport pandas as pd'); }\n",
              "    "
            ],
            "text/plain": [
              "<IPython.core.display.Javascript object>"
            ]
          },
          "metadata": {
            "tags": []
          }
        },
        {
          "output_type": "display_data",
          "data": {
            "application/javascript": [
              "\n",
              "        if (window._pyforest_update_imports_cell) { window._pyforest_update_imports_cell('import numpy as np\\nimport pandas as pd'); }\n",
              "    "
            ],
            "text/plain": [
              "<IPython.core.display.Javascript object>"
            ]
          },
          "metadata": {
            "tags": []
          }
        },
        {
          "output_type": "display_data",
          "data": {
            "application/javascript": [
              "\n",
              "        if (window._pyforest_update_imports_cell) { window._pyforest_update_imports_cell('import numpy as np\\nimport pandas as pd'); }\n",
              "    "
            ],
            "text/plain": [
              "<IPython.core.display.Javascript object>"
            ]
          },
          "metadata": {
            "tags": []
          }
        },
        {
          "output_type": "display_data",
          "data": {
            "application/javascript": [
              "\n",
              "        if (window._pyforest_update_imports_cell) { window._pyforest_update_imports_cell('import numpy as np\\nimport pandas as pd'); }\n",
              "    "
            ],
            "text/plain": [
              "<IPython.core.display.Javascript object>"
            ]
          },
          "metadata": {
            "tags": []
          }
        },
        {
          "output_type": "display_data",
          "data": {
            "application/javascript": [
              "\n",
              "        if (window._pyforest_update_imports_cell) { window._pyforest_update_imports_cell('import numpy as np\\nimport pandas as pd'); }\n",
              "    "
            ],
            "text/plain": [
              "<IPython.core.display.Javascript object>"
            ]
          },
          "metadata": {
            "tags": []
          }
        },
        {
          "output_type": "display_data",
          "data": {
            "application/javascript": [
              "\n",
              "        if (window._pyforest_update_imports_cell) { window._pyforest_update_imports_cell('import numpy as np\\nimport pandas as pd'); }\n",
              "    "
            ],
            "text/plain": [
              "<IPython.core.display.Javascript object>"
            ]
          },
          "metadata": {
            "tags": []
          }
        },
        {
          "output_type": "display_data",
          "data": {
            "application/javascript": [
              "\n",
              "        if (window._pyforest_update_imports_cell) { window._pyforest_update_imports_cell('import numpy as np\\nimport pandas as pd'); }\n",
              "    "
            ],
            "text/plain": [
              "<IPython.core.display.Javascript object>"
            ]
          },
          "metadata": {
            "tags": []
          }
        },
        {
          "output_type": "display_data",
          "data": {
            "application/javascript": [
              "\n",
              "        if (window._pyforest_update_imports_cell) { window._pyforest_update_imports_cell('import numpy as np\\nimport pandas as pd'); }\n",
              "    "
            ],
            "text/plain": [
              "<IPython.core.display.Javascript object>"
            ]
          },
          "metadata": {
            "tags": []
          }
        },
        {
          "output_type": "display_data",
          "data": {
            "application/javascript": [
              "\n",
              "        if (window._pyforest_update_imports_cell) { window._pyforest_update_imports_cell('import numpy as np\\nimport pandas as pd'); }\n",
              "    "
            ],
            "text/plain": [
              "<IPython.core.display.Javascript object>"
            ]
          },
          "metadata": {
            "tags": []
          }
        },
        {
          "output_type": "display_data",
          "data": {
            "application/javascript": [
              "\n",
              "        if (window._pyforest_update_imports_cell) { window._pyforest_update_imports_cell('import numpy as np\\nimport pandas as pd'); }\n",
              "    "
            ],
            "text/plain": [
              "<IPython.core.display.Javascript object>"
            ]
          },
          "metadata": {
            "tags": []
          }
        },
        {
          "output_type": "display_data",
          "data": {
            "application/javascript": [
              "\n",
              "        if (window._pyforest_update_imports_cell) { window._pyforest_update_imports_cell('import numpy as np\\nimport pandas as pd'); }\n",
              "    "
            ],
            "text/plain": [
              "<IPython.core.display.Javascript object>"
            ]
          },
          "metadata": {
            "tags": []
          }
        },
        {
          "output_type": "display_data",
          "data": {
            "application/javascript": [
              "\n",
              "        if (window._pyforest_update_imports_cell) { window._pyforest_update_imports_cell('import numpy as np\\nimport pandas as pd'); }\n",
              "    "
            ],
            "text/plain": [
              "<IPython.core.display.Javascript object>"
            ]
          },
          "metadata": {
            "tags": []
          }
        },
        {
          "output_type": "display_data",
          "data": {
            "application/javascript": [
              "\n",
              "        if (window._pyforest_update_imports_cell) { window._pyforest_update_imports_cell('import numpy as np\\nimport pandas as pd'); }\n",
              "    "
            ],
            "text/plain": [
              "<IPython.core.display.Javascript object>"
            ]
          },
          "metadata": {
            "tags": []
          }
        },
        {
          "output_type": "display_data",
          "data": {
            "application/javascript": [
              "\n",
              "        if (window._pyforest_update_imports_cell) { window._pyforest_update_imports_cell('import numpy as np\\nimport pandas as pd'); }\n",
              "    "
            ],
            "text/plain": [
              "<IPython.core.display.Javascript object>"
            ]
          },
          "metadata": {
            "tags": []
          }
        },
        {
          "output_type": "display_data",
          "data": {
            "application/javascript": [
              "\n",
              "        if (window._pyforest_update_imports_cell) { window._pyforest_update_imports_cell('import numpy as np\\nimport pandas as pd'); }\n",
              "    "
            ],
            "text/plain": [
              "<IPython.core.display.Javascript object>"
            ]
          },
          "metadata": {
            "tags": []
          }
        },
        {
          "output_type": "display_data",
          "data": {
            "application/javascript": [
              "\n",
              "        if (window._pyforest_update_imports_cell) { window._pyforest_update_imports_cell('import numpy as np\\nimport pandas as pd'); }\n",
              "    "
            ],
            "text/plain": [
              "<IPython.core.display.Javascript object>"
            ]
          },
          "metadata": {
            "tags": []
          }
        },
        {
          "output_type": "display_data",
          "data": {
            "application/javascript": [
              "\n",
              "        if (window._pyforest_update_imports_cell) { window._pyforest_update_imports_cell('import numpy as np\\nimport pandas as pd'); }\n",
              "    "
            ],
            "text/plain": [
              "<IPython.core.display.Javascript object>"
            ]
          },
          "metadata": {
            "tags": []
          }
        },
        {
          "output_type": "display_data",
          "data": {
            "application/javascript": [
              "\n",
              "        if (window._pyforest_update_imports_cell) { window._pyforest_update_imports_cell('import numpy as np\\nimport pandas as pd'); }\n",
              "    "
            ],
            "text/plain": [
              "<IPython.core.display.Javascript object>"
            ]
          },
          "metadata": {
            "tags": []
          }
        },
        {
          "output_type": "display_data",
          "data": {
            "application/javascript": [
              "\n",
              "        if (window._pyforest_update_imports_cell) { window._pyforest_update_imports_cell('import numpy as np\\nimport pandas as pd'); }\n",
              "    "
            ],
            "text/plain": [
              "<IPython.core.display.Javascript object>"
            ]
          },
          "metadata": {
            "tags": []
          }
        },
        {
          "output_type": "display_data",
          "data": {
            "application/javascript": [
              "\n",
              "        if (window._pyforest_update_imports_cell) { window._pyforest_update_imports_cell('import numpy as np\\nimport pandas as pd'); }\n",
              "    "
            ],
            "text/plain": [
              "<IPython.core.display.Javascript object>"
            ]
          },
          "metadata": {
            "tags": []
          }
        },
        {
          "output_type": "display_data",
          "data": {
            "application/javascript": [
              "\n",
              "        if (window._pyforest_update_imports_cell) { window._pyforest_update_imports_cell('import numpy as np\\nimport pandas as pd'); }\n",
              "    "
            ],
            "text/plain": [
              "<IPython.core.display.Javascript object>"
            ]
          },
          "metadata": {
            "tags": []
          }
        },
        {
          "output_type": "display_data",
          "data": {
            "application/javascript": [
              "\n",
              "        if (window._pyforest_update_imports_cell) { window._pyforest_update_imports_cell('import numpy as np\\nimport pandas as pd'); }\n",
              "    "
            ],
            "text/plain": [
              "<IPython.core.display.Javascript object>"
            ]
          },
          "metadata": {
            "tags": []
          }
        },
        {
          "output_type": "display_data",
          "data": {
            "application/javascript": [
              "\n",
              "        if (window._pyforest_update_imports_cell) { window._pyforest_update_imports_cell('import numpy as np\\nimport pandas as pd'); }\n",
              "    "
            ],
            "text/plain": [
              "<IPython.core.display.Javascript object>"
            ]
          },
          "metadata": {
            "tags": []
          }
        },
        {
          "output_type": "display_data",
          "data": {
            "application/javascript": [
              "\n",
              "        if (window._pyforest_update_imports_cell) { window._pyforest_update_imports_cell('import numpy as np\\nimport pandas as pd'); }\n",
              "    "
            ],
            "text/plain": [
              "<IPython.core.display.Javascript object>"
            ]
          },
          "metadata": {
            "tags": []
          }
        },
        {
          "output_type": "display_data",
          "data": {
            "application/javascript": [
              "\n",
              "        if (window._pyforest_update_imports_cell) { window._pyforest_update_imports_cell('import numpy as np\\nimport pandas as pd'); }\n",
              "    "
            ],
            "text/plain": [
              "<IPython.core.display.Javascript object>"
            ]
          },
          "metadata": {
            "tags": []
          }
        },
        {
          "output_type": "display_data",
          "data": {
            "application/javascript": [
              "\n",
              "        if (window._pyforest_update_imports_cell) { window._pyforest_update_imports_cell('import numpy as np\\nimport pandas as pd'); }\n",
              "    "
            ],
            "text/plain": [
              "<IPython.core.display.Javascript object>"
            ]
          },
          "metadata": {
            "tags": []
          }
        },
        {
          "output_type": "display_data",
          "data": {
            "application/javascript": [
              "\n",
              "        if (window._pyforest_update_imports_cell) { window._pyforest_update_imports_cell('import numpy as np\\nimport pandas as pd'); }\n",
              "    "
            ],
            "text/plain": [
              "<IPython.core.display.Javascript object>"
            ]
          },
          "metadata": {
            "tags": []
          }
        },
        {
          "output_type": "display_data",
          "data": {
            "application/javascript": [
              "\n",
              "        if (window._pyforest_update_imports_cell) { window._pyforest_update_imports_cell('import numpy as np\\nimport pandas as pd'); }\n",
              "    "
            ],
            "text/plain": [
              "<IPython.core.display.Javascript object>"
            ]
          },
          "metadata": {
            "tags": []
          }
        },
        {
          "output_type": "display_data",
          "data": {
            "application/javascript": [
              "\n",
              "        if (window._pyforest_update_imports_cell) { window._pyforest_update_imports_cell('import numpy as np\\nimport pandas as pd'); }\n",
              "    "
            ],
            "text/plain": [
              "<IPython.core.display.Javascript object>"
            ]
          },
          "metadata": {
            "tags": []
          }
        },
        {
          "output_type": "display_data",
          "data": {
            "application/javascript": [
              "\n",
              "        if (window._pyforest_update_imports_cell) { window._pyforest_update_imports_cell('import numpy as np\\nimport pandas as pd'); }\n",
              "    "
            ],
            "text/plain": [
              "<IPython.core.display.Javascript object>"
            ]
          },
          "metadata": {
            "tags": []
          }
        },
        {
          "output_type": "display_data",
          "data": {
            "application/javascript": [
              "\n",
              "        if (window._pyforest_update_imports_cell) { window._pyforest_update_imports_cell('import numpy as np\\nimport pandas as pd'); }\n",
              "    "
            ],
            "text/plain": [
              "<IPython.core.display.Javascript object>"
            ]
          },
          "metadata": {
            "tags": []
          }
        },
        {
          "output_type": "display_data",
          "data": {
            "application/javascript": [
              "\n",
              "        if (window._pyforest_update_imports_cell) { window._pyforest_update_imports_cell('import numpy as np\\nimport pandas as pd'); }\n",
              "    "
            ],
            "text/plain": [
              "<IPython.core.display.Javascript object>"
            ]
          },
          "metadata": {
            "tags": []
          }
        },
        {
          "output_type": "display_data",
          "data": {
            "application/javascript": [
              "\n",
              "        if (window._pyforest_update_imports_cell) { window._pyforest_update_imports_cell('import numpy as np\\nimport pandas as pd'); }\n",
              "    "
            ],
            "text/plain": [
              "<IPython.core.display.Javascript object>"
            ]
          },
          "metadata": {
            "tags": []
          }
        },
        {
          "output_type": "display_data",
          "data": {
            "application/javascript": [
              "\n",
              "        if (window._pyforest_update_imports_cell) { window._pyforest_update_imports_cell('import numpy as np\\nimport pandas as pd'); }\n",
              "    "
            ],
            "text/plain": [
              "<IPython.core.display.Javascript object>"
            ]
          },
          "metadata": {
            "tags": []
          }
        },
        {
          "output_type": "display_data",
          "data": {
            "application/javascript": [
              "\n",
              "        if (window._pyforest_update_imports_cell) { window._pyforest_update_imports_cell('import numpy as np\\nimport pandas as pd'); }\n",
              "    "
            ],
            "text/plain": [
              "<IPython.core.display.Javascript object>"
            ]
          },
          "metadata": {
            "tags": []
          }
        },
        {
          "output_type": "display_data",
          "data": {
            "application/javascript": [
              "\n",
              "        if (window._pyforest_update_imports_cell) { window._pyforest_update_imports_cell('import numpy as np\\nimport pandas as pd'); }\n",
              "    "
            ],
            "text/plain": [
              "<IPython.core.display.Javascript object>"
            ]
          },
          "metadata": {
            "tags": []
          }
        },
        {
          "output_type": "display_data",
          "data": {
            "application/javascript": [
              "\n",
              "        if (window._pyforest_update_imports_cell) { window._pyforest_update_imports_cell('import numpy as np\\nimport pandas as pd'); }\n",
              "    "
            ],
            "text/plain": [
              "<IPython.core.display.Javascript object>"
            ]
          },
          "metadata": {
            "tags": []
          }
        },
        {
          "output_type": "display_data",
          "data": {
            "application/javascript": [
              "\n",
              "        if (window._pyforest_update_imports_cell) { window._pyforest_update_imports_cell('import numpy as np\\nimport pandas as pd'); }\n",
              "    "
            ],
            "text/plain": [
              "<IPython.core.display.Javascript object>"
            ]
          },
          "metadata": {
            "tags": []
          }
        },
        {
          "output_type": "display_data",
          "data": {
            "application/javascript": [
              "\n",
              "        if (window._pyforest_update_imports_cell) { window._pyforest_update_imports_cell('import numpy as np\\nimport pandas as pd'); }\n",
              "    "
            ],
            "text/plain": [
              "<IPython.core.display.Javascript object>"
            ]
          },
          "metadata": {
            "tags": []
          }
        },
        {
          "output_type": "display_data",
          "data": {
            "application/javascript": [
              "\n",
              "        if (window._pyforest_update_imports_cell) { window._pyforest_update_imports_cell('import numpy as np\\nimport pandas as pd'); }\n",
              "    "
            ],
            "text/plain": [
              "<IPython.core.display.Javascript object>"
            ]
          },
          "metadata": {
            "tags": []
          }
        },
        {
          "output_type": "display_data",
          "data": {
            "application/javascript": [
              "\n",
              "        if (window._pyforest_update_imports_cell) { window._pyforest_update_imports_cell('import numpy as np\\nimport pandas as pd'); }\n",
              "    "
            ],
            "text/plain": [
              "<IPython.core.display.Javascript object>"
            ]
          },
          "metadata": {
            "tags": []
          }
        },
        {
          "output_type": "display_data",
          "data": {
            "application/javascript": [
              "\n",
              "        if (window._pyforest_update_imports_cell) { window._pyforest_update_imports_cell('import numpy as np\\nimport pandas as pd'); }\n",
              "    "
            ],
            "text/plain": [
              "<IPython.core.display.Javascript object>"
            ]
          },
          "metadata": {
            "tags": []
          }
        },
        {
          "output_type": "display_data",
          "data": {
            "application/javascript": [
              "\n",
              "        if (window._pyforest_update_imports_cell) { window._pyforest_update_imports_cell('import numpy as np\\nimport pandas as pd'); }\n",
              "    "
            ],
            "text/plain": [
              "<IPython.core.display.Javascript object>"
            ]
          },
          "metadata": {
            "tags": []
          }
        },
        {
          "output_type": "display_data",
          "data": {
            "application/javascript": [
              "\n",
              "        if (window._pyforest_update_imports_cell) { window._pyforest_update_imports_cell('import numpy as np\\nimport pandas as pd'); }\n",
              "    "
            ],
            "text/plain": [
              "<IPython.core.display.Javascript object>"
            ]
          },
          "metadata": {
            "tags": []
          }
        },
        {
          "output_type": "display_data",
          "data": {
            "application/javascript": [
              "\n",
              "        if (window._pyforest_update_imports_cell) { window._pyforest_update_imports_cell('import numpy as np\\nimport pandas as pd'); }\n",
              "    "
            ],
            "text/plain": [
              "<IPython.core.display.Javascript object>"
            ]
          },
          "metadata": {
            "tags": []
          }
        },
        {
          "output_type": "display_data",
          "data": {
            "application/javascript": [
              "\n",
              "        if (window._pyforest_update_imports_cell) { window._pyforest_update_imports_cell('import numpy as np\\nimport pandas as pd'); }\n",
              "    "
            ],
            "text/plain": [
              "<IPython.core.display.Javascript object>"
            ]
          },
          "metadata": {
            "tags": []
          }
        },
        {
          "output_type": "display_data",
          "data": {
            "application/javascript": [
              "\n",
              "        if (window._pyforest_update_imports_cell) { window._pyforest_update_imports_cell('import numpy as np\\nimport pandas as pd'); }\n",
              "    "
            ],
            "text/plain": [
              "<IPython.core.display.Javascript object>"
            ]
          },
          "metadata": {
            "tags": []
          }
        },
        {
          "output_type": "display_data",
          "data": {
            "application/javascript": [
              "\n",
              "        if (window._pyforest_update_imports_cell) { window._pyforest_update_imports_cell('import numpy as np\\nimport pandas as pd'); }\n",
              "    "
            ],
            "text/plain": [
              "<IPython.core.display.Javascript object>"
            ]
          },
          "metadata": {
            "tags": []
          }
        },
        {
          "output_type": "display_data",
          "data": {
            "application/javascript": [
              "\n",
              "        if (window._pyforest_update_imports_cell) { window._pyforest_update_imports_cell('import numpy as np\\nimport pandas as pd'); }\n",
              "    "
            ],
            "text/plain": [
              "<IPython.core.display.Javascript object>"
            ]
          },
          "metadata": {
            "tags": []
          }
        },
        {
          "output_type": "display_data",
          "data": {
            "application/javascript": [
              "\n",
              "        if (window._pyforest_update_imports_cell) { window._pyforest_update_imports_cell('import numpy as np\\nimport pandas as pd'); }\n",
              "    "
            ],
            "text/plain": [
              "<IPython.core.display.Javascript object>"
            ]
          },
          "metadata": {
            "tags": []
          }
        },
        {
          "output_type": "display_data",
          "data": {
            "application/javascript": [
              "\n",
              "        if (window._pyforest_update_imports_cell) { window._pyforest_update_imports_cell('import numpy as np\\nimport pandas as pd'); }\n",
              "    "
            ],
            "text/plain": [
              "<IPython.core.display.Javascript object>"
            ]
          },
          "metadata": {
            "tags": []
          }
        },
        {
          "output_type": "display_data",
          "data": {
            "application/javascript": [
              "\n",
              "        if (window._pyforest_update_imports_cell) { window._pyforest_update_imports_cell('import numpy as np\\nimport pandas as pd'); }\n",
              "    "
            ],
            "text/plain": [
              "<IPython.core.display.Javascript object>"
            ]
          },
          "metadata": {
            "tags": []
          }
        },
        {
          "output_type": "display_data",
          "data": {
            "application/javascript": [
              "\n",
              "        if (window._pyforest_update_imports_cell) { window._pyforest_update_imports_cell('import numpy as np\\nimport pandas as pd'); }\n",
              "    "
            ],
            "text/plain": [
              "<IPython.core.display.Javascript object>"
            ]
          },
          "metadata": {
            "tags": []
          }
        },
        {
          "output_type": "display_data",
          "data": {
            "application/javascript": [
              "\n",
              "        if (window._pyforest_update_imports_cell) { window._pyforest_update_imports_cell('import numpy as np\\nimport pandas as pd'); }\n",
              "    "
            ],
            "text/plain": [
              "<IPython.core.display.Javascript object>"
            ]
          },
          "metadata": {
            "tags": []
          }
        },
        {
          "output_type": "display_data",
          "data": {
            "application/javascript": [
              "\n",
              "        if (window._pyforest_update_imports_cell) { window._pyforest_update_imports_cell('import numpy as np\\nimport pandas as pd'); }\n",
              "    "
            ],
            "text/plain": [
              "<IPython.core.display.Javascript object>"
            ]
          },
          "metadata": {
            "tags": []
          }
        },
        {
          "output_type": "display_data",
          "data": {
            "application/javascript": [
              "\n",
              "        if (window._pyforest_update_imports_cell) { window._pyforest_update_imports_cell('import numpy as np\\nimport pandas as pd'); }\n",
              "    "
            ],
            "text/plain": [
              "<IPython.core.display.Javascript object>"
            ]
          },
          "metadata": {
            "tags": []
          }
        },
        {
          "output_type": "display_data",
          "data": {
            "application/javascript": [
              "\n",
              "        if (window._pyforest_update_imports_cell) { window._pyforest_update_imports_cell('import numpy as np\\nimport pandas as pd'); }\n",
              "    "
            ],
            "text/plain": [
              "<IPython.core.display.Javascript object>"
            ]
          },
          "metadata": {
            "tags": []
          }
        },
        {
          "output_type": "display_data",
          "data": {
            "application/javascript": [
              "\n",
              "        if (window._pyforest_update_imports_cell) { window._pyforest_update_imports_cell('import numpy as np\\nimport pandas as pd'); }\n",
              "    "
            ],
            "text/plain": [
              "<IPython.core.display.Javascript object>"
            ]
          },
          "metadata": {
            "tags": []
          }
        },
        {
          "output_type": "display_data",
          "data": {
            "application/javascript": [
              "\n",
              "        if (window._pyforest_update_imports_cell) { window._pyforest_update_imports_cell('import numpy as np\\nimport pandas as pd'); }\n",
              "    "
            ],
            "text/plain": [
              "<IPython.core.display.Javascript object>"
            ]
          },
          "metadata": {
            "tags": []
          }
        },
        {
          "output_type": "display_data",
          "data": {
            "application/javascript": [
              "\n",
              "        if (window._pyforest_update_imports_cell) { window._pyforest_update_imports_cell('import numpy as np\\nimport pandas as pd'); }\n",
              "    "
            ],
            "text/plain": [
              "<IPython.core.display.Javascript object>"
            ]
          },
          "metadata": {
            "tags": []
          }
        },
        {
          "output_type": "display_data",
          "data": {
            "application/javascript": [
              "\n",
              "        if (window._pyforest_update_imports_cell) { window._pyforest_update_imports_cell('import numpy as np\\nimport pandas as pd'); }\n",
              "    "
            ],
            "text/plain": [
              "<IPython.core.display.Javascript object>"
            ]
          },
          "metadata": {
            "tags": []
          }
        },
        {
          "output_type": "display_data",
          "data": {
            "application/javascript": [
              "\n",
              "        if (window._pyforest_update_imports_cell) { window._pyforest_update_imports_cell('import numpy as np\\nimport pandas as pd'); }\n",
              "    "
            ],
            "text/plain": [
              "<IPython.core.display.Javascript object>"
            ]
          },
          "metadata": {
            "tags": []
          }
        },
        {
          "output_type": "display_data",
          "data": {
            "application/javascript": [
              "\n",
              "        if (window._pyforest_update_imports_cell) { window._pyforest_update_imports_cell('import numpy as np\\nimport pandas as pd'); }\n",
              "    "
            ],
            "text/plain": [
              "<IPython.core.display.Javascript object>"
            ]
          },
          "metadata": {
            "tags": []
          }
        },
        {
          "output_type": "display_data",
          "data": {
            "application/javascript": [
              "\n",
              "        if (window._pyforest_update_imports_cell) { window._pyforest_update_imports_cell('import numpy as np\\nimport pandas as pd'); }\n",
              "    "
            ],
            "text/plain": [
              "<IPython.core.display.Javascript object>"
            ]
          },
          "metadata": {
            "tags": []
          }
        },
        {
          "output_type": "display_data",
          "data": {
            "application/javascript": [
              "\n",
              "        if (window._pyforest_update_imports_cell) { window._pyforest_update_imports_cell('import numpy as np\\nimport pandas as pd'); }\n",
              "    "
            ],
            "text/plain": [
              "<IPython.core.display.Javascript object>"
            ]
          },
          "metadata": {
            "tags": []
          }
        },
        {
          "output_type": "display_data",
          "data": {
            "application/javascript": [
              "\n",
              "        if (window._pyforest_update_imports_cell) { window._pyforest_update_imports_cell('import numpy as np\\nimport pandas as pd'); }\n",
              "    "
            ],
            "text/plain": [
              "<IPython.core.display.Javascript object>"
            ]
          },
          "metadata": {
            "tags": []
          }
        },
        {
          "output_type": "display_data",
          "data": {
            "application/javascript": [
              "\n",
              "        if (window._pyforest_update_imports_cell) { window._pyforest_update_imports_cell('import numpy as np\\nimport pandas as pd'); }\n",
              "    "
            ],
            "text/plain": [
              "<IPython.core.display.Javascript object>"
            ]
          },
          "metadata": {
            "tags": []
          }
        },
        {
          "output_type": "display_data",
          "data": {
            "application/javascript": [
              "\n",
              "        if (window._pyforest_update_imports_cell) { window._pyforest_update_imports_cell('import numpy as np\\nimport pandas as pd'); }\n",
              "    "
            ],
            "text/plain": [
              "<IPython.core.display.Javascript object>"
            ]
          },
          "metadata": {
            "tags": []
          }
        },
        {
          "output_type": "display_data",
          "data": {
            "application/javascript": [
              "\n",
              "        if (window._pyforest_update_imports_cell) { window._pyforest_update_imports_cell('import numpy as np\\nimport pandas as pd'); }\n",
              "    "
            ],
            "text/plain": [
              "<IPython.core.display.Javascript object>"
            ]
          },
          "metadata": {
            "tags": []
          }
        },
        {
          "output_type": "display_data",
          "data": {
            "application/javascript": [
              "\n",
              "        if (window._pyforest_update_imports_cell) { window._pyforest_update_imports_cell('import numpy as np\\nimport pandas as pd'); }\n",
              "    "
            ],
            "text/plain": [
              "<IPython.core.display.Javascript object>"
            ]
          },
          "metadata": {
            "tags": []
          }
        },
        {
          "output_type": "display_data",
          "data": {
            "application/javascript": [
              "\n",
              "        if (window._pyforest_update_imports_cell) { window._pyforest_update_imports_cell('import numpy as np\\nimport pandas as pd'); }\n",
              "    "
            ],
            "text/plain": [
              "<IPython.core.display.Javascript object>"
            ]
          },
          "metadata": {
            "tags": []
          }
        },
        {
          "output_type": "display_data",
          "data": {
            "application/javascript": [
              "\n",
              "        if (window._pyforest_update_imports_cell) { window._pyforest_update_imports_cell('import numpy as np\\nimport pandas as pd'); }\n",
              "    "
            ],
            "text/plain": [
              "<IPython.core.display.Javascript object>"
            ]
          },
          "metadata": {
            "tags": []
          }
        },
        {
          "output_type": "display_data",
          "data": {
            "application/javascript": [
              "\n",
              "        if (window._pyforest_update_imports_cell) { window._pyforest_update_imports_cell('import numpy as np\\nimport pandas as pd'); }\n",
              "    "
            ],
            "text/plain": [
              "<IPython.core.display.Javascript object>"
            ]
          },
          "metadata": {
            "tags": []
          }
        },
        {
          "output_type": "display_data",
          "data": {
            "application/javascript": [
              "\n",
              "        if (window._pyforest_update_imports_cell) { window._pyforest_update_imports_cell('import numpy as np\\nimport pandas as pd'); }\n",
              "    "
            ],
            "text/plain": [
              "<IPython.core.display.Javascript object>"
            ]
          },
          "metadata": {
            "tags": []
          }
        },
        {
          "output_type": "display_data",
          "data": {
            "application/javascript": [
              "\n",
              "        if (window._pyforest_update_imports_cell) { window._pyforest_update_imports_cell('import numpy as np\\nimport pandas as pd'); }\n",
              "    "
            ],
            "text/plain": [
              "<IPython.core.display.Javascript object>"
            ]
          },
          "metadata": {
            "tags": []
          }
        },
        {
          "output_type": "display_data",
          "data": {
            "application/javascript": [
              "\n",
              "        if (window._pyforest_update_imports_cell) { window._pyforest_update_imports_cell('import numpy as np\\nimport pandas as pd'); }\n",
              "    "
            ],
            "text/plain": [
              "<IPython.core.display.Javascript object>"
            ]
          },
          "metadata": {
            "tags": []
          }
        },
        {
          "output_type": "display_data",
          "data": {
            "application/javascript": [
              "\n",
              "        if (window._pyforest_update_imports_cell) { window._pyforest_update_imports_cell('import numpy as np\\nimport pandas as pd'); }\n",
              "    "
            ],
            "text/plain": [
              "<IPython.core.display.Javascript object>"
            ]
          },
          "metadata": {
            "tags": []
          }
        },
        {
          "output_type": "display_data",
          "data": {
            "application/javascript": [
              "\n",
              "        if (window._pyforest_update_imports_cell) { window._pyforest_update_imports_cell('import numpy as np\\nimport pandas as pd'); }\n",
              "    "
            ],
            "text/plain": [
              "<IPython.core.display.Javascript object>"
            ]
          },
          "metadata": {
            "tags": []
          }
        },
        {
          "output_type": "display_data",
          "data": {
            "application/javascript": [
              "\n",
              "        if (window._pyforest_update_imports_cell) { window._pyforest_update_imports_cell('import numpy as np\\nimport pandas as pd'); }\n",
              "    "
            ],
            "text/plain": [
              "<IPython.core.display.Javascript object>"
            ]
          },
          "metadata": {
            "tags": []
          }
        },
        {
          "output_type": "display_data",
          "data": {
            "application/javascript": [
              "\n",
              "        if (window._pyforest_update_imports_cell) { window._pyforest_update_imports_cell('import numpy as np\\nimport pandas as pd'); }\n",
              "    "
            ],
            "text/plain": [
              "<IPython.core.display.Javascript object>"
            ]
          },
          "metadata": {
            "tags": []
          }
        },
        {
          "output_type": "display_data",
          "data": {
            "application/javascript": [
              "\n",
              "        if (window._pyforest_update_imports_cell) { window._pyforest_update_imports_cell('import numpy as np\\nimport pandas as pd'); }\n",
              "    "
            ],
            "text/plain": [
              "<IPython.core.display.Javascript object>"
            ]
          },
          "metadata": {
            "tags": []
          }
        },
        {
          "output_type": "display_data",
          "data": {
            "application/javascript": [
              "\n",
              "        if (window._pyforest_update_imports_cell) { window._pyforest_update_imports_cell('import numpy as np\\nimport pandas as pd'); }\n",
              "    "
            ],
            "text/plain": [
              "<IPython.core.display.Javascript object>"
            ]
          },
          "metadata": {
            "tags": []
          }
        },
        {
          "output_type": "display_data",
          "data": {
            "application/javascript": [
              "\n",
              "        if (window._pyforest_update_imports_cell) { window._pyforest_update_imports_cell('import numpy as np\\nimport pandas as pd'); }\n",
              "    "
            ],
            "text/plain": [
              "<IPython.core.display.Javascript object>"
            ]
          },
          "metadata": {
            "tags": []
          }
        },
        {
          "output_type": "display_data",
          "data": {
            "application/javascript": [
              "\n",
              "        if (window._pyforest_update_imports_cell) { window._pyforest_update_imports_cell('import numpy as np\\nimport pandas as pd'); }\n",
              "    "
            ],
            "text/plain": [
              "<IPython.core.display.Javascript object>"
            ]
          },
          "metadata": {
            "tags": []
          }
        },
        {
          "output_type": "display_data",
          "data": {
            "application/javascript": [
              "\n",
              "        if (window._pyforest_update_imports_cell) { window._pyforest_update_imports_cell('import numpy as np\\nimport pandas as pd'); }\n",
              "    "
            ],
            "text/plain": [
              "<IPython.core.display.Javascript object>"
            ]
          },
          "metadata": {
            "tags": []
          }
        },
        {
          "output_type": "display_data",
          "data": {
            "application/javascript": [
              "\n",
              "        if (window._pyforest_update_imports_cell) { window._pyforest_update_imports_cell('import numpy as np\\nimport pandas as pd'); }\n",
              "    "
            ],
            "text/plain": [
              "<IPython.core.display.Javascript object>"
            ]
          },
          "metadata": {
            "tags": []
          }
        },
        {
          "output_type": "display_data",
          "data": {
            "application/javascript": [
              "\n",
              "        if (window._pyforest_update_imports_cell) { window._pyforest_update_imports_cell('import numpy as np\\nimport pandas as pd'); }\n",
              "    "
            ],
            "text/plain": [
              "<IPython.core.display.Javascript object>"
            ]
          },
          "metadata": {
            "tags": []
          }
        },
        {
          "output_type": "display_data",
          "data": {
            "application/javascript": [
              "\n",
              "        if (window._pyforest_update_imports_cell) { window._pyforest_update_imports_cell('import numpy as np\\nimport pandas as pd'); }\n",
              "    "
            ],
            "text/plain": [
              "<IPython.core.display.Javascript object>"
            ]
          },
          "metadata": {
            "tags": []
          }
        },
        {
          "output_type": "display_data",
          "data": {
            "application/javascript": [
              "\n",
              "        if (window._pyforest_update_imports_cell) { window._pyforest_update_imports_cell('import numpy as np\\nimport pandas as pd'); }\n",
              "    "
            ],
            "text/plain": [
              "<IPython.core.display.Javascript object>"
            ]
          },
          "metadata": {
            "tags": []
          }
        },
        {
          "output_type": "stream",
          "text": [
            "Numero de Linhas: 352\n"
          ],
          "name": "stdout"
        }
      ]
    },
    {
      "cell_type": "markdown",
      "metadata": {
        "id": "1lCgCvAYsDSL"
      },
      "source": [
        "---\n",
        "Os campos categóricos não numéricos precisaram ser tratados neste momento.\n",
        "\n",
        "- O campo AGE_PERCENTIL foi alterado para que seja um campo numérico.\n",
        "- O campo WINDOW foi removido, pois somente a janela 0-2 é utilizada neste momento.\n",
        "---"
      ]
    },
    {
      "cell_type": "code",
      "metadata": {
        "id": "UADeYon3lf56"
      },
      "source": [
        "dados_tratados = tratar_dados_categoricos(dados_limpos)"
      ],
      "execution_count": null,
      "outputs": []
    },
    {
      "cell_type": "markdown",
      "metadata": {
        "id": "zbrkhY7NsdKb"
      },
      "source": [
        "---\n",
        "Uma função que indica as features mais relevantes, do ponto de vista dos autores do desafio, foi disponibilizada.\n",
        "\n",
        "Será criado um novo conjunto de dados considerando somente estas features.\n",
        "\n",
        "---"
      ]
    },
    {
      "cell_type": "code",
      "metadata": {
        "colab": {
          "base_uri": "https://localhost:8080/",
          "height": 258
        },
        "id": "rw1v1jIDoI_S",
        "outputId": "ecac2dfa-a2f1-40c6-90c3-16f05212503a"
      },
      "source": [
        "dados_tratados_features = makebio_df(dados_tratados)\n",
        "dados_tratados_features.head()"
      ],
      "execution_count": null,
      "outputs": [
        {
          "output_type": "execute_result",
          "data": {
            "text/html": [
              "<div>\n",
              "<style scoped>\n",
              "    .dataframe tbody tr th:only-of-type {\n",
              "        vertical-align: middle;\n",
              "    }\n",
              "\n",
              "    .dataframe tbody tr th {\n",
              "        vertical-align: top;\n",
              "    }\n",
              "\n",
              "    .dataframe thead th {\n",
              "        text-align: right;\n",
              "    }\n",
              "</style>\n",
              "<table border=\"1\" class=\"dataframe\">\n",
              "  <thead>\n",
              "    <tr style=\"text-align: right;\">\n",
              "      <th></th>\n",
              "      <th></th>\n",
              "      <th>ICU</th>\n",
              "      <th>AGE_ABOVE65</th>\n",
              "      <th>GENDER</th>\n",
              "      <th>BLOODPRESSURE_ARTERIAL_MEAN</th>\n",
              "      <th>RESPIRATORY_RATE_MAX</th>\n",
              "      <th>HTN</th>\n",
              "      <th>DISEASE GROUPING 1</th>\n",
              "      <th>DISEASE GROUPING 2</th>\n",
              "      <th>DISEASE GROUPING 3</th>\n",
              "      <th>DISEASE GROUPING 4</th>\n",
              "      <th>DISEASE GROUPING 5</th>\n",
              "      <th>DISEASE GROUPING 6</th>\n",
              "      <th>NEUTROPHILES/LINFOCITOS</th>\n",
              "      <th>GASO</th>\n",
              "      <th>OXYGEN_SATURATION_MIN</th>\n",
              "      <th>HEART_RATE_MAX</th>\n",
              "      <th>PCR_MEAN</th>\n",
              "      <th>CREATININ_MEAN</th>\n",
              "    </tr>\n",
              "  </thead>\n",
              "  <tbody>\n",
              "    <tr>\n",
              "      <th>0</th>\n",
              "      <th>0</th>\n",
              "      <td>1</td>\n",
              "      <td>1</td>\n",
              "      <td>0</td>\n",
              "      <td>-0.019310</td>\n",
              "      <td>-0.636364</td>\n",
              "      <td>0.0</td>\n",
              "      <td>0.0</td>\n",
              "      <td>0.0</td>\n",
              "      <td>0.0</td>\n",
              "      <td>0.0</td>\n",
              "      <td>1.0</td>\n",
              "      <td>1.0</td>\n",
              "      <td>0.949515</td>\n",
              "      <td>1</td>\n",
              "      <td>0.898990</td>\n",
              "      <td>-0.432836</td>\n",
              "      <td>-0.875236</td>\n",
              "      <td>-0.868365</td>\n",
              "    </tr>\n",
              "    <tr>\n",
              "      <th>1</th>\n",
              "      <th>10</th>\n",
              "      <td>1</td>\n",
              "      <td>0</td>\n",
              "      <td>0</td>\n",
              "      <td>-0.554965</td>\n",
              "      <td>-0.575758</td>\n",
              "      <td>0.0</td>\n",
              "      <td>0.0</td>\n",
              "      <td>0.0</td>\n",
              "      <td>0.0</td>\n",
              "      <td>0.0</td>\n",
              "      <td>0.0</td>\n",
              "      <td>0.0</td>\n",
              "      <td>0.454450</td>\n",
              "      <td>1</td>\n",
              "      <td>0.959596</td>\n",
              "      <td>0.000000</td>\n",
              "      <td>-0.939887</td>\n",
              "      <td>-0.912243</td>\n",
              "    </tr>\n",
              "    <tr>\n",
              "      <th>2</th>\n",
              "      <th>15</th>\n",
              "      <td>0</td>\n",
              "      <td>0</td>\n",
              "      <td>1</td>\n",
              "      <td>-0.114846</td>\n",
              "      <td>-0.515152</td>\n",
              "      <td>0.0</td>\n",
              "      <td>0.0</td>\n",
              "      <td>0.0</td>\n",
              "      <td>0.0</td>\n",
              "      <td>0.0</td>\n",
              "      <td>0.0</td>\n",
              "      <td>0.0</td>\n",
              "      <td>0.938541</td>\n",
              "      <td>1</td>\n",
              "      <td>0.878788</td>\n",
              "      <td>-0.626866</td>\n",
              "      <td>-0.503592</td>\n",
              "      <td>-0.968861</td>\n",
              "    </tr>\n",
              "    <tr>\n",
              "      <th>3</th>\n",
              "      <th>20</th>\n",
              "      <td>0</td>\n",
              "      <td>0</td>\n",
              "      <td>0</td>\n",
              "      <td>0.170940</td>\n",
              "      <td>-0.575758</td>\n",
              "      <td>0.0</td>\n",
              "      <td>0.0</td>\n",
              "      <td>0.0</td>\n",
              "      <td>0.0</td>\n",
              "      <td>0.0</td>\n",
              "      <td>0.0</td>\n",
              "      <td>0.0</td>\n",
              "      <td>1.267746</td>\n",
              "      <td>1</td>\n",
              "      <td>0.939394</td>\n",
              "      <td>-0.044776</td>\n",
              "      <td>-0.990926</td>\n",
              "      <td>-0.913659</td>\n",
              "    </tr>\n",
              "    <tr>\n",
              "      <th>4</th>\n",
              "      <th>25</th>\n",
              "      <td>0</td>\n",
              "      <td>0</td>\n",
              "      <td>0</td>\n",
              "      <td>-0.204179</td>\n",
              "      <td>-0.575758</td>\n",
              "      <td>0.0</td>\n",
              "      <td>0.0</td>\n",
              "      <td>0.0</td>\n",
              "      <td>0.0</td>\n",
              "      <td>0.0</td>\n",
              "      <td>0.0</td>\n",
              "      <td>0.0</td>\n",
              "      <td>2.487410</td>\n",
              "      <td>1</td>\n",
              "      <td>0.919192</td>\n",
              "      <td>-0.626866</td>\n",
              "      <td>-0.997732</td>\n",
              "      <td>-0.891012</td>\n",
              "    </tr>\n",
              "  </tbody>\n",
              "</table>\n",
              "</div>"
            ],
            "text/plain": [
              "      ICU  AGE_ABOVE65  GENDER  ...  HEART_RATE_MAX  PCR_MEAN  CREATININ_MEAN\n",
              "0 0     1            1       0  ...       -0.432836 -0.875236       -0.868365\n",
              "1 10    1            0       0  ...        0.000000 -0.939887       -0.912243\n",
              "2 15    0            0       1  ...       -0.626866 -0.503592       -0.968861\n",
              "3 20    0            0       0  ...       -0.044776 -0.990926       -0.913659\n",
              "4 25    0            0       0  ...       -0.626866 -0.997732       -0.891012\n",
              "\n",
              "[5 rows x 18 columns]"
            ]
          },
          "metadata": {
            "tags": []
          },
          "execution_count": 14
        }
      ]
    },
    {
      "cell_type": "markdown",
      "metadata": {
        "id": "us0tQdCEFXn0"
      },
      "source": [
        "# Aplicação de Modelos de Machine Learning"
      ]
    },
    {
      "cell_type": "markdown",
      "metadata": {
        "id": "hZ3QP1kGIRB0"
      },
      "source": [
        "## Definição de Funções"
      ]
    },
    {
      "cell_type": "code",
      "metadata": {
        "id": "JX_GLv5wQBA9"
      },
      "source": [
        "def corr_heatmap(dados):\n",
        "  corr = dados.corr().abs()\n",
        "\n",
        "  ax = sns.heatmap(\n",
        "    corr, \n",
        "    vmin=0, vmax=1, center=0,\n",
        "    cmap=sns.diverging_palette(20, 220, n=200)\n",
        "  )\n",
        "  ax.set_xticklabels(\n",
        "    ax.get_xticklabels(),\n",
        "    rotation=45,\n",
        "    horizontalalignment='right'\n",
        "  );\n",
        "  plt.title('Correlação entre as colunas dos dados tratados - valores absolutos', fontdict={'fontsize':14})\n",
        "  plt.show()"
      ],
      "execution_count": null,
      "outputs": []
    },
    {
      "cell_type": "code",
      "metadata": {
        "id": "xawVkfswHe5y"
      },
      "source": [
        "def gerar_lazypredict(dados):\n",
        "  x_columns = dados.columns\n",
        "  x = dados[x_columns].drop(['ICU'], axis=1)\n",
        "  y = dados['ICU']\n",
        "\n",
        "  x_train, x_test, y_train, y_test = train_test_split(x,y, stratify=y, test_size=0.25)\n",
        "  clf = LazyClassifier(verbose=0,ignore_warnings=True)\n",
        "  models, predictions = clf.fit(x_train, x_test, y_train, y_test)\n",
        "  return models"
      ],
      "execution_count": null,
      "outputs": []
    },
    {
      "cell_type": "code",
      "metadata": {
        "id": "nbzvQworTq98"
      },
      "source": [
        "def roda_modelo_cv(modelo, dados, n_splits, n_repeats):\n",
        "  dados = dados.sample(frac=1).reset_index(drop=True)\n",
        "  x_columns = dados.columns\n",
        "  x = dados[x_columns].drop(['ICU'], axis=1)\n",
        "  y = dados['ICU']\n",
        "\n",
        "  cv = RepeatedStratifiedKFold(n_splits=n_splits, n_repeats=n_repeats)\n",
        "  resultados = cross_validate(modelo, x, y, cv=cv, scoring='roc_auc', return_train_score=True)  \n",
        "\n",
        "  auc_media = np.mean(resultados['test_score'])\n",
        "  auc_media_treino = np.mean(resultados['train_score'])\n",
        "  auc_std = np.std(resultados['test_score'])\n",
        "  \n",
        "  #print(f\"AUC Medio: {auc_media} - {auc_media_treino}\")\n",
        "  return auc_media, auc_media_treino"
      ],
      "execution_count": null,
      "outputs": []
    },
    {
      "cell_type": "code",
      "metadata": {
        "id": "tMkAyH-JjGfo"
      },
      "source": [
        "def lgbm_estimators(dados, start, stop, step):\n",
        "  teste_lista = []\n",
        "  treino_lista = []\n",
        "  for i in tq.tqdm(range(start,stop,step)):\n",
        "    modelo = LGBMClassifier(n_estimators=i)\n",
        "    teste, treino = roda_modelo_cv(modelo, dados_tratados_features, 5, 10)\n",
        "    teste_lista.append(teste)\n",
        "    treino_lista.append(treino)\n",
        "  x = range(start,stop, step)\n",
        "  plt.title(\"Desempenho - Estimators\")\n",
        "  plt.plot(x, teste_lista)\n",
        "  plt.show()"
      ],
      "execution_count": null,
      "outputs": []
    },
    {
      "cell_type": "code",
      "metadata": {
        "id": "JuZ267Z5ka2x"
      },
      "source": [
        "def lgbm_maxdepth(dados, start, stop, step):\n",
        "  teste_lista = []\n",
        "  treino_lista = []\n",
        "  for i in tq.tqdm(range(start,stop,step)):\n",
        "    modelo = LGBMClassifier(max_depth=i)\n",
        "    teste, treino = roda_modelo_cv(modelo, dados_tratados_features, 5, 10)\n",
        "    teste_lista.append(teste)\n",
        "    treino_lista.append(treino)\n",
        "\n",
        "  x = range(start,stop, step)\n",
        "  plt.title(\"Desempenho - Max Depth\")\n",
        "  plt.plot(x, teste_lista)\n",
        "  plt.show()"
      ],
      "execution_count": null,
      "outputs": []
    },
    {
      "cell_type": "code",
      "metadata": {
        "id": "607kPLnWCzSd"
      },
      "source": [
        "def lgbm_leaves(dados, start, stop, step):\n",
        "  teste_lista = []\n",
        "  treino_lista = []\n",
        "  for i in tq.tqdm(range(start,stop,step)):\n",
        "    modelo = LGBMClassifier(num_leaves=i)\n",
        "    teste, treino = roda_modelo_cv(modelo, dados_tratados_features, 5, 10)\n",
        "    teste_lista.append(teste)\n",
        "    treino_lista.append(treino)\n",
        "\n",
        "  x = range(start,stop, step)\n",
        "  plt.title(\"Desempenho - Num Leaves\")\n",
        "  plt.plot(x, teste_lista)\n",
        "  plt.show()"
      ],
      "execution_count": null,
      "outputs": []
    },
    {
      "cell_type": "code",
      "metadata": {
        "id": "YqK23DHpJTeg"
      },
      "source": [
        "def matriz_conf(dados)\n",
        "  dados = dados.sample(frac=1).reset_index(drop=True)\n",
        "  x_columns = dados.columns\n",
        "  x = dados[x_columns].drop(['ICU'], axis=1)\n",
        "  y = dados['ICU']\n",
        "\n",
        "  cv = RepeatedStratifiedKFold(n_splits=n_splits, n_repeats=n_repeats)\n",
        "  resultados = cross_validate(modelo, x, y, cv=cv, scoring='roc_auc', return_train_score=True)  \n",
        "\n",
        "  auc_media = np.mean(resultados['test_score'])\n",
        "  auc_media_treino = np.mean(resultados['train_score'])\n",
        "  auc_std = np.std(resultados['test_score'])\n",
        "  \n",
        "  #print(f\"AUC Medio: {auc_media} - {auc_media_treino}\")\n",
        "  return auc_media, auc_media_treino"
      ],
      "execution_count": null,
      "outputs": []
    },
    {
      "cell_type": "markdown",
      "metadata": {
        "id": "AS9mKBzYRRk0"
      },
      "source": [
        "## Correlação"
      ]
    },
    {
      "cell_type": "markdown",
      "metadata": {
        "id": "yPUPL4-2TDgI"
      },
      "source": [
        "---\n",
        "A base de dados tratada apresenta baixa correlação entre as variáveis, como pode ser visto na figura abaixo.\n",
        "\n",
        "---"
      ]
    },
    {
      "cell_type": "code",
      "metadata": {
        "colab": {
          "base_uri": "https://localhost:8080/",
          "height": 403
        },
        "id": "xyh0nIxSRUs7",
        "outputId": "4de8fd07-a18c-4bb1-da4b-71556c1ed773"
      },
      "source": [
        "corr_heatmap(dados_tratados_features)"
      ],
      "execution_count": null,
      "outputs": [
        {
          "output_type": "display_data",
          "data": {
            "application/javascript": [
              "\n",
              "        if (window._pyforest_update_imports_cell) { window._pyforest_update_imports_cell('import plotly.graph_objs as go\\nimport lightgbm as lgb\\nimport matplotlib.pyplot as plt\\nimport glob\\nimport re\\nimport numpy as np\\nimport pydot\\nimport pickle\\nimport seaborn as sns\\nimport plotly as py\\nimport matplotlib as mpl\\nimport bokeh\\nimport altair as alt\\nfrom openpyxl import load_workbook\\nimport xgboost as xgb\\nfrom sklearn.model_selection import train_test_split\\nimport plotly.express as px\\nimport pandas as pd\\nimport gensim'); }\n",
              "    "
            ],
            "text/plain": [
              "<IPython.core.display.Javascript object>"
            ]
          },
          "metadata": {
            "tags": []
          }
        },
        {
          "output_type": "display_data",
          "data": {
            "application/javascript": [
              "\n",
              "        if (window._pyforest_update_imports_cell) { window._pyforest_update_imports_cell('import plotly.graph_objs as go\\nimport lightgbm as lgb\\nimport matplotlib.pyplot as plt\\nimport glob\\nimport re\\nimport numpy as np\\nimport pydot\\nimport pickle\\nimport seaborn as sns\\nimport plotly as py\\nimport matplotlib as mpl\\nimport bokeh\\nimport altair as alt\\nfrom openpyxl import load_workbook\\nimport xgboost as xgb\\nfrom sklearn.model_selection import train_test_split\\nimport plotly.express as px\\nimport pandas as pd\\nimport gensim'); }\n",
              "    "
            ],
            "text/plain": [
              "<IPython.core.display.Javascript object>"
            ]
          },
          "metadata": {
            "tags": []
          }
        },
        {
          "output_type": "display_data",
          "data": {
            "application/javascript": [
              "\n",
              "        if (window._pyforest_update_imports_cell) { window._pyforest_update_imports_cell('import plotly.graph_objs as go\\nimport lightgbm as lgb\\nimport matplotlib.pyplot as plt\\nimport glob\\nimport re\\nimport numpy as np\\nimport pydot\\nimport pickle\\nimport seaborn as sns\\nimport plotly as py\\nimport matplotlib as mpl\\nimport bokeh\\nimport altair as alt\\nfrom openpyxl import load_workbook\\nimport xgboost as xgb\\nfrom sklearn.model_selection import train_test_split\\nimport plotly.express as px\\nimport pandas as pd\\nimport gensim'); }\n",
              "    "
            ],
            "text/plain": [
              "<IPython.core.display.Javascript object>"
            ]
          },
          "metadata": {
            "tags": []
          }
        },
        {
          "output_type": "display_data",
          "data": {
            "application/javascript": [
              "\n",
              "        if (window._pyforest_update_imports_cell) { window._pyforest_update_imports_cell('import plotly.graph_objs as go\\nimport lightgbm as lgb\\nimport matplotlib.pyplot as plt\\nimport glob\\nimport re\\nimport numpy as np\\nimport pydot\\nimport pickle\\nimport seaborn as sns\\nimport plotly as py\\nimport matplotlib as mpl\\nimport bokeh\\nimport altair as alt\\nfrom openpyxl import load_workbook\\nimport xgboost as xgb\\nfrom sklearn.model_selection import train_test_split\\nimport plotly.express as px\\nimport pandas as pd\\nimport gensim'); }\n",
              "    "
            ],
            "text/plain": [
              "<IPython.core.display.Javascript object>"
            ]
          },
          "metadata": {
            "tags": []
          }
        },
        {
          "output_type": "display_data",
          "data": {
            "image/png": "[encoded data removed]",
            "text/plain": [
              "<Figure size 432x288 with 2 Axes>"
            ]
          },
          "metadata": {
            "tags": [],
            "needs_background": "light"
          }
        }
      ]
    },
    {
      "cell_type": "markdown",
      "metadata": {
        "id": "sI-ImjrcJPv3"
      },
      "source": [
        "## Lazy Predict"
      ]
    },
    {
      "cell_type": "markdown",
      "metadata": {
        "id": "eezx9a-xKV3t"
      },
      "source": [
        "---\n",
        "O LazyPredict foi utilizado com o objetivo de avaliar a performance de vários modelos de predição de forma rápida.\n",
        "\n",
        "Desta forma, a escolha do algorítimo a ser utilizada será mais assertiva.\n",
        "\n",
        "Neste caso, o modelo LGBMClassifier obteve o melhor resultado, empatado em todos os quesitos com o XGBClassifier mas, teve a execução mais rápida.\n",
        "\n",
        "---"
      ]
    },
    {
      "cell_type": "code",
      "metadata": {
        "colab": {
          "base_uri": "https://localhost:8080/",
          "height": 934
        },
        "id": "ZM5a2FMJFXOa",
        "outputId": "f7b7e2ee-79c7-4942-9bff-d312756016ff"
      },
      "source": [
        "gerar_lazypredict(dados_tratados_features)"
      ],
      "execution_count": null,
      "outputs": [
        {
          "output_type": "stream",
          "text": [
            "100%|██████████| 29/29 [00:01<00:00, 21.53it/s]\n"
          ],
          "name": "stderr"
        },
        {
          "output_type": "execute_result",
          "data": {
            "text/html": [
              "<div>\n",
              "<style scoped>\n",
              "    .dataframe tbody tr th:only-of-type {\n",
              "        vertical-align: middle;\n",
              "    }\n",
              "\n",
              "    .dataframe tbody tr th {\n",
              "        vertical-align: top;\n",
              "    }\n",
              "\n",
              "    .dataframe thead th {\n",
              "        text-align: right;\n",
              "    }\n",
              "</style>\n",
              "<table border=\"1\" class=\"dataframe\">\n",
              "  <thead>\n",
              "    <tr style=\"text-align: right;\">\n",
              "      <th></th>\n",
              "      <th>Accuracy</th>\n",
              "      <th>Balanced Accuracy</th>\n",
              "      <th>ROC AUC</th>\n",
              "      <th>F1 Score</th>\n",
              "      <th>Time Taken</th>\n",
              "    </tr>\n",
              "    <tr>\n",
              "      <th>Model</th>\n",
              "      <th></th>\n",
              "      <th></th>\n",
              "      <th></th>\n",
              "      <th></th>\n",
              "      <th></th>\n",
              "    </tr>\n",
              "  </thead>\n",
              "  <tbody>\n",
              "    <tr>\n",
              "      <th>LGBMClassifier</th>\n",
              "      <td>0.73</td>\n",
              "      <td>0.72</td>\n",
              "      <td>0.72</td>\n",
              "      <td>0.72</td>\n",
              "      <td>0.05</td>\n",
              "    </tr>\n",
              "    <tr>\n",
              "      <th>XGBClassifier</th>\n",
              "      <td>0.73</td>\n",
              "      <td>0.72</td>\n",
              "      <td>0.72</td>\n",
              "      <td>0.72</td>\n",
              "      <td>0.06</td>\n",
              "    </tr>\n",
              "    <tr>\n",
              "      <th>AdaBoostClassifier</th>\n",
              "      <td>0.72</td>\n",
              "      <td>0.71</td>\n",
              "      <td>0.71</td>\n",
              "      <td>0.71</td>\n",
              "      <td>0.17</td>\n",
              "    </tr>\n",
              "    <tr>\n",
              "      <th>SVC</th>\n",
              "      <td>0.70</td>\n",
              "      <td>0.70</td>\n",
              "      <td>0.70</td>\n",
              "      <td>0.70</td>\n",
              "      <td>0.02</td>\n",
              "    </tr>\n",
              "    <tr>\n",
              "      <th>LogisticRegression</th>\n",
              "      <td>0.70</td>\n",
              "      <td>0.69</td>\n",
              "      <td>0.69</td>\n",
              "      <td>0.69</td>\n",
              "      <td>0.03</td>\n",
              "    </tr>\n",
              "    <tr>\n",
              "      <th>ExtraTreesClassifier</th>\n",
              "      <td>0.68</td>\n",
              "      <td>0.68</td>\n",
              "      <td>0.68</td>\n",
              "      <td>0.68</td>\n",
              "      <td>0.16</td>\n",
              "    </tr>\n",
              "    <tr>\n",
              "      <th>RandomForestClassifier</th>\n",
              "      <td>0.68</td>\n",
              "      <td>0.67</td>\n",
              "      <td>0.67</td>\n",
              "      <td>0.67</td>\n",
              "      <td>0.19</td>\n",
              "    </tr>\n",
              "    <tr>\n",
              "      <th>NuSVC</th>\n",
              "      <td>0.68</td>\n",
              "      <td>0.67</td>\n",
              "      <td>0.67</td>\n",
              "      <td>0.67</td>\n",
              "      <td>0.02</td>\n",
              "    </tr>\n",
              "    <tr>\n",
              "      <th>RidgeClassifierCV</th>\n",
              "      <td>0.68</td>\n",
              "      <td>0.67</td>\n",
              "      <td>0.67</td>\n",
              "      <td>0.67</td>\n",
              "      <td>0.02</td>\n",
              "    </tr>\n",
              "    <tr>\n",
              "      <th>RidgeClassifier</th>\n",
              "      <td>0.68</td>\n",
              "      <td>0.67</td>\n",
              "      <td>0.67</td>\n",
              "      <td>0.67</td>\n",
              "      <td>0.03</td>\n",
              "    </tr>\n",
              "    <tr>\n",
              "      <th>LinearDiscriminantAnalysis</th>\n",
              "      <td>0.68</td>\n",
              "      <td>0.67</td>\n",
              "      <td>0.67</td>\n",
              "      <td>0.67</td>\n",
              "      <td>0.03</td>\n",
              "    </tr>\n",
              "    <tr>\n",
              "      <th>LinearSVC</th>\n",
              "      <td>0.68</td>\n",
              "      <td>0.67</td>\n",
              "      <td>0.67</td>\n",
              "      <td>0.66</td>\n",
              "      <td>0.05</td>\n",
              "    </tr>\n",
              "    <tr>\n",
              "      <th>LabelSpreading</th>\n",
              "      <td>0.67</td>\n",
              "      <td>0.66</td>\n",
              "      <td>0.66</td>\n",
              "      <td>0.66</td>\n",
              "      <td>0.03</td>\n",
              "    </tr>\n",
              "    <tr>\n",
              "      <th>CalibratedClassifierCV</th>\n",
              "      <td>0.67</td>\n",
              "      <td>0.66</td>\n",
              "      <td>0.66</td>\n",
              "      <td>0.65</td>\n",
              "      <td>0.12</td>\n",
              "    </tr>\n",
              "    <tr>\n",
              "      <th>Perceptron</th>\n",
              "      <td>0.66</td>\n",
              "      <td>0.65</td>\n",
              "      <td>0.65</td>\n",
              "      <td>0.66</td>\n",
              "      <td>0.02</td>\n",
              "    </tr>\n",
              "    <tr>\n",
              "      <th>LabelPropagation</th>\n",
              "      <td>0.66</td>\n",
              "      <td>0.65</td>\n",
              "      <td>0.65</td>\n",
              "      <td>0.65</td>\n",
              "      <td>0.03</td>\n",
              "    </tr>\n",
              "    <tr>\n",
              "      <th>PassiveAggressiveClassifier</th>\n",
              "      <td>0.66</td>\n",
              "      <td>0.65</td>\n",
              "      <td>0.65</td>\n",
              "      <td>0.65</td>\n",
              "      <td>0.02</td>\n",
              "    </tr>\n",
              "    <tr>\n",
              "      <th>KNeighborsClassifier</th>\n",
              "      <td>0.66</td>\n",
              "      <td>0.65</td>\n",
              "      <td>0.65</td>\n",
              "      <td>0.65</td>\n",
              "      <td>0.02</td>\n",
              "    </tr>\n",
              "    <tr>\n",
              "      <th>SGDClassifier</th>\n",
              "      <td>0.65</td>\n",
              "      <td>0.64</td>\n",
              "      <td>0.64</td>\n",
              "      <td>0.65</td>\n",
              "      <td>0.02</td>\n",
              "    </tr>\n",
              "    <tr>\n",
              "      <th>BernoulliNB</th>\n",
              "      <td>0.65</td>\n",
              "      <td>0.64</td>\n",
              "      <td>0.64</td>\n",
              "      <td>0.64</td>\n",
              "      <td>0.02</td>\n",
              "    </tr>\n",
              "    <tr>\n",
              "      <th>NearestCentroid</th>\n",
              "      <td>0.65</td>\n",
              "      <td>0.64</td>\n",
              "      <td>0.64</td>\n",
              "      <td>0.64</td>\n",
              "      <td>0.02</td>\n",
              "    </tr>\n",
              "    <tr>\n",
              "      <th>BaggingClassifier</th>\n",
              "      <td>0.65</td>\n",
              "      <td>0.64</td>\n",
              "      <td>0.64</td>\n",
              "      <td>0.64</td>\n",
              "      <td>0.07</td>\n",
              "    </tr>\n",
              "    <tr>\n",
              "      <th>GaussianNB</th>\n",
              "      <td>0.64</td>\n",
              "      <td>0.62</td>\n",
              "      <td>0.62</td>\n",
              "      <td>0.62</td>\n",
              "      <td>0.02</td>\n",
              "    </tr>\n",
              "    <tr>\n",
              "      <th>QuadraticDiscriminantAnalysis</th>\n",
              "      <td>0.60</td>\n",
              "      <td>0.61</td>\n",
              "      <td>0.61</td>\n",
              "      <td>0.60</td>\n",
              "      <td>0.02</td>\n",
              "    </tr>\n",
              "    <tr>\n",
              "      <th>ExtraTreeClassifier</th>\n",
              "      <td>0.61</td>\n",
              "      <td>0.60</td>\n",
              "      <td>0.60</td>\n",
              "      <td>0.60</td>\n",
              "      <td>0.02</td>\n",
              "    </tr>\n",
              "    <tr>\n",
              "      <th>DecisionTreeClassifier</th>\n",
              "      <td>0.59</td>\n",
              "      <td>0.58</td>\n",
              "      <td>0.58</td>\n",
              "      <td>0.59</td>\n",
              "      <td>0.02</td>\n",
              "    </tr>\n",
              "    <tr>\n",
              "      <th>DummyClassifier</th>\n",
              "      <td>0.53</td>\n",
              "      <td>0.53</td>\n",
              "      <td>0.53</td>\n",
              "      <td>0.53</td>\n",
              "      <td>0.02</td>\n",
              "    </tr>\n",
              "  </tbody>\n",
              "</table>\n",
              "</div>"
            ],
            "text/plain": [
              "                               Accuracy  ...  Time Taken\n",
              "Model                                    ...            \n",
              "LGBMClassifier                     0.73  ...        0.05\n",
              "XGBClassifier                      0.73  ...        0.06\n",
              "AdaBoostClassifier                 0.72  ...        0.17\n",
              "SVC                                0.70  ...        0.02\n",
              "LogisticRegression                 0.70  ...        0.03\n",
              "ExtraTreesClassifier               0.68  ...        0.16\n",
              "RandomForestClassifier             0.68  ...        0.19\n",
              "NuSVC                              0.68  ...        0.02\n",
              "RidgeClassifierCV                  0.68  ...        0.02\n",
              "RidgeClassifier                    0.68  ...        0.03\n",
              "LinearDiscriminantAnalysis         0.68  ...        0.03\n",
              "LinearSVC                          0.68  ...        0.05\n",
              "LabelSpreading                     0.67  ...        0.03\n",
              "CalibratedClassifierCV             0.67  ...        0.12\n",
              "Perceptron                         0.66  ...        0.02\n",
              "LabelPropagation                   0.66  ...        0.03\n",
              "PassiveAggressiveClassifier        0.66  ...        0.02\n",
              "KNeighborsClassifier               0.66  ...        0.02\n",
              "SGDClassifier                      0.65  ...        0.02\n",
              "BernoulliNB                        0.65  ...        0.02\n",
              "NearestCentroid                    0.65  ...        0.02\n",
              "BaggingClassifier                  0.65  ...        0.07\n",
              "GaussianNB                         0.64  ...        0.02\n",
              "QuadraticDiscriminantAnalysis      0.60  ...        0.02\n",
              "ExtraTreeClassifier                0.61  ...        0.02\n",
              "DecisionTreeClassifier             0.59  ...        0.02\n",
              "DummyClassifier                    0.53  ...        0.02\n",
              "\n",
              "[27 rows x 5 columns]"
            ]
          },
          "metadata": {
            "tags": []
          },
          "execution_count": 169
        }
      ]
    },
    {
      "cell_type": "markdown",
      "metadata": {
        "id": "dJdQZyeYLFuX"
      },
      "source": [
        "## LGBMClassifier"
      ]
    },
    {
      "cell_type": "markdown",
      "metadata": {
        "id": "pYMGa8xxEinj"
      },
      "source": [
        "---\n",
        "O Light Gradiente Boosting Machine é um algoritmo baseado em árvores que possui uma grande velocidade de execução de treinos e testes.\n",
        "\n",
        "Embora tenha sido o algoritmo de escolha, dado o resultado no LazyPredict, o LGBMClassifier não é recomendado para conjuntos de dados pequenos pela  alta capacidade de *overfit*.\n",
        "\n",
        "---"
      ]
    },
    {
      "cell_type": "markdown",
      "metadata": {
        "id": "1cnV0enWxreY"
      },
      "source": [
        "---\n",
        "O parâmetro que será considerado como medida de sucesso é o AUC (Area Under the Curve). Este parâmetro resume em um único valor a curva ROC (Receiver Operating Characteristcs), que é uma curva de probabilidade.\n",
        "\n",
        "Quanto maior o valor AUC, maior é a chance do algoritmo conseguir classificar corretamente os registros.\n",
        "\n",
        "AUC inicial do LGBMClassifier considerando os parametros default foi de 0.74\n",
        "\n",
        "---"
      ]
    },
    {
      "cell_type": "code",
      "metadata": {
        "colab": {
          "base_uri": "https://localhost:8080/",
          "height": 34
        },
        "id": "AyfV6fq9xkzW",
        "outputId": "34806ec1-b659-457c-a871-a2c6abd68943"
      },
      "source": [
        "modelo = LGBMClassifier()\n",
        "teste, treino = roda_modelo_cv(modelo, dados_tratados_features, 5, 10)\n",
        "teste"
      ],
      "execution_count": null,
      "outputs": [
        {
          "output_type": "display_data",
          "data": {
            "application/javascript": [
              "\n",
              "        if (window._pyforest_update_imports_cell) { window._pyforest_update_imports_cell('import plotly.graph_objs as go\\nfrom sklearn.manifold import TSNE\\nimport tensorflow as tf\\nfrom sklearn.feature_extraction.text import TfidfVectorizer\\nimport lightgbm as lgb\\nimport tqdm\\nimport matplotlib.pyplot as plt\\nimport glob\\nimport re\\nimport statistics\\nimport numpy as np\\nimport pydot\\nimport pickle\\nimport seaborn as sns\\nimport plotly as py\\nimport matplotlib as mpl\\nimport bokeh\\nimport altair as alt\\nfrom openpyxl import load_workbook\\nimport sys\\nimport os\\nimport nltk\\nfrom sklearn import svm\\nimport sklearn\\nimport gensim\\nfrom sklearn.preprocessing import OneHotEncoder\\nimport xgboost as xgb\\nimport spacy\\nfrom sklearn.model_selection import train_test_split\\nimport plotly.express as px\\nimport pandas as pd'); }\n",
              "    "
            ],
            "text/plain": [
              "<IPython.core.display.Javascript object>"
            ]
          },
          "metadata": {
            "tags": []
          }
        },
        {
          "output_type": "display_data",
          "data": {
            "application/javascript": [
              "\n",
              "        if (window._pyforest_update_imports_cell) { window._pyforest_update_imports_cell('import plotly.graph_objs as go\\nfrom sklearn.manifold import TSNE\\nimport tensorflow as tf\\nfrom sklearn.feature_extraction.text import TfidfVectorizer\\nimport lightgbm as lgb\\nimport tqdm\\nimport matplotlib.pyplot as plt\\nimport glob\\nimport re\\nimport statistics\\nimport numpy as np\\nimport pydot\\nimport pickle\\nimport seaborn as sns\\nimport plotly as py\\nimport matplotlib as mpl\\nimport bokeh\\nimport altair as alt\\nfrom openpyxl import load_workbook\\nimport sys\\nimport os\\nimport nltk\\nfrom sklearn import svm\\nimport sklearn\\nimport gensim\\nfrom sklearn.preprocessing import OneHotEncoder\\nimport xgboost as xgb\\nimport spacy\\nfrom sklearn.model_selection import train_test_split\\nimport plotly.express as px\\nimport pandas as pd'); }\n",
              "    "
            ],
            "text/plain": [
              "<IPython.core.display.Javascript object>"
            ]
          },
          "metadata": {
            "tags": []
          }
        },
        {
          "output_type": "display_data",
          "data": {
            "application/javascript": [
              "\n",
              "        if (window._pyforest_update_imports_cell) { window._pyforest_update_imports_cell('import plotly.graph_objs as go\\nfrom sklearn.manifold import TSNE\\nimport tensorflow as tf\\nfrom sklearn.feature_extraction.text import TfidfVectorizer\\nimport lightgbm as lgb\\nimport tqdm\\nimport matplotlib.pyplot as plt\\nimport glob\\nimport re\\nimport statistics\\nimport numpy as np\\nimport pydot\\nimport pickle\\nimport seaborn as sns\\nimport plotly as py\\nimport matplotlib as mpl\\nimport bokeh\\nimport altair as alt\\nfrom openpyxl import load_workbook\\nimport sys\\nimport os\\nimport nltk\\nfrom sklearn import svm\\nimport sklearn\\nimport gensim\\nfrom sklearn.preprocessing import OneHotEncoder\\nimport xgboost as xgb\\nimport spacy\\nfrom sklearn.model_selection import train_test_split\\nimport plotly.express as px\\nimport pandas as pd'); }\n",
              "    "
            ],
            "text/plain": [
              "<IPython.core.display.Javascript object>"
            ]
          },
          "metadata": {
            "tags": []
          }
        },
        {
          "output_type": "execute_result",
          "data": {
            "text/plain": [
              "0.7376336803310488"
            ]
          },
          "metadata": {
            "tags": []
          },
          "execution_count": 273
        }
      ]
    },
    {
      "cell_type": "markdown",
      "metadata": {
        "id": "B1VfMGhtDRsL"
      },
      "source": [
        "Avaliacao de desempenho variando o parametro num_leaves.\n",
        "\n",
        "O LGBM Classifier possui um crescimento vertical, enquanto os algoritmos baseado em arvores cresce horizontalmente e, por isso, o parametro num_leaves tem grande importância."
      ]
    },
    {
      "cell_type": "code",
      "metadata": {
        "colab": {
          "base_uri": "https://localhost:8080/",
          "height": 313,
          "referenced_widgets": [
            "6e89b718ec1047619dca7d39d632ef53",
            "ef3a80a5065b44068f5d3284307b8d13",
            "8635c7e761b54a1daea0e65ac103fe18",
            "1527921f7234416e9fc7635602abd0b3",
            "05cc19abb87b499f8796f0a58cd42c54",
            "a7a53b26dff240f4894e215807d4507d",
            "66e378851cb043218c0f34f0e57a8031",
            "a63ef76ea9214654887dbd9375b7869d",
            "920aec1c3f5e4e4e8531f2d0472edda1",
            "d45f1f72860e4317ae5870a7ac7bfa91",
            "b474206d5c2c45cd9c6bf914a4cc55fd"
          ]
        },
        "id": "vIqSF_9TDC6u",
        "outputId": "48a9e14e-0c49-4270-fd70-c54aacc4c247"
      },
      "source": [
        "lgbm_leaves(dados_tratados_features, 0, 61, 1)"
      ],
      "execution_count": null,
      "outputs": [
        {
          "output_type": "display_data",
          "data": {
            "application/vnd.jupyter.widget-view+json": {
              "model_id": "6e89b718ec1047619dca7d39d632ef53",
              "version_minor": 0,
              "version_major": 2
            },
            "text/plain": [
              "  0%|          | 0/61 [00:00<?, ?it/s]"
            ]
          },
          "metadata": {
            "tags": []
          }
        },
        {
          "output_type": "display_data",
          "data": {
            "application/javascript": [
              "\n",
              "        if (window._pyforest_update_imports_cell) { window._pyforest_update_imports_cell('import plotly.graph_objs as go\\nfrom sklearn.manifold import TSNE\\nimport tensorflow as tf\\nfrom sklearn.feature_extraction.text import TfidfVectorizer\\nimport lightgbm as lgb\\nimport tqdm\\nimport matplotlib.pyplot as plt\\nimport glob\\nimport re\\nimport statistics\\nimport numpy as np\\nimport pydot\\nimport pickle\\nimport seaborn as sns\\nimport plotly as py\\nimport matplotlib as mpl\\nimport bokeh\\nimport altair as alt\\nfrom openpyxl import load_workbook\\nimport sys\\nimport nltk\\nfrom sklearn import svm\\nimport sklearn\\nimport gensim\\nimport xgboost as xgb\\nimport spacy\\nfrom sklearn.model_selection import train_test_split\\nimport plotly.express as px\\nimport pandas as pd'); }\n",
              "    "
            ],
            "text/plain": [
              "<IPython.core.display.Javascript object>"
            ]
          },
          "metadata": {
            "tags": []
          }
        },
        {
          "output_type": "display_data",
          "data": {
            "application/javascript": [
              "\n",
              "        if (window._pyforest_update_imports_cell) { window._pyforest_update_imports_cell('import plotly.graph_objs as go\\nfrom sklearn.manifold import TSNE\\nimport tensorflow as tf\\nfrom sklearn.feature_extraction.text import TfidfVectorizer\\nimport lightgbm as lgb\\nimport tqdm\\nimport matplotlib.pyplot as plt\\nimport glob\\nimport re\\nimport statistics\\nimport numpy as np\\nimport pydot\\nimport pickle\\nimport seaborn as sns\\nimport plotly as py\\nimport matplotlib as mpl\\nimport bokeh\\nimport altair as alt\\nfrom openpyxl import load_workbook\\nimport sys\\nimport nltk\\nfrom sklearn import svm\\nimport sklearn\\nimport gensim\\nimport xgboost as xgb\\nimport spacy\\nfrom sklearn.model_selection import train_test_split\\nimport plotly.express as px\\nimport pandas as pd'); }\n",
              "    "
            ],
            "text/plain": [
              "<IPython.core.display.Javascript object>"
            ]
          },
          "metadata": {
            "tags": []
          }
        },
        {
          "output_type": "display_data",
          "data": {
            "application/javascript": [
              "\n",
              "        if (window._pyforest_update_imports_cell) { window._pyforest_update_imports_cell('import plotly.graph_objs as go\\nfrom sklearn.manifold import TSNE\\nimport tensorflow as tf\\nfrom sklearn.feature_extraction.text import TfidfVectorizer\\nimport lightgbm as lgb\\nimport tqdm\\nimport matplotlib.pyplot as plt\\nimport glob\\nimport re\\nimport statistics\\nimport numpy as np\\nimport pydot\\nimport pickle\\nimport seaborn as sns\\nimport plotly as py\\nimport matplotlib as mpl\\nimport bokeh\\nimport altair as alt\\nfrom openpyxl import load_workbook\\nimport sys\\nimport nltk\\nfrom sklearn import svm\\nimport sklearn\\nimport gensim\\nimport xgboost as xgb\\nimport spacy\\nfrom sklearn.model_selection import train_test_split\\nimport plotly.express as px\\nimport pandas as pd'); }\n",
              "    "
            ],
            "text/plain": [
              "<IPython.core.display.Javascript object>"
            ]
          },
          "metadata": {
            "tags": []
          }
        },
        {
          "output_type": "display_data",
          "data": {
            "application/javascript": [
              "\n",
              "        if (window._pyforest_update_imports_cell) { window._pyforest_update_imports_cell('import plotly.graph_objs as go\\nfrom sklearn.manifold import TSNE\\nimport tensorflow as tf\\nfrom sklearn.feature_extraction.text import TfidfVectorizer\\nimport lightgbm as lgb\\nimport tqdm\\nimport matplotlib.pyplot as plt\\nimport glob\\nimport re\\nimport statistics\\nimport numpy as np\\nimport pydot\\nimport pickle\\nimport seaborn as sns\\nimport plotly as py\\nimport matplotlib as mpl\\nimport bokeh\\nimport altair as alt\\nfrom openpyxl import load_workbook\\nimport sys\\nimport nltk\\nfrom sklearn import svm\\nimport sklearn\\nimport gensim\\nimport xgboost as xgb\\nimport spacy\\nfrom sklearn.model_selection import train_test_split\\nimport plotly.express as px\\nimport pandas as pd'); }\n",
              "    "
            ],
            "text/plain": [
              "<IPython.core.display.Javascript object>"
            ]
          },
          "metadata": {
            "tags": []
          }
        },
        {
          "output_type": "display_data",
          "data": {
            "application/javascript": [
              "\n",
              "        if (window._pyforest_update_imports_cell) { window._pyforest_update_imports_cell('import plotly.graph_objs as go\\nfrom sklearn.manifold import TSNE\\nimport tensorflow as tf\\nfrom sklearn.feature_extraction.text import TfidfVectorizer\\nimport lightgbm as lgb\\nimport tqdm\\nimport matplotlib.pyplot as plt\\nimport glob\\nimport re\\nimport statistics\\nimport numpy as np\\nimport pydot\\nimport pickle\\nimport seaborn as sns\\nimport plotly as py\\nimport matplotlib as mpl\\nimport bokeh\\nimport altair as alt\\nfrom openpyxl import load_workbook\\nimport sys\\nimport nltk\\nfrom sklearn import svm\\nimport sklearn\\nimport gensim\\nimport xgboost as xgb\\nimport spacy\\nfrom sklearn.model_selection import train_test_split\\nimport plotly.express as px\\nimport pandas as pd'); }\n",
              "    "
            ],
            "text/plain": [
              "<IPython.core.display.Javascript object>"
            ]
          },
          "metadata": {
            "tags": []
          }
        },
        {
          "output_type": "display_data",
          "data": {
            "application/javascript": [
              "\n",
              "        if (window._pyforest_update_imports_cell) { window._pyforest_update_imports_cell('import plotly.graph_objs as go\\nfrom sklearn.manifold import TSNE\\nimport tensorflow as tf\\nfrom sklearn.feature_extraction.text import TfidfVectorizer\\nimport lightgbm as lgb\\nimport tqdm\\nimport matplotlib.pyplot as plt\\nimport glob\\nimport re\\nimport statistics\\nimport numpy as np\\nimport pydot\\nimport pickle\\nimport seaborn as sns\\nimport plotly as py\\nimport matplotlib as mpl\\nimport bokeh\\nimport altair as alt\\nfrom openpyxl import load_workbook\\nimport sys\\nimport nltk\\nfrom sklearn import svm\\nimport sklearn\\nimport gensim\\nimport xgboost as xgb\\nimport spacy\\nfrom sklearn.model_selection import train_test_split\\nimport plotly.express as px\\nimport pandas as pd'); }\n",
              "    "
            ],
            "text/plain": [
              "<IPython.core.display.Javascript object>"
            ]
          },
          "metadata": {
            "tags": []
          }
        },
        {
          "output_type": "display_data",
          "data": {
            "application/javascript": [
              "\n",
              "        if (window._pyforest_update_imports_cell) { window._pyforest_update_imports_cell('import plotly.graph_objs as go\\nfrom sklearn.manifold import TSNE\\nimport tensorflow as tf\\nfrom sklearn.feature_extraction.text import TfidfVectorizer\\nimport lightgbm as lgb\\nimport tqdm\\nimport matplotlib.pyplot as plt\\nimport glob\\nimport re\\nimport statistics\\nimport numpy as np\\nimport pydot\\nimport pickle\\nimport seaborn as sns\\nimport plotly as py\\nimport matplotlib as mpl\\nimport bokeh\\nimport altair as alt\\nfrom openpyxl import load_workbook\\nimport sys\\nimport nltk\\nfrom sklearn import svm\\nimport sklearn\\nimport gensim\\nimport xgboost as xgb\\nimport spacy\\nfrom sklearn.model_selection import train_test_split\\nimport plotly.express as px\\nimport pandas as pd'); }\n",
              "    "
            ],
            "text/plain": [
              "<IPython.core.display.Javascript object>"
            ]
          },
          "metadata": {
            "tags": []
          }
        },
        {
          "output_type": "display_data",
          "data": {
            "application/javascript": [
              "\n",
              "        if (window._pyforest_update_imports_cell) { window._pyforest_update_imports_cell('import plotly.graph_objs as go\\nfrom sklearn.manifold import TSNE\\nimport tensorflow as tf\\nfrom sklearn.feature_extraction.text import TfidfVectorizer\\nimport lightgbm as lgb\\nimport tqdm\\nimport matplotlib.pyplot as plt\\nimport glob\\nimport re\\nimport statistics\\nimport numpy as np\\nimport pydot\\nimport pickle\\nimport seaborn as sns\\nimport plotly as py\\nimport matplotlib as mpl\\nimport bokeh\\nimport altair as alt\\nfrom openpyxl import load_workbook\\nimport sys\\nimport nltk\\nfrom sklearn import svm\\nimport sklearn\\nimport gensim\\nimport xgboost as xgb\\nimport spacy\\nfrom sklearn.model_selection import train_test_split\\nimport plotly.express as px\\nimport pandas as pd'); }\n",
              "    "
            ],
            "text/plain": [
              "<IPython.core.display.Javascript object>"
            ]
          },
          "metadata": {
            "tags": []
          }
        },
        {
          "output_type": "display_data",
          "data": {
            "application/javascript": [
              "\n",
              "        if (window._pyforest_update_imports_cell) { window._pyforest_update_imports_cell('import plotly.graph_objs as go\\nfrom sklearn.manifold import TSNE\\nimport tensorflow as tf\\nfrom sklearn.feature_extraction.text import TfidfVectorizer\\nimport lightgbm as lgb\\nimport tqdm\\nimport matplotlib.pyplot as plt\\nimport glob\\nimport re\\nimport statistics\\nimport numpy as np\\nimport pydot\\nimport pickle\\nimport seaborn as sns\\nimport plotly as py\\nimport matplotlib as mpl\\nimport bokeh\\nimport altair as alt\\nfrom openpyxl import load_workbook\\nimport sys\\nimport nltk\\nfrom sklearn import svm\\nimport sklearn\\nimport gensim\\nimport xgboost as xgb\\nimport spacy\\nfrom sklearn.model_selection import train_test_split\\nimport plotly.express as px\\nimport pandas as pd'); }\n",
              "    "
            ],
            "text/plain": [
              "<IPython.core.display.Javascript object>"
            ]
          },
          "metadata": {
            "tags": []
          }
        },
        {
          "output_type": "display_data",
          "data": {
            "application/javascript": [
              "\n",
              "        if (window._pyforest_update_imports_cell) { window._pyforest_update_imports_cell('import plotly.graph_objs as go\\nfrom sklearn.manifold import TSNE\\nimport tensorflow as tf\\nfrom sklearn.feature_extraction.text import TfidfVectorizer\\nimport lightgbm as lgb\\nimport tqdm\\nimport matplotlib.pyplot as plt\\nimport glob\\nimport re\\nimport statistics\\nimport numpy as np\\nimport pydot\\nimport pickle\\nimport seaborn as sns\\nimport plotly as py\\nimport matplotlib as mpl\\nimport bokeh\\nimport altair as alt\\nfrom openpyxl import load_workbook\\nimport sys\\nimport nltk\\nfrom sklearn import svm\\nimport sklearn\\nimport gensim\\nimport xgboost as xgb\\nimport spacy\\nfrom sklearn.model_selection import train_test_split\\nimport plotly.express as px\\nimport pandas as pd'); }\n",
              "    "
            ],
            "text/plain": [
              "<IPython.core.display.Javascript object>"
            ]
          },
          "metadata": {
            "tags": []
          }
        },
        {
          "output_type": "display_data",
          "data": {
            "application/javascript": [
              "\n",
              "        if (window._pyforest_update_imports_cell) { window._pyforest_update_imports_cell('import plotly.graph_objs as go\\nfrom sklearn.manifold import TSNE\\nimport tensorflow as tf\\nfrom sklearn.feature_extraction.text import TfidfVectorizer\\nimport lightgbm as lgb\\nimport tqdm\\nimport matplotlib.pyplot as plt\\nimport glob\\nimport re\\nimport statistics\\nimport numpy as np\\nimport pydot\\nimport pickle\\nimport seaborn as sns\\nimport plotly as py\\nimport matplotlib as mpl\\nimport bokeh\\nimport altair as alt\\nfrom openpyxl import load_workbook\\nimport sys\\nimport nltk\\nfrom sklearn import svm\\nimport sklearn\\nimport gensim\\nimport xgboost as xgb\\nimport spacy\\nfrom sklearn.model_selection import train_test_split\\nimport plotly.express as px\\nimport pandas as pd'); }\n",
              "    "
            ],
            "text/plain": [
              "<IPython.core.display.Javascript object>"
            ]
          },
          "metadata": {
            "tags": []
          }
        },
        {
          "output_type": "display_data",
          "data": {
            "application/javascript": [
              "\n",
              "        if (window._pyforest_update_imports_cell) { window._pyforest_update_imports_cell('import plotly.graph_objs as go\\nfrom sklearn.manifold import TSNE\\nimport tensorflow as tf\\nfrom sklearn.feature_extraction.text import TfidfVectorizer\\nimport lightgbm as lgb\\nimport tqdm\\nimport matplotlib.pyplot as plt\\nimport glob\\nimport re\\nimport statistics\\nimport numpy as np\\nimport pydot\\nimport pickle\\nimport seaborn as sns\\nimport plotly as py\\nimport matplotlib as mpl\\nimport bokeh\\nimport altair as alt\\nfrom openpyxl import load_workbook\\nimport sys\\nimport nltk\\nfrom sklearn import svm\\nimport sklearn\\nimport gensim\\nimport xgboost as xgb\\nimport spacy\\nfrom sklearn.model_selection import train_test_split\\nimport plotly.express as px\\nimport pandas as pd'); }\n",
              "    "
            ],
            "text/plain": [
              "<IPython.core.display.Javascript object>"
            ]
          },
          "metadata": {
            "tags": []
          }
        },
        {
          "output_type": "display_data",
          "data": {
            "application/javascript": [
              "\n",
              "        if (window._pyforest_update_imports_cell) { window._pyforest_update_imports_cell('import plotly.graph_objs as go\\nfrom sklearn.manifold import TSNE\\nimport tensorflow as tf\\nfrom sklearn.feature_extraction.text import TfidfVectorizer\\nimport lightgbm as lgb\\nimport tqdm\\nimport matplotlib.pyplot as plt\\nimport glob\\nimport re\\nimport statistics\\nimport numpy as np\\nimport pydot\\nimport pickle\\nimport seaborn as sns\\nimport plotly as py\\nimport matplotlib as mpl\\nimport bokeh\\nimport altair as alt\\nfrom openpyxl import load_workbook\\nimport sys\\nimport nltk\\nfrom sklearn import svm\\nimport sklearn\\nimport gensim\\nimport xgboost as xgb\\nimport spacy\\nfrom sklearn.model_selection import train_test_split\\nimport plotly.express as px\\nimport pandas as pd'); }\n",
              "    "
            ],
            "text/plain": [
              "<IPython.core.display.Javascript object>"
            ]
          },
          "metadata": {
            "tags": []
          }
        },
        {
          "output_type": "display_data",
          "data": {
            "application/javascript": [
              "\n",
              "        if (window._pyforest_update_imports_cell) { window._pyforest_update_imports_cell('import plotly.graph_objs as go\\nfrom sklearn.manifold import TSNE\\nimport tensorflow as tf\\nfrom sklearn.feature_extraction.text import TfidfVectorizer\\nimport lightgbm as lgb\\nimport tqdm\\nimport matplotlib.pyplot as plt\\nimport glob\\nimport re\\nimport statistics\\nimport numpy as np\\nimport pydot\\nimport pickle\\nimport seaborn as sns\\nimport plotly as py\\nimport matplotlib as mpl\\nimport bokeh\\nimport altair as alt\\nfrom openpyxl import load_workbook\\nimport sys\\nimport nltk\\nfrom sklearn import svm\\nimport sklearn\\nimport gensim\\nimport xgboost as xgb\\nimport spacy\\nfrom sklearn.model_selection import train_test_split\\nimport plotly.express as px\\nimport pandas as pd'); }\n",
              "    "
            ],
            "text/plain": [
              "<IPython.core.display.Javascript object>"
            ]
          },
          "metadata": {
            "tags": []
          }
        },
        {
          "output_type": "display_data",
          "data": {
            "application/javascript": [
              "\n",
              "        if (window._pyforest_update_imports_cell) { window._pyforest_update_imports_cell('import plotly.graph_objs as go\\nfrom sklearn.manifold import TSNE\\nimport tensorflow as tf\\nfrom sklearn.feature_extraction.text import TfidfVectorizer\\nimport lightgbm as lgb\\nimport tqdm\\nimport matplotlib.pyplot as plt\\nimport glob\\nimport re\\nimport statistics\\nimport numpy as np\\nimport pydot\\nimport pickle\\nimport seaborn as sns\\nimport plotly as py\\nimport matplotlib as mpl\\nimport bokeh\\nimport altair as alt\\nfrom openpyxl import load_workbook\\nimport sys\\nimport nltk\\nfrom sklearn import svm\\nimport sklearn\\nimport gensim\\nimport xgboost as xgb\\nimport spacy\\nfrom sklearn.model_selection import train_test_split\\nimport plotly.express as px\\nimport pandas as pd'); }\n",
              "    "
            ],
            "text/plain": [
              "<IPython.core.display.Javascript object>"
            ]
          },
          "metadata": {
            "tags": []
          }
        },
        {
          "output_type": "display_data",
          "data": {
            "application/javascript": [
              "\n",
              "        if (window._pyforest_update_imports_cell) { window._pyforest_update_imports_cell('import plotly.graph_objs as go\\nfrom sklearn.manifold import TSNE\\nimport tensorflow as tf\\nfrom sklearn.feature_extraction.text import TfidfVectorizer\\nimport lightgbm as lgb\\nimport tqdm\\nimport matplotlib.pyplot as plt\\nimport glob\\nimport re\\nimport statistics\\nimport numpy as np\\nimport pydot\\nimport pickle\\nimport seaborn as sns\\nimport plotly as py\\nimport matplotlib as mpl\\nimport bokeh\\nimport altair as alt\\nfrom openpyxl import load_workbook\\nimport sys\\nimport nltk\\nfrom sklearn import svm\\nimport sklearn\\nimport gensim\\nimport xgboost as xgb\\nimport spacy\\nfrom sklearn.model_selection import train_test_split\\nimport plotly.express as px\\nimport pandas as pd'); }\n",
              "    "
            ],
            "text/plain": [
              "<IPython.core.display.Javascript object>"
            ]
          },
          "metadata": {
            "tags": []
          }
        },
        {
          "output_type": "display_data",
          "data": {
            "application/javascript": [
              "\n",
              "        if (window._pyforest_update_imports_cell) { window._pyforest_update_imports_cell('import plotly.graph_objs as go\\nfrom sklearn.manifold import TSNE\\nimport tensorflow as tf\\nfrom sklearn.feature_extraction.text import TfidfVectorizer\\nimport lightgbm as lgb\\nimport tqdm\\nimport matplotlib.pyplot as plt\\nimport glob\\nimport re\\nimport statistics\\nimport numpy as np\\nimport pydot\\nimport pickle\\nimport seaborn as sns\\nimport plotly as py\\nimport matplotlib as mpl\\nimport bokeh\\nimport altair as alt\\nfrom openpyxl import load_workbook\\nimport sys\\nimport nltk\\nfrom sklearn import svm\\nimport sklearn\\nimport gensim\\nimport xgboost as xgb\\nimport spacy\\nfrom sklearn.model_selection import train_test_split\\nimport plotly.express as px\\nimport pandas as pd'); }\n",
              "    "
            ],
            "text/plain": [
              "<IPython.core.display.Javascript object>"
            ]
          },
          "metadata": {
            "tags": []
          }
        },
        {
          "output_type": "display_data",
          "data": {
            "application/javascript": [
              "\n",
              "        if (window._pyforest_update_imports_cell) { window._pyforest_update_imports_cell('import plotly.graph_objs as go\\nfrom sklearn.manifold import TSNE\\nimport tensorflow as tf\\nfrom sklearn.feature_extraction.text import TfidfVectorizer\\nimport lightgbm as lgb\\nimport tqdm\\nimport matplotlib.pyplot as plt\\nimport glob\\nimport re\\nimport statistics\\nimport numpy as np\\nimport pydot\\nimport pickle\\nimport seaborn as sns\\nimport plotly as py\\nimport matplotlib as mpl\\nimport bokeh\\nimport altair as alt\\nfrom openpyxl import load_workbook\\nimport sys\\nimport nltk\\nfrom sklearn import svm\\nimport sklearn\\nimport gensim\\nimport xgboost as xgb\\nimport spacy\\nfrom sklearn.model_selection import train_test_split\\nimport plotly.express as px\\nimport pandas as pd'); }\n",
              "    "
            ],
            "text/plain": [
              "<IPython.core.display.Javascript object>"
            ]
          },
          "metadata": {
            "tags": []
          }
        },
        {
          "output_type": "display_data",
          "data": {
            "application/javascript": [
              "\n",
              "        if (window._pyforest_update_imports_cell) { window._pyforest_update_imports_cell('import plotly.graph_objs as go\\nfrom sklearn.manifold import TSNE\\nimport tensorflow as tf\\nfrom sklearn.feature_extraction.text import TfidfVectorizer\\nimport lightgbm as lgb\\nimport tqdm\\nimport matplotlib.pyplot as plt\\nimport glob\\nimport re\\nimport statistics\\nimport numpy as np\\nimport pydot\\nimport pickle\\nimport seaborn as sns\\nimport plotly as py\\nimport matplotlib as mpl\\nimport bokeh\\nimport altair as alt\\nfrom openpyxl import load_workbook\\nimport sys\\nimport nltk\\nfrom sklearn import svm\\nimport sklearn\\nimport gensim\\nimport xgboost as xgb\\nimport spacy\\nfrom sklearn.model_selection import train_test_split\\nimport plotly.express as px\\nimport pandas as pd'); }\n",
              "    "
            ],
            "text/plain": [
              "<IPython.core.display.Javascript object>"
            ]
          },
          "metadata": {
            "tags": []
          }
        },
        {
          "output_type": "display_data",
          "data": {
            "application/javascript": [
              "\n",
              "        if (window._pyforest_update_imports_cell) { window._pyforest_update_imports_cell('import plotly.graph_objs as go\\nfrom sklearn.manifold import TSNE\\nimport tensorflow as tf\\nfrom sklearn.feature_extraction.text import TfidfVectorizer\\nimport lightgbm as lgb\\nimport tqdm\\nimport matplotlib.pyplot as plt\\nimport glob\\nimport re\\nimport statistics\\nimport numpy as np\\nimport pydot\\nimport pickle\\nimport seaborn as sns\\nimport plotly as py\\nimport matplotlib as mpl\\nimport bokeh\\nimport altair as alt\\nfrom openpyxl import load_workbook\\nimport sys\\nimport nltk\\nfrom sklearn import svm\\nimport sklearn\\nimport gensim\\nimport xgboost as xgb\\nimport spacy\\nfrom sklearn.model_selection import train_test_split\\nimport plotly.express as px\\nimport pandas as pd'); }\n",
              "    "
            ],
            "text/plain": [
              "<IPython.core.display.Javascript object>"
            ]
          },
          "metadata": {
            "tags": []
          }
        },
        {
          "output_type": "display_data",
          "data": {
            "application/javascript": [
              "\n",
              "        if (window._pyforest_update_imports_cell) { window._pyforest_update_imports_cell('import plotly.graph_objs as go\\nfrom sklearn.manifold import TSNE\\nimport tensorflow as tf\\nfrom sklearn.feature_extraction.text import TfidfVectorizer\\nimport lightgbm as lgb\\nimport tqdm\\nimport matplotlib.pyplot as plt\\nimport glob\\nimport re\\nimport statistics\\nimport numpy as np\\nimport pydot\\nimport pickle\\nimport seaborn as sns\\nimport plotly as py\\nimport matplotlib as mpl\\nimport bokeh\\nimport altair as alt\\nfrom openpyxl import load_workbook\\nimport sys\\nimport nltk\\nfrom sklearn import svm\\nimport sklearn\\nimport gensim\\nimport xgboost as xgb\\nimport spacy\\nfrom sklearn.model_selection import train_test_split\\nimport plotly.express as px\\nimport pandas as pd'); }\n",
              "    "
            ],
            "text/plain": [
              "<IPython.core.display.Javascript object>"
            ]
          },
          "metadata": {
            "tags": []
          }
        },
        {
          "output_type": "display_data",
          "data": {
            "application/javascript": [
              "\n",
              "        if (window._pyforest_update_imports_cell) { window._pyforest_update_imports_cell('import plotly.graph_objs as go\\nfrom sklearn.manifold import TSNE\\nimport tensorflow as tf\\nfrom sklearn.feature_extraction.text import TfidfVectorizer\\nimport lightgbm as lgb\\nimport tqdm\\nimport matplotlib.pyplot as plt\\nimport glob\\nimport re\\nimport statistics\\nimport numpy as np\\nimport pydot\\nimport pickle\\nimport seaborn as sns\\nimport plotly as py\\nimport matplotlib as mpl\\nimport bokeh\\nimport altair as alt\\nfrom openpyxl import load_workbook\\nimport sys\\nimport nltk\\nfrom sklearn import svm\\nimport sklearn\\nimport gensim\\nimport xgboost as xgb\\nimport spacy\\nfrom sklearn.model_selection import train_test_split\\nimport plotly.express as px\\nimport pandas as pd'); }\n",
              "    "
            ],
            "text/plain": [
              "<IPython.core.display.Javascript object>"
            ]
          },
          "metadata": {
            "tags": []
          }
        },
        {
          "output_type": "display_data",
          "data": {
            "application/javascript": [
              "\n",
              "        if (window._pyforest_update_imports_cell) { window._pyforest_update_imports_cell('import plotly.graph_objs as go\\nfrom sklearn.manifold import TSNE\\nimport tensorflow as tf\\nfrom sklearn.feature_extraction.text import TfidfVectorizer\\nimport lightgbm as lgb\\nimport tqdm\\nimport matplotlib.pyplot as plt\\nimport glob\\nimport re\\nimport statistics\\nimport numpy as np\\nimport pydot\\nimport pickle\\nimport seaborn as sns\\nimport plotly as py\\nimport matplotlib as mpl\\nimport bokeh\\nimport altair as alt\\nfrom openpyxl import load_workbook\\nimport sys\\nimport nltk\\nfrom sklearn import svm\\nimport sklearn\\nimport gensim\\nimport xgboost as xgb\\nimport spacy\\nfrom sklearn.model_selection import train_test_split\\nimport plotly.express as px\\nimport pandas as pd'); }\n",
              "    "
            ],
            "text/plain": [
              "<IPython.core.display.Javascript object>"
            ]
          },
          "metadata": {
            "tags": []
          }
        },
        {
          "output_type": "display_data",
          "data": {
            "application/javascript": [
              "\n",
              "        if (window._pyforest_update_imports_cell) { window._pyforest_update_imports_cell('import plotly.graph_objs as go\\nfrom sklearn.manifold import TSNE\\nimport tensorflow as tf\\nfrom sklearn.feature_extraction.text import TfidfVectorizer\\nimport lightgbm as lgb\\nimport tqdm\\nimport matplotlib.pyplot as plt\\nimport glob\\nimport re\\nimport statistics\\nimport numpy as np\\nimport pydot\\nimport pickle\\nimport seaborn as sns\\nimport plotly as py\\nimport matplotlib as mpl\\nimport bokeh\\nimport altair as alt\\nfrom openpyxl import load_workbook\\nimport sys\\nimport nltk\\nfrom sklearn import svm\\nimport sklearn\\nimport gensim\\nimport xgboost as xgb\\nimport spacy\\nfrom sklearn.model_selection import train_test_split\\nimport plotly.express as px\\nimport pandas as pd'); }\n",
              "    "
            ],
            "text/plain": [
              "<IPython.core.display.Javascript object>"
            ]
          },
          "metadata": {
            "tags": []
          }
        },
        {
          "output_type": "display_data",
          "data": {
            "application/javascript": [
              "\n",
              "        if (window._pyforest_update_imports_cell) { window._pyforest_update_imports_cell('import plotly.graph_objs as go\\nfrom sklearn.manifold import TSNE\\nimport tensorflow as tf\\nfrom sklearn.feature_extraction.text import TfidfVectorizer\\nimport lightgbm as lgb\\nimport tqdm\\nimport matplotlib.pyplot as plt\\nimport glob\\nimport re\\nimport statistics\\nimport numpy as np\\nimport pydot\\nimport pickle\\nimport seaborn as sns\\nimport plotly as py\\nimport matplotlib as mpl\\nimport bokeh\\nimport altair as alt\\nfrom openpyxl import load_workbook\\nimport sys\\nimport nltk\\nfrom sklearn import svm\\nimport sklearn\\nimport gensim\\nimport xgboost as xgb\\nimport spacy\\nfrom sklearn.model_selection import train_test_split\\nimport plotly.express as px\\nimport pandas as pd'); }\n",
              "    "
            ],
            "text/plain": [
              "<IPython.core.display.Javascript object>"
            ]
          },
          "metadata": {
            "tags": []
          }
        },
        {
          "output_type": "display_data",
          "data": {
            "application/javascript": [
              "\n",
              "        if (window._pyforest_update_imports_cell) { window._pyforest_update_imports_cell('import plotly.graph_objs as go\\nfrom sklearn.manifold import TSNE\\nimport tensorflow as tf\\nfrom sklearn.feature_extraction.text import TfidfVectorizer\\nimport lightgbm as lgb\\nimport tqdm\\nimport matplotlib.pyplot as plt\\nimport glob\\nimport re\\nimport statistics\\nimport numpy as np\\nimport pydot\\nimport pickle\\nimport seaborn as sns\\nimport plotly as py\\nimport matplotlib as mpl\\nimport bokeh\\nimport altair as alt\\nfrom openpyxl import load_workbook\\nimport sys\\nimport nltk\\nfrom sklearn import svm\\nimport sklearn\\nimport gensim\\nimport xgboost as xgb\\nimport spacy\\nfrom sklearn.model_selection import train_test_split\\nimport plotly.express as px\\nimport pandas as pd'); }\n",
              "    "
            ],
            "text/plain": [
              "<IPython.core.display.Javascript object>"
            ]
          },
          "metadata": {
            "tags": []
          }
        },
        {
          "output_type": "display_data",
          "data": {
            "application/javascript": [
              "\n",
              "        if (window._pyforest_update_imports_cell) { window._pyforest_update_imports_cell('import plotly.graph_objs as go\\nfrom sklearn.manifold import TSNE\\nimport tensorflow as tf\\nfrom sklearn.feature_extraction.text import TfidfVectorizer\\nimport lightgbm as lgb\\nimport tqdm\\nimport matplotlib.pyplot as plt\\nimport glob\\nimport re\\nimport statistics\\nimport numpy as np\\nimport pydot\\nimport pickle\\nimport seaborn as sns\\nimport plotly as py\\nimport matplotlib as mpl\\nimport bokeh\\nimport altair as alt\\nfrom openpyxl import load_workbook\\nimport sys\\nimport nltk\\nfrom sklearn import svm\\nimport sklearn\\nimport gensim\\nimport xgboost as xgb\\nimport spacy\\nfrom sklearn.model_selection import train_test_split\\nimport plotly.express as px\\nimport pandas as pd'); }\n",
              "    "
            ],
            "text/plain": [
              "<IPython.core.display.Javascript object>"
            ]
          },
          "metadata": {
            "tags": []
          }
        },
        {
          "output_type": "display_data",
          "data": {
            "application/javascript": [
              "\n",
              "        if (window._pyforest_update_imports_cell) { window._pyforest_update_imports_cell('import plotly.graph_objs as go\\nfrom sklearn.manifold import TSNE\\nimport tensorflow as tf\\nfrom sklearn.feature_extraction.text import TfidfVectorizer\\nimport lightgbm as lgb\\nimport tqdm\\nimport matplotlib.pyplot as plt\\nimport glob\\nimport re\\nimport statistics\\nimport numpy as np\\nimport pydot\\nimport pickle\\nimport seaborn as sns\\nimport plotly as py\\nimport matplotlib as mpl\\nimport bokeh\\nimport altair as alt\\nfrom openpyxl import load_workbook\\nimport sys\\nimport nltk\\nfrom sklearn import svm\\nimport sklearn\\nimport gensim\\nimport xgboost as xgb\\nimport spacy\\nfrom sklearn.model_selection import train_test_split\\nimport plotly.express as px\\nimport pandas as pd'); }\n",
              "    "
            ],
            "text/plain": [
              "<IPython.core.display.Javascript object>"
            ]
          },
          "metadata": {
            "tags": []
          }
        },
        {
          "output_type": "display_data",
          "data": {
            "application/javascript": [
              "\n",
              "        if (window._pyforest_update_imports_cell) { window._pyforest_update_imports_cell('import plotly.graph_objs as go\\nfrom sklearn.manifold import TSNE\\nimport tensorflow as tf\\nfrom sklearn.feature_extraction.text import TfidfVectorizer\\nimport lightgbm as lgb\\nimport tqdm\\nimport matplotlib.pyplot as plt\\nimport glob\\nimport re\\nimport statistics\\nimport numpy as np\\nimport pydot\\nimport pickle\\nimport seaborn as sns\\nimport plotly as py\\nimport matplotlib as mpl\\nimport bokeh\\nimport altair as alt\\nfrom openpyxl import load_workbook\\nimport sys\\nimport nltk\\nfrom sklearn import svm\\nimport sklearn\\nimport gensim\\nimport xgboost as xgb\\nimport spacy\\nfrom sklearn.model_selection import train_test_split\\nimport plotly.express as px\\nimport pandas as pd'); }\n",
              "    "
            ],
            "text/plain": [
              "<IPython.core.display.Javascript object>"
            ]
          },
          "metadata": {
            "tags": []
          }
        },
        {
          "output_type": "display_data",
          "data": {
            "application/javascript": [
              "\n",
              "        if (window._pyforest_update_imports_cell) { window._pyforest_update_imports_cell('import plotly.graph_objs as go\\nfrom sklearn.manifold import TSNE\\nimport tensorflow as tf\\nfrom sklearn.feature_extraction.text import TfidfVectorizer\\nimport lightgbm as lgb\\nimport tqdm\\nimport matplotlib.pyplot as plt\\nimport glob\\nimport re\\nimport statistics\\nimport numpy as np\\nimport pydot\\nimport pickle\\nimport seaborn as sns\\nimport plotly as py\\nimport matplotlib as mpl\\nimport bokeh\\nimport altair as alt\\nfrom openpyxl import load_workbook\\nimport sys\\nimport nltk\\nfrom sklearn import svm\\nimport sklearn\\nimport gensim\\nimport xgboost as xgb\\nimport spacy\\nfrom sklearn.model_selection import train_test_split\\nimport plotly.express as px\\nimport pandas as pd'); }\n",
              "    "
            ],
            "text/plain": [
              "<IPython.core.display.Javascript object>"
            ]
          },
          "metadata": {
            "tags": []
          }
        },
        {
          "output_type": "display_data",
          "data": {
            "application/javascript": [
              "\n",
              "        if (window._pyforest_update_imports_cell) { window._pyforest_update_imports_cell('import plotly.graph_objs as go\\nfrom sklearn.manifold import TSNE\\nimport tensorflow as tf\\nfrom sklearn.feature_extraction.text import TfidfVectorizer\\nimport lightgbm as lgb\\nimport tqdm\\nimport matplotlib.pyplot as plt\\nimport glob\\nimport re\\nimport statistics\\nimport numpy as np\\nimport pydot\\nimport pickle\\nimport seaborn as sns\\nimport plotly as py\\nimport matplotlib as mpl\\nimport bokeh\\nimport altair as alt\\nfrom openpyxl import load_workbook\\nimport sys\\nimport nltk\\nfrom sklearn import svm\\nimport sklearn\\nimport gensim\\nimport xgboost as xgb\\nimport spacy\\nfrom sklearn.model_selection import train_test_split\\nimport plotly.express as px\\nimport pandas as pd'); }\n",
              "    "
            ],
            "text/plain": [
              "<IPython.core.display.Javascript object>"
            ]
          },
          "metadata": {
            "tags": []
          }
        },
        {
          "output_type": "display_data",
          "data": {
            "application/javascript": [
              "\n",
              "        if (window._pyforest_update_imports_cell) { window._pyforest_update_imports_cell('import plotly.graph_objs as go\\nfrom sklearn.manifold import TSNE\\nimport tensorflow as tf\\nfrom sklearn.feature_extraction.text import TfidfVectorizer\\nimport lightgbm as lgb\\nimport tqdm\\nimport matplotlib.pyplot as plt\\nimport glob\\nimport re\\nimport statistics\\nimport numpy as np\\nimport pydot\\nimport pickle\\nimport seaborn as sns\\nimport plotly as py\\nimport matplotlib as mpl\\nimport bokeh\\nimport altair as alt\\nfrom openpyxl import load_workbook\\nimport sys\\nimport nltk\\nfrom sklearn import svm\\nimport sklearn\\nimport gensim\\nimport xgboost as xgb\\nimport spacy\\nfrom sklearn.model_selection import train_test_split\\nimport plotly.express as px\\nimport pandas as pd'); }\n",
              "    "
            ],
            "text/plain": [
              "<IPython.core.display.Javascript object>"
            ]
          },
          "metadata": {
            "tags": []
          }
        },
        {
          "output_type": "display_data",
          "data": {
            "application/javascript": [
              "\n",
              "        if (window._pyforest_update_imports_cell) { window._pyforest_update_imports_cell('import plotly.graph_objs as go\\nfrom sklearn.manifold import TSNE\\nimport tensorflow as tf\\nfrom sklearn.feature_extraction.text import TfidfVectorizer\\nimport lightgbm as lgb\\nimport tqdm\\nimport matplotlib.pyplot as plt\\nimport glob\\nimport re\\nimport statistics\\nimport numpy as np\\nimport pydot\\nimport pickle\\nimport seaborn as sns\\nimport plotly as py\\nimport matplotlib as mpl\\nimport bokeh\\nimport altair as alt\\nfrom openpyxl import load_workbook\\nimport sys\\nimport nltk\\nfrom sklearn import svm\\nimport sklearn\\nimport gensim\\nimport xgboost as xgb\\nimport spacy\\nfrom sklearn.model_selection import train_test_split\\nimport plotly.express as px\\nimport pandas as pd'); }\n",
              "    "
            ],
            "text/plain": [
              "<IPython.core.display.Javascript object>"
            ]
          },
          "metadata": {
            "tags": []
          }
        },
        {
          "output_type": "display_data",
          "data": {
            "application/javascript": [
              "\n",
              "        if (window._pyforest_update_imports_cell) { window._pyforest_update_imports_cell('import plotly.graph_objs as go\\nfrom sklearn.manifold import TSNE\\nimport tensorflow as tf\\nfrom sklearn.feature_extraction.text import TfidfVectorizer\\nimport lightgbm as lgb\\nimport tqdm\\nimport matplotlib.pyplot as plt\\nimport glob\\nimport re\\nimport statistics\\nimport numpy as np\\nimport pydot\\nimport pickle\\nimport seaborn as sns\\nimport plotly as py\\nimport matplotlib as mpl\\nimport bokeh\\nimport altair as alt\\nfrom openpyxl import load_workbook\\nimport sys\\nimport nltk\\nfrom sklearn import svm\\nimport sklearn\\nimport gensim\\nimport xgboost as xgb\\nimport spacy\\nfrom sklearn.model_selection import train_test_split\\nimport plotly.express as px\\nimport pandas as pd'); }\n",
              "    "
            ],
            "text/plain": [
              "<IPython.core.display.Javascript object>"
            ]
          },
          "metadata": {
            "tags": []
          }
        },
        {
          "output_type": "display_data",
          "data": {
            "application/javascript": [
              "\n",
              "        if (window._pyforest_update_imports_cell) { window._pyforest_update_imports_cell('import plotly.graph_objs as go\\nfrom sklearn.manifold import TSNE\\nimport tensorflow as tf\\nfrom sklearn.feature_extraction.text import TfidfVectorizer\\nimport lightgbm as lgb\\nimport tqdm\\nimport matplotlib.pyplot as plt\\nimport glob\\nimport re\\nimport statistics\\nimport numpy as np\\nimport pydot\\nimport pickle\\nimport seaborn as sns\\nimport plotly as py\\nimport matplotlib as mpl\\nimport bokeh\\nimport altair as alt\\nfrom openpyxl import load_workbook\\nimport sys\\nimport nltk\\nfrom sklearn import svm\\nimport sklearn\\nimport gensim\\nimport xgboost as xgb\\nimport spacy\\nfrom sklearn.model_selection import train_test_split\\nimport plotly.express as px\\nimport pandas as pd'); }\n",
              "    "
            ],
            "text/plain": [
              "<IPython.core.display.Javascript object>"
            ]
          },
          "metadata": {
            "tags": []
          }
        },
        {
          "output_type": "display_data",
          "data": {
            "application/javascript": [
              "\n",
              "        if (window._pyforest_update_imports_cell) { window._pyforest_update_imports_cell('import plotly.graph_objs as go\\nfrom sklearn.manifold import TSNE\\nimport tensorflow as tf\\nfrom sklearn.feature_extraction.text import TfidfVectorizer\\nimport lightgbm as lgb\\nimport tqdm\\nimport matplotlib.pyplot as plt\\nimport glob\\nimport re\\nimport statistics\\nimport numpy as np\\nimport pydot\\nimport pickle\\nimport seaborn as sns\\nimport plotly as py\\nimport matplotlib as mpl\\nimport bokeh\\nimport altair as alt\\nfrom openpyxl import load_workbook\\nimport sys\\nimport nltk\\nfrom sklearn import svm\\nimport sklearn\\nimport gensim\\nimport xgboost as xgb\\nimport spacy\\nfrom sklearn.model_selection import train_test_split\\nimport plotly.express as px\\nimport pandas as pd'); }\n",
              "    "
            ],
            "text/plain": [
              "<IPython.core.display.Javascript object>"
            ]
          },
          "metadata": {
            "tags": []
          }
        },
        {
          "output_type": "display_data",
          "data": {
            "application/javascript": [
              "\n",
              "        if (window._pyforest_update_imports_cell) { window._pyforest_update_imports_cell('import plotly.graph_objs as go\\nfrom sklearn.manifold import TSNE\\nimport tensorflow as tf\\nfrom sklearn.feature_extraction.text import TfidfVectorizer\\nimport lightgbm as lgb\\nimport tqdm\\nimport matplotlib.pyplot as plt\\nimport glob\\nimport re\\nimport statistics\\nimport numpy as np\\nimport pydot\\nimport pickle\\nimport seaborn as sns\\nimport plotly as py\\nimport matplotlib as mpl\\nimport bokeh\\nimport altair as alt\\nfrom openpyxl import load_workbook\\nimport sys\\nimport nltk\\nfrom sklearn import svm\\nimport sklearn\\nimport gensim\\nimport xgboost as xgb\\nimport spacy\\nfrom sklearn.model_selection import train_test_split\\nimport plotly.express as px\\nimport pandas as pd'); }\n",
              "    "
            ],
            "text/plain": [
              "<IPython.core.display.Javascript object>"
            ]
          },
          "metadata": {
            "tags": []
          }
        },
        {
          "output_type": "display_data",
          "data": {
            "application/javascript": [
              "\n",
              "        if (window._pyforest_update_imports_cell) { window._pyforest_update_imports_cell('import plotly.graph_objs as go\\nfrom sklearn.manifold import TSNE\\nimport tensorflow as tf\\nfrom sklearn.feature_extraction.text import TfidfVectorizer\\nimport lightgbm as lgb\\nimport tqdm\\nimport matplotlib.pyplot as plt\\nimport glob\\nimport re\\nimport statistics\\nimport numpy as np\\nimport pydot\\nimport pickle\\nimport seaborn as sns\\nimport plotly as py\\nimport matplotlib as mpl\\nimport bokeh\\nimport altair as alt\\nfrom openpyxl import load_workbook\\nimport sys\\nimport nltk\\nfrom sklearn import svm\\nimport sklearn\\nimport gensim\\nimport xgboost as xgb\\nimport spacy\\nfrom sklearn.model_selection import train_test_split\\nimport plotly.express as px\\nimport pandas as pd'); }\n",
              "    "
            ],
            "text/plain": [
              "<IPython.core.display.Javascript object>"
            ]
          },
          "metadata": {
            "tags": []
          }
        },
        {
          "output_type": "display_data",
          "data": {
            "application/javascript": [
              "\n",
              "        if (window._pyforest_update_imports_cell) { window._pyforest_update_imports_cell('import plotly.graph_objs as go\\nfrom sklearn.manifold import TSNE\\nimport tensorflow as tf\\nfrom sklearn.feature_extraction.text import TfidfVectorizer\\nimport lightgbm as lgb\\nimport tqdm\\nimport matplotlib.pyplot as plt\\nimport glob\\nimport re\\nimport statistics\\nimport numpy as np\\nimport pydot\\nimport pickle\\nimport seaborn as sns\\nimport plotly as py\\nimport matplotlib as mpl\\nimport bokeh\\nimport altair as alt\\nfrom openpyxl import load_workbook\\nimport sys\\nimport nltk\\nfrom sklearn import svm\\nimport sklearn\\nimport gensim\\nimport xgboost as xgb\\nimport spacy\\nfrom sklearn.model_selection import train_test_split\\nimport plotly.express as px\\nimport pandas as pd'); }\n",
              "    "
            ],
            "text/plain": [
              "<IPython.core.display.Javascript object>"
            ]
          },
          "metadata": {
            "tags": []
          }
        },
        {
          "output_type": "display_data",
          "data": {
            "application/javascript": [
              "\n",
              "        if (window._pyforest_update_imports_cell) { window._pyforest_update_imports_cell('import plotly.graph_objs as go\\nfrom sklearn.manifold import TSNE\\nimport tensorflow as tf\\nfrom sklearn.feature_extraction.text import TfidfVectorizer\\nimport lightgbm as lgb\\nimport tqdm\\nimport matplotlib.pyplot as plt\\nimport glob\\nimport re\\nimport statistics\\nimport numpy as np\\nimport pydot\\nimport pickle\\nimport seaborn as sns\\nimport plotly as py\\nimport matplotlib as mpl\\nimport bokeh\\nimport altair as alt\\nfrom openpyxl import load_workbook\\nimport sys\\nimport nltk\\nfrom sklearn import svm\\nimport sklearn\\nimport gensim\\nimport xgboost as xgb\\nimport spacy\\nfrom sklearn.model_selection import train_test_split\\nimport plotly.express as px\\nimport pandas as pd'); }\n",
              "    "
            ],
            "text/plain": [
              "<IPython.core.display.Javascript object>"
            ]
          },
          "metadata": {
            "tags": []
          }
        },
        {
          "output_type": "display_data",
          "data": {
            "application/javascript": [
              "\n",
              "        if (window._pyforest_update_imports_cell) { window._pyforest_update_imports_cell('import plotly.graph_objs as go\\nfrom sklearn.manifold import TSNE\\nimport tensorflow as tf\\nfrom sklearn.feature_extraction.text import TfidfVectorizer\\nimport lightgbm as lgb\\nimport tqdm\\nimport matplotlib.pyplot as plt\\nimport glob\\nimport re\\nimport statistics\\nimport numpy as np\\nimport pydot\\nimport pickle\\nimport seaborn as sns\\nimport plotly as py\\nimport matplotlib as mpl\\nimport bokeh\\nimport altair as alt\\nfrom openpyxl import load_workbook\\nimport sys\\nimport nltk\\nfrom sklearn import svm\\nimport sklearn\\nimport gensim\\nimport xgboost as xgb\\nimport spacy\\nfrom sklearn.model_selection import train_test_split\\nimport plotly.express as px\\nimport pandas as pd'); }\n",
              "    "
            ],
            "text/plain": [
              "<IPython.core.display.Javascript object>"
            ]
          },
          "metadata": {
            "tags": []
          }
        },
        {
          "output_type": "display_data",
          "data": {
            "application/javascript": [
              "\n",
              "        if (window._pyforest_update_imports_cell) { window._pyforest_update_imports_cell('import plotly.graph_objs as go\\nfrom sklearn.manifold import TSNE\\nimport tensorflow as tf\\nfrom sklearn.feature_extraction.text import TfidfVectorizer\\nimport lightgbm as lgb\\nimport tqdm\\nimport matplotlib.pyplot as plt\\nimport glob\\nimport re\\nimport statistics\\nimport numpy as np\\nimport pydot\\nimport pickle\\nimport seaborn as sns\\nimport plotly as py\\nimport matplotlib as mpl\\nimport bokeh\\nimport altair as alt\\nfrom openpyxl import load_workbook\\nimport sys\\nimport nltk\\nfrom sklearn import svm\\nimport sklearn\\nimport gensim\\nimport xgboost as xgb\\nimport spacy\\nfrom sklearn.model_selection import train_test_split\\nimport plotly.express as px\\nimport pandas as pd'); }\n",
              "    "
            ],
            "text/plain": [
              "<IPython.core.display.Javascript object>"
            ]
          },
          "metadata": {
            "tags": []
          }
        },
        {
          "output_type": "display_data",
          "data": {
            "application/javascript": [
              "\n",
              "        if (window._pyforest_update_imports_cell) { window._pyforest_update_imports_cell('import plotly.graph_objs as go\\nfrom sklearn.manifold import TSNE\\nimport tensorflow as tf\\nfrom sklearn.feature_extraction.text import TfidfVectorizer\\nimport lightgbm as lgb\\nimport tqdm\\nimport matplotlib.pyplot as plt\\nimport glob\\nimport re\\nimport statistics\\nimport numpy as np\\nimport pydot\\nimport pickle\\nimport seaborn as sns\\nimport plotly as py\\nimport matplotlib as mpl\\nimport bokeh\\nimport altair as alt\\nfrom openpyxl import load_workbook\\nimport sys\\nimport nltk\\nfrom sklearn import svm\\nimport sklearn\\nimport gensim\\nimport xgboost as xgb\\nimport spacy\\nfrom sklearn.model_selection import train_test_split\\nimport plotly.express as px\\nimport pandas as pd'); }\n",
              "    "
            ],
            "text/plain": [
              "<IPython.core.display.Javascript object>"
            ]
          },
          "metadata": {
            "tags": []
          }
        },
        {
          "output_type": "display_data",
          "data": {
            "application/javascript": [
              "\n",
              "        if (window._pyforest_update_imports_cell) { window._pyforest_update_imports_cell('import plotly.graph_objs as go\\nfrom sklearn.manifold import TSNE\\nimport tensorflow as tf\\nfrom sklearn.feature_extraction.text import TfidfVectorizer\\nimport lightgbm as lgb\\nimport tqdm\\nimport matplotlib.pyplot as plt\\nimport glob\\nimport re\\nimport statistics\\nimport numpy as np\\nimport pydot\\nimport pickle\\nimport seaborn as sns\\nimport plotly as py\\nimport matplotlib as mpl\\nimport bokeh\\nimport altair as alt\\nfrom openpyxl import load_workbook\\nimport sys\\nimport nltk\\nfrom sklearn import svm\\nimport sklearn\\nimport gensim\\nimport xgboost as xgb\\nimport spacy\\nfrom sklearn.model_selection import train_test_split\\nimport plotly.express as px\\nimport pandas as pd'); }\n",
              "    "
            ],
            "text/plain": [
              "<IPython.core.display.Javascript object>"
            ]
          },
          "metadata": {
            "tags": []
          }
        },
        {
          "output_type": "display_data",
          "data": {
            "application/javascript": [
              "\n",
              "        if (window._pyforest_update_imports_cell) { window._pyforest_update_imports_cell('import plotly.graph_objs as go\\nfrom sklearn.manifold import TSNE\\nimport tensorflow as tf\\nfrom sklearn.feature_extraction.text import TfidfVectorizer\\nimport lightgbm as lgb\\nimport tqdm\\nimport matplotlib.pyplot as plt\\nimport glob\\nimport re\\nimport statistics\\nimport numpy as np\\nimport pydot\\nimport pickle\\nimport seaborn as sns\\nimport plotly as py\\nimport matplotlib as mpl\\nimport bokeh\\nimport altair as alt\\nfrom openpyxl import load_workbook\\nimport sys\\nimport nltk\\nfrom sklearn import svm\\nimport sklearn\\nimport gensim\\nimport xgboost as xgb\\nimport spacy\\nfrom sklearn.model_selection import train_test_split\\nimport plotly.express as px\\nimport pandas as pd'); }\n",
              "    "
            ],
            "text/plain": [
              "<IPython.core.display.Javascript object>"
            ]
          },
          "metadata": {
            "tags": []
          }
        },
        {
          "output_type": "display_data",
          "data": {
            "application/javascript": [
              "\n",
              "        if (window._pyforest_update_imports_cell) { window._pyforest_update_imports_cell('import plotly.graph_objs as go\\nfrom sklearn.manifold import TSNE\\nimport tensorflow as tf\\nfrom sklearn.feature_extraction.text import TfidfVectorizer\\nimport lightgbm as lgb\\nimport tqdm\\nimport matplotlib.pyplot as plt\\nimport glob\\nimport re\\nimport statistics\\nimport numpy as np\\nimport pydot\\nimport pickle\\nimport seaborn as sns\\nimport plotly as py\\nimport matplotlib as mpl\\nimport bokeh\\nimport altair as alt\\nfrom openpyxl import load_workbook\\nimport sys\\nimport nltk\\nfrom sklearn import svm\\nimport sklearn\\nimport gensim\\nimport xgboost as xgb\\nimport spacy\\nfrom sklearn.model_selection import train_test_split\\nimport plotly.express as px\\nimport pandas as pd'); }\n",
              "    "
            ],
            "text/plain": [
              "<IPython.core.display.Javascript object>"
            ]
          },
          "metadata": {
            "tags": []
          }
        },
        {
          "output_type": "display_data",
          "data": {
            "application/javascript": [
              "\n",
              "        if (window._pyforest_update_imports_cell) { window._pyforest_update_imports_cell('import plotly.graph_objs as go\\nfrom sklearn.manifold import TSNE\\nimport tensorflow as tf\\nfrom sklearn.feature_extraction.text import TfidfVectorizer\\nimport lightgbm as lgb\\nimport tqdm\\nimport matplotlib.pyplot as plt\\nimport glob\\nimport re\\nimport statistics\\nimport numpy as np\\nimport pydot\\nimport pickle\\nimport seaborn as sns\\nimport plotly as py\\nimport matplotlib as mpl\\nimport bokeh\\nimport altair as alt\\nfrom openpyxl import load_workbook\\nimport sys\\nimport nltk\\nfrom sklearn import svm\\nimport sklearn\\nimport gensim\\nimport xgboost as xgb\\nimport spacy\\nfrom sklearn.model_selection import train_test_split\\nimport plotly.express as px\\nimport pandas as pd'); }\n",
              "    "
            ],
            "text/plain": [
              "<IPython.core.display.Javascript object>"
            ]
          },
          "metadata": {
            "tags": []
          }
        },
        {
          "output_type": "display_data",
          "data": {
            "application/javascript": [
              "\n",
              "        if (window._pyforest_update_imports_cell) { window._pyforest_update_imports_cell('import plotly.graph_objs as go\\nfrom sklearn.manifold import TSNE\\nimport tensorflow as tf\\nfrom sklearn.feature_extraction.text import TfidfVectorizer\\nimport lightgbm as lgb\\nimport tqdm\\nimport matplotlib.pyplot as plt\\nimport glob\\nimport re\\nimport statistics\\nimport numpy as np\\nimport pydot\\nimport pickle\\nimport seaborn as sns\\nimport plotly as py\\nimport matplotlib as mpl\\nimport bokeh\\nimport altair as alt\\nfrom openpyxl import load_workbook\\nimport sys\\nimport nltk\\nfrom sklearn import svm\\nimport sklearn\\nimport gensim\\nimport xgboost as xgb\\nimport spacy\\nfrom sklearn.model_selection import train_test_split\\nimport plotly.express as px\\nimport pandas as pd'); }\n",
              "    "
            ],
            "text/plain": [
              "<IPython.core.display.Javascript object>"
            ]
          },
          "metadata": {
            "tags": []
          }
        },
        {
          "output_type": "display_data",
          "data": {
            "application/javascript": [
              "\n",
              "        if (window._pyforest_update_imports_cell) { window._pyforest_update_imports_cell('import plotly.graph_objs as go\\nfrom sklearn.manifold import TSNE\\nimport tensorflow as tf\\nfrom sklearn.feature_extraction.text import TfidfVectorizer\\nimport lightgbm as lgb\\nimport tqdm\\nimport matplotlib.pyplot as plt\\nimport glob\\nimport re\\nimport statistics\\nimport numpy as np\\nimport pydot\\nimport pickle\\nimport seaborn as sns\\nimport plotly as py\\nimport matplotlib as mpl\\nimport bokeh\\nimport altair as alt\\nfrom openpyxl import load_workbook\\nimport sys\\nimport nltk\\nfrom sklearn import svm\\nimport sklearn\\nimport gensim\\nimport xgboost as xgb\\nimport spacy\\nfrom sklearn.model_selection import train_test_split\\nimport plotly.express as px\\nimport pandas as pd'); }\n",
              "    "
            ],
            "text/plain": [
              "<IPython.core.display.Javascript object>"
            ]
          },
          "metadata": {
            "tags": []
          }
        },
        {
          "output_type": "display_data",
          "data": {
            "application/javascript": [
              "\n",
              "        if (window._pyforest_update_imports_cell) { window._pyforest_update_imports_cell('import plotly.graph_objs as go\\nfrom sklearn.manifold import TSNE\\nimport tensorflow as tf\\nfrom sklearn.feature_extraction.text import TfidfVectorizer\\nimport lightgbm as lgb\\nimport tqdm\\nimport matplotlib.pyplot as plt\\nimport glob\\nimport re\\nimport statistics\\nimport numpy as np\\nimport pydot\\nimport pickle\\nimport seaborn as sns\\nimport plotly as py\\nimport matplotlib as mpl\\nimport bokeh\\nimport altair as alt\\nfrom openpyxl import load_workbook\\nimport sys\\nimport nltk\\nfrom sklearn import svm\\nimport sklearn\\nimport gensim\\nimport xgboost as xgb\\nimport spacy\\nfrom sklearn.model_selection import train_test_split\\nimport plotly.express as px\\nimport pandas as pd'); }\n",
              "    "
            ],
            "text/plain": [
              "<IPython.core.display.Javascript object>"
            ]
          },
          "metadata": {
            "tags": []
          }
        },
        {
          "output_type": "display_data",
          "data": {
            "application/javascript": [
              "\n",
              "        if (window._pyforest_update_imports_cell) { window._pyforest_update_imports_cell('import plotly.graph_objs as go\\nfrom sklearn.manifold import TSNE\\nimport tensorflow as tf\\nfrom sklearn.feature_extraction.text import TfidfVectorizer\\nimport lightgbm as lgb\\nimport tqdm\\nimport matplotlib.pyplot as plt\\nimport glob\\nimport re\\nimport statistics\\nimport numpy as np\\nimport pydot\\nimport pickle\\nimport seaborn as sns\\nimport plotly as py\\nimport matplotlib as mpl\\nimport bokeh\\nimport altair as alt\\nfrom openpyxl import load_workbook\\nimport sys\\nimport nltk\\nfrom sklearn import svm\\nimport sklearn\\nimport gensim\\nimport xgboost as xgb\\nimport spacy\\nfrom sklearn.model_selection import train_test_split\\nimport plotly.express as px\\nimport pandas as pd'); }\n",
              "    "
            ],
            "text/plain": [
              "<IPython.core.display.Javascript object>"
            ]
          },
          "metadata": {
            "tags": []
          }
        },
        {
          "output_type": "display_data",
          "data": {
            "application/javascript": [
              "\n",
              "        if (window._pyforest_update_imports_cell) { window._pyforest_update_imports_cell('import plotly.graph_objs as go\\nfrom sklearn.manifold import TSNE\\nimport tensorflow as tf\\nfrom sklearn.feature_extraction.text import TfidfVectorizer\\nimport lightgbm as lgb\\nimport tqdm\\nimport matplotlib.pyplot as plt\\nimport glob\\nimport re\\nimport statistics\\nimport numpy as np\\nimport pydot\\nimport pickle\\nimport seaborn as sns\\nimport plotly as py\\nimport matplotlib as mpl\\nimport bokeh\\nimport altair as alt\\nfrom openpyxl import load_workbook\\nimport sys\\nimport nltk\\nfrom sklearn import svm\\nimport sklearn\\nimport gensim\\nimport xgboost as xgb\\nimport spacy\\nfrom sklearn.model_selection import train_test_split\\nimport plotly.express as px\\nimport pandas as pd'); }\n",
              "    "
            ],
            "text/plain": [
              "<IPython.core.display.Javascript object>"
            ]
          },
          "metadata": {
            "tags": []
          }
        },
        {
          "output_type": "display_data",
          "data": {
            "application/javascript": [
              "\n",
              "        if (window._pyforest_update_imports_cell) { window._pyforest_update_imports_cell('import plotly.graph_objs as go\\nfrom sklearn.manifold import TSNE\\nimport tensorflow as tf\\nfrom sklearn.feature_extraction.text import TfidfVectorizer\\nimport lightgbm as lgb\\nimport tqdm\\nimport matplotlib.pyplot as plt\\nimport glob\\nimport re\\nimport statistics\\nimport numpy as np\\nimport pydot\\nimport pickle\\nimport seaborn as sns\\nimport plotly as py\\nimport matplotlib as mpl\\nimport bokeh\\nimport altair as alt\\nfrom openpyxl import load_workbook\\nimport sys\\nimport nltk\\nfrom sklearn import svm\\nimport sklearn\\nimport gensim\\nimport xgboost as xgb\\nimport spacy\\nfrom sklearn.model_selection import train_test_split\\nimport plotly.express as px\\nimport pandas as pd'); }\n",
              "    "
            ],
            "text/plain": [
              "<IPython.core.display.Javascript object>"
            ]
          },
          "metadata": {
            "tags": []
          }
        },
        {
          "output_type": "display_data",
          "data": {
            "application/javascript": [
              "\n",
              "        if (window._pyforest_update_imports_cell) { window._pyforest_update_imports_cell('import plotly.graph_objs as go\\nfrom sklearn.manifold import TSNE\\nimport tensorflow as tf\\nfrom sklearn.feature_extraction.text import TfidfVectorizer\\nimport lightgbm as lgb\\nimport tqdm\\nimport matplotlib.pyplot as plt\\nimport glob\\nimport re\\nimport statistics\\nimport numpy as np\\nimport pydot\\nimport pickle\\nimport seaborn as sns\\nimport plotly as py\\nimport matplotlib as mpl\\nimport bokeh\\nimport altair as alt\\nfrom openpyxl import load_workbook\\nimport sys\\nimport nltk\\nfrom sklearn import svm\\nimport sklearn\\nimport gensim\\nimport xgboost as xgb\\nimport spacy\\nfrom sklearn.model_selection import train_test_split\\nimport plotly.express as px\\nimport pandas as pd'); }\n",
              "    "
            ],
            "text/plain": [
              "<IPython.core.display.Javascript object>"
            ]
          },
          "metadata": {
            "tags": []
          }
        },
        {
          "output_type": "display_data",
          "data": {
            "application/javascript": [
              "\n",
              "        if (window._pyforest_update_imports_cell) { window._pyforest_update_imports_cell('import plotly.graph_objs as go\\nfrom sklearn.manifold import TSNE\\nimport tensorflow as tf\\nfrom sklearn.feature_extraction.text import TfidfVectorizer\\nimport lightgbm as lgb\\nimport tqdm\\nimport matplotlib.pyplot as plt\\nimport glob\\nimport re\\nimport statistics\\nimport numpy as np\\nimport pydot\\nimport pickle\\nimport seaborn as sns\\nimport plotly as py\\nimport matplotlib as mpl\\nimport bokeh\\nimport altair as alt\\nfrom openpyxl import load_workbook\\nimport sys\\nimport nltk\\nfrom sklearn import svm\\nimport sklearn\\nimport gensim\\nimport xgboost as xgb\\nimport spacy\\nfrom sklearn.model_selection import train_test_split\\nimport plotly.express as px\\nimport pandas as pd'); }\n",
              "    "
            ],
            "text/plain": [
              "<IPython.core.display.Javascript object>"
            ]
          },
          "metadata": {
            "tags": []
          }
        },
        {
          "output_type": "display_data",
          "data": {
            "application/javascript": [
              "\n",
              "        if (window._pyforest_update_imports_cell) { window._pyforest_update_imports_cell('import plotly.graph_objs as go\\nfrom sklearn.manifold import TSNE\\nimport tensorflow as tf\\nfrom sklearn.feature_extraction.text import TfidfVectorizer\\nimport lightgbm as lgb\\nimport tqdm\\nimport matplotlib.pyplot as plt\\nimport glob\\nimport re\\nimport statistics\\nimport numpy as np\\nimport pydot\\nimport pickle\\nimport seaborn as sns\\nimport plotly as py\\nimport matplotlib as mpl\\nimport bokeh\\nimport altair as alt\\nfrom openpyxl import load_workbook\\nimport sys\\nimport nltk\\nfrom sklearn import svm\\nimport sklearn\\nimport gensim\\nimport xgboost as xgb\\nimport spacy\\nfrom sklearn.model_selection import train_test_split\\nimport plotly.express as px\\nimport pandas as pd'); }\n",
              "    "
            ],
            "text/plain": [
              "<IPython.core.display.Javascript object>"
            ]
          },
          "metadata": {
            "tags": []
          }
        },
        {
          "output_type": "display_data",
          "data": {
            "application/javascript": [
              "\n",
              "        if (window._pyforest_update_imports_cell) { window._pyforest_update_imports_cell('import plotly.graph_objs as go\\nfrom sklearn.manifold import TSNE\\nimport tensorflow as tf\\nfrom sklearn.feature_extraction.text import TfidfVectorizer\\nimport lightgbm as lgb\\nimport tqdm\\nimport matplotlib.pyplot as plt\\nimport glob\\nimport re\\nimport statistics\\nimport numpy as np\\nimport pydot\\nimport pickle\\nimport seaborn as sns\\nimport plotly as py\\nimport matplotlib as mpl\\nimport bokeh\\nimport altair as alt\\nfrom openpyxl import load_workbook\\nimport sys\\nimport nltk\\nfrom sklearn import svm\\nimport sklearn\\nimport gensim\\nimport xgboost as xgb\\nimport spacy\\nfrom sklearn.model_selection import train_test_split\\nimport plotly.express as px\\nimport pandas as pd'); }\n",
              "    "
            ],
            "text/plain": [
              "<IPython.core.display.Javascript object>"
            ]
          },
          "metadata": {
            "tags": []
          }
        },
        {
          "output_type": "display_data",
          "data": {
            "application/javascript": [
              "\n",
              "        if (window._pyforest_update_imports_cell) { window._pyforest_update_imports_cell('import plotly.graph_objs as go\\nfrom sklearn.manifold import TSNE\\nimport tensorflow as tf\\nfrom sklearn.feature_extraction.text import TfidfVectorizer\\nimport lightgbm as lgb\\nimport tqdm\\nimport matplotlib.pyplot as plt\\nimport glob\\nimport re\\nimport statistics\\nimport numpy as np\\nimport pydot\\nimport pickle\\nimport seaborn as sns\\nimport plotly as py\\nimport matplotlib as mpl\\nimport bokeh\\nimport altair as alt\\nfrom openpyxl import load_workbook\\nimport sys\\nimport nltk\\nfrom sklearn import svm\\nimport sklearn\\nimport gensim\\nimport xgboost as xgb\\nimport spacy\\nfrom sklearn.model_selection import train_test_split\\nimport plotly.express as px\\nimport pandas as pd'); }\n",
              "    "
            ],
            "text/plain": [
              "<IPython.core.display.Javascript object>"
            ]
          },
          "metadata": {
            "tags": []
          }
        },
        {
          "output_type": "display_data",
          "data": {
            "application/javascript": [
              "\n",
              "        if (window._pyforest_update_imports_cell) { window._pyforest_update_imports_cell('import plotly.graph_objs as go\\nfrom sklearn.manifold import TSNE\\nimport tensorflow as tf\\nfrom sklearn.feature_extraction.text import TfidfVectorizer\\nimport lightgbm as lgb\\nimport tqdm\\nimport matplotlib.pyplot as plt\\nimport glob\\nimport re\\nimport statistics\\nimport numpy as np\\nimport pydot\\nimport pickle\\nimport seaborn as sns\\nimport plotly as py\\nimport matplotlib as mpl\\nimport bokeh\\nimport altair as alt\\nfrom openpyxl import load_workbook\\nimport sys\\nimport nltk\\nfrom sklearn import svm\\nimport sklearn\\nimport gensim\\nimport xgboost as xgb\\nimport spacy\\nfrom sklearn.model_selection import train_test_split\\nimport plotly.express as px\\nimport pandas as pd'); }\n",
              "    "
            ],
            "text/plain": [
              "<IPython.core.display.Javascript object>"
            ]
          },
          "metadata": {
            "tags": []
          }
        },
        {
          "output_type": "display_data",
          "data": {
            "application/javascript": [
              "\n",
              "        if (window._pyforest_update_imports_cell) { window._pyforest_update_imports_cell('import plotly.graph_objs as go\\nfrom sklearn.manifold import TSNE\\nimport tensorflow as tf\\nfrom sklearn.feature_extraction.text import TfidfVectorizer\\nimport lightgbm as lgb\\nimport tqdm\\nimport matplotlib.pyplot as plt\\nimport glob\\nimport re\\nimport statistics\\nimport numpy as np\\nimport pydot\\nimport pickle\\nimport seaborn as sns\\nimport plotly as py\\nimport matplotlib as mpl\\nimport bokeh\\nimport altair as alt\\nfrom openpyxl import load_workbook\\nimport sys\\nimport nltk\\nfrom sklearn import svm\\nimport sklearn\\nimport gensim\\nimport xgboost as xgb\\nimport spacy\\nfrom sklearn.model_selection import train_test_split\\nimport plotly.express as px\\nimport pandas as pd'); }\n",
              "    "
            ],
            "text/plain": [
              "<IPython.core.display.Javascript object>"
            ]
          },
          "metadata": {
            "tags": []
          }
        },
        {
          "output_type": "display_data",
          "data": {
            "application/javascript": [
              "\n",
              "        if (window._pyforest_update_imports_cell) { window._pyforest_update_imports_cell('import plotly.graph_objs as go\\nfrom sklearn.manifold import TSNE\\nimport tensorflow as tf\\nfrom sklearn.feature_extraction.text import TfidfVectorizer\\nimport lightgbm as lgb\\nimport tqdm\\nimport matplotlib.pyplot as plt\\nimport glob\\nimport re\\nimport statistics\\nimport numpy as np\\nimport pydot\\nimport pickle\\nimport seaborn as sns\\nimport plotly as py\\nimport matplotlib as mpl\\nimport bokeh\\nimport altair as alt\\nfrom openpyxl import load_workbook\\nimport sys\\nimport nltk\\nfrom sklearn import svm\\nimport sklearn\\nimport gensim\\nimport xgboost as xgb\\nimport spacy\\nfrom sklearn.model_selection import train_test_split\\nimport plotly.express as px\\nimport pandas as pd'); }\n",
              "    "
            ],
            "text/plain": [
              "<IPython.core.display.Javascript object>"
            ]
          },
          "metadata": {
            "tags": []
          }
        },
        {
          "output_type": "display_data",
          "data": {
            "application/javascript": [
              "\n",
              "        if (window._pyforest_update_imports_cell) { window._pyforest_update_imports_cell('import plotly.graph_objs as go\\nfrom sklearn.manifold import TSNE\\nimport tensorflow as tf\\nfrom sklearn.feature_extraction.text import TfidfVectorizer\\nimport lightgbm as lgb\\nimport tqdm\\nimport matplotlib.pyplot as plt\\nimport glob\\nimport re\\nimport statistics\\nimport numpy as np\\nimport pydot\\nimport pickle\\nimport seaborn as sns\\nimport plotly as py\\nimport matplotlib as mpl\\nimport bokeh\\nimport altair as alt\\nfrom openpyxl import load_workbook\\nimport sys\\nimport nltk\\nfrom sklearn import svm\\nimport sklearn\\nimport gensim\\nimport xgboost as xgb\\nimport spacy\\nfrom sklearn.model_selection import train_test_split\\nimport plotly.express as px\\nimport pandas as pd'); }\n",
              "    "
            ],
            "text/plain": [
              "<IPython.core.display.Javascript object>"
            ]
          },
          "metadata": {
            "tags": []
          }
        },
        {
          "output_type": "display_data",
          "data": {
            "application/javascript": [
              "\n",
              "        if (window._pyforest_update_imports_cell) { window._pyforest_update_imports_cell('import plotly.graph_objs as go\\nfrom sklearn.manifold import TSNE\\nimport tensorflow as tf\\nfrom sklearn.feature_extraction.text import TfidfVectorizer\\nimport lightgbm as lgb\\nimport tqdm\\nimport matplotlib.pyplot as plt\\nimport glob\\nimport re\\nimport statistics\\nimport numpy as np\\nimport pydot\\nimport pickle\\nimport seaborn as sns\\nimport plotly as py\\nimport matplotlib as mpl\\nimport bokeh\\nimport altair as alt\\nfrom openpyxl import load_workbook\\nimport sys\\nimport nltk\\nfrom sklearn import svm\\nimport sklearn\\nimport gensim\\nimport xgboost as xgb\\nimport spacy\\nfrom sklearn.model_selection import train_test_split\\nimport plotly.express as px\\nimport pandas as pd'); }\n",
              "    "
            ],
            "text/plain": [
              "<IPython.core.display.Javascript object>"
            ]
          },
          "metadata": {
            "tags": []
          }
        },
        {
          "output_type": "display_data",
          "data": {
            "application/javascript": [
              "\n",
              "        if (window._pyforest_update_imports_cell) { window._pyforest_update_imports_cell('import plotly.graph_objs as go\\nfrom sklearn.manifold import TSNE\\nimport tensorflow as tf\\nfrom sklearn.feature_extraction.text import TfidfVectorizer\\nimport lightgbm as lgb\\nimport tqdm\\nimport matplotlib.pyplot as plt\\nimport glob\\nimport re\\nimport statistics\\nimport numpy as np\\nimport pydot\\nimport pickle\\nimport seaborn as sns\\nimport plotly as py\\nimport matplotlib as mpl\\nimport bokeh\\nimport altair as alt\\nfrom openpyxl import load_workbook\\nimport sys\\nimport nltk\\nfrom sklearn import svm\\nimport sklearn\\nimport gensim\\nimport xgboost as xgb\\nimport spacy\\nfrom sklearn.model_selection import train_test_split\\nimport plotly.express as px\\nimport pandas as pd'); }\n",
              "    "
            ],
            "text/plain": [
              "<IPython.core.display.Javascript object>"
            ]
          },
          "metadata": {
            "tags": []
          }
        },
        {
          "output_type": "display_data",
          "data": {
            "application/javascript": [
              "\n",
              "        if (window._pyforest_update_imports_cell) { window._pyforest_update_imports_cell('import plotly.graph_objs as go\\nfrom sklearn.manifold import TSNE\\nimport tensorflow as tf\\nfrom sklearn.feature_extraction.text import TfidfVectorizer\\nimport lightgbm as lgb\\nimport tqdm\\nimport matplotlib.pyplot as plt\\nimport glob\\nimport re\\nimport statistics\\nimport numpy as np\\nimport pydot\\nimport pickle\\nimport seaborn as sns\\nimport plotly as py\\nimport matplotlib as mpl\\nimport bokeh\\nimport altair as alt\\nfrom openpyxl import load_workbook\\nimport sys\\nimport nltk\\nfrom sklearn import svm\\nimport sklearn\\nimport gensim\\nimport xgboost as xgb\\nimport spacy\\nfrom sklearn.model_selection import train_test_split\\nimport plotly.express as px\\nimport pandas as pd'); }\n",
              "    "
            ],
            "text/plain": [
              "<IPython.core.display.Javascript object>"
            ]
          },
          "metadata": {
            "tags": []
          }
        },
        {
          "output_type": "display_data",
          "data": {
            "application/javascript": [
              "\n",
              "        if (window._pyforest_update_imports_cell) { window._pyforest_update_imports_cell('import plotly.graph_objs as go\\nfrom sklearn.manifold import TSNE\\nimport tensorflow as tf\\nfrom sklearn.feature_extraction.text import TfidfVectorizer\\nimport lightgbm as lgb\\nimport tqdm\\nimport matplotlib.pyplot as plt\\nimport glob\\nimport re\\nimport statistics\\nimport numpy as np\\nimport pydot\\nimport pickle\\nimport seaborn as sns\\nimport plotly as py\\nimport matplotlib as mpl\\nimport bokeh\\nimport altair as alt\\nfrom openpyxl import load_workbook\\nimport sys\\nimport nltk\\nfrom sklearn import svm\\nimport sklearn\\nimport gensim\\nimport xgboost as xgb\\nimport spacy\\nfrom sklearn.model_selection import train_test_split\\nimport plotly.express as px\\nimport pandas as pd'); }\n",
              "    "
            ],
            "text/plain": [
              "<IPython.core.display.Javascript object>"
            ]
          },
          "metadata": {
            "tags": []
          }
        },
        {
          "output_type": "display_data",
          "data": {
            "application/javascript": [
              "\n",
              "        if (window._pyforest_update_imports_cell) { window._pyforest_update_imports_cell('import plotly.graph_objs as go\\nfrom sklearn.manifold import TSNE\\nimport tensorflow as tf\\nfrom sklearn.feature_extraction.text import TfidfVectorizer\\nimport lightgbm as lgb\\nimport tqdm\\nimport matplotlib.pyplot as plt\\nimport glob\\nimport re\\nimport statistics\\nimport numpy as np\\nimport pydot\\nimport pickle\\nimport seaborn as sns\\nimport plotly as py\\nimport matplotlib as mpl\\nimport bokeh\\nimport altair as alt\\nfrom openpyxl import load_workbook\\nimport sys\\nimport nltk\\nfrom sklearn import svm\\nimport sklearn\\nimport gensim\\nimport xgboost as xgb\\nimport spacy\\nfrom sklearn.model_selection import train_test_split\\nimport plotly.express as px\\nimport pandas as pd'); }\n",
              "    "
            ],
            "text/plain": [
              "<IPython.core.display.Javascript object>"
            ]
          },
          "metadata": {
            "tags": []
          }
        },
        {
          "output_type": "display_data",
          "data": {
            "application/javascript": [
              "\n",
              "        if (window._pyforest_update_imports_cell) { window._pyforest_update_imports_cell('import plotly.graph_objs as go\\nfrom sklearn.manifold import TSNE\\nimport tensorflow as tf\\nfrom sklearn.feature_extraction.text import TfidfVectorizer\\nimport lightgbm as lgb\\nimport tqdm\\nimport matplotlib.pyplot as plt\\nimport glob\\nimport re\\nimport statistics\\nimport numpy as np\\nimport pydot\\nimport pickle\\nimport seaborn as sns\\nimport plotly as py\\nimport matplotlib as mpl\\nimport bokeh\\nimport altair as alt\\nfrom openpyxl import load_workbook\\nimport sys\\nimport nltk\\nfrom sklearn import svm\\nimport sklearn\\nimport gensim\\nimport xgboost as xgb\\nimport spacy\\nfrom sklearn.model_selection import train_test_split\\nimport plotly.express as px\\nimport pandas as pd'); }\n",
              "    "
            ],
            "text/plain": [
              "<IPython.core.display.Javascript object>"
            ]
          },
          "metadata": {
            "tags": []
          }
        },
        {
          "output_type": "display_data",
          "data": {
            "application/javascript": [
              "\n",
              "        if (window._pyforest_update_imports_cell) { window._pyforest_update_imports_cell('import plotly.graph_objs as go\\nfrom sklearn.manifold import TSNE\\nimport tensorflow as tf\\nfrom sklearn.feature_extraction.text import TfidfVectorizer\\nimport lightgbm as lgb\\nimport tqdm\\nimport matplotlib.pyplot as plt\\nimport glob\\nimport re\\nimport statistics\\nimport numpy as np\\nimport pydot\\nimport pickle\\nimport seaborn as sns\\nimport plotly as py\\nimport matplotlib as mpl\\nimport bokeh\\nimport altair as alt\\nfrom openpyxl import load_workbook\\nimport sys\\nimport nltk\\nfrom sklearn import svm\\nimport sklearn\\nimport gensim\\nimport xgboost as xgb\\nimport spacy\\nfrom sklearn.model_selection import train_test_split\\nimport plotly.express as px\\nimport pandas as pd'); }\n",
              "    "
            ],
            "text/plain": [
              "<IPython.core.display.Javascript object>"
            ]
          },
          "metadata": {
            "tags": []
          }
        },
        {
          "output_type": "display_data",
          "data": {
            "application/javascript": [
              "\n",
              "        if (window._pyforest_update_imports_cell) { window._pyforest_update_imports_cell('import plotly.graph_objs as go\\nfrom sklearn.manifold import TSNE\\nimport tensorflow as tf\\nfrom sklearn.feature_extraction.text import TfidfVectorizer\\nimport lightgbm as lgb\\nimport tqdm\\nimport matplotlib.pyplot as plt\\nimport glob\\nimport re\\nimport statistics\\nimport numpy as np\\nimport pydot\\nimport pickle\\nimport seaborn as sns\\nimport plotly as py\\nimport matplotlib as mpl\\nimport bokeh\\nimport altair as alt\\nfrom openpyxl import load_workbook\\nimport sys\\nimport nltk\\nfrom sklearn import svm\\nimport sklearn\\nimport gensim\\nimport xgboost as xgb\\nimport spacy\\nfrom sklearn.model_selection import train_test_split\\nimport plotly.express as px\\nimport pandas as pd'); }\n",
              "    "
            ],
            "text/plain": [
              "<IPython.core.display.Javascript object>"
            ]
          },
          "metadata": {
            "tags": []
          }
        },
        {
          "output_type": "display_data",
          "data": {
            "application/javascript": [
              "\n",
              "        if (window._pyforest_update_imports_cell) { window._pyforest_update_imports_cell('import plotly.graph_objs as go\\nfrom sklearn.manifold import TSNE\\nimport tensorflow as tf\\nfrom sklearn.feature_extraction.text import TfidfVectorizer\\nimport lightgbm as lgb\\nimport tqdm\\nimport matplotlib.pyplot as plt\\nimport glob\\nimport re\\nimport statistics\\nimport numpy as np\\nimport pydot\\nimport pickle\\nimport seaborn as sns\\nimport plotly as py\\nimport matplotlib as mpl\\nimport bokeh\\nimport altair as alt\\nfrom openpyxl import load_workbook\\nimport sys\\nimport nltk\\nfrom sklearn import svm\\nimport sklearn\\nimport gensim\\nimport xgboost as xgb\\nimport spacy\\nfrom sklearn.model_selection import train_test_split\\nimport plotly.express as px\\nimport pandas as pd'); }\n",
              "    "
            ],
            "text/plain": [
              "<IPython.core.display.Javascript object>"
            ]
          },
          "metadata": {
            "tags": []
          }
        },
        {
          "output_type": "display_data",
          "data": {
            "application/javascript": [
              "\n",
              "        if (window._pyforest_update_imports_cell) { window._pyforest_update_imports_cell('import plotly.graph_objs as go\\nfrom sklearn.manifold import TSNE\\nimport tensorflow as tf\\nfrom sklearn.feature_extraction.text import TfidfVectorizer\\nimport lightgbm as lgb\\nimport tqdm\\nimport matplotlib.pyplot as plt\\nimport glob\\nimport re\\nimport statistics\\nimport numpy as np\\nimport pydot\\nimport pickle\\nimport seaborn as sns\\nimport plotly as py\\nimport matplotlib as mpl\\nimport bokeh\\nimport altair as alt\\nfrom openpyxl import load_workbook\\nimport sys\\nimport nltk\\nfrom sklearn import svm\\nimport sklearn\\nimport gensim\\nimport xgboost as xgb\\nimport spacy\\nfrom sklearn.model_selection import train_test_split\\nimport plotly.express as px\\nimport pandas as pd'); }\n",
              "    "
            ],
            "text/plain": [
              "<IPython.core.display.Javascript object>"
            ]
          },
          "metadata": {
            "tags": []
          }
        },
        {
          "output_type": "display_data",
          "data": {
            "application/javascript": [
              "\n",
              "        if (window._pyforest_update_imports_cell) { window._pyforest_update_imports_cell('import plotly.graph_objs as go\\nfrom sklearn.manifold import TSNE\\nimport tensorflow as tf\\nfrom sklearn.feature_extraction.text import TfidfVectorizer\\nimport lightgbm as lgb\\nimport tqdm\\nimport matplotlib.pyplot as plt\\nimport glob\\nimport re\\nimport statistics\\nimport numpy as np\\nimport pydot\\nimport pickle\\nimport seaborn as sns\\nimport plotly as py\\nimport matplotlib as mpl\\nimport bokeh\\nimport altair as alt\\nfrom openpyxl import load_workbook\\nimport sys\\nimport nltk\\nfrom sklearn import svm\\nimport sklearn\\nimport gensim\\nimport xgboost as xgb\\nimport spacy\\nfrom sklearn.model_selection import train_test_split\\nimport plotly.express as px\\nimport pandas as pd'); }\n",
              "    "
            ],
            "text/plain": [
              "<IPython.core.display.Javascript object>"
            ]
          },
          "metadata": {
            "tags": []
          }
        },
        {
          "output_type": "display_data",
          "data": {
            "application/javascript": [
              "\n",
              "        if (window._pyforest_update_imports_cell) { window._pyforest_update_imports_cell('import plotly.graph_objs as go\\nfrom sklearn.manifold import TSNE\\nimport tensorflow as tf\\nfrom sklearn.feature_extraction.text import TfidfVectorizer\\nimport lightgbm as lgb\\nimport tqdm\\nimport matplotlib.pyplot as plt\\nimport glob\\nimport re\\nimport statistics\\nimport numpy as np\\nimport pydot\\nimport pickle\\nimport seaborn as sns\\nimport plotly as py\\nimport matplotlib as mpl\\nimport bokeh\\nimport altair as alt\\nfrom openpyxl import load_workbook\\nimport sys\\nimport nltk\\nfrom sklearn import svm\\nimport sklearn\\nimport gensim\\nimport xgboost as xgb\\nimport spacy\\nfrom sklearn.model_selection import train_test_split\\nimport plotly.express as px\\nimport pandas as pd'); }\n",
              "    "
            ],
            "text/plain": [
              "<IPython.core.display.Javascript object>"
            ]
          },
          "metadata": {
            "tags": []
          }
        },
        {
          "output_type": "display_data",
          "data": {
            "application/javascript": [
              "\n",
              "        if (window._pyforest_update_imports_cell) { window._pyforest_update_imports_cell('import plotly.graph_objs as go\\nfrom sklearn.manifold import TSNE\\nimport tensorflow as tf\\nfrom sklearn.feature_extraction.text import TfidfVectorizer\\nimport lightgbm as lgb\\nimport tqdm\\nimport matplotlib.pyplot as plt\\nimport glob\\nimport re\\nimport statistics\\nimport numpy as np\\nimport pydot\\nimport pickle\\nimport seaborn as sns\\nimport plotly as py\\nimport matplotlib as mpl\\nimport bokeh\\nimport altair as alt\\nfrom openpyxl import load_workbook\\nimport sys\\nimport nltk\\nfrom sklearn import svm\\nimport sklearn\\nimport gensim\\nimport xgboost as xgb\\nimport spacy\\nfrom sklearn.model_selection import train_test_split\\nimport plotly.express as px\\nimport pandas as pd'); }\n",
              "    "
            ],
            "text/plain": [
              "<IPython.core.display.Javascript object>"
            ]
          },
          "metadata": {
            "tags": []
          }
        },
        {
          "output_type": "display_data",
          "data": {
            "application/javascript": [
              "\n",
              "        if (window._pyforest_update_imports_cell) { window._pyforest_update_imports_cell('import plotly.graph_objs as go\\nfrom sklearn.manifold import TSNE\\nimport tensorflow as tf\\nfrom sklearn.feature_extraction.text import TfidfVectorizer\\nimport lightgbm as lgb\\nimport tqdm\\nimport matplotlib.pyplot as plt\\nimport glob\\nimport re\\nimport statistics\\nimport numpy as np\\nimport pydot\\nimport pickle\\nimport seaborn as sns\\nimport plotly as py\\nimport matplotlib as mpl\\nimport bokeh\\nimport altair as alt\\nfrom openpyxl import load_workbook\\nimport sys\\nimport nltk\\nfrom sklearn import svm\\nimport sklearn\\nimport gensim\\nimport xgboost as xgb\\nimport spacy\\nfrom sklearn.model_selection import train_test_split\\nimport plotly.express as px\\nimport pandas as pd'); }\n",
              "    "
            ],
            "text/plain": [
              "<IPython.core.display.Javascript object>"
            ]
          },
          "metadata": {
            "tags": []
          }
        },
        {
          "output_type": "display_data",
          "data": {
            "application/javascript": [
              "\n",
              "        if (window._pyforest_update_imports_cell) { window._pyforest_update_imports_cell('import plotly.graph_objs as go\\nfrom sklearn.manifold import TSNE\\nimport tensorflow as tf\\nfrom sklearn.feature_extraction.text import TfidfVectorizer\\nimport lightgbm as lgb\\nimport tqdm\\nimport matplotlib.pyplot as plt\\nimport glob\\nimport re\\nimport statistics\\nimport numpy as np\\nimport pydot\\nimport pickle\\nimport seaborn as sns\\nimport plotly as py\\nimport matplotlib as mpl\\nimport bokeh\\nimport altair as alt\\nfrom openpyxl import load_workbook\\nimport sys\\nimport nltk\\nfrom sklearn import svm\\nimport sklearn\\nimport gensim\\nimport xgboost as xgb\\nimport spacy\\nfrom sklearn.model_selection import train_test_split\\nimport plotly.express as px\\nimport pandas as pd'); }\n",
              "    "
            ],
            "text/plain": [
              "<IPython.core.display.Javascript object>"
            ]
          },
          "metadata": {
            "tags": []
          }
        },
        {
          "output_type": "display_data",
          "data": {
            "application/javascript": [
              "\n",
              "        if (window._pyforest_update_imports_cell) { window._pyforest_update_imports_cell('import plotly.graph_objs as go\\nfrom sklearn.manifold import TSNE\\nimport tensorflow as tf\\nfrom sklearn.feature_extraction.text import TfidfVectorizer\\nimport lightgbm as lgb\\nimport tqdm\\nimport matplotlib.pyplot as plt\\nimport glob\\nimport re\\nimport statistics\\nimport numpy as np\\nimport pydot\\nimport pickle\\nimport seaborn as sns\\nimport plotly as py\\nimport matplotlib as mpl\\nimport bokeh\\nimport altair as alt\\nfrom openpyxl import load_workbook\\nimport sys\\nimport nltk\\nfrom sklearn import svm\\nimport sklearn\\nimport gensim\\nimport xgboost as xgb\\nimport spacy\\nfrom sklearn.model_selection import train_test_split\\nimport plotly.express as px\\nimport pandas as pd'); }\n",
              "    "
            ],
            "text/plain": [
              "<IPython.core.display.Javascript object>"
            ]
          },
          "metadata": {
            "tags": []
          }
        },
        {
          "output_type": "display_data",
          "data": {
            "application/javascript": [
              "\n",
              "        if (window._pyforest_update_imports_cell) { window._pyforest_update_imports_cell('import plotly.graph_objs as go\\nfrom sklearn.manifold import TSNE\\nimport tensorflow as tf\\nfrom sklearn.feature_extraction.text import TfidfVectorizer\\nimport lightgbm as lgb\\nimport tqdm\\nimport matplotlib.pyplot as plt\\nimport glob\\nimport re\\nimport statistics\\nimport numpy as np\\nimport pydot\\nimport pickle\\nimport seaborn as sns\\nimport plotly as py\\nimport matplotlib as mpl\\nimport bokeh\\nimport altair as alt\\nfrom openpyxl import load_workbook\\nimport sys\\nimport nltk\\nfrom sklearn import svm\\nimport sklearn\\nimport gensim\\nimport xgboost as xgb\\nimport spacy\\nfrom sklearn.model_selection import train_test_split\\nimport plotly.express as px\\nimport pandas as pd'); }\n",
              "    "
            ],
            "text/plain": [
              "<IPython.core.display.Javascript object>"
            ]
          },
          "metadata": {
            "tags": []
          }
        },
        {
          "output_type": "display_data",
          "data": {
            "application/javascript": [
              "\n",
              "        if (window._pyforest_update_imports_cell) { window._pyforest_update_imports_cell('import plotly.graph_objs as go\\nfrom sklearn.manifold import TSNE\\nimport tensorflow as tf\\nfrom sklearn.feature_extraction.text import TfidfVectorizer\\nimport lightgbm as lgb\\nimport tqdm\\nimport matplotlib.pyplot as plt\\nimport glob\\nimport re\\nimport statistics\\nimport numpy as np\\nimport pydot\\nimport pickle\\nimport seaborn as sns\\nimport plotly as py\\nimport matplotlib as mpl\\nimport bokeh\\nimport altair as alt\\nfrom openpyxl import load_workbook\\nimport sys\\nimport nltk\\nfrom sklearn import svm\\nimport sklearn\\nimport gensim\\nimport xgboost as xgb\\nimport spacy\\nfrom sklearn.model_selection import train_test_split\\nimport plotly.express as px\\nimport pandas as pd'); }\n",
              "    "
            ],
            "text/plain": [
              "<IPython.core.display.Javascript object>"
            ]
          },
          "metadata": {
            "tags": []
          }
        },
        {
          "output_type": "display_data",
          "data": {
            "application/javascript": [
              "\n",
              "        if (window._pyforest_update_imports_cell) { window._pyforest_update_imports_cell('import plotly.graph_objs as go\\nfrom sklearn.manifold import TSNE\\nimport tensorflow as tf\\nfrom sklearn.feature_extraction.text import TfidfVectorizer\\nimport lightgbm as lgb\\nimport tqdm\\nimport matplotlib.pyplot as plt\\nimport glob\\nimport re\\nimport statistics\\nimport numpy as np\\nimport pydot\\nimport pickle\\nimport seaborn as sns\\nimport plotly as py\\nimport matplotlib as mpl\\nimport bokeh\\nimport altair as alt\\nfrom openpyxl import load_workbook\\nimport sys\\nimport nltk\\nfrom sklearn import svm\\nimport sklearn\\nimport gensim\\nimport xgboost as xgb\\nimport spacy\\nfrom sklearn.model_selection import train_test_split\\nimport plotly.express as px\\nimport pandas as pd'); }\n",
              "    "
            ],
            "text/plain": [
              "<IPython.core.display.Javascript object>"
            ]
          },
          "metadata": {
            "tags": []
          }
        },
        {
          "output_type": "display_data",
          "data": {
            "application/javascript": [
              "\n",
              "        if (window._pyforest_update_imports_cell) { window._pyforest_update_imports_cell('import plotly.graph_objs as go\\nfrom sklearn.manifold import TSNE\\nimport tensorflow as tf\\nfrom sklearn.feature_extraction.text import TfidfVectorizer\\nimport lightgbm as lgb\\nimport tqdm\\nimport matplotlib.pyplot as plt\\nimport glob\\nimport re\\nimport statistics\\nimport numpy as np\\nimport pydot\\nimport pickle\\nimport seaborn as sns\\nimport plotly as py\\nimport matplotlib as mpl\\nimport bokeh\\nimport altair as alt\\nfrom openpyxl import load_workbook\\nimport sys\\nimport nltk\\nfrom sklearn import svm\\nimport sklearn\\nimport gensim\\nimport xgboost as xgb\\nimport spacy\\nfrom sklearn.model_selection import train_test_split\\nimport plotly.express as px\\nimport pandas as pd'); }\n",
              "    "
            ],
            "text/plain": [
              "<IPython.core.display.Javascript object>"
            ]
          },
          "metadata": {
            "tags": []
          }
        },
        {
          "output_type": "display_data",
          "data": {
            "application/javascript": [
              "\n",
              "        if (window._pyforest_update_imports_cell) { window._pyforest_update_imports_cell('import plotly.graph_objs as go\\nfrom sklearn.manifold import TSNE\\nimport tensorflow as tf\\nfrom sklearn.feature_extraction.text import TfidfVectorizer\\nimport lightgbm as lgb\\nimport tqdm\\nimport matplotlib.pyplot as plt\\nimport glob\\nimport re\\nimport statistics\\nimport numpy as np\\nimport pydot\\nimport pickle\\nimport seaborn as sns\\nimport plotly as py\\nimport matplotlib as mpl\\nimport bokeh\\nimport altair as alt\\nfrom openpyxl import load_workbook\\nimport sys\\nimport nltk\\nfrom sklearn import svm\\nimport sklearn\\nimport gensim\\nimport xgboost as xgb\\nimport spacy\\nfrom sklearn.model_selection import train_test_split\\nimport plotly.express as px\\nimport pandas as pd'); }\n",
              "    "
            ],
            "text/plain": [
              "<IPython.core.display.Javascript object>"
            ]
          },
          "metadata": {
            "tags": []
          }
        },
        {
          "output_type": "display_data",
          "data": {
            "application/javascript": [
              "\n",
              "        if (window._pyforest_update_imports_cell) { window._pyforest_update_imports_cell('import plotly.graph_objs as go\\nfrom sklearn.manifold import TSNE\\nimport tensorflow as tf\\nfrom sklearn.feature_extraction.text import TfidfVectorizer\\nimport lightgbm as lgb\\nimport tqdm\\nimport matplotlib.pyplot as plt\\nimport glob\\nimport re\\nimport statistics\\nimport numpy as np\\nimport pydot\\nimport pickle\\nimport seaborn as sns\\nimport plotly as py\\nimport matplotlib as mpl\\nimport bokeh\\nimport altair as alt\\nfrom openpyxl import load_workbook\\nimport sys\\nimport nltk\\nfrom sklearn import svm\\nimport sklearn\\nimport gensim\\nimport xgboost as xgb\\nimport spacy\\nfrom sklearn.model_selection import train_test_split\\nimport plotly.express as px\\nimport pandas as pd'); }\n",
              "    "
            ],
            "text/plain": [
              "<IPython.core.display.Javascript object>"
            ]
          },
          "metadata": {
            "tags": []
          }
        },
        {
          "output_type": "display_data",
          "data": {
            "application/javascript": [
              "\n",
              "        if (window._pyforest_update_imports_cell) { window._pyforest_update_imports_cell('import plotly.graph_objs as go\\nfrom sklearn.manifold import TSNE\\nimport tensorflow as tf\\nfrom sklearn.feature_extraction.text import TfidfVectorizer\\nimport lightgbm as lgb\\nimport tqdm\\nimport matplotlib.pyplot as plt\\nimport glob\\nimport re\\nimport statistics\\nimport numpy as np\\nimport pydot\\nimport pickle\\nimport seaborn as sns\\nimport plotly as py\\nimport matplotlib as mpl\\nimport bokeh\\nimport altair as alt\\nfrom openpyxl import load_workbook\\nimport sys\\nimport nltk\\nfrom sklearn import svm\\nimport sklearn\\nimport gensim\\nimport xgboost as xgb\\nimport spacy\\nfrom sklearn.model_selection import train_test_split\\nimport plotly.express as px\\nimport pandas as pd'); }\n",
              "    "
            ],
            "text/plain": [
              "<IPython.core.display.Javascript object>"
            ]
          },
          "metadata": {
            "tags": []
          }
        },
        {
          "output_type": "display_data",
          "data": {
            "application/javascript": [
              "\n",
              "        if (window._pyforest_update_imports_cell) { window._pyforest_update_imports_cell('import plotly.graph_objs as go\\nfrom sklearn.manifold import TSNE\\nimport tensorflow as tf\\nfrom sklearn.feature_extraction.text import TfidfVectorizer\\nimport lightgbm as lgb\\nimport tqdm\\nimport matplotlib.pyplot as plt\\nimport glob\\nimport re\\nimport statistics\\nimport numpy as np\\nimport pydot\\nimport pickle\\nimport seaborn as sns\\nimport plotly as py\\nimport matplotlib as mpl\\nimport bokeh\\nimport altair as alt\\nfrom openpyxl import load_workbook\\nimport sys\\nimport nltk\\nfrom sklearn import svm\\nimport sklearn\\nimport gensim\\nimport xgboost as xgb\\nimport spacy\\nfrom sklearn.model_selection import train_test_split\\nimport plotly.express as px\\nimport pandas as pd'); }\n",
              "    "
            ],
            "text/plain": [
              "<IPython.core.display.Javascript object>"
            ]
          },
          "metadata": {
            "tags": []
          }
        },
        {
          "output_type": "display_data",
          "data": {
            "application/javascript": [
              "\n",
              "        if (window._pyforest_update_imports_cell) { window._pyforest_update_imports_cell('import plotly.graph_objs as go\\nfrom sklearn.manifold import TSNE\\nimport tensorflow as tf\\nfrom sklearn.feature_extraction.text import TfidfVectorizer\\nimport lightgbm as lgb\\nimport tqdm\\nimport matplotlib.pyplot as plt\\nimport glob\\nimport re\\nimport statistics\\nimport numpy as np\\nimport pydot\\nimport pickle\\nimport seaborn as sns\\nimport plotly as py\\nimport matplotlib as mpl\\nimport bokeh\\nimport altair as alt\\nfrom openpyxl import load_workbook\\nimport sys\\nimport nltk\\nfrom sklearn import svm\\nimport sklearn\\nimport gensim\\nimport xgboost as xgb\\nimport spacy\\nfrom sklearn.model_selection import train_test_split\\nimport plotly.express as px\\nimport pandas as pd'); }\n",
              "    "
            ],
            "text/plain": [
              "<IPython.core.display.Javascript object>"
            ]
          },
          "metadata": {
            "tags": []
          }
        },
        {
          "output_type": "display_data",
          "data": {
            "application/javascript": [
              "\n",
              "        if (window._pyforest_update_imports_cell) { window._pyforest_update_imports_cell('import plotly.graph_objs as go\\nfrom sklearn.manifold import TSNE\\nimport tensorflow as tf\\nfrom sklearn.feature_extraction.text import TfidfVectorizer\\nimport lightgbm as lgb\\nimport tqdm\\nimport matplotlib.pyplot as plt\\nimport glob\\nimport re\\nimport statistics\\nimport numpy as np\\nimport pydot\\nimport pickle\\nimport seaborn as sns\\nimport plotly as py\\nimport matplotlib as mpl\\nimport bokeh\\nimport altair as alt\\nfrom openpyxl import load_workbook\\nimport sys\\nimport nltk\\nfrom sklearn import svm\\nimport sklearn\\nimport gensim\\nimport xgboost as xgb\\nimport spacy\\nfrom sklearn.model_selection import train_test_split\\nimport plotly.express as px\\nimport pandas as pd'); }\n",
              "    "
            ],
            "text/plain": [
              "<IPython.core.display.Javascript object>"
            ]
          },
          "metadata": {
            "tags": []
          }
        },
        {
          "output_type": "display_data",
          "data": {
            "application/javascript": [
              "\n",
              "        if (window._pyforest_update_imports_cell) { window._pyforest_update_imports_cell('import plotly.graph_objs as go\\nfrom sklearn.manifold import TSNE\\nimport tensorflow as tf\\nfrom sklearn.feature_extraction.text import TfidfVectorizer\\nimport lightgbm as lgb\\nimport tqdm\\nimport matplotlib.pyplot as plt\\nimport glob\\nimport re\\nimport statistics\\nimport numpy as np\\nimport pydot\\nimport pickle\\nimport seaborn as sns\\nimport plotly as py\\nimport matplotlib as mpl\\nimport bokeh\\nimport altair as alt\\nfrom openpyxl import load_workbook\\nimport sys\\nimport nltk\\nfrom sklearn import svm\\nimport sklearn\\nimport gensim\\nimport xgboost as xgb\\nimport spacy\\nfrom sklearn.model_selection import train_test_split\\nimport plotly.express as px\\nimport pandas as pd'); }\n",
              "    "
            ],
            "text/plain": [
              "<IPython.core.display.Javascript object>"
            ]
          },
          "metadata": {
            "tags": []
          }
        },
        {
          "output_type": "display_data",
          "data": {
            "application/javascript": [
              "\n",
              "        if (window._pyforest_update_imports_cell) { window._pyforest_update_imports_cell('import plotly.graph_objs as go\\nfrom sklearn.manifold import TSNE\\nimport tensorflow as tf\\nfrom sklearn.feature_extraction.text import TfidfVectorizer\\nimport lightgbm as lgb\\nimport tqdm\\nimport matplotlib.pyplot as plt\\nimport glob\\nimport re\\nimport statistics\\nimport numpy as np\\nimport pydot\\nimport pickle\\nimport seaborn as sns\\nimport plotly as py\\nimport matplotlib as mpl\\nimport bokeh\\nimport altair as alt\\nfrom openpyxl import load_workbook\\nimport sys\\nimport nltk\\nfrom sklearn import svm\\nimport sklearn\\nimport gensim\\nimport xgboost as xgb\\nimport spacy\\nfrom sklearn.model_selection import train_test_split\\nimport plotly.express as px\\nimport pandas as pd'); }\n",
              "    "
            ],
            "text/plain": [
              "<IPython.core.display.Javascript object>"
            ]
          },
          "metadata": {
            "tags": []
          }
        },
        {
          "output_type": "display_data",
          "data": {
            "application/javascript": [
              "\n",
              "        if (window._pyforest_update_imports_cell) { window._pyforest_update_imports_cell('import plotly.graph_objs as go\\nfrom sklearn.manifold import TSNE\\nimport tensorflow as tf\\nfrom sklearn.feature_extraction.text import TfidfVectorizer\\nimport lightgbm as lgb\\nimport tqdm\\nimport matplotlib.pyplot as plt\\nimport glob\\nimport re\\nimport statistics\\nimport numpy as np\\nimport pydot\\nimport pickle\\nimport seaborn as sns\\nimport plotly as py\\nimport matplotlib as mpl\\nimport bokeh\\nimport altair as alt\\nfrom openpyxl import load_workbook\\nimport sys\\nimport nltk\\nfrom sklearn import svm\\nimport sklearn\\nimport gensim\\nimport xgboost as xgb\\nimport spacy\\nfrom sklearn.model_selection import train_test_split\\nimport plotly.express as px\\nimport pandas as pd'); }\n",
              "    "
            ],
            "text/plain": [
              "<IPython.core.display.Javascript object>"
            ]
          },
          "metadata": {
            "tags": []
          }
        },
        {
          "output_type": "display_data",
          "data": {
            "application/javascript": [
              "\n",
              "        if (window._pyforest_update_imports_cell) { window._pyforest_update_imports_cell('import plotly.graph_objs as go\\nfrom sklearn.manifold import TSNE\\nimport tensorflow as tf\\nfrom sklearn.feature_extraction.text import TfidfVectorizer\\nimport lightgbm as lgb\\nimport tqdm\\nimport matplotlib.pyplot as plt\\nimport glob\\nimport re\\nimport statistics\\nimport numpy as np\\nimport pydot\\nimport pickle\\nimport seaborn as sns\\nimport plotly as py\\nimport matplotlib as mpl\\nimport bokeh\\nimport altair as alt\\nfrom openpyxl import load_workbook\\nimport sys\\nimport nltk\\nfrom sklearn import svm\\nimport sklearn\\nimport gensim\\nimport xgboost as xgb\\nimport spacy\\nfrom sklearn.model_selection import train_test_split\\nimport plotly.express as px\\nimport pandas as pd'); }\n",
              "    "
            ],
            "text/plain": [
              "<IPython.core.display.Javascript object>"
            ]
          },
          "metadata": {
            "tags": []
          }
        },
        {
          "output_type": "display_data",
          "data": {
            "application/javascript": [
              "\n",
              "        if (window._pyforest_update_imports_cell) { window._pyforest_update_imports_cell('import plotly.graph_objs as go\\nfrom sklearn.manifold import TSNE\\nimport tensorflow as tf\\nfrom sklearn.feature_extraction.text import TfidfVectorizer\\nimport lightgbm as lgb\\nimport tqdm\\nimport matplotlib.pyplot as plt\\nimport glob\\nimport re\\nimport statistics\\nimport numpy as np\\nimport pydot\\nimport pickle\\nimport seaborn as sns\\nimport plotly as py\\nimport matplotlib as mpl\\nimport bokeh\\nimport altair as alt\\nfrom openpyxl import load_workbook\\nimport sys\\nimport nltk\\nfrom sklearn import svm\\nimport sklearn\\nimport gensim\\nimport xgboost as xgb\\nimport spacy\\nfrom sklearn.model_selection import train_test_split\\nimport plotly.express as px\\nimport pandas as pd'); }\n",
              "    "
            ],
            "text/plain": [
              "<IPython.core.display.Javascript object>"
            ]
          },
          "metadata": {
            "tags": []
          }
        },
        {
          "output_type": "display_data",
          "data": {
            "application/javascript": [
              "\n",
              "        if (window._pyforest_update_imports_cell) { window._pyforest_update_imports_cell('import plotly.graph_objs as go\\nfrom sklearn.manifold import TSNE\\nimport tensorflow as tf\\nfrom sklearn.feature_extraction.text import TfidfVectorizer\\nimport lightgbm as lgb\\nimport tqdm\\nimport matplotlib.pyplot as plt\\nimport glob\\nimport re\\nimport statistics\\nimport numpy as np\\nimport pydot\\nimport pickle\\nimport seaborn as sns\\nimport plotly as py\\nimport matplotlib as mpl\\nimport bokeh\\nimport altair as alt\\nfrom openpyxl import load_workbook\\nimport sys\\nimport nltk\\nfrom sklearn import svm\\nimport sklearn\\nimport gensim\\nimport xgboost as xgb\\nimport spacy\\nfrom sklearn.model_selection import train_test_split\\nimport plotly.express as px\\nimport pandas as pd'); }\n",
              "    "
            ],
            "text/plain": [
              "<IPython.core.display.Javascript object>"
            ]
          },
          "metadata": {
            "tags": []
          }
        },
        {
          "output_type": "display_data",
          "data": {
            "application/javascript": [
              "\n",
              "        if (window._pyforest_update_imports_cell) { window._pyforest_update_imports_cell('import plotly.graph_objs as go\\nfrom sklearn.manifold import TSNE\\nimport tensorflow as tf\\nfrom sklearn.feature_extraction.text import TfidfVectorizer\\nimport lightgbm as lgb\\nimport tqdm\\nimport matplotlib.pyplot as plt\\nimport glob\\nimport re\\nimport statistics\\nimport numpy as np\\nimport pydot\\nimport pickle\\nimport seaborn as sns\\nimport plotly as py\\nimport matplotlib as mpl\\nimport bokeh\\nimport altair as alt\\nfrom openpyxl import load_workbook\\nimport sys\\nimport nltk\\nfrom sklearn import svm\\nimport sklearn\\nimport gensim\\nimport xgboost as xgb\\nimport spacy\\nfrom sklearn.model_selection import train_test_split\\nimport plotly.express as px\\nimport pandas as pd'); }\n",
              "    "
            ],
            "text/plain": [
              "<IPython.core.display.Javascript object>"
            ]
          },
          "metadata": {
            "tags": []
          }
        },
        {
          "output_type": "display_data",
          "data": {
            "application/javascript": [
              "\n",
              "        if (window._pyforest_update_imports_cell) { window._pyforest_update_imports_cell('import plotly.graph_objs as go\\nfrom sklearn.manifold import TSNE\\nimport tensorflow as tf\\nfrom sklearn.feature_extraction.text import TfidfVectorizer\\nimport lightgbm as lgb\\nimport tqdm\\nimport matplotlib.pyplot as plt\\nimport glob\\nimport re\\nimport statistics\\nimport numpy as np\\nimport pydot\\nimport pickle\\nimport seaborn as sns\\nimport plotly as py\\nimport matplotlib as mpl\\nimport bokeh\\nimport altair as alt\\nfrom openpyxl import load_workbook\\nimport sys\\nimport nltk\\nfrom sklearn import svm\\nimport sklearn\\nimport gensim\\nimport xgboost as xgb\\nimport spacy\\nfrom sklearn.model_selection import train_test_split\\nimport plotly.express as px\\nimport pandas as pd'); }\n",
              "    "
            ],
            "text/plain": [
              "<IPython.core.display.Javascript object>"
            ]
          },
          "metadata": {
            "tags": []
          }
        },
        {
          "output_type": "display_data",
          "data": {
            "application/javascript": [
              "\n",
              "        if (window._pyforest_update_imports_cell) { window._pyforest_update_imports_cell('import plotly.graph_objs as go\\nfrom sklearn.manifold import TSNE\\nimport tensorflow as tf\\nfrom sklearn.feature_extraction.text import TfidfVectorizer\\nimport lightgbm as lgb\\nimport tqdm\\nimport matplotlib.pyplot as plt\\nimport glob\\nimport re\\nimport statistics\\nimport numpy as np\\nimport pydot\\nimport pickle\\nimport seaborn as sns\\nimport plotly as py\\nimport matplotlib as mpl\\nimport bokeh\\nimport altair as alt\\nfrom openpyxl import load_workbook\\nimport sys\\nimport nltk\\nfrom sklearn import svm\\nimport sklearn\\nimport gensim\\nimport xgboost as xgb\\nimport spacy\\nfrom sklearn.model_selection import train_test_split\\nimport plotly.express as px\\nimport pandas as pd'); }\n",
              "    "
            ],
            "text/plain": [
              "<IPython.core.display.Javascript object>"
            ]
          },
          "metadata": {
            "tags": []
          }
        },
        {
          "output_type": "display_data",
          "data": {
            "application/javascript": [
              "\n",
              "        if (window._pyforest_update_imports_cell) { window._pyforest_update_imports_cell('import plotly.graph_objs as go\\nfrom sklearn.manifold import TSNE\\nimport tensorflow as tf\\nfrom sklearn.feature_extraction.text import TfidfVectorizer\\nimport lightgbm as lgb\\nimport tqdm\\nimport matplotlib.pyplot as plt\\nimport glob\\nimport re\\nimport statistics\\nimport numpy as np\\nimport pydot\\nimport pickle\\nimport seaborn as sns\\nimport plotly as py\\nimport matplotlib as mpl\\nimport bokeh\\nimport altair as alt\\nfrom openpyxl import load_workbook\\nimport sys\\nimport nltk\\nfrom sklearn import svm\\nimport sklearn\\nimport gensim\\nimport xgboost as xgb\\nimport spacy\\nfrom sklearn.model_selection import train_test_split\\nimport plotly.express as px\\nimport pandas as pd'); }\n",
              "    "
            ],
            "text/plain": [
              "<IPython.core.display.Javascript object>"
            ]
          },
          "metadata": {
            "tags": []
          }
        },
        {
          "output_type": "display_data",
          "data": {
            "application/javascript": [
              "\n",
              "        if (window._pyforest_update_imports_cell) { window._pyforest_update_imports_cell('import plotly.graph_objs as go\\nfrom sklearn.manifold import TSNE\\nimport tensorflow as tf\\nfrom sklearn.feature_extraction.text import TfidfVectorizer\\nimport lightgbm as lgb\\nimport tqdm\\nimport matplotlib.pyplot as plt\\nimport glob\\nimport re\\nimport statistics\\nimport numpy as np\\nimport pydot\\nimport pickle\\nimport seaborn as sns\\nimport plotly as py\\nimport matplotlib as mpl\\nimport bokeh\\nimport altair as alt\\nfrom openpyxl import load_workbook\\nimport sys\\nimport nltk\\nfrom sklearn import svm\\nimport sklearn\\nimport gensim\\nimport xgboost as xgb\\nimport spacy\\nfrom sklearn.model_selection import train_test_split\\nimport plotly.express as px\\nimport pandas as pd'); }\n",
              "    "
            ],
            "text/plain": [
              "<IPython.core.display.Javascript object>"
            ]
          },
          "metadata": {
            "tags": []
          }
        },
        {
          "output_type": "display_data",
          "data": {
            "application/javascript": [
              "\n",
              "        if (window._pyforest_update_imports_cell) { window._pyforest_update_imports_cell('import plotly.graph_objs as go\\nfrom sklearn.manifold import TSNE\\nimport tensorflow as tf\\nfrom sklearn.feature_extraction.text import TfidfVectorizer\\nimport lightgbm as lgb\\nimport tqdm\\nimport matplotlib.pyplot as plt\\nimport glob\\nimport re\\nimport statistics\\nimport numpy as np\\nimport pydot\\nimport pickle\\nimport seaborn as sns\\nimport plotly as py\\nimport matplotlib as mpl\\nimport bokeh\\nimport altair as alt\\nfrom openpyxl import load_workbook\\nimport sys\\nimport nltk\\nfrom sklearn import svm\\nimport sklearn\\nimport gensim\\nimport xgboost as xgb\\nimport spacy\\nfrom sklearn.model_selection import train_test_split\\nimport plotly.express as px\\nimport pandas as pd'); }\n",
              "    "
            ],
            "text/plain": [
              "<IPython.core.display.Javascript object>"
            ]
          },
          "metadata": {
            "tags": []
          }
        },
        {
          "output_type": "display_data",
          "data": {
            "application/javascript": [
              "\n",
              "        if (window._pyforest_update_imports_cell) { window._pyforest_update_imports_cell('import plotly.graph_objs as go\\nfrom sklearn.manifold import TSNE\\nimport tensorflow as tf\\nfrom sklearn.feature_extraction.text import TfidfVectorizer\\nimport lightgbm as lgb\\nimport tqdm\\nimport matplotlib.pyplot as plt\\nimport glob\\nimport re\\nimport statistics\\nimport numpy as np\\nimport pydot\\nimport pickle\\nimport seaborn as sns\\nimport plotly as py\\nimport matplotlib as mpl\\nimport bokeh\\nimport altair as alt\\nfrom openpyxl import load_workbook\\nimport sys\\nimport nltk\\nfrom sklearn import svm\\nimport sklearn\\nimport gensim\\nimport xgboost as xgb\\nimport spacy\\nfrom sklearn.model_selection import train_test_split\\nimport plotly.express as px\\nimport pandas as pd'); }\n",
              "    "
            ],
            "text/plain": [
              "<IPython.core.display.Javascript object>"
            ]
          },
          "metadata": {
            "tags": []
          }
        },
        {
          "output_type": "display_data",
          "data": {
            "application/javascript": [
              "\n",
              "        if (window._pyforest_update_imports_cell) { window._pyforest_update_imports_cell('import plotly.graph_objs as go\\nfrom sklearn.manifold import TSNE\\nimport tensorflow as tf\\nfrom sklearn.feature_extraction.text import TfidfVectorizer\\nimport lightgbm as lgb\\nimport tqdm\\nimport matplotlib.pyplot as plt\\nimport glob\\nimport re\\nimport statistics\\nimport numpy as np\\nimport pydot\\nimport pickle\\nimport seaborn as sns\\nimport plotly as py\\nimport matplotlib as mpl\\nimport bokeh\\nimport altair as alt\\nfrom openpyxl import load_workbook\\nimport sys\\nimport nltk\\nfrom sklearn import svm\\nimport sklearn\\nimport gensim\\nimport xgboost as xgb\\nimport spacy\\nfrom sklearn.model_selection import train_test_split\\nimport plotly.express as px\\nimport pandas as pd'); }\n",
              "    "
            ],
            "text/plain": [
              "<IPython.core.display.Javascript object>"
            ]
          },
          "metadata": {
            "tags": []
          }
        },
        {
          "output_type": "display_data",
          "data": {
            "application/javascript": [
              "\n",
              "        if (window._pyforest_update_imports_cell) { window._pyforest_update_imports_cell('import plotly.graph_objs as go\\nfrom sklearn.manifold import TSNE\\nimport tensorflow as tf\\nfrom sklearn.feature_extraction.text import TfidfVectorizer\\nimport lightgbm as lgb\\nimport tqdm\\nimport matplotlib.pyplot as plt\\nimport glob\\nimport re\\nimport statistics\\nimport numpy as np\\nimport pydot\\nimport pickle\\nimport seaborn as sns\\nimport plotly as py\\nimport matplotlib as mpl\\nimport bokeh\\nimport altair as alt\\nfrom openpyxl import load_workbook\\nimport sys\\nimport nltk\\nfrom sklearn import svm\\nimport sklearn\\nimport gensim\\nimport xgboost as xgb\\nimport spacy\\nfrom sklearn.model_selection import train_test_split\\nimport plotly.express as px\\nimport pandas as pd'); }\n",
              "    "
            ],
            "text/plain": [
              "<IPython.core.display.Javascript object>"
            ]
          },
          "metadata": {
            "tags": []
          }
        },
        {
          "output_type": "display_data",
          "data": {
            "application/javascript": [
              "\n",
              "        if (window._pyforest_update_imports_cell) { window._pyforest_update_imports_cell('import plotly.graph_objs as go\\nfrom sklearn.manifold import TSNE\\nimport tensorflow as tf\\nfrom sklearn.feature_extraction.text import TfidfVectorizer\\nimport lightgbm as lgb\\nimport tqdm\\nimport matplotlib.pyplot as plt\\nimport glob\\nimport re\\nimport statistics\\nimport numpy as np\\nimport pydot\\nimport pickle\\nimport seaborn as sns\\nimport plotly as py\\nimport matplotlib as mpl\\nimport bokeh\\nimport altair as alt\\nfrom openpyxl import load_workbook\\nimport sys\\nimport nltk\\nfrom sklearn import svm\\nimport sklearn\\nimport gensim\\nimport xgboost as xgb\\nimport spacy\\nfrom sklearn.model_selection import train_test_split\\nimport plotly.express as px\\nimport pandas as pd'); }\n",
              "    "
            ],
            "text/plain": [
              "<IPython.core.display.Javascript object>"
            ]
          },
          "metadata": {
            "tags": []
          }
        },
        {
          "output_type": "display_data",
          "data": {
            "application/javascript": [
              "\n",
              "        if (window._pyforest_update_imports_cell) { window._pyforest_update_imports_cell('import plotly.graph_objs as go\\nfrom sklearn.manifold import TSNE\\nimport tensorflow as tf\\nfrom sklearn.feature_extraction.text import TfidfVectorizer\\nimport lightgbm as lgb\\nimport tqdm\\nimport matplotlib.pyplot as plt\\nimport glob\\nimport re\\nimport statistics\\nimport numpy as np\\nimport pydot\\nimport pickle\\nimport seaborn as sns\\nimport plotly as py\\nimport matplotlib as mpl\\nimport bokeh\\nimport altair as alt\\nfrom openpyxl import load_workbook\\nimport sys\\nimport nltk\\nfrom sklearn import svm\\nimport sklearn\\nimport gensim\\nimport xgboost as xgb\\nimport spacy\\nfrom sklearn.model_selection import train_test_split\\nimport plotly.express as px\\nimport pandas as pd'); }\n",
              "    "
            ],
            "text/plain": [
              "<IPython.core.display.Javascript object>"
            ]
          },
          "metadata": {
            "tags": []
          }
        },
        {
          "output_type": "display_data",
          "data": {
            "application/javascript": [
              "\n",
              "        if (window._pyforest_update_imports_cell) { window._pyforest_update_imports_cell('import plotly.graph_objs as go\\nfrom sklearn.manifold import TSNE\\nimport tensorflow as tf\\nfrom sklearn.feature_extraction.text import TfidfVectorizer\\nimport lightgbm as lgb\\nimport tqdm\\nimport matplotlib.pyplot as plt\\nimport glob\\nimport re\\nimport statistics\\nimport numpy as np\\nimport pydot\\nimport pickle\\nimport seaborn as sns\\nimport plotly as py\\nimport matplotlib as mpl\\nimport bokeh\\nimport altair as alt\\nfrom openpyxl import load_workbook\\nimport sys\\nimport nltk\\nfrom sklearn import svm\\nimport sklearn\\nimport gensim\\nimport xgboost as xgb\\nimport spacy\\nfrom sklearn.model_selection import train_test_split\\nimport plotly.express as px\\nimport pandas as pd'); }\n",
              "    "
            ],
            "text/plain": [
              "<IPython.core.display.Javascript object>"
            ]
          },
          "metadata": {
            "tags": []
          }
        },
        {
          "output_type": "display_data",
          "data": {
            "application/javascript": [
              "\n",
              "        if (window._pyforest_update_imports_cell) { window._pyforest_update_imports_cell('import plotly.graph_objs as go\\nfrom sklearn.manifold import TSNE\\nimport tensorflow as tf\\nfrom sklearn.feature_extraction.text import TfidfVectorizer\\nimport lightgbm as lgb\\nimport tqdm\\nimport matplotlib.pyplot as plt\\nimport glob\\nimport re\\nimport statistics\\nimport numpy as np\\nimport pydot\\nimport pickle\\nimport seaborn as sns\\nimport plotly as py\\nimport matplotlib as mpl\\nimport bokeh\\nimport altair as alt\\nfrom openpyxl import load_workbook\\nimport sys\\nimport nltk\\nfrom sklearn import svm\\nimport sklearn\\nimport gensim\\nimport xgboost as xgb\\nimport spacy\\nfrom sklearn.model_selection import train_test_split\\nimport plotly.express as px\\nimport pandas as pd'); }\n",
              "    "
            ],
            "text/plain": [
              "<IPython.core.display.Javascript object>"
            ]
          },
          "metadata": {
            "tags": []
          }
        },
        {
          "output_type": "display_data",
          "data": {
            "application/javascript": [
              "\n",
              "        if (window._pyforest_update_imports_cell) { window._pyforest_update_imports_cell('import plotly.graph_objs as go\\nfrom sklearn.manifold import TSNE\\nimport tensorflow as tf\\nfrom sklearn.feature_extraction.text import TfidfVectorizer\\nimport lightgbm as lgb\\nimport tqdm\\nimport matplotlib.pyplot as plt\\nimport glob\\nimport re\\nimport statistics\\nimport numpy as np\\nimport pydot\\nimport pickle\\nimport seaborn as sns\\nimport plotly as py\\nimport matplotlib as mpl\\nimport bokeh\\nimport altair as alt\\nfrom openpyxl import load_workbook\\nimport sys\\nimport nltk\\nfrom sklearn import svm\\nimport sklearn\\nimport gensim\\nimport xgboost as xgb\\nimport spacy\\nfrom sklearn.model_selection import train_test_split\\nimport plotly.express as px\\nimport pandas as pd'); }\n",
              "    "
            ],
            "text/plain": [
              "<IPython.core.display.Javascript object>"
            ]
          },
          "metadata": {
            "tags": []
          }
        },
        {
          "output_type": "display_data",
          "data": {
            "application/javascript": [
              "\n",
              "        if (window._pyforest_update_imports_cell) { window._pyforest_update_imports_cell('import plotly.graph_objs as go\\nfrom sklearn.manifold import TSNE\\nimport tensorflow as tf\\nfrom sklearn.feature_extraction.text import TfidfVectorizer\\nimport lightgbm as lgb\\nimport tqdm\\nimport matplotlib.pyplot as plt\\nimport glob\\nimport re\\nimport statistics\\nimport numpy as np\\nimport pydot\\nimport pickle\\nimport seaborn as sns\\nimport plotly as py\\nimport matplotlib as mpl\\nimport bokeh\\nimport altair as alt\\nfrom openpyxl import load_workbook\\nimport sys\\nimport nltk\\nfrom sklearn import svm\\nimport sklearn\\nimport gensim\\nimport xgboost as xgb\\nimport spacy\\nfrom sklearn.model_selection import train_test_split\\nimport plotly.express as px\\nimport pandas as pd'); }\n",
              "    "
            ],
            "text/plain": [
              "<IPython.core.display.Javascript object>"
            ]
          },
          "metadata": {
            "tags": []
          }
        },
        {
          "output_type": "display_data",
          "data": {
            "application/javascript": [
              "\n",
              "        if (window._pyforest_update_imports_cell) { window._pyforest_update_imports_cell('import plotly.graph_objs as go\\nfrom sklearn.manifold import TSNE\\nimport tensorflow as tf\\nfrom sklearn.feature_extraction.text import TfidfVectorizer\\nimport lightgbm as lgb\\nimport tqdm\\nimport matplotlib.pyplot as plt\\nimport glob\\nimport re\\nimport statistics\\nimport numpy as np\\nimport pydot\\nimport pickle\\nimport seaborn as sns\\nimport plotly as py\\nimport matplotlib as mpl\\nimport bokeh\\nimport altair as alt\\nfrom openpyxl import load_workbook\\nimport sys\\nimport nltk\\nfrom sklearn import svm\\nimport sklearn\\nimport gensim\\nimport xgboost as xgb\\nimport spacy\\nfrom sklearn.model_selection import train_test_split\\nimport plotly.express as px\\nimport pandas as pd'); }\n",
              "    "
            ],
            "text/plain": [
              "<IPython.core.display.Javascript object>"
            ]
          },
          "metadata": {
            "tags": []
          }
        },
        {
          "output_type": "display_data",
          "data": {
            "application/javascript": [
              "\n",
              "        if (window._pyforest_update_imports_cell) { window._pyforest_update_imports_cell('import plotly.graph_objs as go\\nfrom sklearn.manifold import TSNE\\nimport tensorflow as tf\\nfrom sklearn.feature_extraction.text import TfidfVectorizer\\nimport lightgbm as lgb\\nimport tqdm\\nimport matplotlib.pyplot as plt\\nimport glob\\nimport re\\nimport statistics\\nimport numpy as np\\nimport pydot\\nimport pickle\\nimport seaborn as sns\\nimport plotly as py\\nimport matplotlib as mpl\\nimport bokeh\\nimport altair as alt\\nfrom openpyxl import load_workbook\\nimport sys\\nimport nltk\\nfrom sklearn import svm\\nimport sklearn\\nimport gensim\\nimport xgboost as xgb\\nimport spacy\\nfrom sklearn.model_selection import train_test_split\\nimport plotly.express as px\\nimport pandas as pd'); }\n",
              "    "
            ],
            "text/plain": [
              "<IPython.core.display.Javascript object>"
            ]
          },
          "metadata": {
            "tags": []
          }
        },
        {
          "output_type": "display_data",
          "data": {
            "application/javascript": [
              "\n",
              "        if (window._pyforest_update_imports_cell) { window._pyforest_update_imports_cell('import plotly.graph_objs as go\\nfrom sklearn.manifold import TSNE\\nimport tensorflow as tf\\nfrom sklearn.feature_extraction.text import TfidfVectorizer\\nimport lightgbm as lgb\\nimport tqdm\\nimport matplotlib.pyplot as plt\\nimport glob\\nimport re\\nimport statistics\\nimport numpy as np\\nimport pydot\\nimport pickle\\nimport seaborn as sns\\nimport plotly as py\\nimport matplotlib as mpl\\nimport bokeh\\nimport altair as alt\\nfrom openpyxl import load_workbook\\nimport sys\\nimport nltk\\nfrom sklearn import svm\\nimport sklearn\\nimport gensim\\nimport xgboost as xgb\\nimport spacy\\nfrom sklearn.model_selection import train_test_split\\nimport plotly.express as px\\nimport pandas as pd'); }\n",
              "    "
            ],
            "text/plain": [
              "<IPython.core.display.Javascript object>"
            ]
          },
          "metadata": {
            "tags": []
          }
        },
        {
          "output_type": "display_data",
          "data": {
            "application/javascript": [
              "\n",
              "        if (window._pyforest_update_imports_cell) { window._pyforest_update_imports_cell('import plotly.graph_objs as go\\nfrom sklearn.manifold import TSNE\\nimport tensorflow as tf\\nfrom sklearn.feature_extraction.text import TfidfVectorizer\\nimport lightgbm as lgb\\nimport tqdm\\nimport matplotlib.pyplot as plt\\nimport glob\\nimport re\\nimport statistics\\nimport numpy as np\\nimport pydot\\nimport pickle\\nimport seaborn as sns\\nimport plotly as py\\nimport matplotlib as mpl\\nimport bokeh\\nimport altair as alt\\nfrom openpyxl import load_workbook\\nimport sys\\nimport nltk\\nfrom sklearn import svm\\nimport sklearn\\nimport gensim\\nimport xgboost as xgb\\nimport spacy\\nfrom sklearn.model_selection import train_test_split\\nimport plotly.express as px\\nimport pandas as pd'); }\n",
              "    "
            ],
            "text/plain": [
              "<IPython.core.display.Javascript object>"
            ]
          },
          "metadata": {
            "tags": []
          }
        },
        {
          "output_type": "display_data",
          "data": {
            "application/javascript": [
              "\n",
              "        if (window._pyforest_update_imports_cell) { window._pyforest_update_imports_cell('import plotly.graph_objs as go\\nfrom sklearn.manifold import TSNE\\nimport tensorflow as tf\\nfrom sklearn.feature_extraction.text import TfidfVectorizer\\nimport lightgbm as lgb\\nimport tqdm\\nimport matplotlib.pyplot as plt\\nimport glob\\nimport re\\nimport statistics\\nimport numpy as np\\nimport pydot\\nimport pickle\\nimport seaborn as sns\\nimport plotly as py\\nimport matplotlib as mpl\\nimport bokeh\\nimport altair as alt\\nfrom openpyxl import load_workbook\\nimport sys\\nimport nltk\\nfrom sklearn import svm\\nimport sklearn\\nimport gensim\\nimport xgboost as xgb\\nimport spacy\\nfrom sklearn.model_selection import train_test_split\\nimport plotly.express as px\\nimport pandas as pd'); }\n",
              "    "
            ],
            "text/plain": [
              "<IPython.core.display.Javascript object>"
            ]
          },
          "metadata": {
            "tags": []
          }
        },
        {
          "output_type": "display_data",
          "data": {
            "application/javascript": [
              "\n",
              "        if (window._pyforest_update_imports_cell) { window._pyforest_update_imports_cell('import plotly.graph_objs as go\\nfrom sklearn.manifold import TSNE\\nimport tensorflow as tf\\nfrom sklearn.feature_extraction.text import TfidfVectorizer\\nimport lightgbm as lgb\\nimport tqdm\\nimport matplotlib.pyplot as plt\\nimport glob\\nimport re\\nimport statistics\\nimport numpy as np\\nimport pydot\\nimport pickle\\nimport seaborn as sns\\nimport plotly as py\\nimport matplotlib as mpl\\nimport bokeh\\nimport altair as alt\\nfrom openpyxl import load_workbook\\nimport sys\\nimport nltk\\nfrom sklearn import svm\\nimport sklearn\\nimport gensim\\nimport xgboost as xgb\\nimport spacy\\nfrom sklearn.model_selection import train_test_split\\nimport plotly.express as px\\nimport pandas as pd'); }\n",
              "    "
            ],
            "text/plain": [
              "<IPython.core.display.Javascript object>"
            ]
          },
          "metadata": {
            "tags": []
          }
        },
        {
          "output_type": "display_data",
          "data": {
            "application/javascript": [
              "\n",
              "        if (window._pyforest_update_imports_cell) { window._pyforest_update_imports_cell('import plotly.graph_objs as go\\nfrom sklearn.manifold import TSNE\\nimport tensorflow as tf\\nfrom sklearn.feature_extraction.text import TfidfVectorizer\\nimport lightgbm as lgb\\nimport tqdm\\nimport matplotlib.pyplot as plt\\nimport glob\\nimport re\\nimport statistics\\nimport numpy as np\\nimport pydot\\nimport pickle\\nimport seaborn as sns\\nimport plotly as py\\nimport matplotlib as mpl\\nimport bokeh\\nimport altair as alt\\nfrom openpyxl import load_workbook\\nimport sys\\nimport nltk\\nfrom sklearn import svm\\nimport sklearn\\nimport gensim\\nimport xgboost as xgb\\nimport spacy\\nfrom sklearn.model_selection import train_test_split\\nimport plotly.express as px\\nimport pandas as pd'); }\n",
              "    "
            ],
            "text/plain": [
              "<IPython.core.display.Javascript object>"
            ]
          },
          "metadata": {
            "tags": []
          }
        },
        {
          "output_type": "display_data",
          "data": {
            "application/javascript": [
              "\n",
              "        if (window._pyforest_update_imports_cell) { window._pyforest_update_imports_cell('import plotly.graph_objs as go\\nfrom sklearn.manifold import TSNE\\nimport tensorflow as tf\\nfrom sklearn.feature_extraction.text import TfidfVectorizer\\nimport lightgbm as lgb\\nimport tqdm\\nimport matplotlib.pyplot as plt\\nimport glob\\nimport re\\nimport statistics\\nimport numpy as np\\nimport pydot\\nimport pickle\\nimport seaborn as sns\\nimport plotly as py\\nimport matplotlib as mpl\\nimport bokeh\\nimport altair as alt\\nfrom openpyxl import load_workbook\\nimport sys\\nimport nltk\\nfrom sklearn import svm\\nimport sklearn\\nimport gensim\\nimport xgboost as xgb\\nimport spacy\\nfrom sklearn.model_selection import train_test_split\\nimport plotly.express as px\\nimport pandas as pd'); }\n",
              "    "
            ],
            "text/plain": [
              "<IPython.core.display.Javascript object>"
            ]
          },
          "metadata": {
            "tags": []
          }
        },
        {
          "output_type": "display_data",
          "data": {
            "application/javascript": [
              "\n",
              "        if (window._pyforest_update_imports_cell) { window._pyforest_update_imports_cell('import plotly.graph_objs as go\\nfrom sklearn.manifold import TSNE\\nimport tensorflow as tf\\nfrom sklearn.feature_extraction.text import TfidfVectorizer\\nimport lightgbm as lgb\\nimport tqdm\\nimport matplotlib.pyplot as plt\\nimport glob\\nimport re\\nimport statistics\\nimport numpy as np\\nimport pydot\\nimport pickle\\nimport seaborn as sns\\nimport plotly as py\\nimport matplotlib as mpl\\nimport bokeh\\nimport altair as alt\\nfrom openpyxl import load_workbook\\nimport sys\\nimport nltk\\nfrom sklearn import svm\\nimport sklearn\\nimport gensim\\nimport xgboost as xgb\\nimport spacy\\nfrom sklearn.model_selection import train_test_split\\nimport plotly.express as px\\nimport pandas as pd'); }\n",
              "    "
            ],
            "text/plain": [
              "<IPython.core.display.Javascript object>"
            ]
          },
          "metadata": {
            "tags": []
          }
        },
        {
          "output_type": "display_data",
          "data": {
            "application/javascript": [
              "\n",
              "        if (window._pyforest_update_imports_cell) { window._pyforest_update_imports_cell('import plotly.graph_objs as go\\nfrom sklearn.manifold import TSNE\\nimport tensorflow as tf\\nfrom sklearn.feature_extraction.text import TfidfVectorizer\\nimport lightgbm as lgb\\nimport tqdm\\nimport matplotlib.pyplot as plt\\nimport glob\\nimport re\\nimport statistics\\nimport numpy as np\\nimport pydot\\nimport pickle\\nimport seaborn as sns\\nimport plotly as py\\nimport matplotlib as mpl\\nimport bokeh\\nimport altair as alt\\nfrom openpyxl import load_workbook\\nimport sys\\nimport nltk\\nfrom sklearn import svm\\nimport sklearn\\nimport gensim\\nimport xgboost as xgb\\nimport spacy\\nfrom sklearn.model_selection import train_test_split\\nimport plotly.express as px\\nimport pandas as pd'); }\n",
              "    "
            ],
            "text/plain": [
              "<IPython.core.display.Javascript object>"
            ]
          },
          "metadata": {
            "tags": []
          }
        },
        {
          "output_type": "display_data",
          "data": {
            "application/javascript": [
              "\n",
              "        if (window._pyforest_update_imports_cell) { window._pyforest_update_imports_cell('import plotly.graph_objs as go\\nfrom sklearn.manifold import TSNE\\nimport tensorflow as tf\\nfrom sklearn.feature_extraction.text import TfidfVectorizer\\nimport lightgbm as lgb\\nimport tqdm\\nimport matplotlib.pyplot as plt\\nimport glob\\nimport re\\nimport statistics\\nimport numpy as np\\nimport pydot\\nimport pickle\\nimport seaborn as sns\\nimport plotly as py\\nimport matplotlib as mpl\\nimport bokeh\\nimport altair as alt\\nfrom openpyxl import load_workbook\\nimport sys\\nimport nltk\\nfrom sklearn import svm\\nimport sklearn\\nimport gensim\\nimport xgboost as xgb\\nimport spacy\\nfrom sklearn.model_selection import train_test_split\\nimport plotly.express as px\\nimport pandas as pd'); }\n",
              "    "
            ],
            "text/plain": [
              "<IPython.core.display.Javascript object>"
            ]
          },
          "metadata": {
            "tags": []
          }
        },
        {
          "output_type": "display_data",
          "data": {
            "application/javascript": [
              "\n",
              "        if (window._pyforest_update_imports_cell) { window._pyforest_update_imports_cell('import plotly.graph_objs as go\\nfrom sklearn.manifold import TSNE\\nimport tensorflow as tf\\nfrom sklearn.feature_extraction.text import TfidfVectorizer\\nimport lightgbm as lgb\\nimport tqdm\\nimport matplotlib.pyplot as plt\\nimport glob\\nimport re\\nimport statistics\\nimport numpy as np\\nimport pydot\\nimport pickle\\nimport seaborn as sns\\nimport plotly as py\\nimport matplotlib as mpl\\nimport bokeh\\nimport altair as alt\\nfrom openpyxl import load_workbook\\nimport sys\\nimport nltk\\nfrom sklearn import svm\\nimport sklearn\\nimport gensim\\nimport xgboost as xgb\\nimport spacy\\nfrom sklearn.model_selection import train_test_split\\nimport plotly.express as px\\nimport pandas as pd'); }\n",
              "    "
            ],
            "text/plain": [
              "<IPython.core.display.Javascript object>"
            ]
          },
          "metadata": {
            "tags": []
          }
        },
        {
          "output_type": "display_data",
          "data": {
            "application/javascript": [
              "\n",
              "        if (window._pyforest_update_imports_cell) { window._pyforest_update_imports_cell('import plotly.graph_objs as go\\nfrom sklearn.manifold import TSNE\\nimport tensorflow as tf\\nfrom sklearn.feature_extraction.text import TfidfVectorizer\\nimport lightgbm as lgb\\nimport tqdm\\nimport matplotlib.pyplot as plt\\nimport glob\\nimport re\\nimport statistics\\nimport numpy as np\\nimport pydot\\nimport pickle\\nimport seaborn as sns\\nimport plotly as py\\nimport matplotlib as mpl\\nimport bokeh\\nimport altair as alt\\nfrom openpyxl import load_workbook\\nimport sys\\nimport nltk\\nfrom sklearn import svm\\nimport sklearn\\nimport gensim\\nimport xgboost as xgb\\nimport spacy\\nfrom sklearn.model_selection import train_test_split\\nimport plotly.express as px\\nimport pandas as pd'); }\n",
              "    "
            ],
            "text/plain": [
              "<IPython.core.display.Javascript object>"
            ]
          },
          "metadata": {
            "tags": []
          }
        },
        {
          "output_type": "display_data",
          "data": {
            "application/javascript": [
              "\n",
              "        if (window._pyforest_update_imports_cell) { window._pyforest_update_imports_cell('import plotly.graph_objs as go\\nfrom sklearn.manifold import TSNE\\nimport tensorflow as tf\\nfrom sklearn.feature_extraction.text import TfidfVectorizer\\nimport lightgbm as lgb\\nimport tqdm\\nimport matplotlib.pyplot as plt\\nimport glob\\nimport re\\nimport statistics\\nimport numpy as np\\nimport pydot\\nimport pickle\\nimport seaborn as sns\\nimport plotly as py\\nimport matplotlib as mpl\\nimport bokeh\\nimport altair as alt\\nfrom openpyxl import load_workbook\\nimport sys\\nimport nltk\\nfrom sklearn import svm\\nimport sklearn\\nimport gensim\\nimport xgboost as xgb\\nimport spacy\\nfrom sklearn.model_selection import train_test_split\\nimport plotly.express as px\\nimport pandas as pd'); }\n",
              "    "
            ],
            "text/plain": [
              "<IPython.core.display.Javascript object>"
            ]
          },
          "metadata": {
            "tags": []
          }
        },
        {
          "output_type": "display_data",
          "data": {
            "application/javascript": [
              "\n",
              "        if (window._pyforest_update_imports_cell) { window._pyforest_update_imports_cell('import plotly.graph_objs as go\\nfrom sklearn.manifold import TSNE\\nimport tensorflow as tf\\nfrom sklearn.feature_extraction.text import TfidfVectorizer\\nimport lightgbm as lgb\\nimport tqdm\\nimport matplotlib.pyplot as plt\\nimport glob\\nimport re\\nimport statistics\\nimport numpy as np\\nimport pydot\\nimport pickle\\nimport seaborn as sns\\nimport plotly as py\\nimport matplotlib as mpl\\nimport bokeh\\nimport altair as alt\\nfrom openpyxl import load_workbook\\nimport sys\\nimport nltk\\nfrom sklearn import svm\\nimport sklearn\\nimport gensim\\nimport xgboost as xgb\\nimport spacy\\nfrom sklearn.model_selection import train_test_split\\nimport plotly.express as px\\nimport pandas as pd'); }\n",
              "    "
            ],
            "text/plain": [
              "<IPython.core.display.Javascript object>"
            ]
          },
          "metadata": {
            "tags": []
          }
        },
        {
          "output_type": "display_data",
          "data": {
            "application/javascript": [
              "\n",
              "        if (window._pyforest_update_imports_cell) { window._pyforest_update_imports_cell('import plotly.graph_objs as go\\nfrom sklearn.manifold import TSNE\\nimport tensorflow as tf\\nfrom sklearn.feature_extraction.text import TfidfVectorizer\\nimport lightgbm as lgb\\nimport tqdm\\nimport matplotlib.pyplot as plt\\nimport glob\\nimport re\\nimport statistics\\nimport numpy as np\\nimport pydot\\nimport pickle\\nimport seaborn as sns\\nimport plotly as py\\nimport matplotlib as mpl\\nimport bokeh\\nimport altair as alt\\nfrom openpyxl import load_workbook\\nimport sys\\nimport nltk\\nfrom sklearn import svm\\nimport sklearn\\nimport gensim\\nimport xgboost as xgb\\nimport spacy\\nfrom sklearn.model_selection import train_test_split\\nimport plotly.express as px\\nimport pandas as pd'); }\n",
              "    "
            ],
            "text/plain": [
              "<IPython.core.display.Javascript object>"
            ]
          },
          "metadata": {
            "tags": []
          }
        },
        {
          "output_type": "display_data",
          "data": {
            "application/javascript": [
              "\n",
              "        if (window._pyforest_update_imports_cell) { window._pyforest_update_imports_cell('import plotly.graph_objs as go\\nfrom sklearn.manifold import TSNE\\nimport tensorflow as tf\\nfrom sklearn.feature_extraction.text import TfidfVectorizer\\nimport lightgbm as lgb\\nimport tqdm\\nimport matplotlib.pyplot as plt\\nimport glob\\nimport re\\nimport statistics\\nimport numpy as np\\nimport pydot\\nimport pickle\\nimport seaborn as sns\\nimport plotly as py\\nimport matplotlib as mpl\\nimport bokeh\\nimport altair as alt\\nfrom openpyxl import load_workbook\\nimport sys\\nimport nltk\\nfrom sklearn import svm\\nimport sklearn\\nimport gensim\\nimport xgboost as xgb\\nimport spacy\\nfrom sklearn.model_selection import train_test_split\\nimport plotly.express as px\\nimport pandas as pd'); }\n",
              "    "
            ],
            "text/plain": [
              "<IPython.core.display.Javascript object>"
            ]
          },
          "metadata": {
            "tags": []
          }
        },
        {
          "output_type": "display_data",
          "data": {
            "application/javascript": [
              "\n",
              "        if (window._pyforest_update_imports_cell) { window._pyforest_update_imports_cell('import plotly.graph_objs as go\\nfrom sklearn.manifold import TSNE\\nimport tensorflow as tf\\nfrom sklearn.feature_extraction.text import TfidfVectorizer\\nimport lightgbm as lgb\\nimport tqdm\\nimport matplotlib.pyplot as plt\\nimport glob\\nimport re\\nimport statistics\\nimport numpy as np\\nimport pydot\\nimport pickle\\nimport seaborn as sns\\nimport plotly as py\\nimport matplotlib as mpl\\nimport bokeh\\nimport altair as alt\\nfrom openpyxl import load_workbook\\nimport sys\\nimport nltk\\nfrom sklearn import svm\\nimport sklearn\\nimport gensim\\nimport xgboost as xgb\\nimport spacy\\nfrom sklearn.model_selection import train_test_split\\nimport plotly.express as px\\nimport pandas as pd'); }\n",
              "    "
            ],
            "text/plain": [
              "<IPython.core.display.Javascript object>"
            ]
          },
          "metadata": {
            "tags": []
          }
        },
        {
          "output_type": "display_data",
          "data": {
            "application/javascript": [
              "\n",
              "        if (window._pyforest_update_imports_cell) { window._pyforest_update_imports_cell('import plotly.graph_objs as go\\nfrom sklearn.manifold import TSNE\\nimport tensorflow as tf\\nfrom sklearn.feature_extraction.text import TfidfVectorizer\\nimport lightgbm as lgb\\nimport tqdm\\nimport matplotlib.pyplot as plt\\nimport glob\\nimport re\\nimport statistics\\nimport numpy as np\\nimport pydot\\nimport pickle\\nimport seaborn as sns\\nimport plotly as py\\nimport matplotlib as mpl\\nimport bokeh\\nimport altair as alt\\nfrom openpyxl import load_workbook\\nimport sys\\nimport nltk\\nfrom sklearn import svm\\nimport sklearn\\nimport gensim\\nimport xgboost as xgb\\nimport spacy\\nfrom sklearn.model_selection import train_test_split\\nimport plotly.express as px\\nimport pandas as pd'); }\n",
              "    "
            ],
            "text/plain": [
              "<IPython.core.display.Javascript object>"
            ]
          },
          "metadata": {
            "tags": []
          }
        },
        {
          "output_type": "display_data",
          "data": {
            "application/javascript": [
              "\n",
              "        if (window._pyforest_update_imports_cell) { window._pyforest_update_imports_cell('import plotly.graph_objs as go\\nfrom sklearn.manifold import TSNE\\nimport tensorflow as tf\\nfrom sklearn.feature_extraction.text import TfidfVectorizer\\nimport lightgbm as lgb\\nimport tqdm\\nimport matplotlib.pyplot as plt\\nimport glob\\nimport re\\nimport statistics\\nimport numpy as np\\nimport pydot\\nimport pickle\\nimport seaborn as sns\\nimport plotly as py\\nimport matplotlib as mpl\\nimport bokeh\\nimport altair as alt\\nfrom openpyxl import load_workbook\\nimport sys\\nimport nltk\\nfrom sklearn import svm\\nimport sklearn\\nimport gensim\\nimport xgboost as xgb\\nimport spacy\\nfrom sklearn.model_selection import train_test_split\\nimport plotly.express as px\\nimport pandas as pd'); }\n",
              "    "
            ],
            "text/plain": [
              "<IPython.core.display.Javascript object>"
            ]
          },
          "metadata": {
            "tags": []
          }
        },
        {
          "output_type": "display_data",
          "data": {
            "application/javascript": [
              "\n",
              "        if (window._pyforest_update_imports_cell) { window._pyforest_update_imports_cell('import plotly.graph_objs as go\\nfrom sklearn.manifold import TSNE\\nimport tensorflow as tf\\nfrom sklearn.feature_extraction.text import TfidfVectorizer\\nimport lightgbm as lgb\\nimport tqdm\\nimport matplotlib.pyplot as plt\\nimport glob\\nimport re\\nimport statistics\\nimport numpy as np\\nimport pydot\\nimport pickle\\nimport seaborn as sns\\nimport plotly as py\\nimport matplotlib as mpl\\nimport bokeh\\nimport altair as alt\\nfrom openpyxl import load_workbook\\nimport sys\\nimport nltk\\nfrom sklearn import svm\\nimport sklearn\\nimport gensim\\nimport xgboost as xgb\\nimport spacy\\nfrom sklearn.model_selection import train_test_split\\nimport plotly.express as px\\nimport pandas as pd'); }\n",
              "    "
            ],
            "text/plain": [
              "<IPython.core.display.Javascript object>"
            ]
          },
          "metadata": {
            "tags": []
          }
        },
        {
          "output_type": "display_data",
          "data": {
            "application/javascript": [
              "\n",
              "        if (window._pyforest_update_imports_cell) { window._pyforest_update_imports_cell('import plotly.graph_objs as go\\nfrom sklearn.manifold import TSNE\\nimport tensorflow as tf\\nfrom sklearn.feature_extraction.text import TfidfVectorizer\\nimport lightgbm as lgb\\nimport tqdm\\nimport matplotlib.pyplot as plt\\nimport glob\\nimport re\\nimport statistics\\nimport numpy as np\\nimport pydot\\nimport pickle\\nimport seaborn as sns\\nimport plotly as py\\nimport matplotlib as mpl\\nimport bokeh\\nimport altair as alt\\nfrom openpyxl import load_workbook\\nimport sys\\nimport nltk\\nfrom sklearn import svm\\nimport sklearn\\nimport gensim\\nimport xgboost as xgb\\nimport spacy\\nfrom sklearn.model_selection import train_test_split\\nimport plotly.express as px\\nimport pandas as pd'); }\n",
              "    "
            ],
            "text/plain": [
              "<IPython.core.display.Javascript object>"
            ]
          },
          "metadata": {
            "tags": []
          }
        },
        {
          "output_type": "display_data",
          "data": {
            "application/javascript": [
              "\n",
              "        if (window._pyforest_update_imports_cell) { window._pyforest_update_imports_cell('import plotly.graph_objs as go\\nfrom sklearn.manifold import TSNE\\nimport tensorflow as tf\\nfrom sklearn.feature_extraction.text import TfidfVectorizer\\nimport lightgbm as lgb\\nimport tqdm\\nimport matplotlib.pyplot as plt\\nimport glob\\nimport re\\nimport statistics\\nimport numpy as np\\nimport pydot\\nimport pickle\\nimport seaborn as sns\\nimport plotly as py\\nimport matplotlib as mpl\\nimport bokeh\\nimport altair as alt\\nfrom openpyxl import load_workbook\\nimport sys\\nimport nltk\\nfrom sklearn import svm\\nimport sklearn\\nimport gensim\\nimport xgboost as xgb\\nimport spacy\\nfrom sklearn.model_selection import train_test_split\\nimport plotly.express as px\\nimport pandas as pd'); }\n",
              "    "
            ],
            "text/plain": [
              "<IPython.core.display.Javascript object>"
            ]
          },
          "metadata": {
            "tags": []
          }
        },
        {
          "output_type": "display_data",
          "data": {
            "application/javascript": [
              "\n",
              "        if (window._pyforest_update_imports_cell) { window._pyforest_update_imports_cell('import plotly.graph_objs as go\\nfrom sklearn.manifold import TSNE\\nimport tensorflow as tf\\nfrom sklearn.feature_extraction.text import TfidfVectorizer\\nimport lightgbm as lgb\\nimport tqdm\\nimport matplotlib.pyplot as plt\\nimport glob\\nimport re\\nimport statistics\\nimport numpy as np\\nimport pydot\\nimport pickle\\nimport seaborn as sns\\nimport plotly as py\\nimport matplotlib as mpl\\nimport bokeh\\nimport altair as alt\\nfrom openpyxl import load_workbook\\nimport sys\\nimport nltk\\nfrom sklearn import svm\\nimport sklearn\\nimport gensim\\nimport xgboost as xgb\\nimport spacy\\nfrom sklearn.model_selection import train_test_split\\nimport plotly.express as px\\nimport pandas as pd'); }\n",
              "    "
            ],
            "text/plain": [
              "<IPython.core.display.Javascript object>"
            ]
          },
          "metadata": {
            "tags": []
          }
        },
        {
          "output_type": "display_data",
          "data": {
            "application/javascript": [
              "\n",
              "        if (window._pyforest_update_imports_cell) { window._pyforest_update_imports_cell('import plotly.graph_objs as go\\nfrom sklearn.manifold import TSNE\\nimport tensorflow as tf\\nfrom sklearn.feature_extraction.text import TfidfVectorizer\\nimport lightgbm as lgb\\nimport tqdm\\nimport matplotlib.pyplot as plt\\nimport glob\\nimport re\\nimport statistics\\nimport numpy as np\\nimport pydot\\nimport pickle\\nimport seaborn as sns\\nimport plotly as py\\nimport matplotlib as mpl\\nimport bokeh\\nimport altair as alt\\nfrom openpyxl import load_workbook\\nimport sys\\nimport nltk\\nfrom sklearn import svm\\nimport sklearn\\nimport gensim\\nimport xgboost as xgb\\nimport spacy\\nfrom sklearn.model_selection import train_test_split\\nimport plotly.express as px\\nimport pandas as pd'); }\n",
              "    "
            ],
            "text/plain": [
              "<IPython.core.display.Javascript object>"
            ]
          },
          "metadata": {
            "tags": []
          }
        },
        {
          "output_type": "display_data",
          "data": {
            "application/javascript": [
              "\n",
              "        if (window._pyforest_update_imports_cell) { window._pyforest_update_imports_cell('import plotly.graph_objs as go\\nfrom sklearn.manifold import TSNE\\nimport tensorflow as tf\\nfrom sklearn.feature_extraction.text import TfidfVectorizer\\nimport lightgbm as lgb\\nimport tqdm\\nimport matplotlib.pyplot as plt\\nimport glob\\nimport re\\nimport statistics\\nimport numpy as np\\nimport pydot\\nimport pickle\\nimport seaborn as sns\\nimport plotly as py\\nimport matplotlib as mpl\\nimport bokeh\\nimport altair as alt\\nfrom openpyxl import load_workbook\\nimport sys\\nimport nltk\\nfrom sklearn import svm\\nimport sklearn\\nimport gensim\\nimport xgboost as xgb\\nimport spacy\\nfrom sklearn.model_selection import train_test_split\\nimport plotly.express as px\\nimport pandas as pd'); }\n",
              "    "
            ],
            "text/plain": [
              "<IPython.core.display.Javascript object>"
            ]
          },
          "metadata": {
            "tags": []
          }
        },
        {
          "output_type": "display_data",
          "data": {
            "application/javascript": [
              "\n",
              "        if (window._pyforest_update_imports_cell) { window._pyforest_update_imports_cell('import plotly.graph_objs as go\\nfrom sklearn.manifold import TSNE\\nimport tensorflow as tf\\nfrom sklearn.feature_extraction.text import TfidfVectorizer\\nimport lightgbm as lgb\\nimport tqdm\\nimport matplotlib.pyplot as plt\\nimport glob\\nimport re\\nimport statistics\\nimport numpy as np\\nimport pydot\\nimport pickle\\nimport seaborn as sns\\nimport plotly as py\\nimport matplotlib as mpl\\nimport bokeh\\nimport altair as alt\\nfrom openpyxl import load_workbook\\nimport sys\\nimport nltk\\nfrom sklearn import svm\\nimport sklearn\\nimport gensim\\nimport xgboost as xgb\\nimport spacy\\nfrom sklearn.model_selection import train_test_split\\nimport plotly.express as px\\nimport pandas as pd'); }\n",
              "    "
            ],
            "text/plain": [
              "<IPython.core.display.Javascript object>"
            ]
          },
          "metadata": {
            "tags": []
          }
        },
        {
          "output_type": "display_data",
          "data": {
            "application/javascript": [
              "\n",
              "        if (window._pyforest_update_imports_cell) { window._pyforest_update_imports_cell('import plotly.graph_objs as go\\nfrom sklearn.manifold import TSNE\\nimport tensorflow as tf\\nfrom sklearn.feature_extraction.text import TfidfVectorizer\\nimport lightgbm as lgb\\nimport tqdm\\nimport matplotlib.pyplot as plt\\nimport glob\\nimport re\\nimport statistics\\nimport numpy as np\\nimport pydot\\nimport pickle\\nimport seaborn as sns\\nimport plotly as py\\nimport matplotlib as mpl\\nimport bokeh\\nimport altair as alt\\nfrom openpyxl import load_workbook\\nimport sys\\nimport nltk\\nfrom sklearn import svm\\nimport sklearn\\nimport gensim\\nimport xgboost as xgb\\nimport spacy\\nfrom sklearn.model_selection import train_test_split\\nimport plotly.express as px\\nimport pandas as pd'); }\n",
              "    "
            ],
            "text/plain": [
              "<IPython.core.display.Javascript object>"
            ]
          },
          "metadata": {
            "tags": []
          }
        },
        {
          "output_type": "display_data",
          "data": {
            "application/javascript": [
              "\n",
              "        if (window._pyforest_update_imports_cell) { window._pyforest_update_imports_cell('import plotly.graph_objs as go\\nfrom sklearn.manifold import TSNE\\nimport tensorflow as tf\\nfrom sklearn.feature_extraction.text import TfidfVectorizer\\nimport lightgbm as lgb\\nimport tqdm\\nimport matplotlib.pyplot as plt\\nimport glob\\nimport re\\nimport statistics\\nimport numpy as np\\nimport pydot\\nimport pickle\\nimport seaborn as sns\\nimport plotly as py\\nimport matplotlib as mpl\\nimport bokeh\\nimport altair as alt\\nfrom openpyxl import load_workbook\\nimport sys\\nimport nltk\\nfrom sklearn import svm\\nimport sklearn\\nimport gensim\\nimport xgboost as xgb\\nimport spacy\\nfrom sklearn.model_selection import train_test_split\\nimport plotly.express as px\\nimport pandas as pd'); }\n",
              "    "
            ],
            "text/plain": [
              "<IPython.core.display.Javascript object>"
            ]
          },
          "metadata": {
            "tags": []
          }
        },
        {
          "output_type": "display_data",
          "data": {
            "application/javascript": [
              "\n",
              "        if (window._pyforest_update_imports_cell) { window._pyforest_update_imports_cell('import plotly.graph_objs as go\\nfrom sklearn.manifold import TSNE\\nimport tensorflow as tf\\nfrom sklearn.feature_extraction.text import TfidfVectorizer\\nimport lightgbm as lgb\\nimport tqdm\\nimport matplotlib.pyplot as plt\\nimport glob\\nimport re\\nimport statistics\\nimport numpy as np\\nimport pydot\\nimport pickle\\nimport seaborn as sns\\nimport plotly as py\\nimport matplotlib as mpl\\nimport bokeh\\nimport altair as alt\\nfrom openpyxl import load_workbook\\nimport sys\\nimport nltk\\nfrom sklearn import svm\\nimport sklearn\\nimport gensim\\nimport xgboost as xgb\\nimport spacy\\nfrom sklearn.model_selection import train_test_split\\nimport plotly.express as px\\nimport pandas as pd'); }\n",
              "    "
            ],
            "text/plain": [
              "<IPython.core.display.Javascript object>"
            ]
          },
          "metadata": {
            "tags": []
          }
        },
        {
          "output_type": "display_data",
          "data": {
            "application/javascript": [
              "\n",
              "        if (window._pyforest_update_imports_cell) { window._pyforest_update_imports_cell('import plotly.graph_objs as go\\nfrom sklearn.manifold import TSNE\\nimport tensorflow as tf\\nfrom sklearn.feature_extraction.text import TfidfVectorizer\\nimport lightgbm as lgb\\nimport tqdm\\nimport matplotlib.pyplot as plt\\nimport glob\\nimport re\\nimport statistics\\nimport numpy as np\\nimport pydot\\nimport pickle\\nimport seaborn as sns\\nimport plotly as py\\nimport matplotlib as mpl\\nimport bokeh\\nimport altair as alt\\nfrom openpyxl import load_workbook\\nimport sys\\nimport nltk\\nfrom sklearn import svm\\nimport sklearn\\nimport gensim\\nimport xgboost as xgb\\nimport spacy\\nfrom sklearn.model_selection import train_test_split\\nimport plotly.express as px\\nimport pandas as pd'); }\n",
              "    "
            ],
            "text/plain": [
              "<IPython.core.display.Javascript object>"
            ]
          },
          "metadata": {
            "tags": []
          }
        },
        {
          "output_type": "display_data",
          "data": {
            "application/javascript": [
              "\n",
              "        if (window._pyforest_update_imports_cell) { window._pyforest_update_imports_cell('import plotly.graph_objs as go\\nfrom sklearn.manifold import TSNE\\nimport tensorflow as tf\\nfrom sklearn.feature_extraction.text import TfidfVectorizer\\nimport lightgbm as lgb\\nimport tqdm\\nimport matplotlib.pyplot as plt\\nimport glob\\nimport re\\nimport statistics\\nimport numpy as np\\nimport pydot\\nimport pickle\\nimport seaborn as sns\\nimport plotly as py\\nimport matplotlib as mpl\\nimport bokeh\\nimport altair as alt\\nfrom openpyxl import load_workbook\\nimport sys\\nimport nltk\\nfrom sklearn import svm\\nimport sklearn\\nimport gensim\\nimport xgboost as xgb\\nimport spacy\\nfrom sklearn.model_selection import train_test_split\\nimport plotly.express as px\\nimport pandas as pd'); }\n",
              "    "
            ],
            "text/plain": [
              "<IPython.core.display.Javascript object>"
            ]
          },
          "metadata": {
            "tags": []
          }
        },
        {
          "output_type": "display_data",
          "data": {
            "application/javascript": [
              "\n",
              "        if (window._pyforest_update_imports_cell) { window._pyforest_update_imports_cell('import plotly.graph_objs as go\\nfrom sklearn.manifold import TSNE\\nimport tensorflow as tf\\nfrom sklearn.feature_extraction.text import TfidfVectorizer\\nimport lightgbm as lgb\\nimport tqdm\\nimport matplotlib.pyplot as plt\\nimport glob\\nimport re\\nimport statistics\\nimport numpy as np\\nimport pydot\\nimport pickle\\nimport seaborn as sns\\nimport plotly as py\\nimport matplotlib as mpl\\nimport bokeh\\nimport altair as alt\\nfrom openpyxl import load_workbook\\nimport sys\\nimport nltk\\nfrom sklearn import svm\\nimport sklearn\\nimport gensim\\nimport xgboost as xgb\\nimport spacy\\nfrom sklearn.model_selection import train_test_split\\nimport plotly.express as px\\nimport pandas as pd'); }\n",
              "    "
            ],
            "text/plain": [
              "<IPython.core.display.Javascript object>"
            ]
          },
          "metadata": {
            "tags": []
          }
        },
        {
          "output_type": "display_data",
          "data": {
            "application/javascript": [
              "\n",
              "        if (window._pyforest_update_imports_cell) { window._pyforest_update_imports_cell('import plotly.graph_objs as go\\nfrom sklearn.manifold import TSNE\\nimport tensorflow as tf\\nfrom sklearn.feature_extraction.text import TfidfVectorizer\\nimport lightgbm as lgb\\nimport tqdm\\nimport matplotlib.pyplot as plt\\nimport glob\\nimport re\\nimport statistics\\nimport numpy as np\\nimport pydot\\nimport pickle\\nimport seaborn as sns\\nimport plotly as py\\nimport matplotlib as mpl\\nimport bokeh\\nimport altair as alt\\nfrom openpyxl import load_workbook\\nimport sys\\nimport nltk\\nfrom sklearn import svm\\nimport sklearn\\nimport gensim\\nimport xgboost as xgb\\nimport spacy\\nfrom sklearn.model_selection import train_test_split\\nimport plotly.express as px\\nimport pandas as pd'); }\n",
              "    "
            ],
            "text/plain": [
              "<IPython.core.display.Javascript object>"
            ]
          },
          "metadata": {
            "tags": []
          }
        },
        {
          "output_type": "display_data",
          "data": {
            "application/javascript": [
              "\n",
              "        if (window._pyforest_update_imports_cell) { window._pyforest_update_imports_cell('import plotly.graph_objs as go\\nfrom sklearn.manifold import TSNE\\nimport tensorflow as tf\\nfrom sklearn.feature_extraction.text import TfidfVectorizer\\nimport lightgbm as lgb\\nimport tqdm\\nimport matplotlib.pyplot as plt\\nimport glob\\nimport re\\nimport statistics\\nimport numpy as np\\nimport pydot\\nimport pickle\\nimport seaborn as sns\\nimport plotly as py\\nimport matplotlib as mpl\\nimport bokeh\\nimport altair as alt\\nfrom openpyxl import load_workbook\\nimport sys\\nimport nltk\\nfrom sklearn import svm\\nimport sklearn\\nimport gensim\\nimport xgboost as xgb\\nimport spacy\\nfrom sklearn.model_selection import train_test_split\\nimport plotly.express as px\\nimport pandas as pd'); }\n",
              "    "
            ],
            "text/plain": [
              "<IPython.core.display.Javascript object>"
            ]
          },
          "metadata": {
            "tags": []
          }
        },
        {
          "output_type": "display_data",
          "data": {
            "application/javascript": [
              "\n",
              "        if (window._pyforest_update_imports_cell) { window._pyforest_update_imports_cell('import plotly.graph_objs as go\\nfrom sklearn.manifold import TSNE\\nimport tensorflow as tf\\nfrom sklearn.feature_extraction.text import TfidfVectorizer\\nimport lightgbm as lgb\\nimport tqdm\\nimport matplotlib.pyplot as plt\\nimport glob\\nimport re\\nimport statistics\\nimport numpy as np\\nimport pydot\\nimport pickle\\nimport seaborn as sns\\nimport plotly as py\\nimport matplotlib as mpl\\nimport bokeh\\nimport altair as alt\\nfrom openpyxl import load_workbook\\nimport sys\\nimport nltk\\nfrom sklearn import svm\\nimport sklearn\\nimport gensim\\nimport xgboost as xgb\\nimport spacy\\nfrom sklearn.model_selection import train_test_split\\nimport plotly.express as px\\nimport pandas as pd'); }\n",
              "    "
            ],
            "text/plain": [
              "<IPython.core.display.Javascript object>"
            ]
          },
          "metadata": {
            "tags": []
          }
        },
        {
          "output_type": "display_data",
          "data": {
            "application/javascript": [
              "\n",
              "        if (window._pyforest_update_imports_cell) { window._pyforest_update_imports_cell('import plotly.graph_objs as go\\nfrom sklearn.manifold import TSNE\\nimport tensorflow as tf\\nfrom sklearn.feature_extraction.text import TfidfVectorizer\\nimport lightgbm as lgb\\nimport tqdm\\nimport matplotlib.pyplot as plt\\nimport glob\\nimport re\\nimport statistics\\nimport numpy as np\\nimport pydot\\nimport pickle\\nimport seaborn as sns\\nimport plotly as py\\nimport matplotlib as mpl\\nimport bokeh\\nimport altair as alt\\nfrom openpyxl import load_workbook\\nimport sys\\nimport nltk\\nfrom sklearn import svm\\nimport sklearn\\nimport gensim\\nimport xgboost as xgb\\nimport spacy\\nfrom sklearn.model_selection import train_test_split\\nimport plotly.express as px\\nimport pandas as pd'); }\n",
              "    "
            ],
            "text/plain": [
              "<IPython.core.display.Javascript object>"
            ]
          },
          "metadata": {
            "tags": []
          }
        },
        {
          "output_type": "display_data",
          "data": {
            "application/javascript": [
              "\n",
              "        if (window._pyforest_update_imports_cell) { window._pyforest_update_imports_cell('import plotly.graph_objs as go\\nfrom sklearn.manifold import TSNE\\nimport tensorflow as tf\\nfrom sklearn.feature_extraction.text import TfidfVectorizer\\nimport lightgbm as lgb\\nimport tqdm\\nimport matplotlib.pyplot as plt\\nimport glob\\nimport re\\nimport statistics\\nimport numpy as np\\nimport pydot\\nimport pickle\\nimport seaborn as sns\\nimport plotly as py\\nimport matplotlib as mpl\\nimport bokeh\\nimport altair as alt\\nfrom openpyxl import load_workbook\\nimport sys\\nimport nltk\\nfrom sklearn import svm\\nimport sklearn\\nimport gensim\\nimport xgboost as xgb\\nimport spacy\\nfrom sklearn.model_selection import train_test_split\\nimport plotly.express as px\\nimport pandas as pd'); }\n",
              "    "
            ],
            "text/plain": [
              "<IPython.core.display.Javascript object>"
            ]
          },
          "metadata": {
            "tags": []
          }
        },
        {
          "output_type": "display_data",
          "data": {
            "application/javascript": [
              "\n",
              "        if (window._pyforest_update_imports_cell) { window._pyforest_update_imports_cell('import plotly.graph_objs as go\\nfrom sklearn.manifold import TSNE\\nimport tensorflow as tf\\nfrom sklearn.feature_extraction.text import TfidfVectorizer\\nimport lightgbm as lgb\\nimport tqdm\\nimport matplotlib.pyplot as plt\\nimport glob\\nimport re\\nimport statistics\\nimport numpy as np\\nimport pydot\\nimport pickle\\nimport seaborn as sns\\nimport plotly as py\\nimport matplotlib as mpl\\nimport bokeh\\nimport altair as alt\\nfrom openpyxl import load_workbook\\nimport sys\\nimport nltk\\nfrom sklearn import svm\\nimport sklearn\\nimport gensim\\nimport xgboost as xgb\\nimport spacy\\nfrom sklearn.model_selection import train_test_split\\nimport plotly.express as px\\nimport pandas as pd'); }\n",
              "    "
            ],
            "text/plain": [
              "<IPython.core.display.Javascript object>"
            ]
          },
          "metadata": {
            "tags": []
          }
        },
        {
          "output_type": "display_data",
          "data": {
            "application/javascript": [
              "\n",
              "        if (window._pyforest_update_imports_cell) { window._pyforest_update_imports_cell('import plotly.graph_objs as go\\nfrom sklearn.manifold import TSNE\\nimport tensorflow as tf\\nfrom sklearn.feature_extraction.text import TfidfVectorizer\\nimport lightgbm as lgb\\nimport tqdm\\nimport matplotlib.pyplot as plt\\nimport glob\\nimport re\\nimport statistics\\nimport numpy as np\\nimport pydot\\nimport pickle\\nimport seaborn as sns\\nimport plotly as py\\nimport matplotlib as mpl\\nimport bokeh\\nimport altair as alt\\nfrom openpyxl import load_workbook\\nimport sys\\nimport nltk\\nfrom sklearn import svm\\nimport sklearn\\nimport gensim\\nimport xgboost as xgb\\nimport spacy\\nfrom sklearn.model_selection import train_test_split\\nimport plotly.express as px\\nimport pandas as pd'); }\n",
              "    "
            ],
            "text/plain": [
              "<IPython.core.display.Javascript object>"
            ]
          },
          "metadata": {
            "tags": []
          }
        },
        {
          "output_type": "display_data",
          "data": {
            "application/javascript": [
              "\n",
              "        if (window._pyforest_update_imports_cell) { window._pyforest_update_imports_cell('import plotly.graph_objs as go\\nfrom sklearn.manifold import TSNE\\nimport tensorflow as tf\\nfrom sklearn.feature_extraction.text import TfidfVectorizer\\nimport lightgbm as lgb\\nimport tqdm\\nimport matplotlib.pyplot as plt\\nimport glob\\nimport re\\nimport statistics\\nimport numpy as np\\nimport pydot\\nimport pickle\\nimport seaborn as sns\\nimport plotly as py\\nimport matplotlib as mpl\\nimport bokeh\\nimport altair as alt\\nfrom openpyxl import load_workbook\\nimport sys\\nimport nltk\\nfrom sklearn import svm\\nimport sklearn\\nimport gensim\\nimport xgboost as xgb\\nimport spacy\\nfrom sklearn.model_selection import train_test_split\\nimport plotly.express as px\\nimport pandas as pd'); }\n",
              "    "
            ],
            "text/plain": [
              "<IPython.core.display.Javascript object>"
            ]
          },
          "metadata": {
            "tags": []
          }
        },
        {
          "output_type": "display_data",
          "data": {
            "application/javascript": [
              "\n",
              "        if (window._pyforest_update_imports_cell) { window._pyforest_update_imports_cell('import plotly.graph_objs as go\\nfrom sklearn.manifold import TSNE\\nimport tensorflow as tf\\nfrom sklearn.feature_extraction.text import TfidfVectorizer\\nimport lightgbm as lgb\\nimport tqdm\\nimport matplotlib.pyplot as plt\\nimport glob\\nimport re\\nimport statistics\\nimport numpy as np\\nimport pydot\\nimport pickle\\nimport seaborn as sns\\nimport plotly as py\\nimport matplotlib as mpl\\nimport bokeh\\nimport altair as alt\\nfrom openpyxl import load_workbook\\nimport sys\\nimport nltk\\nfrom sklearn import svm\\nimport sklearn\\nimport gensim\\nimport xgboost as xgb\\nimport spacy\\nfrom sklearn.model_selection import train_test_split\\nimport plotly.express as px\\nimport pandas as pd'); }\n",
              "    "
            ],
            "text/plain": [
              "<IPython.core.display.Javascript object>"
            ]
          },
          "metadata": {
            "tags": []
          }
        },
        {
          "output_type": "display_data",
          "data": {
            "application/javascript": [
              "\n",
              "        if (window._pyforest_update_imports_cell) { window._pyforest_update_imports_cell('import plotly.graph_objs as go\\nfrom sklearn.manifold import TSNE\\nimport tensorflow as tf\\nfrom sklearn.feature_extraction.text import TfidfVectorizer\\nimport lightgbm as lgb\\nimport tqdm\\nimport matplotlib.pyplot as plt\\nimport glob\\nimport re\\nimport statistics\\nimport numpy as np\\nimport pydot\\nimport pickle\\nimport seaborn as sns\\nimport plotly as py\\nimport matplotlib as mpl\\nimport bokeh\\nimport altair as alt\\nfrom openpyxl import load_workbook\\nimport sys\\nimport nltk\\nfrom sklearn import svm\\nimport sklearn\\nimport gensim\\nimport xgboost as xgb\\nimport spacy\\nfrom sklearn.model_selection import train_test_split\\nimport plotly.express as px\\nimport pandas as pd'); }\n",
              "    "
            ],
            "text/plain": [
              "<IPython.core.display.Javascript object>"
            ]
          },
          "metadata": {
            "tags": []
          }
        },
        {
          "output_type": "display_data",
          "data": {
            "application/javascript": [
              "\n",
              "        if (window._pyforest_update_imports_cell) { window._pyforest_update_imports_cell('import plotly.graph_objs as go\\nfrom sklearn.manifold import TSNE\\nimport tensorflow as tf\\nfrom sklearn.feature_extraction.text import TfidfVectorizer\\nimport lightgbm as lgb\\nimport tqdm\\nimport matplotlib.pyplot as plt\\nimport glob\\nimport re\\nimport statistics\\nimport numpy as np\\nimport pydot\\nimport pickle\\nimport seaborn as sns\\nimport plotly as py\\nimport matplotlib as mpl\\nimport bokeh\\nimport altair as alt\\nfrom openpyxl import load_workbook\\nimport sys\\nimport nltk\\nfrom sklearn import svm\\nimport sklearn\\nimport gensim\\nimport xgboost as xgb\\nimport spacy\\nfrom sklearn.model_selection import train_test_split\\nimport plotly.express as px\\nimport pandas as pd'); }\n",
              "    "
            ],
            "text/plain": [
              "<IPython.core.display.Javascript object>"
            ]
          },
          "metadata": {
            "tags": []
          }
        },
        {
          "output_type": "display_data",
          "data": {
            "application/javascript": [
              "\n",
              "        if (window._pyforest_update_imports_cell) { window._pyforest_update_imports_cell('import plotly.graph_objs as go\\nfrom sklearn.manifold import TSNE\\nimport tensorflow as tf\\nfrom sklearn.feature_extraction.text import TfidfVectorizer\\nimport lightgbm as lgb\\nimport tqdm\\nimport matplotlib.pyplot as plt\\nimport glob\\nimport re\\nimport statistics\\nimport numpy as np\\nimport pydot\\nimport pickle\\nimport seaborn as sns\\nimport plotly as py\\nimport matplotlib as mpl\\nimport bokeh\\nimport altair as alt\\nfrom openpyxl import load_workbook\\nimport sys\\nimport nltk\\nfrom sklearn import svm\\nimport sklearn\\nimport gensim\\nimport xgboost as xgb\\nimport spacy\\nfrom sklearn.model_selection import train_test_split\\nimport plotly.express as px\\nimport pandas as pd'); }\n",
              "    "
            ],
            "text/plain": [
              "<IPython.core.display.Javascript object>"
            ]
          },
          "metadata": {
            "tags": []
          }
        },
        {
          "output_type": "display_data",
          "data": {
            "application/javascript": [
              "\n",
              "        if (window._pyforest_update_imports_cell) { window._pyforest_update_imports_cell('import plotly.graph_objs as go\\nfrom sklearn.manifold import TSNE\\nimport tensorflow as tf\\nfrom sklearn.feature_extraction.text import TfidfVectorizer\\nimport lightgbm as lgb\\nimport tqdm\\nimport matplotlib.pyplot as plt\\nimport glob\\nimport re\\nimport statistics\\nimport numpy as np\\nimport pydot\\nimport pickle\\nimport seaborn as sns\\nimport plotly as py\\nimport matplotlib as mpl\\nimport bokeh\\nimport altair as alt\\nfrom openpyxl import load_workbook\\nimport sys\\nimport nltk\\nfrom sklearn import svm\\nimport sklearn\\nimport gensim\\nimport xgboost as xgb\\nimport spacy\\nfrom sklearn.model_selection import train_test_split\\nimport plotly.express as px\\nimport pandas as pd'); }\n",
              "    "
            ],
            "text/plain": [
              "<IPython.core.display.Javascript object>"
            ]
          },
          "metadata": {
            "tags": []
          }
        },
        {
          "output_type": "display_data",
          "data": {
            "application/javascript": [
              "\n",
              "        if (window._pyforest_update_imports_cell) { window._pyforest_update_imports_cell('import plotly.graph_objs as go\\nfrom sklearn.manifold import TSNE\\nimport tensorflow as tf\\nfrom sklearn.feature_extraction.text import TfidfVectorizer\\nimport lightgbm as lgb\\nimport tqdm\\nimport matplotlib.pyplot as plt\\nimport glob\\nimport re\\nimport statistics\\nimport numpy as np\\nimport pydot\\nimport pickle\\nimport seaborn as sns\\nimport plotly as py\\nimport matplotlib as mpl\\nimport bokeh\\nimport altair as alt\\nfrom openpyxl import load_workbook\\nimport sys\\nimport nltk\\nfrom sklearn import svm\\nimport sklearn\\nimport gensim\\nimport xgboost as xgb\\nimport spacy\\nfrom sklearn.model_selection import train_test_split\\nimport plotly.express as px\\nimport pandas as pd'); }\n",
              "    "
            ],
            "text/plain": [
              "<IPython.core.display.Javascript object>"
            ]
          },
          "metadata": {
            "tags": []
          }
        },
        {
          "output_type": "display_data",
          "data": {
            "application/javascript": [
              "\n",
              "        if (window._pyforest_update_imports_cell) { window._pyforest_update_imports_cell('import plotly.graph_objs as go\\nfrom sklearn.manifold import TSNE\\nimport tensorflow as tf\\nfrom sklearn.feature_extraction.text import TfidfVectorizer\\nimport lightgbm as lgb\\nimport tqdm\\nimport matplotlib.pyplot as plt\\nimport glob\\nimport re\\nimport statistics\\nimport numpy as np\\nimport pydot\\nimport pickle\\nimport seaborn as sns\\nimport plotly as py\\nimport matplotlib as mpl\\nimport bokeh\\nimport altair as alt\\nfrom openpyxl import load_workbook\\nimport sys\\nimport nltk\\nfrom sklearn import svm\\nimport sklearn\\nimport gensim\\nimport xgboost as xgb\\nimport spacy\\nfrom sklearn.model_selection import train_test_split\\nimport plotly.express as px\\nimport pandas as pd'); }\n",
              "    "
            ],
            "text/plain": [
              "<IPython.core.display.Javascript object>"
            ]
          },
          "metadata": {
            "tags": []
          }
        },
        {
          "output_type": "display_data",
          "data": {
            "application/javascript": [
              "\n",
              "        if (window._pyforest_update_imports_cell) { window._pyforest_update_imports_cell('import plotly.graph_objs as go\\nfrom sklearn.manifold import TSNE\\nimport tensorflow as tf\\nfrom sklearn.feature_extraction.text import TfidfVectorizer\\nimport lightgbm as lgb\\nimport tqdm\\nimport matplotlib.pyplot as plt\\nimport glob\\nimport re\\nimport statistics\\nimport numpy as np\\nimport pydot\\nimport pickle\\nimport seaborn as sns\\nimport plotly as py\\nimport matplotlib as mpl\\nimport bokeh\\nimport altair as alt\\nfrom openpyxl import load_workbook\\nimport sys\\nimport nltk\\nfrom sklearn import svm\\nimport sklearn\\nimport gensim\\nimport xgboost as xgb\\nimport spacy\\nfrom sklearn.model_selection import train_test_split\\nimport plotly.express as px\\nimport pandas as pd'); }\n",
              "    "
            ],
            "text/plain": [
              "<IPython.core.display.Javascript object>"
            ]
          },
          "metadata": {
            "tags": []
          }
        },
        {
          "output_type": "display_data",
          "data": {
            "application/javascript": [
              "\n",
              "        if (window._pyforest_update_imports_cell) { window._pyforest_update_imports_cell('import plotly.graph_objs as go\\nfrom sklearn.manifold import TSNE\\nimport tensorflow as tf\\nfrom sklearn.feature_extraction.text import TfidfVectorizer\\nimport lightgbm as lgb\\nimport tqdm\\nimport matplotlib.pyplot as plt\\nimport glob\\nimport re\\nimport statistics\\nimport numpy as np\\nimport pydot\\nimport pickle\\nimport seaborn as sns\\nimport plotly as py\\nimport matplotlib as mpl\\nimport bokeh\\nimport altair as alt\\nfrom openpyxl import load_workbook\\nimport sys\\nimport nltk\\nfrom sklearn import svm\\nimport sklearn\\nimport gensim\\nimport xgboost as xgb\\nimport spacy\\nfrom sklearn.model_selection import train_test_split\\nimport plotly.express as px\\nimport pandas as pd'); }\n",
              "    "
            ],
            "text/plain": [
              "<IPython.core.display.Javascript object>"
            ]
          },
          "metadata": {
            "tags": []
          }
        },
        {
          "output_type": "display_data",
          "data": {
            "application/javascript": [
              "\n",
              "        if (window._pyforest_update_imports_cell) { window._pyforest_update_imports_cell('import plotly.graph_objs as go\\nfrom sklearn.manifold import TSNE\\nimport tensorflow as tf\\nfrom sklearn.feature_extraction.text import TfidfVectorizer\\nimport lightgbm as lgb\\nimport tqdm\\nimport matplotlib.pyplot as plt\\nimport glob\\nimport re\\nimport statistics\\nimport numpy as np\\nimport pydot\\nimport pickle\\nimport seaborn as sns\\nimport plotly as py\\nimport matplotlib as mpl\\nimport bokeh\\nimport altair as alt\\nfrom openpyxl import load_workbook\\nimport sys\\nimport nltk\\nfrom sklearn import svm\\nimport sklearn\\nimport gensim\\nimport xgboost as xgb\\nimport spacy\\nfrom sklearn.model_selection import train_test_split\\nimport plotly.express as px\\nimport pandas as pd'); }\n",
              "    "
            ],
            "text/plain": [
              "<IPython.core.display.Javascript object>"
            ]
          },
          "metadata": {
            "tags": []
          }
        },
        {
          "output_type": "display_data",
          "data": {
            "application/javascript": [
              "\n",
              "        if (window._pyforest_update_imports_cell) { window._pyforest_update_imports_cell('import plotly.graph_objs as go\\nfrom sklearn.manifold import TSNE\\nimport tensorflow as tf\\nfrom sklearn.feature_extraction.text import TfidfVectorizer\\nimport lightgbm as lgb\\nimport tqdm\\nimport matplotlib.pyplot as plt\\nimport glob\\nimport re\\nimport statistics\\nimport numpy as np\\nimport pydot\\nimport pickle\\nimport seaborn as sns\\nimport plotly as py\\nimport matplotlib as mpl\\nimport bokeh\\nimport altair as alt\\nfrom openpyxl import load_workbook\\nimport sys\\nimport nltk\\nfrom sklearn import svm\\nimport sklearn\\nimport gensim\\nimport xgboost as xgb\\nimport spacy\\nfrom sklearn.model_selection import train_test_split\\nimport plotly.express as px\\nimport pandas as pd'); }\n",
              "    "
            ],
            "text/plain": [
              "<IPython.core.display.Javascript object>"
            ]
          },
          "metadata": {
            "tags": []
          }
        },
        {
          "output_type": "display_data",
          "data": {
            "application/javascript": [
              "\n",
              "        if (window._pyforest_update_imports_cell) { window._pyforest_update_imports_cell('import plotly.graph_objs as go\\nfrom sklearn.manifold import TSNE\\nimport tensorflow as tf\\nfrom sklearn.feature_extraction.text import TfidfVectorizer\\nimport lightgbm as lgb\\nimport tqdm\\nimport matplotlib.pyplot as plt\\nimport glob\\nimport re\\nimport statistics\\nimport numpy as np\\nimport pydot\\nimport pickle\\nimport seaborn as sns\\nimport plotly as py\\nimport matplotlib as mpl\\nimport bokeh\\nimport altair as alt\\nfrom openpyxl import load_workbook\\nimport sys\\nimport nltk\\nfrom sklearn import svm\\nimport sklearn\\nimport gensim\\nimport xgboost as xgb\\nimport spacy\\nfrom sklearn.model_selection import train_test_split\\nimport plotly.express as px\\nimport pandas as pd'); }\n",
              "    "
            ],
            "text/plain": [
              "<IPython.core.display.Javascript object>"
            ]
          },
          "metadata": {
            "tags": []
          }
        },
        {
          "output_type": "display_data",
          "data": {
            "application/javascript": [
              "\n",
              "        if (window._pyforest_update_imports_cell) { window._pyforest_update_imports_cell('import plotly.graph_objs as go\\nfrom sklearn.manifold import TSNE\\nimport tensorflow as tf\\nfrom sklearn.feature_extraction.text import TfidfVectorizer\\nimport lightgbm as lgb\\nimport tqdm\\nimport matplotlib.pyplot as plt\\nimport glob\\nimport re\\nimport statistics\\nimport numpy as np\\nimport pydot\\nimport pickle\\nimport seaborn as sns\\nimport plotly as py\\nimport matplotlib as mpl\\nimport bokeh\\nimport altair as alt\\nfrom openpyxl import load_workbook\\nimport sys\\nimport nltk\\nfrom sklearn import svm\\nimport sklearn\\nimport gensim\\nimport xgboost as xgb\\nimport spacy\\nfrom sklearn.model_selection import train_test_split\\nimport plotly.express as px\\nimport pandas as pd'); }\n",
              "    "
            ],
            "text/plain": [
              "<IPython.core.display.Javascript object>"
            ]
          },
          "metadata": {
            "tags": []
          }
        },
        {
          "output_type": "display_data",
          "data": {
            "application/javascript": [
              "\n",
              "        if (window._pyforest_update_imports_cell) { window._pyforest_update_imports_cell('import plotly.graph_objs as go\\nfrom sklearn.manifold import TSNE\\nimport tensorflow as tf\\nfrom sklearn.feature_extraction.text import TfidfVectorizer\\nimport lightgbm as lgb\\nimport tqdm\\nimport matplotlib.pyplot as plt\\nimport glob\\nimport re\\nimport statistics\\nimport numpy as np\\nimport pydot\\nimport pickle\\nimport seaborn as sns\\nimport plotly as py\\nimport matplotlib as mpl\\nimport bokeh\\nimport altair as alt\\nfrom openpyxl import load_workbook\\nimport sys\\nimport nltk\\nfrom sklearn import svm\\nimport sklearn\\nimport gensim\\nimport xgboost as xgb\\nimport spacy\\nfrom sklearn.model_selection import train_test_split\\nimport plotly.express as px\\nimport pandas as pd'); }\n",
              "    "
            ],
            "text/plain": [
              "<IPython.core.display.Javascript object>"
            ]
          },
          "metadata": {
            "tags": []
          }
        },
        {
          "output_type": "display_data",
          "data": {
            "application/javascript": [
              "\n",
              "        if (window._pyforest_update_imports_cell) { window._pyforest_update_imports_cell('import plotly.graph_objs as go\\nfrom sklearn.manifold import TSNE\\nimport tensorflow as tf\\nfrom sklearn.feature_extraction.text import TfidfVectorizer\\nimport lightgbm as lgb\\nimport tqdm\\nimport matplotlib.pyplot as plt\\nimport glob\\nimport re\\nimport statistics\\nimport numpy as np\\nimport pydot\\nimport pickle\\nimport seaborn as sns\\nimport plotly as py\\nimport matplotlib as mpl\\nimport bokeh\\nimport altair as alt\\nfrom openpyxl import load_workbook\\nimport sys\\nimport nltk\\nfrom sklearn import svm\\nimport sklearn\\nimport gensim\\nimport xgboost as xgb\\nimport spacy\\nfrom sklearn.model_selection import train_test_split\\nimport plotly.express as px\\nimport pandas as pd'); }\n",
              "    "
            ],
            "text/plain": [
              "<IPython.core.display.Javascript object>"
            ]
          },
          "metadata": {
            "tags": []
          }
        },
        {
          "output_type": "display_data",
          "data": {
            "application/javascript": [
              "\n",
              "        if (window._pyforest_update_imports_cell) { window._pyforest_update_imports_cell('import plotly.graph_objs as go\\nfrom sklearn.manifold import TSNE\\nimport tensorflow as tf\\nfrom sklearn.feature_extraction.text import TfidfVectorizer\\nimport lightgbm as lgb\\nimport tqdm\\nimport matplotlib.pyplot as plt\\nimport glob\\nimport re\\nimport statistics\\nimport numpy as np\\nimport pydot\\nimport pickle\\nimport seaborn as sns\\nimport plotly as py\\nimport matplotlib as mpl\\nimport bokeh\\nimport altair as alt\\nfrom openpyxl import load_workbook\\nimport sys\\nimport nltk\\nfrom sklearn import svm\\nimport sklearn\\nimport gensim\\nimport xgboost as xgb\\nimport spacy\\nfrom sklearn.model_selection import train_test_split\\nimport plotly.express as px\\nimport pandas as pd'); }\n",
              "    "
            ],
            "text/plain": [
              "<IPython.core.display.Javascript object>"
            ]
          },
          "metadata": {
            "tags": []
          }
        },
        {
          "output_type": "display_data",
          "data": {
            "application/javascript": [
              "\n",
              "        if (window._pyforest_update_imports_cell) { window._pyforest_update_imports_cell('import plotly.graph_objs as go\\nfrom sklearn.manifold import TSNE\\nimport tensorflow as tf\\nfrom sklearn.feature_extraction.text import TfidfVectorizer\\nimport lightgbm as lgb\\nimport tqdm\\nimport matplotlib.pyplot as plt\\nimport glob\\nimport re\\nimport statistics\\nimport numpy as np\\nimport pydot\\nimport pickle\\nimport seaborn as sns\\nimport plotly as py\\nimport matplotlib as mpl\\nimport bokeh\\nimport altair as alt\\nfrom openpyxl import load_workbook\\nimport sys\\nimport nltk\\nfrom sklearn import svm\\nimport sklearn\\nimport gensim\\nimport xgboost as xgb\\nimport spacy\\nfrom sklearn.model_selection import train_test_split\\nimport plotly.express as px\\nimport pandas as pd'); }\n",
              "    "
            ],
            "text/plain": [
              "<IPython.core.display.Javascript object>"
            ]
          },
          "metadata": {
            "tags": []
          }
        },
        {
          "output_type": "display_data",
          "data": {
            "application/javascript": [
              "\n",
              "        if (window._pyforest_update_imports_cell) { window._pyforest_update_imports_cell('import plotly.graph_objs as go\\nfrom sklearn.manifold import TSNE\\nimport tensorflow as tf\\nfrom sklearn.feature_extraction.text import TfidfVectorizer\\nimport lightgbm as lgb\\nimport tqdm\\nimport matplotlib.pyplot as plt\\nimport glob\\nimport re\\nimport statistics\\nimport numpy as np\\nimport pydot\\nimport pickle\\nimport seaborn as sns\\nimport plotly as py\\nimport matplotlib as mpl\\nimport bokeh\\nimport altair as alt\\nfrom openpyxl import load_workbook\\nimport sys\\nimport nltk\\nfrom sklearn import svm\\nimport sklearn\\nimport gensim\\nimport xgboost as xgb\\nimport spacy\\nfrom sklearn.model_selection import train_test_split\\nimport plotly.express as px\\nimport pandas as pd'); }\n",
              "    "
            ],
            "text/plain": [
              "<IPython.core.display.Javascript object>"
            ]
          },
          "metadata": {
            "tags": []
          }
        },
        {
          "output_type": "display_data",
          "data": {
            "application/javascript": [
              "\n",
              "        if (window._pyforest_update_imports_cell) { window._pyforest_update_imports_cell('import plotly.graph_objs as go\\nfrom sklearn.manifold import TSNE\\nimport tensorflow as tf\\nfrom sklearn.feature_extraction.text import TfidfVectorizer\\nimport lightgbm as lgb\\nimport tqdm\\nimport matplotlib.pyplot as plt\\nimport glob\\nimport re\\nimport statistics\\nimport numpy as np\\nimport pydot\\nimport pickle\\nimport seaborn as sns\\nimport plotly as py\\nimport matplotlib as mpl\\nimport bokeh\\nimport altair as alt\\nfrom openpyxl import load_workbook\\nimport sys\\nimport nltk\\nfrom sklearn import svm\\nimport sklearn\\nimport gensim\\nimport xgboost as xgb\\nimport spacy\\nfrom sklearn.model_selection import train_test_split\\nimport plotly.express as px\\nimport pandas as pd'); }\n",
              "    "
            ],
            "text/plain": [
              "<IPython.core.display.Javascript object>"
            ]
          },
          "metadata": {
            "tags": []
          }
        },
        {
          "output_type": "display_data",
          "data": {
            "application/javascript": [
              "\n",
              "        if (window._pyforest_update_imports_cell) { window._pyforest_update_imports_cell('import plotly.graph_objs as go\\nfrom sklearn.manifold import TSNE\\nimport tensorflow as tf\\nfrom sklearn.feature_extraction.text import TfidfVectorizer\\nimport lightgbm as lgb\\nimport tqdm\\nimport matplotlib.pyplot as plt\\nimport glob\\nimport re\\nimport statistics\\nimport numpy as np\\nimport pydot\\nimport pickle\\nimport seaborn as sns\\nimport plotly as py\\nimport matplotlib as mpl\\nimport bokeh\\nimport altair as alt\\nfrom openpyxl import load_workbook\\nimport sys\\nimport nltk\\nfrom sklearn import svm\\nimport sklearn\\nimport gensim\\nimport xgboost as xgb\\nimport spacy\\nfrom sklearn.model_selection import train_test_split\\nimport plotly.express as px\\nimport pandas as pd'); }\n",
              "    "
            ],
            "text/plain": [
              "<IPython.core.display.Javascript object>"
            ]
          },
          "metadata": {
            "tags": []
          }
        },
        {
          "output_type": "display_data",
          "data": {
            "application/javascript": [
              "\n",
              "        if (window._pyforest_update_imports_cell) { window._pyforest_update_imports_cell('import plotly.graph_objs as go\\nfrom sklearn.manifold import TSNE\\nimport tensorflow as tf\\nfrom sklearn.feature_extraction.text import TfidfVectorizer\\nimport lightgbm as lgb\\nimport tqdm\\nimport matplotlib.pyplot as plt\\nimport glob\\nimport re\\nimport statistics\\nimport numpy as np\\nimport pydot\\nimport pickle\\nimport seaborn as sns\\nimport plotly as py\\nimport matplotlib as mpl\\nimport bokeh\\nimport altair as alt\\nfrom openpyxl import load_workbook\\nimport sys\\nimport nltk\\nfrom sklearn import svm\\nimport sklearn\\nimport gensim\\nimport xgboost as xgb\\nimport spacy\\nfrom sklearn.model_selection import train_test_split\\nimport plotly.express as px\\nimport pandas as pd'); }\n",
              "    "
            ],
            "text/plain": [
              "<IPython.core.display.Javascript object>"
            ]
          },
          "metadata": {
            "tags": []
          }
        },
        {
          "output_type": "display_data",
          "data": {
            "application/javascript": [
              "\n",
              "        if (window._pyforest_update_imports_cell) { window._pyforest_update_imports_cell('import plotly.graph_objs as go\\nfrom sklearn.manifold import TSNE\\nimport tensorflow as tf\\nfrom sklearn.feature_extraction.text import TfidfVectorizer\\nimport lightgbm as lgb\\nimport tqdm\\nimport matplotlib.pyplot as plt\\nimport glob\\nimport re\\nimport statistics\\nimport numpy as np\\nimport pydot\\nimport pickle\\nimport seaborn as sns\\nimport plotly as py\\nimport matplotlib as mpl\\nimport bokeh\\nimport altair as alt\\nfrom openpyxl import load_workbook\\nimport sys\\nimport nltk\\nfrom sklearn import svm\\nimport sklearn\\nimport gensim\\nimport xgboost as xgb\\nimport spacy\\nfrom sklearn.model_selection import train_test_split\\nimport plotly.express as px\\nimport pandas as pd'); }\n",
              "    "
            ],
            "text/plain": [
              "<IPython.core.display.Javascript object>"
            ]
          },
          "metadata": {
            "tags": []
          }
        },
        {
          "output_type": "display_data",
          "data": {
            "application/javascript": [
              "\n",
              "        if (window._pyforest_update_imports_cell) { window._pyforest_update_imports_cell('import plotly.graph_objs as go\\nfrom sklearn.manifold import TSNE\\nimport tensorflow as tf\\nfrom sklearn.feature_extraction.text import TfidfVectorizer\\nimport lightgbm as lgb\\nimport tqdm\\nimport matplotlib.pyplot as plt\\nimport glob\\nimport re\\nimport statistics\\nimport numpy as np\\nimport pydot\\nimport pickle\\nimport seaborn as sns\\nimport plotly as py\\nimport matplotlib as mpl\\nimport bokeh\\nimport altair as alt\\nfrom openpyxl import load_workbook\\nimport sys\\nimport nltk\\nfrom sklearn import svm\\nimport sklearn\\nimport gensim\\nimport xgboost as xgb\\nimport spacy\\nfrom sklearn.model_selection import train_test_split\\nimport plotly.express as px\\nimport pandas as pd'); }\n",
              "    "
            ],
            "text/plain": [
              "<IPython.core.display.Javascript object>"
            ]
          },
          "metadata": {
            "tags": []
          }
        },
        {
          "output_type": "display_data",
          "data": {
            "application/javascript": [
              "\n",
              "        if (window._pyforest_update_imports_cell) { window._pyforest_update_imports_cell('import plotly.graph_objs as go\\nfrom sklearn.manifold import TSNE\\nimport tensorflow as tf\\nfrom sklearn.feature_extraction.text import TfidfVectorizer\\nimport lightgbm as lgb\\nimport tqdm\\nimport matplotlib.pyplot as plt\\nimport glob\\nimport re\\nimport statistics\\nimport numpy as np\\nimport pydot\\nimport pickle\\nimport seaborn as sns\\nimport plotly as py\\nimport matplotlib as mpl\\nimport bokeh\\nimport altair as alt\\nfrom openpyxl import load_workbook\\nimport sys\\nimport nltk\\nfrom sklearn import svm\\nimport sklearn\\nimport gensim\\nimport xgboost as xgb\\nimport spacy\\nfrom sklearn.model_selection import train_test_split\\nimport plotly.express as px\\nimport pandas as pd'); }\n",
              "    "
            ],
            "text/plain": [
              "<IPython.core.display.Javascript object>"
            ]
          },
          "metadata": {
            "tags": []
          }
        },
        {
          "output_type": "display_data",
          "data": {
            "application/javascript": [
              "\n",
              "        if (window._pyforest_update_imports_cell) { window._pyforest_update_imports_cell('import plotly.graph_objs as go\\nfrom sklearn.manifold import TSNE\\nimport tensorflow as tf\\nfrom sklearn.feature_extraction.text import TfidfVectorizer\\nimport lightgbm as lgb\\nimport tqdm\\nimport matplotlib.pyplot as plt\\nimport glob\\nimport re\\nimport statistics\\nimport numpy as np\\nimport pydot\\nimport pickle\\nimport seaborn as sns\\nimport plotly as py\\nimport matplotlib as mpl\\nimport bokeh\\nimport altair as alt\\nfrom openpyxl import load_workbook\\nimport sys\\nimport nltk\\nfrom sklearn import svm\\nimport sklearn\\nimport gensim\\nimport xgboost as xgb\\nimport spacy\\nfrom sklearn.model_selection import train_test_split\\nimport plotly.express as px\\nimport pandas as pd'); }\n",
              "    "
            ],
            "text/plain": [
              "<IPython.core.display.Javascript object>"
            ]
          },
          "metadata": {
            "tags": []
          }
        },
        {
          "output_type": "display_data",
          "data": {
            "application/javascript": [
              "\n",
              "        if (window._pyforest_update_imports_cell) { window._pyforest_update_imports_cell('import plotly.graph_objs as go\\nfrom sklearn.manifold import TSNE\\nimport tensorflow as tf\\nfrom sklearn.feature_extraction.text import TfidfVectorizer\\nimport lightgbm as lgb\\nimport tqdm\\nimport matplotlib.pyplot as plt\\nimport glob\\nimport re\\nimport statistics\\nimport numpy as np\\nimport pydot\\nimport pickle\\nimport seaborn as sns\\nimport plotly as py\\nimport matplotlib as mpl\\nimport bokeh\\nimport altair as alt\\nfrom openpyxl import load_workbook\\nimport sys\\nimport nltk\\nfrom sklearn import svm\\nimport sklearn\\nimport gensim\\nimport xgboost as xgb\\nimport spacy\\nfrom sklearn.model_selection import train_test_split\\nimport plotly.express as px\\nimport pandas as pd'); }\n",
              "    "
            ],
            "text/plain": [
              "<IPython.core.display.Javascript object>"
            ]
          },
          "metadata": {
            "tags": []
          }
        },
        {
          "output_type": "display_data",
          "data": {
            "application/javascript": [
              "\n",
              "        if (window._pyforest_update_imports_cell) { window._pyforest_update_imports_cell('import plotly.graph_objs as go\\nfrom sklearn.manifold import TSNE\\nimport tensorflow as tf\\nfrom sklearn.feature_extraction.text import TfidfVectorizer\\nimport lightgbm as lgb\\nimport tqdm\\nimport matplotlib.pyplot as plt\\nimport glob\\nimport re\\nimport statistics\\nimport numpy as np\\nimport pydot\\nimport pickle\\nimport seaborn as sns\\nimport plotly as py\\nimport matplotlib as mpl\\nimport bokeh\\nimport altair as alt\\nfrom openpyxl import load_workbook\\nimport sys\\nimport nltk\\nfrom sklearn import svm\\nimport sklearn\\nimport gensim\\nimport xgboost as xgb\\nimport spacy\\nfrom sklearn.model_selection import train_test_split\\nimport plotly.express as px\\nimport pandas as pd'); }\n",
              "    "
            ],
            "text/plain": [
              "<IPython.core.display.Javascript object>"
            ]
          },
          "metadata": {
            "tags": []
          }
        },
        {
          "output_type": "display_data",
          "data": {
            "application/javascript": [
              "\n",
              "        if (window._pyforest_update_imports_cell) { window._pyforest_update_imports_cell('import plotly.graph_objs as go\\nfrom sklearn.manifold import TSNE\\nimport tensorflow as tf\\nfrom sklearn.feature_extraction.text import TfidfVectorizer\\nimport lightgbm as lgb\\nimport tqdm\\nimport matplotlib.pyplot as plt\\nimport glob\\nimport re\\nimport statistics\\nimport numpy as np\\nimport pydot\\nimport pickle\\nimport seaborn as sns\\nimport plotly as py\\nimport matplotlib as mpl\\nimport bokeh\\nimport altair as alt\\nfrom openpyxl import load_workbook\\nimport sys\\nimport nltk\\nfrom sklearn import svm\\nimport sklearn\\nimport gensim\\nimport xgboost as xgb\\nimport spacy\\nfrom sklearn.model_selection import train_test_split\\nimport plotly.express as px\\nimport pandas as pd'); }\n",
              "    "
            ],
            "text/plain": [
              "<IPython.core.display.Javascript object>"
            ]
          },
          "metadata": {
            "tags": []
          }
        },
        {
          "output_type": "display_data",
          "data": {
            "application/javascript": [
              "\n",
              "        if (window._pyforest_update_imports_cell) { window._pyforest_update_imports_cell('import plotly.graph_objs as go\\nfrom sklearn.manifold import TSNE\\nimport tensorflow as tf\\nfrom sklearn.feature_extraction.text import TfidfVectorizer\\nimport lightgbm as lgb\\nimport tqdm\\nimport matplotlib.pyplot as plt\\nimport glob\\nimport re\\nimport statistics\\nimport numpy as np\\nimport pydot\\nimport pickle\\nimport seaborn as sns\\nimport plotly as py\\nimport matplotlib as mpl\\nimport bokeh\\nimport altair as alt\\nfrom openpyxl import load_workbook\\nimport sys\\nimport nltk\\nfrom sklearn import svm\\nimport sklearn\\nimport gensim\\nimport xgboost as xgb\\nimport spacy\\nfrom sklearn.model_selection import train_test_split\\nimport plotly.express as px\\nimport pandas as pd'); }\n",
              "    "
            ],
            "text/plain": [
              "<IPython.core.display.Javascript object>"
            ]
          },
          "metadata": {
            "tags": []
          }
        },
        {
          "output_type": "display_data",
          "data": {
            "application/javascript": [
              "\n",
              "        if (window._pyforest_update_imports_cell) { window._pyforest_update_imports_cell('import plotly.graph_objs as go\\nfrom sklearn.manifold import TSNE\\nimport tensorflow as tf\\nfrom sklearn.feature_extraction.text import TfidfVectorizer\\nimport lightgbm as lgb\\nimport tqdm\\nimport matplotlib.pyplot as plt\\nimport glob\\nimport re\\nimport statistics\\nimport numpy as np\\nimport pydot\\nimport pickle\\nimport seaborn as sns\\nimport plotly as py\\nimport matplotlib as mpl\\nimport bokeh\\nimport altair as alt\\nfrom openpyxl import load_workbook\\nimport sys\\nimport nltk\\nfrom sklearn import svm\\nimport sklearn\\nimport gensim\\nimport xgboost as xgb\\nimport spacy\\nfrom sklearn.model_selection import train_test_split\\nimport plotly.express as px\\nimport pandas as pd'); }\n",
              "    "
            ],
            "text/plain": [
              "<IPython.core.display.Javascript object>"
            ]
          },
          "metadata": {
            "tags": []
          }
        },
        {
          "output_type": "display_data",
          "data": {
            "application/javascript": [
              "\n",
              "        if (window._pyforest_update_imports_cell) { window._pyforest_update_imports_cell('import plotly.graph_objs as go\\nfrom sklearn.manifold import TSNE\\nimport tensorflow as tf\\nfrom sklearn.feature_extraction.text import TfidfVectorizer\\nimport lightgbm as lgb\\nimport tqdm\\nimport matplotlib.pyplot as plt\\nimport glob\\nimport re\\nimport statistics\\nimport numpy as np\\nimport pydot\\nimport pickle\\nimport seaborn as sns\\nimport plotly as py\\nimport matplotlib as mpl\\nimport bokeh\\nimport altair as alt\\nfrom openpyxl import load_workbook\\nimport sys\\nimport nltk\\nfrom sklearn import svm\\nimport sklearn\\nimport gensim\\nimport xgboost as xgb\\nimport spacy\\nfrom sklearn.model_selection import train_test_split\\nimport plotly.express as px\\nimport pandas as pd'); }\n",
              "    "
            ],
            "text/plain": [
              "<IPython.core.display.Javascript object>"
            ]
          },
          "metadata": {
            "tags": []
          }
        },
        {
          "output_type": "display_data",
          "data": {
            "application/javascript": [
              "\n",
              "        if (window._pyforest_update_imports_cell) { window._pyforest_update_imports_cell('import plotly.graph_objs as go\\nfrom sklearn.manifold import TSNE\\nimport tensorflow as tf\\nfrom sklearn.feature_extraction.text import TfidfVectorizer\\nimport lightgbm as lgb\\nimport tqdm\\nimport matplotlib.pyplot as plt\\nimport glob\\nimport re\\nimport statistics\\nimport numpy as np\\nimport pydot\\nimport pickle\\nimport seaborn as sns\\nimport plotly as py\\nimport matplotlib as mpl\\nimport bokeh\\nimport altair as alt\\nfrom openpyxl import load_workbook\\nimport sys\\nimport nltk\\nfrom sklearn import svm\\nimport sklearn\\nimport gensim\\nimport xgboost as xgb\\nimport spacy\\nfrom sklearn.model_selection import train_test_split\\nimport plotly.express as px\\nimport pandas as pd'); }\n",
              "    "
            ],
            "text/plain": [
              "<IPython.core.display.Javascript object>"
            ]
          },
          "metadata": {
            "tags": []
          }
        },
        {
          "output_type": "display_data",
          "data": {
            "application/javascript": [
              "\n",
              "        if (window._pyforest_update_imports_cell) { window._pyforest_update_imports_cell('import plotly.graph_objs as go\\nfrom sklearn.manifold import TSNE\\nimport tensorflow as tf\\nfrom sklearn.feature_extraction.text import TfidfVectorizer\\nimport lightgbm as lgb\\nimport tqdm\\nimport matplotlib.pyplot as plt\\nimport glob\\nimport re\\nimport statistics\\nimport numpy as np\\nimport pydot\\nimport pickle\\nimport seaborn as sns\\nimport plotly as py\\nimport matplotlib as mpl\\nimport bokeh\\nimport altair as alt\\nfrom openpyxl import load_workbook\\nimport sys\\nimport nltk\\nfrom sklearn import svm\\nimport sklearn\\nimport gensim\\nimport xgboost as xgb\\nimport spacy\\nfrom sklearn.model_selection import train_test_split\\nimport plotly.express as px\\nimport pandas as pd'); }\n",
              "    "
            ],
            "text/plain": [
              "<IPython.core.display.Javascript object>"
            ]
          },
          "metadata": {
            "tags": []
          }
        },
        {
          "output_type": "display_data",
          "data": {
            "application/javascript": [
              "\n",
              "        if (window._pyforest_update_imports_cell) { window._pyforest_update_imports_cell('import plotly.graph_objs as go\\nfrom sklearn.manifold import TSNE\\nimport tensorflow as tf\\nfrom sklearn.feature_extraction.text import TfidfVectorizer\\nimport lightgbm as lgb\\nimport tqdm\\nimport matplotlib.pyplot as plt\\nimport glob\\nimport re\\nimport statistics\\nimport numpy as np\\nimport pydot\\nimport pickle\\nimport seaborn as sns\\nimport plotly as py\\nimport matplotlib as mpl\\nimport bokeh\\nimport altair as alt\\nfrom openpyxl import load_workbook\\nimport sys\\nimport nltk\\nfrom sklearn import svm\\nimport sklearn\\nimport gensim\\nimport xgboost as xgb\\nimport spacy\\nfrom sklearn.model_selection import train_test_split\\nimport plotly.express as px\\nimport pandas as pd'); }\n",
              "    "
            ],
            "text/plain": [
              "<IPython.core.display.Javascript object>"
            ]
          },
          "metadata": {
            "tags": []
          }
        },
        {
          "output_type": "display_data",
          "data": {
            "application/javascript": [
              "\n",
              "        if (window._pyforest_update_imports_cell) { window._pyforest_update_imports_cell('import plotly.graph_objs as go\\nfrom sklearn.manifold import TSNE\\nimport tensorflow as tf\\nfrom sklearn.feature_extraction.text import TfidfVectorizer\\nimport lightgbm as lgb\\nimport tqdm\\nimport matplotlib.pyplot as plt\\nimport glob\\nimport re\\nimport statistics\\nimport numpy as np\\nimport pydot\\nimport pickle\\nimport seaborn as sns\\nimport plotly as py\\nimport matplotlib as mpl\\nimport bokeh\\nimport altair as alt\\nfrom openpyxl import load_workbook\\nimport sys\\nimport nltk\\nfrom sklearn import svm\\nimport sklearn\\nimport gensim\\nimport xgboost as xgb\\nimport spacy\\nfrom sklearn.model_selection import train_test_split\\nimport plotly.express as px\\nimport pandas as pd'); }\n",
              "    "
            ],
            "text/plain": [
              "<IPython.core.display.Javascript object>"
            ]
          },
          "metadata": {
            "tags": []
          }
        },
        {
          "output_type": "display_data",
          "data": {
            "application/javascript": [
              "\n",
              "        if (window._pyforest_update_imports_cell) { window._pyforest_update_imports_cell('import plotly.graph_objs as go\\nfrom sklearn.manifold import TSNE\\nimport tensorflow as tf\\nfrom sklearn.feature_extraction.text import TfidfVectorizer\\nimport lightgbm as lgb\\nimport tqdm\\nimport matplotlib.pyplot as plt\\nimport glob\\nimport re\\nimport statistics\\nimport numpy as np\\nimport pydot\\nimport pickle\\nimport seaborn as sns\\nimport plotly as py\\nimport matplotlib as mpl\\nimport bokeh\\nimport altair as alt\\nfrom openpyxl import load_workbook\\nimport sys\\nimport nltk\\nfrom sklearn import svm\\nimport sklearn\\nimport gensim\\nimport xgboost as xgb\\nimport spacy\\nfrom sklearn.model_selection import train_test_split\\nimport plotly.express as px\\nimport pandas as pd'); }\n",
              "    "
            ],
            "text/plain": [
              "<IPython.core.display.Javascript object>"
            ]
          },
          "metadata": {
            "tags": []
          }
        },
        {
          "output_type": "display_data",
          "data": {
            "image/png": "[encoded data removed]",
            "text/plain": [
              "<Figure size 432x288 with 1 Axes>"
            ]
          },
          "metadata": {
            "tags": [],
            "needs_background": "light"
          }
        }
      ]
    },
    {
      "cell_type": "markdown",
      "metadata": {
        "id": "xdGMWYIkq9KK"
      },
      "source": [
        "Avaliação de desempenho variando o parametro max_depth"
      ]
    },
    {
      "cell_type": "code",
      "metadata": {
        "colab": {
          "base_uri": "https://localhost:8080/",
          "height": 313,
          "referenced_widgets": [
            "ad8f3c6dbbbd410388eef7756258736b",
            "56ed41f91473478599b0458d97328dfe",
            "f25d67fb8d544174b0e000222376b886",
            "3f646a43d4e2400a8ba9b8eaa000def3",
            "21328ced4e56444f891ce5e7be98bf02",
            "0083d0947c804cbd91cbfe236dc0735f",
            "a48b8a6e795141129449be72659dad3d",
            "d9c39cbe5ca54974b5316f666fc482b3",
            "43091aa26e974f2b9d8ba105fcd45cb0",
            "88e621aea3214ba9b29e9dc5f0507735",
            "428f89404b7443cca03702d92d723f73"
          ]
        },
        "id": "yTVu63GDklw8",
        "outputId": "fc3f8e95-3357-4b4f-ca19-28dd3f2affac"
      },
      "source": [
        "lgbm_maxdepth(dados_tratados_features, 1, 41, 1)"
      ],
      "execution_count": null,
      "outputs": [
        {
          "output_type": "display_data",
          "data": {
            "application/vnd.jupyter.widget-view+json": {
              "model_id": "ad8f3c6dbbbd410388eef7756258736b",
              "version_minor": 0,
              "version_major": 2
            },
            "text/plain": [
              "  0%|          | 0/40 [00:00<?, ?it/s]"
            ]
          },
          "metadata": {
            "tags": []
          }
        },
        {
          "output_type": "display_data",
          "data": {
            "application/javascript": [
              "\n",
              "        if (window._pyforest_update_imports_cell) { window._pyforest_update_imports_cell('import plotly.graph_objs as go\\nfrom sklearn.manifold import TSNE\\nimport tensorflow as tf\\nfrom sklearn.feature_extraction.text import TfidfVectorizer\\nimport lightgbm as lgb\\nimport tqdm\\nimport matplotlib.pyplot as plt\\nimport glob\\nimport re\\nimport statistics\\nimport numpy as np\\nimport pydot\\nimport pickle\\nimport seaborn as sns\\nimport plotly as py\\nimport matplotlib as mpl\\nimport bokeh\\nimport altair as alt\\nfrom openpyxl import load_workbook\\nimport sys\\nimport nltk\\nfrom sklearn import svm\\nimport sklearn\\nimport gensim\\nimport xgboost as xgb\\nimport spacy\\nfrom sklearn.model_selection import train_test_split\\nimport plotly.express as px\\nimport pandas as pd'); }\n",
              "    "
            ],
            "text/plain": [
              "<IPython.core.display.Javascript object>"
            ]
          },
          "metadata": {
            "tags": []
          }
        },
        {
          "output_type": "display_data",
          "data": {
            "application/javascript": [
              "\n",
              "        if (window._pyforest_update_imports_cell) { window._pyforest_update_imports_cell('import plotly.graph_objs as go\\nfrom sklearn.manifold import TSNE\\nimport tensorflow as tf\\nfrom sklearn.feature_extraction.text import TfidfVectorizer\\nimport lightgbm as lgb\\nimport tqdm\\nimport matplotlib.pyplot as plt\\nimport glob\\nimport re\\nimport statistics\\nimport numpy as np\\nimport pydot\\nimport pickle\\nimport seaborn as sns\\nimport plotly as py\\nimport matplotlib as mpl\\nimport bokeh\\nimport altair as alt\\nfrom openpyxl import load_workbook\\nimport sys\\nimport nltk\\nfrom sklearn import svm\\nimport sklearn\\nimport gensim\\nimport xgboost as xgb\\nimport spacy\\nfrom sklearn.model_selection import train_test_split\\nimport plotly.express as px\\nimport pandas as pd'); }\n",
              "    "
            ],
            "text/plain": [
              "<IPython.core.display.Javascript object>"
            ]
          },
          "metadata": {
            "tags": []
          }
        },
        {
          "output_type": "display_data",
          "data": {
            "application/javascript": [
              "\n",
              "        if (window._pyforest_update_imports_cell) { window._pyforest_update_imports_cell('import plotly.graph_objs as go\\nfrom sklearn.manifold import TSNE\\nimport tensorflow as tf\\nfrom sklearn.feature_extraction.text import TfidfVectorizer\\nimport lightgbm as lgb\\nimport tqdm\\nimport matplotlib.pyplot as plt\\nimport glob\\nimport re\\nimport statistics\\nimport numpy as np\\nimport pydot\\nimport pickle\\nimport seaborn as sns\\nimport plotly as py\\nimport matplotlib as mpl\\nimport bokeh\\nimport altair as alt\\nfrom openpyxl import load_workbook\\nimport sys\\nimport nltk\\nfrom sklearn import svm\\nimport sklearn\\nimport gensim\\nimport xgboost as xgb\\nimport spacy\\nfrom sklearn.model_selection import train_test_split\\nimport plotly.express as px\\nimport pandas as pd'); }\n",
              "    "
            ],
            "text/plain": [
              "<IPython.core.display.Javascript object>"
            ]
          },
          "metadata": {
            "tags": []
          }
        },
        {
          "output_type": "display_data",
          "data": {
            "application/javascript": [
              "\n",
              "        if (window._pyforest_update_imports_cell) { window._pyforest_update_imports_cell('import plotly.graph_objs as go\\nfrom sklearn.manifold import TSNE\\nimport tensorflow as tf\\nfrom sklearn.feature_extraction.text import TfidfVectorizer\\nimport lightgbm as lgb\\nimport tqdm\\nimport matplotlib.pyplot as plt\\nimport glob\\nimport re\\nimport statistics\\nimport numpy as np\\nimport pydot\\nimport pickle\\nimport seaborn as sns\\nimport plotly as py\\nimport matplotlib as mpl\\nimport bokeh\\nimport altair as alt\\nfrom openpyxl import load_workbook\\nimport sys\\nimport nltk\\nfrom sklearn import svm\\nimport sklearn\\nimport gensim\\nimport xgboost as xgb\\nimport spacy\\nfrom sklearn.model_selection import train_test_split\\nimport plotly.express as px\\nimport pandas as pd'); }\n",
              "    "
            ],
            "text/plain": [
              "<IPython.core.display.Javascript object>"
            ]
          },
          "metadata": {
            "tags": []
          }
        },
        {
          "output_type": "display_data",
          "data": {
            "application/javascript": [
              "\n",
              "        if (window._pyforest_update_imports_cell) { window._pyforest_update_imports_cell('import plotly.graph_objs as go\\nfrom sklearn.manifold import TSNE\\nimport tensorflow as tf\\nfrom sklearn.feature_extraction.text import TfidfVectorizer\\nimport lightgbm as lgb\\nimport tqdm\\nimport matplotlib.pyplot as plt\\nimport glob\\nimport re\\nimport statistics\\nimport numpy as np\\nimport pydot\\nimport pickle\\nimport seaborn as sns\\nimport plotly as py\\nimport matplotlib as mpl\\nimport bokeh\\nimport altair as alt\\nfrom openpyxl import load_workbook\\nimport sys\\nimport nltk\\nfrom sklearn import svm\\nimport sklearn\\nimport gensim\\nimport xgboost as xgb\\nimport spacy\\nfrom sklearn.model_selection import train_test_split\\nimport plotly.express as px\\nimport pandas as pd'); }\n",
              "    "
            ],
            "text/plain": [
              "<IPython.core.display.Javascript object>"
            ]
          },
          "metadata": {
            "tags": []
          }
        },
        {
          "output_type": "display_data",
          "data": {
            "application/javascript": [
              "\n",
              "        if (window._pyforest_update_imports_cell) { window._pyforest_update_imports_cell('import plotly.graph_objs as go\\nfrom sklearn.manifold import TSNE\\nimport tensorflow as tf\\nfrom sklearn.feature_extraction.text import TfidfVectorizer\\nimport lightgbm as lgb\\nimport tqdm\\nimport matplotlib.pyplot as plt\\nimport glob\\nimport re\\nimport statistics\\nimport numpy as np\\nimport pydot\\nimport pickle\\nimport seaborn as sns\\nimport plotly as py\\nimport matplotlib as mpl\\nimport bokeh\\nimport altair as alt\\nfrom openpyxl import load_workbook\\nimport sys\\nimport nltk\\nfrom sklearn import svm\\nimport sklearn\\nimport gensim\\nimport xgboost as xgb\\nimport spacy\\nfrom sklearn.model_selection import train_test_split\\nimport plotly.express as px\\nimport pandas as pd'); }\n",
              "    "
            ],
            "text/plain": [
              "<IPython.core.display.Javascript object>"
            ]
          },
          "metadata": {
            "tags": []
          }
        },
        {
          "output_type": "display_data",
          "data": {
            "application/javascript": [
              "\n",
              "        if (window._pyforest_update_imports_cell) { window._pyforest_update_imports_cell('import plotly.graph_objs as go\\nfrom sklearn.manifold import TSNE\\nimport tensorflow as tf\\nfrom sklearn.feature_extraction.text import TfidfVectorizer\\nimport lightgbm as lgb\\nimport tqdm\\nimport matplotlib.pyplot as plt\\nimport glob\\nimport re\\nimport statistics\\nimport numpy as np\\nimport pydot\\nimport pickle\\nimport seaborn as sns\\nimport plotly as py\\nimport matplotlib as mpl\\nimport bokeh\\nimport altair as alt\\nfrom openpyxl import load_workbook\\nimport sys\\nimport nltk\\nfrom sklearn import svm\\nimport sklearn\\nimport gensim\\nimport xgboost as xgb\\nimport spacy\\nfrom sklearn.model_selection import train_test_split\\nimport plotly.express as px\\nimport pandas as pd'); }\n",
              "    "
            ],
            "text/plain": [
              "<IPython.core.display.Javascript object>"
            ]
          },
          "metadata": {
            "tags": []
          }
        },
        {
          "output_type": "display_data",
          "data": {
            "application/javascript": [
              "\n",
              "        if (window._pyforest_update_imports_cell) { window._pyforest_update_imports_cell('import plotly.graph_objs as go\\nfrom sklearn.manifold import TSNE\\nimport tensorflow as tf\\nfrom sklearn.feature_extraction.text import TfidfVectorizer\\nimport lightgbm as lgb\\nimport tqdm\\nimport matplotlib.pyplot as plt\\nimport glob\\nimport re\\nimport statistics\\nimport numpy as np\\nimport pydot\\nimport pickle\\nimport seaborn as sns\\nimport plotly as py\\nimport matplotlib as mpl\\nimport bokeh\\nimport altair as alt\\nfrom openpyxl import load_workbook\\nimport sys\\nimport nltk\\nfrom sklearn import svm\\nimport sklearn\\nimport gensim\\nimport xgboost as xgb\\nimport spacy\\nfrom sklearn.model_selection import train_test_split\\nimport plotly.express as px\\nimport pandas as pd'); }\n",
              "    "
            ],
            "text/plain": [
              "<IPython.core.display.Javascript object>"
            ]
          },
          "metadata": {
            "tags": []
          }
        },
        {
          "output_type": "display_data",
          "data": {
            "application/javascript": [
              "\n",
              "        if (window._pyforest_update_imports_cell) { window._pyforest_update_imports_cell('import plotly.graph_objs as go\\nfrom sklearn.manifold import TSNE\\nimport tensorflow as tf\\nfrom sklearn.feature_extraction.text import TfidfVectorizer\\nimport lightgbm as lgb\\nimport tqdm\\nimport matplotlib.pyplot as plt\\nimport glob\\nimport re\\nimport statistics\\nimport numpy as np\\nimport pydot\\nimport pickle\\nimport seaborn as sns\\nimport plotly as py\\nimport matplotlib as mpl\\nimport bokeh\\nimport altair as alt\\nfrom openpyxl import load_workbook\\nimport sys\\nimport nltk\\nfrom sklearn import svm\\nimport sklearn\\nimport gensim\\nimport xgboost as xgb\\nimport spacy\\nfrom sklearn.model_selection import train_test_split\\nimport plotly.express as px\\nimport pandas as pd'); }\n",
              "    "
            ],
            "text/plain": [
              "<IPython.core.display.Javascript object>"
            ]
          },
          "metadata": {
            "tags": []
          }
        },
        {
          "output_type": "display_data",
          "data": {
            "application/javascript": [
              "\n",
              "        if (window._pyforest_update_imports_cell) { window._pyforest_update_imports_cell('import plotly.graph_objs as go\\nfrom sklearn.manifold import TSNE\\nimport tensorflow as tf\\nfrom sklearn.feature_extraction.text import TfidfVectorizer\\nimport lightgbm as lgb\\nimport tqdm\\nimport matplotlib.pyplot as plt\\nimport glob\\nimport re\\nimport statistics\\nimport numpy as np\\nimport pydot\\nimport pickle\\nimport seaborn as sns\\nimport plotly as py\\nimport matplotlib as mpl\\nimport bokeh\\nimport altair as alt\\nfrom openpyxl import load_workbook\\nimport sys\\nimport nltk\\nfrom sklearn import svm\\nimport sklearn\\nimport gensim\\nimport xgboost as xgb\\nimport spacy\\nfrom sklearn.model_selection import train_test_split\\nimport plotly.express as px\\nimport pandas as pd'); }\n",
              "    "
            ],
            "text/plain": [
              "<IPython.core.display.Javascript object>"
            ]
          },
          "metadata": {
            "tags": []
          }
        },
        {
          "output_type": "display_data",
          "data": {
            "application/javascript": [
              "\n",
              "        if (window._pyforest_update_imports_cell) { window._pyforest_update_imports_cell('import plotly.graph_objs as go\\nfrom sklearn.manifold import TSNE\\nimport tensorflow as tf\\nfrom sklearn.feature_extraction.text import TfidfVectorizer\\nimport lightgbm as lgb\\nimport tqdm\\nimport matplotlib.pyplot as plt\\nimport glob\\nimport re\\nimport statistics\\nimport numpy as np\\nimport pydot\\nimport pickle\\nimport seaborn as sns\\nimport plotly as py\\nimport matplotlib as mpl\\nimport bokeh\\nimport altair as alt\\nfrom openpyxl import load_workbook\\nimport sys\\nimport nltk\\nfrom sklearn import svm\\nimport sklearn\\nimport gensim\\nimport xgboost as xgb\\nimport spacy\\nfrom sklearn.model_selection import train_test_split\\nimport plotly.express as px\\nimport pandas as pd'); }\n",
              "    "
            ],
            "text/plain": [
              "<IPython.core.display.Javascript object>"
            ]
          },
          "metadata": {
            "tags": []
          }
        },
        {
          "output_type": "display_data",
          "data": {
            "application/javascript": [
              "\n",
              "        if (window._pyforest_update_imports_cell) { window._pyforest_update_imports_cell('import plotly.graph_objs as go\\nfrom sklearn.manifold import TSNE\\nimport tensorflow as tf\\nfrom sklearn.feature_extraction.text import TfidfVectorizer\\nimport lightgbm as lgb\\nimport tqdm\\nimport matplotlib.pyplot as plt\\nimport glob\\nimport re\\nimport statistics\\nimport numpy as np\\nimport pydot\\nimport pickle\\nimport seaborn as sns\\nimport plotly as py\\nimport matplotlib as mpl\\nimport bokeh\\nimport altair as alt\\nfrom openpyxl import load_workbook\\nimport sys\\nimport nltk\\nfrom sklearn import svm\\nimport sklearn\\nimport gensim\\nimport xgboost as xgb\\nimport spacy\\nfrom sklearn.model_selection import train_test_split\\nimport plotly.express as px\\nimport pandas as pd'); }\n",
              "    "
            ],
            "text/plain": [
              "<IPython.core.display.Javascript object>"
            ]
          },
          "metadata": {
            "tags": []
          }
        },
        {
          "output_type": "display_data",
          "data": {
            "application/javascript": [
              "\n",
              "        if (window._pyforest_update_imports_cell) { window._pyforest_update_imports_cell('import plotly.graph_objs as go\\nfrom sklearn.manifold import TSNE\\nimport tensorflow as tf\\nfrom sklearn.feature_extraction.text import TfidfVectorizer\\nimport lightgbm as lgb\\nimport tqdm\\nimport matplotlib.pyplot as plt\\nimport glob\\nimport re\\nimport statistics\\nimport numpy as np\\nimport pydot\\nimport pickle\\nimport seaborn as sns\\nimport plotly as py\\nimport matplotlib as mpl\\nimport bokeh\\nimport altair as alt\\nfrom openpyxl import load_workbook\\nimport sys\\nimport nltk\\nfrom sklearn import svm\\nimport sklearn\\nimport gensim\\nimport xgboost as xgb\\nimport spacy\\nfrom sklearn.model_selection import train_test_split\\nimport plotly.express as px\\nimport pandas as pd'); }\n",
              "    "
            ],
            "text/plain": [
              "<IPython.core.display.Javascript object>"
            ]
          },
          "metadata": {
            "tags": []
          }
        },
        {
          "output_type": "display_data",
          "data": {
            "application/javascript": [
              "\n",
              "        if (window._pyforest_update_imports_cell) { window._pyforest_update_imports_cell('import plotly.graph_objs as go\\nfrom sklearn.manifold import TSNE\\nimport tensorflow as tf\\nfrom sklearn.feature_extraction.text import TfidfVectorizer\\nimport lightgbm as lgb\\nimport tqdm\\nimport matplotlib.pyplot as plt\\nimport glob\\nimport re\\nimport statistics\\nimport numpy as np\\nimport pydot\\nimport pickle\\nimport seaborn as sns\\nimport plotly as py\\nimport matplotlib as mpl\\nimport bokeh\\nimport altair as alt\\nfrom openpyxl import load_workbook\\nimport sys\\nimport nltk\\nfrom sklearn import svm\\nimport sklearn\\nimport gensim\\nimport xgboost as xgb\\nimport spacy\\nfrom sklearn.model_selection import train_test_split\\nimport plotly.express as px\\nimport pandas as pd'); }\n",
              "    "
            ],
            "text/plain": [
              "<IPython.core.display.Javascript object>"
            ]
          },
          "metadata": {
            "tags": []
          }
        },
        {
          "output_type": "display_data",
          "data": {
            "application/javascript": [
              "\n",
              "        if (window._pyforest_update_imports_cell) { window._pyforest_update_imports_cell('import plotly.graph_objs as go\\nfrom sklearn.manifold import TSNE\\nimport tensorflow as tf\\nfrom sklearn.feature_extraction.text import TfidfVectorizer\\nimport lightgbm as lgb\\nimport tqdm\\nimport matplotlib.pyplot as plt\\nimport glob\\nimport re\\nimport statistics\\nimport numpy as np\\nimport pydot\\nimport pickle\\nimport seaborn as sns\\nimport plotly as py\\nimport matplotlib as mpl\\nimport bokeh\\nimport altair as alt\\nfrom openpyxl import load_workbook\\nimport sys\\nimport nltk\\nfrom sklearn import svm\\nimport sklearn\\nimport gensim\\nimport xgboost as xgb\\nimport spacy\\nfrom sklearn.model_selection import train_test_split\\nimport plotly.express as px\\nimport pandas as pd'); }\n",
              "    "
            ],
            "text/plain": [
              "<IPython.core.display.Javascript object>"
            ]
          },
          "metadata": {
            "tags": []
          }
        },
        {
          "output_type": "display_data",
          "data": {
            "application/javascript": [
              "\n",
              "        if (window._pyforest_update_imports_cell) { window._pyforest_update_imports_cell('import plotly.graph_objs as go\\nfrom sklearn.manifold import TSNE\\nimport tensorflow as tf\\nfrom sklearn.feature_extraction.text import TfidfVectorizer\\nimport lightgbm as lgb\\nimport tqdm\\nimport matplotlib.pyplot as plt\\nimport glob\\nimport re\\nimport statistics\\nimport numpy as np\\nimport pydot\\nimport pickle\\nimport seaborn as sns\\nimport plotly as py\\nimport matplotlib as mpl\\nimport bokeh\\nimport altair as alt\\nfrom openpyxl import load_workbook\\nimport sys\\nimport nltk\\nfrom sklearn import svm\\nimport sklearn\\nimport gensim\\nimport xgboost as xgb\\nimport spacy\\nfrom sklearn.model_selection import train_test_split\\nimport plotly.express as px\\nimport pandas as pd'); }\n",
              "    "
            ],
            "text/plain": [
              "<IPython.core.display.Javascript object>"
            ]
          },
          "metadata": {
            "tags": []
          }
        },
        {
          "output_type": "display_data",
          "data": {
            "application/javascript": [
              "\n",
              "        if (window._pyforest_update_imports_cell) { window._pyforest_update_imports_cell('import plotly.graph_objs as go\\nfrom sklearn.manifold import TSNE\\nimport tensorflow as tf\\nfrom sklearn.feature_extraction.text import TfidfVectorizer\\nimport lightgbm as lgb\\nimport tqdm\\nimport matplotlib.pyplot as plt\\nimport glob\\nimport re\\nimport statistics\\nimport numpy as np\\nimport pydot\\nimport pickle\\nimport seaborn as sns\\nimport plotly as py\\nimport matplotlib as mpl\\nimport bokeh\\nimport altair as alt\\nfrom openpyxl import load_workbook\\nimport sys\\nimport nltk\\nfrom sklearn import svm\\nimport sklearn\\nimport gensim\\nimport xgboost as xgb\\nimport spacy\\nfrom sklearn.model_selection import train_test_split\\nimport plotly.express as px\\nimport pandas as pd'); }\n",
              "    "
            ],
            "text/plain": [
              "<IPython.core.display.Javascript object>"
            ]
          },
          "metadata": {
            "tags": []
          }
        },
        {
          "output_type": "display_data",
          "data": {
            "application/javascript": [
              "\n",
              "        if (window._pyforest_update_imports_cell) { window._pyforest_update_imports_cell('import plotly.graph_objs as go\\nfrom sklearn.manifold import TSNE\\nimport tensorflow as tf\\nfrom sklearn.feature_extraction.text import TfidfVectorizer\\nimport lightgbm as lgb\\nimport tqdm\\nimport matplotlib.pyplot as plt\\nimport glob\\nimport re\\nimport statistics\\nimport numpy as np\\nimport pydot\\nimport pickle\\nimport seaborn as sns\\nimport plotly as py\\nimport matplotlib as mpl\\nimport bokeh\\nimport altair as alt\\nfrom openpyxl import load_workbook\\nimport sys\\nimport nltk\\nfrom sklearn import svm\\nimport sklearn\\nimport gensim\\nimport xgboost as xgb\\nimport spacy\\nfrom sklearn.model_selection import train_test_split\\nimport plotly.express as px\\nimport pandas as pd'); }\n",
              "    "
            ],
            "text/plain": [
              "<IPython.core.display.Javascript object>"
            ]
          },
          "metadata": {
            "tags": []
          }
        },
        {
          "output_type": "display_data",
          "data": {
            "application/javascript": [
              "\n",
              "        if (window._pyforest_update_imports_cell) { window._pyforest_update_imports_cell('import plotly.graph_objs as go\\nfrom sklearn.manifold import TSNE\\nimport tensorflow as tf\\nfrom sklearn.feature_extraction.text import TfidfVectorizer\\nimport lightgbm as lgb\\nimport tqdm\\nimport matplotlib.pyplot as plt\\nimport glob\\nimport re\\nimport statistics\\nimport numpy as np\\nimport pydot\\nimport pickle\\nimport seaborn as sns\\nimport plotly as py\\nimport matplotlib as mpl\\nimport bokeh\\nimport altair as alt\\nfrom openpyxl import load_workbook\\nimport sys\\nimport nltk\\nfrom sklearn import svm\\nimport sklearn\\nimport gensim\\nimport xgboost as xgb\\nimport spacy\\nfrom sklearn.model_selection import train_test_split\\nimport plotly.express as px\\nimport pandas as pd'); }\n",
              "    "
            ],
            "text/plain": [
              "<IPython.core.display.Javascript object>"
            ]
          },
          "metadata": {
            "tags": []
          }
        },
        {
          "output_type": "display_data",
          "data": {
            "application/javascript": [
              "\n",
              "        if (window._pyforest_update_imports_cell) { window._pyforest_update_imports_cell('import plotly.graph_objs as go\\nfrom sklearn.manifold import TSNE\\nimport tensorflow as tf\\nfrom sklearn.feature_extraction.text import TfidfVectorizer\\nimport lightgbm as lgb\\nimport tqdm\\nimport matplotlib.pyplot as plt\\nimport glob\\nimport re\\nimport statistics\\nimport numpy as np\\nimport pydot\\nimport pickle\\nimport seaborn as sns\\nimport plotly as py\\nimport matplotlib as mpl\\nimport bokeh\\nimport altair as alt\\nfrom openpyxl import load_workbook\\nimport sys\\nimport nltk\\nfrom sklearn import svm\\nimport sklearn\\nimport gensim\\nimport xgboost as xgb\\nimport spacy\\nfrom sklearn.model_selection import train_test_split\\nimport plotly.express as px\\nimport pandas as pd'); }\n",
              "    "
            ],
            "text/plain": [
              "<IPython.core.display.Javascript object>"
            ]
          },
          "metadata": {
            "tags": []
          }
        },
        {
          "output_type": "display_data",
          "data": {
            "application/javascript": [
              "\n",
              "        if (window._pyforest_update_imports_cell) { window._pyforest_update_imports_cell('import plotly.graph_objs as go\\nfrom sklearn.manifold import TSNE\\nimport tensorflow as tf\\nfrom sklearn.feature_extraction.text import TfidfVectorizer\\nimport lightgbm as lgb\\nimport tqdm\\nimport matplotlib.pyplot as plt\\nimport glob\\nimport re\\nimport statistics\\nimport numpy as np\\nimport pydot\\nimport pickle\\nimport seaborn as sns\\nimport plotly as py\\nimport matplotlib as mpl\\nimport bokeh\\nimport altair as alt\\nfrom openpyxl import load_workbook\\nimport sys\\nimport nltk\\nfrom sklearn import svm\\nimport sklearn\\nimport gensim\\nimport xgboost as xgb\\nimport spacy\\nfrom sklearn.model_selection import train_test_split\\nimport plotly.express as px\\nimport pandas as pd'); }\n",
              "    "
            ],
            "text/plain": [
              "<IPython.core.display.Javascript object>"
            ]
          },
          "metadata": {
            "tags": []
          }
        },
        {
          "output_type": "display_data",
          "data": {
            "application/javascript": [
              "\n",
              "        if (window._pyforest_update_imports_cell) { window._pyforest_update_imports_cell('import plotly.graph_objs as go\\nfrom sklearn.manifold import TSNE\\nimport tensorflow as tf\\nfrom sklearn.feature_extraction.text import TfidfVectorizer\\nimport lightgbm as lgb\\nimport tqdm\\nimport matplotlib.pyplot as plt\\nimport glob\\nimport re\\nimport statistics\\nimport numpy as np\\nimport pydot\\nimport pickle\\nimport seaborn as sns\\nimport plotly as py\\nimport matplotlib as mpl\\nimport bokeh\\nimport altair as alt\\nfrom openpyxl import load_workbook\\nimport sys\\nimport nltk\\nfrom sklearn import svm\\nimport sklearn\\nimport gensim\\nimport xgboost as xgb\\nimport spacy\\nfrom sklearn.model_selection import train_test_split\\nimport plotly.express as px\\nimport pandas as pd'); }\n",
              "    "
            ],
            "text/plain": [
              "<IPython.core.display.Javascript object>"
            ]
          },
          "metadata": {
            "tags": []
          }
        },
        {
          "output_type": "display_data",
          "data": {
            "application/javascript": [
              "\n",
              "        if (window._pyforest_update_imports_cell) { window._pyforest_update_imports_cell('import plotly.graph_objs as go\\nfrom sklearn.manifold import TSNE\\nimport tensorflow as tf\\nfrom sklearn.feature_extraction.text import TfidfVectorizer\\nimport lightgbm as lgb\\nimport tqdm\\nimport matplotlib.pyplot as plt\\nimport glob\\nimport re\\nimport statistics\\nimport numpy as np\\nimport pydot\\nimport pickle\\nimport seaborn as sns\\nimport plotly as py\\nimport matplotlib as mpl\\nimport bokeh\\nimport altair as alt\\nfrom openpyxl import load_workbook\\nimport sys\\nimport nltk\\nfrom sklearn import svm\\nimport sklearn\\nimport gensim\\nimport xgboost as xgb\\nimport spacy\\nfrom sklearn.model_selection import train_test_split\\nimport plotly.express as px\\nimport pandas as pd'); }\n",
              "    "
            ],
            "text/plain": [
              "<IPython.core.display.Javascript object>"
            ]
          },
          "metadata": {
            "tags": []
          }
        },
        {
          "output_type": "display_data",
          "data": {
            "application/javascript": [
              "\n",
              "        if (window._pyforest_update_imports_cell) { window._pyforest_update_imports_cell('import plotly.graph_objs as go\\nfrom sklearn.manifold import TSNE\\nimport tensorflow as tf\\nfrom sklearn.feature_extraction.text import TfidfVectorizer\\nimport lightgbm as lgb\\nimport tqdm\\nimport matplotlib.pyplot as plt\\nimport glob\\nimport re\\nimport statistics\\nimport numpy as np\\nimport pydot\\nimport pickle\\nimport seaborn as sns\\nimport plotly as py\\nimport matplotlib as mpl\\nimport bokeh\\nimport altair as alt\\nfrom openpyxl import load_workbook\\nimport sys\\nimport nltk\\nfrom sklearn import svm\\nimport sklearn\\nimport gensim\\nimport xgboost as xgb\\nimport spacy\\nfrom sklearn.model_selection import train_test_split\\nimport plotly.express as px\\nimport pandas as pd'); }\n",
              "    "
            ],
            "text/plain": [
              "<IPython.core.display.Javascript object>"
            ]
          },
          "metadata": {
            "tags": []
          }
        },
        {
          "output_type": "display_data",
          "data": {
            "application/javascript": [
              "\n",
              "        if (window._pyforest_update_imports_cell) { window._pyforest_update_imports_cell('import plotly.graph_objs as go\\nfrom sklearn.manifold import TSNE\\nimport tensorflow as tf\\nfrom sklearn.feature_extraction.text import TfidfVectorizer\\nimport lightgbm as lgb\\nimport tqdm\\nimport matplotlib.pyplot as plt\\nimport glob\\nimport re\\nimport statistics\\nimport numpy as np\\nimport pydot\\nimport pickle\\nimport seaborn as sns\\nimport plotly as py\\nimport matplotlib as mpl\\nimport bokeh\\nimport altair as alt\\nfrom openpyxl import load_workbook\\nimport sys\\nimport nltk\\nfrom sklearn import svm\\nimport sklearn\\nimport gensim\\nimport xgboost as xgb\\nimport spacy\\nfrom sklearn.model_selection import train_test_split\\nimport plotly.express as px\\nimport pandas as pd'); }\n",
              "    "
            ],
            "text/plain": [
              "<IPython.core.display.Javascript object>"
            ]
          },
          "metadata": {
            "tags": []
          }
        },
        {
          "output_type": "display_data",
          "data": {
            "application/javascript": [
              "\n",
              "        if (window._pyforest_update_imports_cell) { window._pyforest_update_imports_cell('import plotly.graph_objs as go\\nfrom sklearn.manifold import TSNE\\nimport tensorflow as tf\\nfrom sklearn.feature_extraction.text import TfidfVectorizer\\nimport lightgbm as lgb\\nimport tqdm\\nimport matplotlib.pyplot as plt\\nimport glob\\nimport re\\nimport statistics\\nimport numpy as np\\nimport pydot\\nimport pickle\\nimport seaborn as sns\\nimport plotly as py\\nimport matplotlib as mpl\\nimport bokeh\\nimport altair as alt\\nfrom openpyxl import load_workbook\\nimport sys\\nimport nltk\\nfrom sklearn import svm\\nimport sklearn\\nimport gensim\\nimport xgboost as xgb\\nimport spacy\\nfrom sklearn.model_selection import train_test_split\\nimport plotly.express as px\\nimport pandas as pd'); }\n",
              "    "
            ],
            "text/plain": [
              "<IPython.core.display.Javascript object>"
            ]
          },
          "metadata": {
            "tags": []
          }
        },
        {
          "output_type": "display_data",
          "data": {
            "application/javascript": [
              "\n",
              "        if (window._pyforest_update_imports_cell) { window._pyforest_update_imports_cell('import plotly.graph_objs as go\\nfrom sklearn.manifold import TSNE\\nimport tensorflow as tf\\nfrom sklearn.feature_extraction.text import TfidfVectorizer\\nimport lightgbm as lgb\\nimport tqdm\\nimport matplotlib.pyplot as plt\\nimport glob\\nimport re\\nimport statistics\\nimport numpy as np\\nimport pydot\\nimport pickle\\nimport seaborn as sns\\nimport plotly as py\\nimport matplotlib as mpl\\nimport bokeh\\nimport altair as alt\\nfrom openpyxl import load_workbook\\nimport sys\\nimport nltk\\nfrom sklearn import svm\\nimport sklearn\\nimport gensim\\nimport xgboost as xgb\\nimport spacy\\nfrom sklearn.model_selection import train_test_split\\nimport plotly.express as px\\nimport pandas as pd'); }\n",
              "    "
            ],
            "text/plain": [
              "<IPython.core.display.Javascript object>"
            ]
          },
          "metadata": {
            "tags": []
          }
        },
        {
          "output_type": "display_data",
          "data": {
            "application/javascript": [
              "\n",
              "        if (window._pyforest_update_imports_cell) { window._pyforest_update_imports_cell('import plotly.graph_objs as go\\nfrom sklearn.manifold import TSNE\\nimport tensorflow as tf\\nfrom sklearn.feature_extraction.text import TfidfVectorizer\\nimport lightgbm as lgb\\nimport tqdm\\nimport matplotlib.pyplot as plt\\nimport glob\\nimport re\\nimport statistics\\nimport numpy as np\\nimport pydot\\nimport pickle\\nimport seaborn as sns\\nimport plotly as py\\nimport matplotlib as mpl\\nimport bokeh\\nimport altair as alt\\nfrom openpyxl import load_workbook\\nimport sys\\nimport nltk\\nfrom sklearn import svm\\nimport sklearn\\nimport gensim\\nimport xgboost as xgb\\nimport spacy\\nfrom sklearn.model_selection import train_test_split\\nimport plotly.express as px\\nimport pandas as pd'); }\n",
              "    "
            ],
            "text/plain": [
              "<IPython.core.display.Javascript object>"
            ]
          },
          "metadata": {
            "tags": []
          }
        },
        {
          "output_type": "display_data",
          "data": {
            "application/javascript": [
              "\n",
              "        if (window._pyforest_update_imports_cell) { window._pyforest_update_imports_cell('import plotly.graph_objs as go\\nfrom sklearn.manifold import TSNE\\nimport tensorflow as tf\\nfrom sklearn.feature_extraction.text import TfidfVectorizer\\nimport lightgbm as lgb\\nimport tqdm\\nimport matplotlib.pyplot as plt\\nimport glob\\nimport re\\nimport statistics\\nimport numpy as np\\nimport pydot\\nimport pickle\\nimport seaborn as sns\\nimport plotly as py\\nimport matplotlib as mpl\\nimport bokeh\\nimport altair as alt\\nfrom openpyxl import load_workbook\\nimport sys\\nimport nltk\\nfrom sklearn import svm\\nimport sklearn\\nimport gensim\\nimport xgboost as xgb\\nimport spacy\\nfrom sklearn.model_selection import train_test_split\\nimport plotly.express as px\\nimport pandas as pd'); }\n",
              "    "
            ],
            "text/plain": [
              "<IPython.core.display.Javascript object>"
            ]
          },
          "metadata": {
            "tags": []
          }
        },
        {
          "output_type": "display_data",
          "data": {
            "application/javascript": [
              "\n",
              "        if (window._pyforest_update_imports_cell) { window._pyforest_update_imports_cell('import plotly.graph_objs as go\\nfrom sklearn.manifold import TSNE\\nimport tensorflow as tf\\nfrom sklearn.feature_extraction.text import TfidfVectorizer\\nimport lightgbm as lgb\\nimport tqdm\\nimport matplotlib.pyplot as plt\\nimport glob\\nimport re\\nimport statistics\\nimport numpy as np\\nimport pydot\\nimport pickle\\nimport seaborn as sns\\nimport plotly as py\\nimport matplotlib as mpl\\nimport bokeh\\nimport altair as alt\\nfrom openpyxl import load_workbook\\nimport sys\\nimport nltk\\nfrom sklearn import svm\\nimport sklearn\\nimport gensim\\nimport xgboost as xgb\\nimport spacy\\nfrom sklearn.model_selection import train_test_split\\nimport plotly.express as px\\nimport pandas as pd'); }\n",
              "    "
            ],
            "text/plain": [
              "<IPython.core.display.Javascript object>"
            ]
          },
          "metadata": {
            "tags": []
          }
        },
        {
          "output_type": "display_data",
          "data": {
            "application/javascript": [
              "\n",
              "        if (window._pyforest_update_imports_cell) { window._pyforest_update_imports_cell('import plotly.graph_objs as go\\nfrom sklearn.manifold import TSNE\\nimport tensorflow as tf\\nfrom sklearn.feature_extraction.text import TfidfVectorizer\\nimport lightgbm as lgb\\nimport tqdm\\nimport matplotlib.pyplot as plt\\nimport glob\\nimport re\\nimport statistics\\nimport numpy as np\\nimport pydot\\nimport pickle\\nimport seaborn as sns\\nimport plotly as py\\nimport matplotlib as mpl\\nimport bokeh\\nimport altair as alt\\nfrom openpyxl import load_workbook\\nimport sys\\nimport nltk\\nfrom sklearn import svm\\nimport sklearn\\nimport gensim\\nimport xgboost as xgb\\nimport spacy\\nfrom sklearn.model_selection import train_test_split\\nimport plotly.express as px\\nimport pandas as pd'); }\n",
              "    "
            ],
            "text/plain": [
              "<IPython.core.display.Javascript object>"
            ]
          },
          "metadata": {
            "tags": []
          }
        },
        {
          "output_type": "display_data",
          "data": {
            "application/javascript": [
              "\n",
              "        if (window._pyforest_update_imports_cell) { window._pyforest_update_imports_cell('import plotly.graph_objs as go\\nfrom sklearn.manifold import TSNE\\nimport tensorflow as tf\\nfrom sklearn.feature_extraction.text import TfidfVectorizer\\nimport lightgbm as lgb\\nimport tqdm\\nimport matplotlib.pyplot as plt\\nimport glob\\nimport re\\nimport statistics\\nimport numpy as np\\nimport pydot\\nimport pickle\\nimport seaborn as sns\\nimport plotly as py\\nimport matplotlib as mpl\\nimport bokeh\\nimport altair as alt\\nfrom openpyxl import load_workbook\\nimport sys\\nimport nltk\\nfrom sklearn import svm\\nimport sklearn\\nimport gensim\\nimport xgboost as xgb\\nimport spacy\\nfrom sklearn.model_selection import train_test_split\\nimport plotly.express as px\\nimport pandas as pd'); }\n",
              "    "
            ],
            "text/plain": [
              "<IPython.core.display.Javascript object>"
            ]
          },
          "metadata": {
            "tags": []
          }
        },
        {
          "output_type": "display_data",
          "data": {
            "application/javascript": [
              "\n",
              "        if (window._pyforest_update_imports_cell) { window._pyforest_update_imports_cell('import plotly.graph_objs as go\\nfrom sklearn.manifold import TSNE\\nimport tensorflow as tf\\nfrom sklearn.feature_extraction.text import TfidfVectorizer\\nimport lightgbm as lgb\\nimport tqdm\\nimport matplotlib.pyplot as plt\\nimport glob\\nimport re\\nimport statistics\\nimport numpy as np\\nimport pydot\\nimport pickle\\nimport seaborn as sns\\nimport plotly as py\\nimport matplotlib as mpl\\nimport bokeh\\nimport altair as alt\\nfrom openpyxl import load_workbook\\nimport sys\\nimport nltk\\nfrom sklearn import svm\\nimport sklearn\\nimport gensim\\nimport xgboost as xgb\\nimport spacy\\nfrom sklearn.model_selection import train_test_split\\nimport plotly.express as px\\nimport pandas as pd'); }\n",
              "    "
            ],
            "text/plain": [
              "<IPython.core.display.Javascript object>"
            ]
          },
          "metadata": {
            "tags": []
          }
        },
        {
          "output_type": "display_data",
          "data": {
            "application/javascript": [
              "\n",
              "        if (window._pyforest_update_imports_cell) { window._pyforest_update_imports_cell('import plotly.graph_objs as go\\nfrom sklearn.manifold import TSNE\\nimport tensorflow as tf\\nfrom sklearn.feature_extraction.text import TfidfVectorizer\\nimport lightgbm as lgb\\nimport tqdm\\nimport matplotlib.pyplot as plt\\nimport glob\\nimport re\\nimport statistics\\nimport numpy as np\\nimport pydot\\nimport pickle\\nimport seaborn as sns\\nimport plotly as py\\nimport matplotlib as mpl\\nimport bokeh\\nimport altair as alt\\nfrom openpyxl import load_workbook\\nimport sys\\nimport nltk\\nfrom sklearn import svm\\nimport sklearn\\nimport gensim\\nimport xgboost as xgb\\nimport spacy\\nfrom sklearn.model_selection import train_test_split\\nimport plotly.express as px\\nimport pandas as pd'); }\n",
              "    "
            ],
            "text/plain": [
              "<IPython.core.display.Javascript object>"
            ]
          },
          "metadata": {
            "tags": []
          }
        },
        {
          "output_type": "display_data",
          "data": {
            "application/javascript": [
              "\n",
              "        if (window._pyforest_update_imports_cell) { window._pyforest_update_imports_cell('import plotly.graph_objs as go\\nfrom sklearn.manifold import TSNE\\nimport tensorflow as tf\\nfrom sklearn.feature_extraction.text import TfidfVectorizer\\nimport lightgbm as lgb\\nimport tqdm\\nimport matplotlib.pyplot as plt\\nimport glob\\nimport re\\nimport statistics\\nimport numpy as np\\nimport pydot\\nimport pickle\\nimport seaborn as sns\\nimport plotly as py\\nimport matplotlib as mpl\\nimport bokeh\\nimport altair as alt\\nfrom openpyxl import load_workbook\\nimport sys\\nimport nltk\\nfrom sklearn import svm\\nimport sklearn\\nimport gensim\\nimport xgboost as xgb\\nimport spacy\\nfrom sklearn.model_selection import train_test_split\\nimport plotly.express as px\\nimport pandas as pd'); }\n",
              "    "
            ],
            "text/plain": [
              "<IPython.core.display.Javascript object>"
            ]
          },
          "metadata": {
            "tags": []
          }
        },
        {
          "output_type": "display_data",
          "data": {
            "application/javascript": [
              "\n",
              "        if (window._pyforest_update_imports_cell) { window._pyforest_update_imports_cell('import plotly.graph_objs as go\\nfrom sklearn.manifold import TSNE\\nimport tensorflow as tf\\nfrom sklearn.feature_extraction.text import TfidfVectorizer\\nimport lightgbm as lgb\\nimport tqdm\\nimport matplotlib.pyplot as plt\\nimport glob\\nimport re\\nimport statistics\\nimport numpy as np\\nimport pydot\\nimport pickle\\nimport seaborn as sns\\nimport plotly as py\\nimport matplotlib as mpl\\nimport bokeh\\nimport altair as alt\\nfrom openpyxl import load_workbook\\nimport sys\\nimport nltk\\nfrom sklearn import svm\\nimport sklearn\\nimport gensim\\nimport xgboost as xgb\\nimport spacy\\nfrom sklearn.model_selection import train_test_split\\nimport plotly.express as px\\nimport pandas as pd'); }\n",
              "    "
            ],
            "text/plain": [
              "<IPython.core.display.Javascript object>"
            ]
          },
          "metadata": {
            "tags": []
          }
        },
        {
          "output_type": "display_data",
          "data": {
            "application/javascript": [
              "\n",
              "        if (window._pyforest_update_imports_cell) { window._pyforest_update_imports_cell('import plotly.graph_objs as go\\nfrom sklearn.manifold import TSNE\\nimport tensorflow as tf\\nfrom sklearn.feature_extraction.text import TfidfVectorizer\\nimport lightgbm as lgb\\nimport tqdm\\nimport matplotlib.pyplot as plt\\nimport glob\\nimport re\\nimport statistics\\nimport numpy as np\\nimport pydot\\nimport pickle\\nimport seaborn as sns\\nimport plotly as py\\nimport matplotlib as mpl\\nimport bokeh\\nimport altair as alt\\nfrom openpyxl import load_workbook\\nimport sys\\nimport nltk\\nfrom sklearn import svm\\nimport sklearn\\nimport gensim\\nimport xgboost as xgb\\nimport spacy\\nfrom sklearn.model_selection import train_test_split\\nimport plotly.express as px\\nimport pandas as pd'); }\n",
              "    "
            ],
            "text/plain": [
              "<IPython.core.display.Javascript object>"
            ]
          },
          "metadata": {
            "tags": []
          }
        },
        {
          "output_type": "display_data",
          "data": {
            "application/javascript": [
              "\n",
              "        if (window._pyforest_update_imports_cell) { window._pyforest_update_imports_cell('import plotly.graph_objs as go\\nfrom sklearn.manifold import TSNE\\nimport tensorflow as tf\\nfrom sklearn.feature_extraction.text import TfidfVectorizer\\nimport lightgbm as lgb\\nimport tqdm\\nimport matplotlib.pyplot as plt\\nimport glob\\nimport re\\nimport statistics\\nimport numpy as np\\nimport pydot\\nimport pickle\\nimport seaborn as sns\\nimport plotly as py\\nimport matplotlib as mpl\\nimport bokeh\\nimport altair as alt\\nfrom openpyxl import load_workbook\\nimport sys\\nimport nltk\\nfrom sklearn import svm\\nimport sklearn\\nimport gensim\\nimport xgboost as xgb\\nimport spacy\\nfrom sklearn.model_selection import train_test_split\\nimport plotly.express as px\\nimport pandas as pd'); }\n",
              "    "
            ],
            "text/plain": [
              "<IPython.core.display.Javascript object>"
            ]
          },
          "metadata": {
            "tags": []
          }
        },
        {
          "output_type": "display_data",
          "data": {
            "application/javascript": [
              "\n",
              "        if (window._pyforest_update_imports_cell) { window._pyforest_update_imports_cell('import plotly.graph_objs as go\\nfrom sklearn.manifold import TSNE\\nimport tensorflow as tf\\nfrom sklearn.feature_extraction.text import TfidfVectorizer\\nimport lightgbm as lgb\\nimport tqdm\\nimport matplotlib.pyplot as plt\\nimport glob\\nimport re\\nimport statistics\\nimport numpy as np\\nimport pydot\\nimport pickle\\nimport seaborn as sns\\nimport plotly as py\\nimport matplotlib as mpl\\nimport bokeh\\nimport altair as alt\\nfrom openpyxl import load_workbook\\nimport sys\\nimport nltk\\nfrom sklearn import svm\\nimport sklearn\\nimport gensim\\nimport xgboost as xgb\\nimport spacy\\nfrom sklearn.model_selection import train_test_split\\nimport plotly.express as px\\nimport pandas as pd'); }\n",
              "    "
            ],
            "text/plain": [
              "<IPython.core.display.Javascript object>"
            ]
          },
          "metadata": {
            "tags": []
          }
        },
        {
          "output_type": "display_data",
          "data": {
            "application/javascript": [
              "\n",
              "        if (window._pyforest_update_imports_cell) { window._pyforest_update_imports_cell('import plotly.graph_objs as go\\nfrom sklearn.manifold import TSNE\\nimport tensorflow as tf\\nfrom sklearn.feature_extraction.text import TfidfVectorizer\\nimport lightgbm as lgb\\nimport tqdm\\nimport matplotlib.pyplot as plt\\nimport glob\\nimport re\\nimport statistics\\nimport numpy as np\\nimport pydot\\nimport pickle\\nimport seaborn as sns\\nimport plotly as py\\nimport matplotlib as mpl\\nimport bokeh\\nimport altair as alt\\nfrom openpyxl import load_workbook\\nimport sys\\nimport nltk\\nfrom sklearn import svm\\nimport sklearn\\nimport gensim\\nimport xgboost as xgb\\nimport spacy\\nfrom sklearn.model_selection import train_test_split\\nimport plotly.express as px\\nimport pandas as pd'); }\n",
              "    "
            ],
            "text/plain": [
              "<IPython.core.display.Javascript object>"
            ]
          },
          "metadata": {
            "tags": []
          }
        },
        {
          "output_type": "display_data",
          "data": {
            "application/javascript": [
              "\n",
              "        if (window._pyforest_update_imports_cell) { window._pyforest_update_imports_cell('import plotly.graph_objs as go\\nfrom sklearn.manifold import TSNE\\nimport tensorflow as tf\\nfrom sklearn.feature_extraction.text import TfidfVectorizer\\nimport lightgbm as lgb\\nimport tqdm\\nimport matplotlib.pyplot as plt\\nimport glob\\nimport re\\nimport statistics\\nimport numpy as np\\nimport pydot\\nimport pickle\\nimport seaborn as sns\\nimport plotly as py\\nimport matplotlib as mpl\\nimport bokeh\\nimport altair as alt\\nfrom openpyxl import load_workbook\\nimport sys\\nimport nltk\\nfrom sklearn import svm\\nimport sklearn\\nimport gensim\\nimport xgboost as xgb\\nimport spacy\\nfrom sklearn.model_selection import train_test_split\\nimport plotly.express as px\\nimport pandas as pd'); }\n",
              "    "
            ],
            "text/plain": [
              "<IPython.core.display.Javascript object>"
            ]
          },
          "metadata": {
            "tags": []
          }
        },
        {
          "output_type": "display_data",
          "data": {
            "application/javascript": [
              "\n",
              "        if (window._pyforest_update_imports_cell) { window._pyforest_update_imports_cell('import plotly.graph_objs as go\\nfrom sklearn.manifold import TSNE\\nimport tensorflow as tf\\nfrom sklearn.feature_extraction.text import TfidfVectorizer\\nimport lightgbm as lgb\\nimport tqdm\\nimport matplotlib.pyplot as plt\\nimport glob\\nimport re\\nimport statistics\\nimport numpy as np\\nimport pydot\\nimport pickle\\nimport seaborn as sns\\nimport plotly as py\\nimport matplotlib as mpl\\nimport bokeh\\nimport altair as alt\\nfrom openpyxl import load_workbook\\nimport sys\\nimport nltk\\nfrom sklearn import svm\\nimport sklearn\\nimport gensim\\nimport xgboost as xgb\\nimport spacy\\nfrom sklearn.model_selection import train_test_split\\nimport plotly.express as px\\nimport pandas as pd'); }\n",
              "    "
            ],
            "text/plain": [
              "<IPython.core.display.Javascript object>"
            ]
          },
          "metadata": {
            "tags": []
          }
        },
        {
          "output_type": "display_data",
          "data": {
            "application/javascript": [
              "\n",
              "        if (window._pyforest_update_imports_cell) { window._pyforest_update_imports_cell('import plotly.graph_objs as go\\nfrom sklearn.manifold import TSNE\\nimport tensorflow as tf\\nfrom sklearn.feature_extraction.text import TfidfVectorizer\\nimport lightgbm as lgb\\nimport tqdm\\nimport matplotlib.pyplot as plt\\nimport glob\\nimport re\\nimport statistics\\nimport numpy as np\\nimport pydot\\nimport pickle\\nimport seaborn as sns\\nimport plotly as py\\nimport matplotlib as mpl\\nimport bokeh\\nimport altair as alt\\nfrom openpyxl import load_workbook\\nimport sys\\nimport nltk\\nfrom sklearn import svm\\nimport sklearn\\nimport gensim\\nimport xgboost as xgb\\nimport spacy\\nfrom sklearn.model_selection import train_test_split\\nimport plotly.express as px\\nimport pandas as pd'); }\n",
              "    "
            ],
            "text/plain": [
              "<IPython.core.display.Javascript object>"
            ]
          },
          "metadata": {
            "tags": []
          }
        },
        {
          "output_type": "display_data",
          "data": {
            "application/javascript": [
              "\n",
              "        if (window._pyforest_update_imports_cell) { window._pyforest_update_imports_cell('import plotly.graph_objs as go\\nfrom sklearn.manifold import TSNE\\nimport tensorflow as tf\\nfrom sklearn.feature_extraction.text import TfidfVectorizer\\nimport lightgbm as lgb\\nimport tqdm\\nimport matplotlib.pyplot as plt\\nimport glob\\nimport re\\nimport statistics\\nimport numpy as np\\nimport pydot\\nimport pickle\\nimport seaborn as sns\\nimport plotly as py\\nimport matplotlib as mpl\\nimport bokeh\\nimport altair as alt\\nfrom openpyxl import load_workbook\\nimport sys\\nimport nltk\\nfrom sklearn import svm\\nimport sklearn\\nimport gensim\\nimport xgboost as xgb\\nimport spacy\\nfrom sklearn.model_selection import train_test_split\\nimport plotly.express as px\\nimport pandas as pd'); }\n",
              "    "
            ],
            "text/plain": [
              "<IPython.core.display.Javascript object>"
            ]
          },
          "metadata": {
            "tags": []
          }
        },
        {
          "output_type": "display_data",
          "data": {
            "application/javascript": [
              "\n",
              "        if (window._pyforest_update_imports_cell) { window._pyforest_update_imports_cell('import plotly.graph_objs as go\\nfrom sklearn.manifold import TSNE\\nimport tensorflow as tf\\nfrom sklearn.feature_extraction.text import TfidfVectorizer\\nimport lightgbm as lgb\\nimport tqdm\\nimport matplotlib.pyplot as plt\\nimport glob\\nimport re\\nimport statistics\\nimport numpy as np\\nimport pydot\\nimport pickle\\nimport seaborn as sns\\nimport plotly as py\\nimport matplotlib as mpl\\nimport bokeh\\nimport altair as alt\\nfrom openpyxl import load_workbook\\nimport sys\\nimport nltk\\nfrom sklearn import svm\\nimport sklearn\\nimport gensim\\nimport xgboost as xgb\\nimport spacy\\nfrom sklearn.model_selection import train_test_split\\nimport plotly.express as px\\nimport pandas as pd'); }\n",
              "    "
            ],
            "text/plain": [
              "<IPython.core.display.Javascript object>"
            ]
          },
          "metadata": {
            "tags": []
          }
        },
        {
          "output_type": "display_data",
          "data": {
            "application/javascript": [
              "\n",
              "        if (window._pyforest_update_imports_cell) { window._pyforest_update_imports_cell('import plotly.graph_objs as go\\nfrom sklearn.manifold import TSNE\\nimport tensorflow as tf\\nfrom sklearn.feature_extraction.text import TfidfVectorizer\\nimport lightgbm as lgb\\nimport tqdm\\nimport matplotlib.pyplot as plt\\nimport glob\\nimport re\\nimport statistics\\nimport numpy as np\\nimport pydot\\nimport pickle\\nimport seaborn as sns\\nimport plotly as py\\nimport matplotlib as mpl\\nimport bokeh\\nimport altair as alt\\nfrom openpyxl import load_workbook\\nimport sys\\nimport nltk\\nfrom sklearn import svm\\nimport sklearn\\nimport gensim\\nimport xgboost as xgb\\nimport spacy\\nfrom sklearn.model_selection import train_test_split\\nimport plotly.express as px\\nimport pandas as pd'); }\n",
              "    "
            ],
            "text/plain": [
              "<IPython.core.display.Javascript object>"
            ]
          },
          "metadata": {
            "tags": []
          }
        },
        {
          "output_type": "display_data",
          "data": {
            "application/javascript": [
              "\n",
              "        if (window._pyforest_update_imports_cell) { window._pyforest_update_imports_cell('import plotly.graph_objs as go\\nfrom sklearn.manifold import TSNE\\nimport tensorflow as tf\\nfrom sklearn.feature_extraction.text import TfidfVectorizer\\nimport lightgbm as lgb\\nimport tqdm\\nimport matplotlib.pyplot as plt\\nimport glob\\nimport re\\nimport statistics\\nimport numpy as np\\nimport pydot\\nimport pickle\\nimport seaborn as sns\\nimport plotly as py\\nimport matplotlib as mpl\\nimport bokeh\\nimport altair as alt\\nfrom openpyxl import load_workbook\\nimport sys\\nimport nltk\\nfrom sklearn import svm\\nimport sklearn\\nimport gensim\\nimport xgboost as xgb\\nimport spacy\\nfrom sklearn.model_selection import train_test_split\\nimport plotly.express as px\\nimport pandas as pd'); }\n",
              "    "
            ],
            "text/plain": [
              "<IPython.core.display.Javascript object>"
            ]
          },
          "metadata": {
            "tags": []
          }
        },
        {
          "output_type": "display_data",
          "data": {
            "application/javascript": [
              "\n",
              "        if (window._pyforest_update_imports_cell) { window._pyforest_update_imports_cell('import plotly.graph_objs as go\\nfrom sklearn.manifold import TSNE\\nimport tensorflow as tf\\nfrom sklearn.feature_extraction.text import TfidfVectorizer\\nimport lightgbm as lgb\\nimport tqdm\\nimport matplotlib.pyplot as plt\\nimport glob\\nimport re\\nimport statistics\\nimport numpy as np\\nimport pydot\\nimport pickle\\nimport seaborn as sns\\nimport plotly as py\\nimport matplotlib as mpl\\nimport bokeh\\nimport altair as alt\\nfrom openpyxl import load_workbook\\nimport sys\\nimport nltk\\nfrom sklearn import svm\\nimport sklearn\\nimport gensim\\nimport xgboost as xgb\\nimport spacy\\nfrom sklearn.model_selection import train_test_split\\nimport plotly.express as px\\nimport pandas as pd'); }\n",
              "    "
            ],
            "text/plain": [
              "<IPython.core.display.Javascript object>"
            ]
          },
          "metadata": {
            "tags": []
          }
        },
        {
          "output_type": "display_data",
          "data": {
            "application/javascript": [
              "\n",
              "        if (window._pyforest_update_imports_cell) { window._pyforest_update_imports_cell('import plotly.graph_objs as go\\nfrom sklearn.manifold import TSNE\\nimport tensorflow as tf\\nfrom sklearn.feature_extraction.text import TfidfVectorizer\\nimport lightgbm as lgb\\nimport tqdm\\nimport matplotlib.pyplot as plt\\nimport glob\\nimport re\\nimport statistics\\nimport numpy as np\\nimport pydot\\nimport pickle\\nimport seaborn as sns\\nimport plotly as py\\nimport matplotlib as mpl\\nimport bokeh\\nimport altair as alt\\nfrom openpyxl import load_workbook\\nimport sys\\nimport nltk\\nfrom sklearn import svm\\nimport sklearn\\nimport gensim\\nimport xgboost as xgb\\nimport spacy\\nfrom sklearn.model_selection import train_test_split\\nimport plotly.express as px\\nimport pandas as pd'); }\n",
              "    "
            ],
            "text/plain": [
              "<IPython.core.display.Javascript object>"
            ]
          },
          "metadata": {
            "tags": []
          }
        },
        {
          "output_type": "display_data",
          "data": {
            "application/javascript": [
              "\n",
              "        if (window._pyforest_update_imports_cell) { window._pyforest_update_imports_cell('import plotly.graph_objs as go\\nfrom sklearn.manifold import TSNE\\nimport tensorflow as tf\\nfrom sklearn.feature_extraction.text import TfidfVectorizer\\nimport lightgbm as lgb\\nimport tqdm\\nimport matplotlib.pyplot as plt\\nimport glob\\nimport re\\nimport statistics\\nimport numpy as np\\nimport pydot\\nimport pickle\\nimport seaborn as sns\\nimport plotly as py\\nimport matplotlib as mpl\\nimport bokeh\\nimport altair as alt\\nfrom openpyxl import load_workbook\\nimport sys\\nimport nltk\\nfrom sklearn import svm\\nimport sklearn\\nimport gensim\\nimport xgboost as xgb\\nimport spacy\\nfrom sklearn.model_selection import train_test_split\\nimport plotly.express as px\\nimport pandas as pd'); }\n",
              "    "
            ],
            "text/plain": [
              "<IPython.core.display.Javascript object>"
            ]
          },
          "metadata": {
            "tags": []
          }
        },
        {
          "output_type": "display_data",
          "data": {
            "application/javascript": [
              "\n",
              "        if (window._pyforest_update_imports_cell) { window._pyforest_update_imports_cell('import plotly.graph_objs as go\\nfrom sklearn.manifold import TSNE\\nimport tensorflow as tf\\nfrom sklearn.feature_extraction.text import TfidfVectorizer\\nimport lightgbm as lgb\\nimport tqdm\\nimport matplotlib.pyplot as plt\\nimport glob\\nimport re\\nimport statistics\\nimport numpy as np\\nimport pydot\\nimport pickle\\nimport seaborn as sns\\nimport plotly as py\\nimport matplotlib as mpl\\nimport bokeh\\nimport altair as alt\\nfrom openpyxl import load_workbook\\nimport sys\\nimport nltk\\nfrom sklearn import svm\\nimport sklearn\\nimport gensim\\nimport xgboost as xgb\\nimport spacy\\nfrom sklearn.model_selection import train_test_split\\nimport plotly.express as px\\nimport pandas as pd'); }\n",
              "    "
            ],
            "text/plain": [
              "<IPython.core.display.Javascript object>"
            ]
          },
          "metadata": {
            "tags": []
          }
        },
        {
          "output_type": "display_data",
          "data": {
            "application/javascript": [
              "\n",
              "        if (window._pyforest_update_imports_cell) { window._pyforest_update_imports_cell('import plotly.graph_objs as go\\nfrom sklearn.manifold import TSNE\\nimport tensorflow as tf\\nfrom sklearn.feature_extraction.text import TfidfVectorizer\\nimport lightgbm as lgb\\nimport tqdm\\nimport matplotlib.pyplot as plt\\nimport glob\\nimport re\\nimport statistics\\nimport numpy as np\\nimport pydot\\nimport pickle\\nimport seaborn as sns\\nimport plotly as py\\nimport matplotlib as mpl\\nimport bokeh\\nimport altair as alt\\nfrom openpyxl import load_workbook\\nimport sys\\nimport nltk\\nfrom sklearn import svm\\nimport sklearn\\nimport gensim\\nimport xgboost as xgb\\nimport spacy\\nfrom sklearn.model_selection import train_test_split\\nimport plotly.express as px\\nimport pandas as pd'); }\n",
              "    "
            ],
            "text/plain": [
              "<IPython.core.display.Javascript object>"
            ]
          },
          "metadata": {
            "tags": []
          }
        },
        {
          "output_type": "display_data",
          "data": {
            "application/javascript": [
              "\n",
              "        if (window._pyforest_update_imports_cell) { window._pyforest_update_imports_cell('import plotly.graph_objs as go\\nfrom sklearn.manifold import TSNE\\nimport tensorflow as tf\\nfrom sklearn.feature_extraction.text import TfidfVectorizer\\nimport lightgbm as lgb\\nimport tqdm\\nimport matplotlib.pyplot as plt\\nimport glob\\nimport re\\nimport statistics\\nimport numpy as np\\nimport pydot\\nimport pickle\\nimport seaborn as sns\\nimport plotly as py\\nimport matplotlib as mpl\\nimport bokeh\\nimport altair as alt\\nfrom openpyxl import load_workbook\\nimport sys\\nimport nltk\\nfrom sklearn import svm\\nimport sklearn\\nimport gensim\\nimport xgboost as xgb\\nimport spacy\\nfrom sklearn.model_selection import train_test_split\\nimport plotly.express as px\\nimport pandas as pd'); }\n",
              "    "
            ],
            "text/plain": [
              "<IPython.core.display.Javascript object>"
            ]
          },
          "metadata": {
            "tags": []
          }
        },
        {
          "output_type": "display_data",
          "data": {
            "application/javascript": [
              "\n",
              "        if (window._pyforest_update_imports_cell) { window._pyforest_update_imports_cell('import plotly.graph_objs as go\\nfrom sklearn.manifold import TSNE\\nimport tensorflow as tf\\nfrom sklearn.feature_extraction.text import TfidfVectorizer\\nimport lightgbm as lgb\\nimport tqdm\\nimport matplotlib.pyplot as plt\\nimport glob\\nimport re\\nimport statistics\\nimport numpy as np\\nimport pydot\\nimport pickle\\nimport seaborn as sns\\nimport plotly as py\\nimport matplotlib as mpl\\nimport bokeh\\nimport altair as alt\\nfrom openpyxl import load_workbook\\nimport sys\\nimport nltk\\nfrom sklearn import svm\\nimport sklearn\\nimport gensim\\nimport xgboost as xgb\\nimport spacy\\nfrom sklearn.model_selection import train_test_split\\nimport plotly.express as px\\nimport pandas as pd'); }\n",
              "    "
            ],
            "text/plain": [
              "<IPython.core.display.Javascript object>"
            ]
          },
          "metadata": {
            "tags": []
          }
        },
        {
          "output_type": "display_data",
          "data": {
            "application/javascript": [
              "\n",
              "        if (window._pyforest_update_imports_cell) { window._pyforest_update_imports_cell('import plotly.graph_objs as go\\nfrom sklearn.manifold import TSNE\\nimport tensorflow as tf\\nfrom sklearn.feature_extraction.text import TfidfVectorizer\\nimport lightgbm as lgb\\nimport tqdm\\nimport matplotlib.pyplot as plt\\nimport glob\\nimport re\\nimport statistics\\nimport numpy as np\\nimport pydot\\nimport pickle\\nimport seaborn as sns\\nimport plotly as py\\nimport matplotlib as mpl\\nimport bokeh\\nimport altair as alt\\nfrom openpyxl import load_workbook\\nimport sys\\nimport nltk\\nfrom sklearn import svm\\nimport sklearn\\nimport gensim\\nimport xgboost as xgb\\nimport spacy\\nfrom sklearn.model_selection import train_test_split\\nimport plotly.express as px\\nimport pandas as pd'); }\n",
              "    "
            ],
            "text/plain": [
              "<IPython.core.display.Javascript object>"
            ]
          },
          "metadata": {
            "tags": []
          }
        },
        {
          "output_type": "display_data",
          "data": {
            "application/javascript": [
              "\n",
              "        if (window._pyforest_update_imports_cell) { window._pyforest_update_imports_cell('import plotly.graph_objs as go\\nfrom sklearn.manifold import TSNE\\nimport tensorflow as tf\\nfrom sklearn.feature_extraction.text import TfidfVectorizer\\nimport lightgbm as lgb\\nimport tqdm\\nimport matplotlib.pyplot as plt\\nimport glob\\nimport re\\nimport statistics\\nimport numpy as np\\nimport pydot\\nimport pickle\\nimport seaborn as sns\\nimport plotly as py\\nimport matplotlib as mpl\\nimport bokeh\\nimport altair as alt\\nfrom openpyxl import load_workbook\\nimport sys\\nimport nltk\\nfrom sklearn import svm\\nimport sklearn\\nimport gensim\\nimport xgboost as xgb\\nimport spacy\\nfrom sklearn.model_selection import train_test_split\\nimport plotly.express as px\\nimport pandas as pd'); }\n",
              "    "
            ],
            "text/plain": [
              "<IPython.core.display.Javascript object>"
            ]
          },
          "metadata": {
            "tags": []
          }
        },
        {
          "output_type": "display_data",
          "data": {
            "application/javascript": [
              "\n",
              "        if (window._pyforest_update_imports_cell) { window._pyforest_update_imports_cell('import plotly.graph_objs as go\\nfrom sklearn.manifold import TSNE\\nimport tensorflow as tf\\nfrom sklearn.feature_extraction.text import TfidfVectorizer\\nimport lightgbm as lgb\\nimport tqdm\\nimport matplotlib.pyplot as plt\\nimport glob\\nimport re\\nimport statistics\\nimport numpy as np\\nimport pydot\\nimport pickle\\nimport seaborn as sns\\nimport plotly as py\\nimport matplotlib as mpl\\nimport bokeh\\nimport altair as alt\\nfrom openpyxl import load_workbook\\nimport sys\\nimport nltk\\nfrom sklearn import svm\\nimport sklearn\\nimport gensim\\nimport xgboost as xgb\\nimport spacy\\nfrom sklearn.model_selection import train_test_split\\nimport plotly.express as px\\nimport pandas as pd'); }\n",
              "    "
            ],
            "text/plain": [
              "<IPython.core.display.Javascript object>"
            ]
          },
          "metadata": {
            "tags": []
          }
        },
        {
          "output_type": "display_data",
          "data": {
            "application/javascript": [
              "\n",
              "        if (window._pyforest_update_imports_cell) { window._pyforest_update_imports_cell('import plotly.graph_objs as go\\nfrom sklearn.manifold import TSNE\\nimport tensorflow as tf\\nfrom sklearn.feature_extraction.text import TfidfVectorizer\\nimport lightgbm as lgb\\nimport tqdm\\nimport matplotlib.pyplot as plt\\nimport glob\\nimport re\\nimport statistics\\nimport numpy as np\\nimport pydot\\nimport pickle\\nimport seaborn as sns\\nimport plotly as py\\nimport matplotlib as mpl\\nimport bokeh\\nimport altair as alt\\nfrom openpyxl import load_workbook\\nimport sys\\nimport nltk\\nfrom sklearn import svm\\nimport sklearn\\nimport gensim\\nimport xgboost as xgb\\nimport spacy\\nfrom sklearn.model_selection import train_test_split\\nimport plotly.express as px\\nimport pandas as pd'); }\n",
              "    "
            ],
            "text/plain": [
              "<IPython.core.display.Javascript object>"
            ]
          },
          "metadata": {
            "tags": []
          }
        },
        {
          "output_type": "display_data",
          "data": {
            "application/javascript": [
              "\n",
              "        if (window._pyforest_update_imports_cell) { window._pyforest_update_imports_cell('import plotly.graph_objs as go\\nfrom sklearn.manifold import TSNE\\nimport tensorflow as tf\\nfrom sklearn.feature_extraction.text import TfidfVectorizer\\nimport lightgbm as lgb\\nimport tqdm\\nimport matplotlib.pyplot as plt\\nimport glob\\nimport re\\nimport statistics\\nimport numpy as np\\nimport pydot\\nimport pickle\\nimport seaborn as sns\\nimport plotly as py\\nimport matplotlib as mpl\\nimport bokeh\\nimport altair as alt\\nfrom openpyxl import load_workbook\\nimport sys\\nimport nltk\\nfrom sklearn import svm\\nimport sklearn\\nimport gensim\\nimport xgboost as xgb\\nimport spacy\\nfrom sklearn.model_selection import train_test_split\\nimport plotly.express as px\\nimport pandas as pd'); }\n",
              "    "
            ],
            "text/plain": [
              "<IPython.core.display.Javascript object>"
            ]
          },
          "metadata": {
            "tags": []
          }
        },
        {
          "output_type": "display_data",
          "data": {
            "application/javascript": [
              "\n",
              "        if (window._pyforest_update_imports_cell) { window._pyforest_update_imports_cell('import plotly.graph_objs as go\\nfrom sklearn.manifold import TSNE\\nimport tensorflow as tf\\nfrom sklearn.feature_extraction.text import TfidfVectorizer\\nimport lightgbm as lgb\\nimport tqdm\\nimport matplotlib.pyplot as plt\\nimport glob\\nimport re\\nimport statistics\\nimport numpy as np\\nimport pydot\\nimport pickle\\nimport seaborn as sns\\nimport plotly as py\\nimport matplotlib as mpl\\nimport bokeh\\nimport altair as alt\\nfrom openpyxl import load_workbook\\nimport sys\\nimport nltk\\nfrom sklearn import svm\\nimport sklearn\\nimport gensim\\nimport xgboost as xgb\\nimport spacy\\nfrom sklearn.model_selection import train_test_split\\nimport plotly.express as px\\nimport pandas as pd'); }\n",
              "    "
            ],
            "text/plain": [
              "<IPython.core.display.Javascript object>"
            ]
          },
          "metadata": {
            "tags": []
          }
        },
        {
          "output_type": "display_data",
          "data": {
            "application/javascript": [
              "\n",
              "        if (window._pyforest_update_imports_cell) { window._pyforest_update_imports_cell('import plotly.graph_objs as go\\nfrom sklearn.manifold import TSNE\\nimport tensorflow as tf\\nfrom sklearn.feature_extraction.text import TfidfVectorizer\\nimport lightgbm as lgb\\nimport tqdm\\nimport matplotlib.pyplot as plt\\nimport glob\\nimport re\\nimport statistics\\nimport numpy as np\\nimport pydot\\nimport pickle\\nimport seaborn as sns\\nimport plotly as py\\nimport matplotlib as mpl\\nimport bokeh\\nimport altair as alt\\nfrom openpyxl import load_workbook\\nimport sys\\nimport nltk\\nfrom sklearn import svm\\nimport sklearn\\nimport gensim\\nimport xgboost as xgb\\nimport spacy\\nfrom sklearn.model_selection import train_test_split\\nimport plotly.express as px\\nimport pandas as pd'); }\n",
              "    "
            ],
            "text/plain": [
              "<IPython.core.display.Javascript object>"
            ]
          },
          "metadata": {
            "tags": []
          }
        },
        {
          "output_type": "display_data",
          "data": {
            "application/javascript": [
              "\n",
              "        if (window._pyforest_update_imports_cell) { window._pyforest_update_imports_cell('import plotly.graph_objs as go\\nfrom sklearn.manifold import TSNE\\nimport tensorflow as tf\\nfrom sklearn.feature_extraction.text import TfidfVectorizer\\nimport lightgbm as lgb\\nimport tqdm\\nimport matplotlib.pyplot as plt\\nimport glob\\nimport re\\nimport statistics\\nimport numpy as np\\nimport pydot\\nimport pickle\\nimport seaborn as sns\\nimport plotly as py\\nimport matplotlib as mpl\\nimport bokeh\\nimport altair as alt\\nfrom openpyxl import load_workbook\\nimport sys\\nimport nltk\\nfrom sklearn import svm\\nimport sklearn\\nimport gensim\\nimport xgboost as xgb\\nimport spacy\\nfrom sklearn.model_selection import train_test_split\\nimport plotly.express as px\\nimport pandas as pd'); }\n",
              "    "
            ],
            "text/plain": [
              "<IPython.core.display.Javascript object>"
            ]
          },
          "metadata": {
            "tags": []
          }
        },
        {
          "output_type": "display_data",
          "data": {
            "application/javascript": [
              "\n",
              "        if (window._pyforest_update_imports_cell) { window._pyforest_update_imports_cell('import plotly.graph_objs as go\\nfrom sklearn.manifold import TSNE\\nimport tensorflow as tf\\nfrom sklearn.feature_extraction.text import TfidfVectorizer\\nimport lightgbm as lgb\\nimport tqdm\\nimport matplotlib.pyplot as plt\\nimport glob\\nimport re\\nimport statistics\\nimport numpy as np\\nimport pydot\\nimport pickle\\nimport seaborn as sns\\nimport plotly as py\\nimport matplotlib as mpl\\nimport bokeh\\nimport altair as alt\\nfrom openpyxl import load_workbook\\nimport sys\\nimport nltk\\nfrom sklearn import svm\\nimport sklearn\\nimport gensim\\nimport xgboost as xgb\\nimport spacy\\nfrom sklearn.model_selection import train_test_split\\nimport plotly.express as px\\nimport pandas as pd'); }\n",
              "    "
            ],
            "text/plain": [
              "<IPython.core.display.Javascript object>"
            ]
          },
          "metadata": {
            "tags": []
          }
        },
        {
          "output_type": "display_data",
          "data": {
            "application/javascript": [
              "\n",
              "        if (window._pyforest_update_imports_cell) { window._pyforest_update_imports_cell('import plotly.graph_objs as go\\nfrom sklearn.manifold import TSNE\\nimport tensorflow as tf\\nfrom sklearn.feature_extraction.text import TfidfVectorizer\\nimport lightgbm as lgb\\nimport tqdm\\nimport matplotlib.pyplot as plt\\nimport glob\\nimport re\\nimport statistics\\nimport numpy as np\\nimport pydot\\nimport pickle\\nimport seaborn as sns\\nimport plotly as py\\nimport matplotlib as mpl\\nimport bokeh\\nimport altair as alt\\nfrom openpyxl import load_workbook\\nimport sys\\nimport nltk\\nfrom sklearn import svm\\nimport sklearn\\nimport gensim\\nimport xgboost as xgb\\nimport spacy\\nfrom sklearn.model_selection import train_test_split\\nimport plotly.express as px\\nimport pandas as pd'); }\n",
              "    "
            ],
            "text/plain": [
              "<IPython.core.display.Javascript object>"
            ]
          },
          "metadata": {
            "tags": []
          }
        },
        {
          "output_type": "display_data",
          "data": {
            "application/javascript": [
              "\n",
              "        if (window._pyforest_update_imports_cell) { window._pyforest_update_imports_cell('import plotly.graph_objs as go\\nfrom sklearn.manifold import TSNE\\nimport tensorflow as tf\\nfrom sklearn.feature_extraction.text import TfidfVectorizer\\nimport lightgbm as lgb\\nimport tqdm\\nimport matplotlib.pyplot as plt\\nimport glob\\nimport re\\nimport statistics\\nimport numpy as np\\nimport pydot\\nimport pickle\\nimport seaborn as sns\\nimport plotly as py\\nimport matplotlib as mpl\\nimport bokeh\\nimport altair as alt\\nfrom openpyxl import load_workbook\\nimport sys\\nimport nltk\\nfrom sklearn import svm\\nimport sklearn\\nimport gensim\\nimport xgboost as xgb\\nimport spacy\\nfrom sklearn.model_selection import train_test_split\\nimport plotly.express as px\\nimport pandas as pd'); }\n",
              "    "
            ],
            "text/plain": [
              "<IPython.core.display.Javascript object>"
            ]
          },
          "metadata": {
            "tags": []
          }
        },
        {
          "output_type": "display_data",
          "data": {
            "application/javascript": [
              "\n",
              "        if (window._pyforest_update_imports_cell) { window._pyforest_update_imports_cell('import plotly.graph_objs as go\\nfrom sklearn.manifold import TSNE\\nimport tensorflow as tf\\nfrom sklearn.feature_extraction.text import TfidfVectorizer\\nimport lightgbm as lgb\\nimport tqdm\\nimport matplotlib.pyplot as plt\\nimport glob\\nimport re\\nimport statistics\\nimport numpy as np\\nimport pydot\\nimport pickle\\nimport seaborn as sns\\nimport plotly as py\\nimport matplotlib as mpl\\nimport bokeh\\nimport altair as alt\\nfrom openpyxl import load_workbook\\nimport sys\\nimport nltk\\nfrom sklearn import svm\\nimport sklearn\\nimport gensim\\nimport xgboost as xgb\\nimport spacy\\nfrom sklearn.model_selection import train_test_split\\nimport plotly.express as px\\nimport pandas as pd'); }\n",
              "    "
            ],
            "text/plain": [
              "<IPython.core.display.Javascript object>"
            ]
          },
          "metadata": {
            "tags": []
          }
        },
        {
          "output_type": "display_data",
          "data": {
            "application/javascript": [
              "\n",
              "        if (window._pyforest_update_imports_cell) { window._pyforest_update_imports_cell('import plotly.graph_objs as go\\nfrom sklearn.manifold import TSNE\\nimport tensorflow as tf\\nfrom sklearn.feature_extraction.text import TfidfVectorizer\\nimport lightgbm as lgb\\nimport tqdm\\nimport matplotlib.pyplot as plt\\nimport glob\\nimport re\\nimport statistics\\nimport numpy as np\\nimport pydot\\nimport pickle\\nimport seaborn as sns\\nimport plotly as py\\nimport matplotlib as mpl\\nimport bokeh\\nimport altair as alt\\nfrom openpyxl import load_workbook\\nimport sys\\nimport nltk\\nfrom sklearn import svm\\nimport sklearn\\nimport gensim\\nimport xgboost as xgb\\nimport spacy\\nfrom sklearn.model_selection import train_test_split\\nimport plotly.express as px\\nimport pandas as pd'); }\n",
              "    "
            ],
            "text/plain": [
              "<IPython.core.display.Javascript object>"
            ]
          },
          "metadata": {
            "tags": []
          }
        },
        {
          "output_type": "display_data",
          "data": {
            "application/javascript": [
              "\n",
              "        if (window._pyforest_update_imports_cell) { window._pyforest_update_imports_cell('import plotly.graph_objs as go\\nfrom sklearn.manifold import TSNE\\nimport tensorflow as tf\\nfrom sklearn.feature_extraction.text import TfidfVectorizer\\nimport lightgbm as lgb\\nimport tqdm\\nimport matplotlib.pyplot as plt\\nimport glob\\nimport re\\nimport statistics\\nimport numpy as np\\nimport pydot\\nimport pickle\\nimport seaborn as sns\\nimport plotly as py\\nimport matplotlib as mpl\\nimport bokeh\\nimport altair as alt\\nfrom openpyxl import load_workbook\\nimport sys\\nimport nltk\\nfrom sklearn import svm\\nimport sklearn\\nimport gensim\\nimport xgboost as xgb\\nimport spacy\\nfrom sklearn.model_selection import train_test_split\\nimport plotly.express as px\\nimport pandas as pd'); }\n",
              "    "
            ],
            "text/plain": [
              "<IPython.core.display.Javascript object>"
            ]
          },
          "metadata": {
            "tags": []
          }
        },
        {
          "output_type": "display_data",
          "data": {
            "application/javascript": [
              "\n",
              "        if (window._pyforest_update_imports_cell) { window._pyforest_update_imports_cell('import plotly.graph_objs as go\\nfrom sklearn.manifold import TSNE\\nimport tensorflow as tf\\nfrom sklearn.feature_extraction.text import TfidfVectorizer\\nimport lightgbm as lgb\\nimport tqdm\\nimport matplotlib.pyplot as plt\\nimport glob\\nimport re\\nimport statistics\\nimport numpy as np\\nimport pydot\\nimport pickle\\nimport seaborn as sns\\nimport plotly as py\\nimport matplotlib as mpl\\nimport bokeh\\nimport altair as alt\\nfrom openpyxl import load_workbook\\nimport sys\\nimport nltk\\nfrom sklearn import svm\\nimport sklearn\\nimport gensim\\nimport xgboost as xgb\\nimport spacy\\nfrom sklearn.model_selection import train_test_split\\nimport plotly.express as px\\nimport pandas as pd'); }\n",
              "    "
            ],
            "text/plain": [
              "<IPython.core.display.Javascript object>"
            ]
          },
          "metadata": {
            "tags": []
          }
        },
        {
          "output_type": "display_data",
          "data": {
            "application/javascript": [
              "\n",
              "        if (window._pyforest_update_imports_cell) { window._pyforest_update_imports_cell('import plotly.graph_objs as go\\nfrom sklearn.manifold import TSNE\\nimport tensorflow as tf\\nfrom sklearn.feature_extraction.text import TfidfVectorizer\\nimport lightgbm as lgb\\nimport tqdm\\nimport matplotlib.pyplot as plt\\nimport glob\\nimport re\\nimport statistics\\nimport numpy as np\\nimport pydot\\nimport pickle\\nimport seaborn as sns\\nimport plotly as py\\nimport matplotlib as mpl\\nimport bokeh\\nimport altair as alt\\nfrom openpyxl import load_workbook\\nimport sys\\nimport nltk\\nfrom sklearn import svm\\nimport sklearn\\nimport gensim\\nimport xgboost as xgb\\nimport spacy\\nfrom sklearn.model_selection import train_test_split\\nimport plotly.express as px\\nimport pandas as pd'); }\n",
              "    "
            ],
            "text/plain": [
              "<IPython.core.display.Javascript object>"
            ]
          },
          "metadata": {
            "tags": []
          }
        },
        {
          "output_type": "display_data",
          "data": {
            "application/javascript": [
              "\n",
              "        if (window._pyforest_update_imports_cell) { window._pyforest_update_imports_cell('import plotly.graph_objs as go\\nfrom sklearn.manifold import TSNE\\nimport tensorflow as tf\\nfrom sklearn.feature_extraction.text import TfidfVectorizer\\nimport lightgbm as lgb\\nimport tqdm\\nimport matplotlib.pyplot as plt\\nimport glob\\nimport re\\nimport statistics\\nimport numpy as np\\nimport pydot\\nimport pickle\\nimport seaborn as sns\\nimport plotly as py\\nimport matplotlib as mpl\\nimport bokeh\\nimport altair as alt\\nfrom openpyxl import load_workbook\\nimport sys\\nimport nltk\\nfrom sklearn import svm\\nimport sklearn\\nimport gensim\\nimport xgboost as xgb\\nimport spacy\\nfrom sklearn.model_selection import train_test_split\\nimport plotly.express as px\\nimport pandas as pd'); }\n",
              "    "
            ],
            "text/plain": [
              "<IPython.core.display.Javascript object>"
            ]
          },
          "metadata": {
            "tags": []
          }
        },
        {
          "output_type": "display_data",
          "data": {
            "application/javascript": [
              "\n",
              "        if (window._pyforest_update_imports_cell) { window._pyforest_update_imports_cell('import plotly.graph_objs as go\\nfrom sklearn.manifold import TSNE\\nimport tensorflow as tf\\nfrom sklearn.feature_extraction.text import TfidfVectorizer\\nimport lightgbm as lgb\\nimport tqdm\\nimport matplotlib.pyplot as plt\\nimport glob\\nimport re\\nimport statistics\\nimport numpy as np\\nimport pydot\\nimport pickle\\nimport seaborn as sns\\nimport plotly as py\\nimport matplotlib as mpl\\nimport bokeh\\nimport altair as alt\\nfrom openpyxl import load_workbook\\nimport sys\\nimport nltk\\nfrom sklearn import svm\\nimport sklearn\\nimport gensim\\nimport xgboost as xgb\\nimport spacy\\nfrom sklearn.model_selection import train_test_split\\nimport plotly.express as px\\nimport pandas as pd'); }\n",
              "    "
            ],
            "text/plain": [
              "<IPython.core.display.Javascript object>"
            ]
          },
          "metadata": {
            "tags": []
          }
        },
        {
          "output_type": "display_data",
          "data": {
            "application/javascript": [
              "\n",
              "        if (window._pyforest_update_imports_cell) { window._pyforest_update_imports_cell('import plotly.graph_objs as go\\nfrom sklearn.manifold import TSNE\\nimport tensorflow as tf\\nfrom sklearn.feature_extraction.text import TfidfVectorizer\\nimport lightgbm as lgb\\nimport tqdm\\nimport matplotlib.pyplot as plt\\nimport glob\\nimport re\\nimport statistics\\nimport numpy as np\\nimport pydot\\nimport pickle\\nimport seaborn as sns\\nimport plotly as py\\nimport matplotlib as mpl\\nimport bokeh\\nimport altair as alt\\nfrom openpyxl import load_workbook\\nimport sys\\nimport nltk\\nfrom sklearn import svm\\nimport sklearn\\nimport gensim\\nimport xgboost as xgb\\nimport spacy\\nfrom sklearn.model_selection import train_test_split\\nimport plotly.express as px\\nimport pandas as pd'); }\n",
              "    "
            ],
            "text/plain": [
              "<IPython.core.display.Javascript object>"
            ]
          },
          "metadata": {
            "tags": []
          }
        },
        {
          "output_type": "display_data",
          "data": {
            "application/javascript": [
              "\n",
              "        if (window._pyforest_update_imports_cell) { window._pyforest_update_imports_cell('import plotly.graph_objs as go\\nfrom sklearn.manifold import TSNE\\nimport tensorflow as tf\\nfrom sklearn.feature_extraction.text import TfidfVectorizer\\nimport lightgbm as lgb\\nimport tqdm\\nimport matplotlib.pyplot as plt\\nimport glob\\nimport re\\nimport statistics\\nimport numpy as np\\nimport pydot\\nimport pickle\\nimport seaborn as sns\\nimport plotly as py\\nimport matplotlib as mpl\\nimport bokeh\\nimport altair as alt\\nfrom openpyxl import load_workbook\\nimport sys\\nimport nltk\\nfrom sklearn import svm\\nimport sklearn\\nimport gensim\\nimport xgboost as xgb\\nimport spacy\\nfrom sklearn.model_selection import train_test_split\\nimport plotly.express as px\\nimport pandas as pd'); }\n",
              "    "
            ],
            "text/plain": [
              "<IPython.core.display.Javascript object>"
            ]
          },
          "metadata": {
            "tags": []
          }
        },
        {
          "output_type": "display_data",
          "data": {
            "application/javascript": [
              "\n",
              "        if (window._pyforest_update_imports_cell) { window._pyforest_update_imports_cell('import plotly.graph_objs as go\\nfrom sklearn.manifold import TSNE\\nimport tensorflow as tf\\nfrom sklearn.feature_extraction.text import TfidfVectorizer\\nimport lightgbm as lgb\\nimport tqdm\\nimport matplotlib.pyplot as plt\\nimport glob\\nimport re\\nimport statistics\\nimport numpy as np\\nimport pydot\\nimport pickle\\nimport seaborn as sns\\nimport plotly as py\\nimport matplotlib as mpl\\nimport bokeh\\nimport altair as alt\\nfrom openpyxl import load_workbook\\nimport sys\\nimport nltk\\nfrom sklearn import svm\\nimport sklearn\\nimport gensim\\nimport xgboost as xgb\\nimport spacy\\nfrom sklearn.model_selection import train_test_split\\nimport plotly.express as px\\nimport pandas as pd'); }\n",
              "    "
            ],
            "text/plain": [
              "<IPython.core.display.Javascript object>"
            ]
          },
          "metadata": {
            "tags": []
          }
        },
        {
          "output_type": "display_data",
          "data": {
            "application/javascript": [
              "\n",
              "        if (window._pyforest_update_imports_cell) { window._pyforest_update_imports_cell('import plotly.graph_objs as go\\nfrom sklearn.manifold import TSNE\\nimport tensorflow as tf\\nfrom sklearn.feature_extraction.text import TfidfVectorizer\\nimport lightgbm as lgb\\nimport tqdm\\nimport matplotlib.pyplot as plt\\nimport glob\\nimport re\\nimport statistics\\nimport numpy as np\\nimport pydot\\nimport pickle\\nimport seaborn as sns\\nimport plotly as py\\nimport matplotlib as mpl\\nimport bokeh\\nimport altair as alt\\nfrom openpyxl import load_workbook\\nimport sys\\nimport nltk\\nfrom sklearn import svm\\nimport sklearn\\nimport gensim\\nimport xgboost as xgb\\nimport spacy\\nfrom sklearn.model_selection import train_test_split\\nimport plotly.express as px\\nimport pandas as pd'); }\n",
              "    "
            ],
            "text/plain": [
              "<IPython.core.display.Javascript object>"
            ]
          },
          "metadata": {
            "tags": []
          }
        },
        {
          "output_type": "display_data",
          "data": {
            "application/javascript": [
              "\n",
              "        if (window._pyforest_update_imports_cell) { window._pyforest_update_imports_cell('import plotly.graph_objs as go\\nfrom sklearn.manifold import TSNE\\nimport tensorflow as tf\\nfrom sklearn.feature_extraction.text import TfidfVectorizer\\nimport lightgbm as lgb\\nimport tqdm\\nimport matplotlib.pyplot as plt\\nimport glob\\nimport re\\nimport statistics\\nimport numpy as np\\nimport pydot\\nimport pickle\\nimport seaborn as sns\\nimport plotly as py\\nimport matplotlib as mpl\\nimport bokeh\\nimport altair as alt\\nfrom openpyxl import load_workbook\\nimport sys\\nimport nltk\\nfrom sklearn import svm\\nimport sklearn\\nimport gensim\\nimport xgboost as xgb\\nimport spacy\\nfrom sklearn.model_selection import train_test_split\\nimport plotly.express as px\\nimport pandas as pd'); }\n",
              "    "
            ],
            "text/plain": [
              "<IPython.core.display.Javascript object>"
            ]
          },
          "metadata": {
            "tags": []
          }
        },
        {
          "output_type": "display_data",
          "data": {
            "application/javascript": [
              "\n",
              "        if (window._pyforest_update_imports_cell) { window._pyforest_update_imports_cell('import plotly.graph_objs as go\\nfrom sklearn.manifold import TSNE\\nimport tensorflow as tf\\nfrom sklearn.feature_extraction.text import TfidfVectorizer\\nimport lightgbm as lgb\\nimport tqdm\\nimport matplotlib.pyplot as plt\\nimport glob\\nimport re\\nimport statistics\\nimport numpy as np\\nimport pydot\\nimport pickle\\nimport seaborn as sns\\nimport plotly as py\\nimport matplotlib as mpl\\nimport bokeh\\nimport altair as alt\\nfrom openpyxl import load_workbook\\nimport sys\\nimport nltk\\nfrom sklearn import svm\\nimport sklearn\\nimport gensim\\nimport xgboost as xgb\\nimport spacy\\nfrom sklearn.model_selection import train_test_split\\nimport plotly.express as px\\nimport pandas as pd'); }\n",
              "    "
            ],
            "text/plain": [
              "<IPython.core.display.Javascript object>"
            ]
          },
          "metadata": {
            "tags": []
          }
        },
        {
          "output_type": "display_data",
          "data": {
            "application/javascript": [
              "\n",
              "        if (window._pyforest_update_imports_cell) { window._pyforest_update_imports_cell('import plotly.graph_objs as go\\nfrom sklearn.manifold import TSNE\\nimport tensorflow as tf\\nfrom sklearn.feature_extraction.text import TfidfVectorizer\\nimport lightgbm as lgb\\nimport tqdm\\nimport matplotlib.pyplot as plt\\nimport glob\\nimport re\\nimport statistics\\nimport numpy as np\\nimport pydot\\nimport pickle\\nimport seaborn as sns\\nimport plotly as py\\nimport matplotlib as mpl\\nimport bokeh\\nimport altair as alt\\nfrom openpyxl import load_workbook\\nimport sys\\nimport nltk\\nfrom sklearn import svm\\nimport sklearn\\nimport gensim\\nimport xgboost as xgb\\nimport spacy\\nfrom sklearn.model_selection import train_test_split\\nimport plotly.express as px\\nimport pandas as pd'); }\n",
              "    "
            ],
            "text/plain": [
              "<IPython.core.display.Javascript object>"
            ]
          },
          "metadata": {
            "tags": []
          }
        },
        {
          "output_type": "display_data",
          "data": {
            "application/javascript": [
              "\n",
              "        if (window._pyforest_update_imports_cell) { window._pyforest_update_imports_cell('import plotly.graph_objs as go\\nfrom sklearn.manifold import TSNE\\nimport tensorflow as tf\\nfrom sklearn.feature_extraction.text import TfidfVectorizer\\nimport lightgbm as lgb\\nimport tqdm\\nimport matplotlib.pyplot as plt\\nimport glob\\nimport re\\nimport statistics\\nimport numpy as np\\nimport pydot\\nimport pickle\\nimport seaborn as sns\\nimport plotly as py\\nimport matplotlib as mpl\\nimport bokeh\\nimport altair as alt\\nfrom openpyxl import load_workbook\\nimport sys\\nimport nltk\\nfrom sklearn import svm\\nimport sklearn\\nimport gensim\\nimport xgboost as xgb\\nimport spacy\\nfrom sklearn.model_selection import train_test_split\\nimport plotly.express as px\\nimport pandas as pd'); }\n",
              "    "
            ],
            "text/plain": [
              "<IPython.core.display.Javascript object>"
            ]
          },
          "metadata": {
            "tags": []
          }
        },
        {
          "output_type": "display_data",
          "data": {
            "application/javascript": [
              "\n",
              "        if (window._pyforest_update_imports_cell) { window._pyforest_update_imports_cell('import plotly.graph_objs as go\\nfrom sklearn.manifold import TSNE\\nimport tensorflow as tf\\nfrom sklearn.feature_extraction.text import TfidfVectorizer\\nimport lightgbm as lgb\\nimport tqdm\\nimport matplotlib.pyplot as plt\\nimport glob\\nimport re\\nimport statistics\\nimport numpy as np\\nimport pydot\\nimport pickle\\nimport seaborn as sns\\nimport plotly as py\\nimport matplotlib as mpl\\nimport bokeh\\nimport altair as alt\\nfrom openpyxl import load_workbook\\nimport sys\\nimport nltk\\nfrom sklearn import svm\\nimport sklearn\\nimport gensim\\nimport xgboost as xgb\\nimport spacy\\nfrom sklearn.model_selection import train_test_split\\nimport plotly.express as px\\nimport pandas as pd'); }\n",
              "    "
            ],
            "text/plain": [
              "<IPython.core.display.Javascript object>"
            ]
          },
          "metadata": {
            "tags": []
          }
        },
        {
          "output_type": "display_data",
          "data": {
            "application/javascript": [
              "\n",
              "        if (window._pyforest_update_imports_cell) { window._pyforest_update_imports_cell('import plotly.graph_objs as go\\nfrom sklearn.manifold import TSNE\\nimport tensorflow as tf\\nfrom sklearn.feature_extraction.text import TfidfVectorizer\\nimport lightgbm as lgb\\nimport tqdm\\nimport matplotlib.pyplot as plt\\nimport glob\\nimport re\\nimport statistics\\nimport numpy as np\\nimport pydot\\nimport pickle\\nimport seaborn as sns\\nimport plotly as py\\nimport matplotlib as mpl\\nimport bokeh\\nimport altair as alt\\nfrom openpyxl import load_workbook\\nimport sys\\nimport nltk\\nfrom sklearn import svm\\nimport sklearn\\nimport gensim\\nimport xgboost as xgb\\nimport spacy\\nfrom sklearn.model_selection import train_test_split\\nimport plotly.express as px\\nimport pandas as pd'); }\n",
              "    "
            ],
            "text/plain": [
              "<IPython.core.display.Javascript object>"
            ]
          },
          "metadata": {
            "tags": []
          }
        },
        {
          "output_type": "display_data",
          "data": {
            "application/javascript": [
              "\n",
              "        if (window._pyforest_update_imports_cell) { window._pyforest_update_imports_cell('import plotly.graph_objs as go\\nfrom sklearn.manifold import TSNE\\nimport tensorflow as tf\\nfrom sklearn.feature_extraction.text import TfidfVectorizer\\nimport lightgbm as lgb\\nimport tqdm\\nimport matplotlib.pyplot as plt\\nimport glob\\nimport re\\nimport statistics\\nimport numpy as np\\nimport pydot\\nimport pickle\\nimport seaborn as sns\\nimport plotly as py\\nimport matplotlib as mpl\\nimport bokeh\\nimport altair as alt\\nfrom openpyxl import load_workbook\\nimport sys\\nimport nltk\\nfrom sklearn import svm\\nimport sklearn\\nimport gensim\\nimport xgboost as xgb\\nimport spacy\\nfrom sklearn.model_selection import train_test_split\\nimport plotly.express as px\\nimport pandas as pd'); }\n",
              "    "
            ],
            "text/plain": [
              "<IPython.core.display.Javascript object>"
            ]
          },
          "metadata": {
            "tags": []
          }
        },
        {
          "output_type": "display_data",
          "data": {
            "application/javascript": [
              "\n",
              "        if (window._pyforest_update_imports_cell) { window._pyforest_update_imports_cell('import plotly.graph_objs as go\\nfrom sklearn.manifold import TSNE\\nimport tensorflow as tf\\nfrom sklearn.feature_extraction.text import TfidfVectorizer\\nimport lightgbm as lgb\\nimport tqdm\\nimport matplotlib.pyplot as plt\\nimport glob\\nimport re\\nimport statistics\\nimport numpy as np\\nimport pydot\\nimport pickle\\nimport seaborn as sns\\nimport plotly as py\\nimport matplotlib as mpl\\nimport bokeh\\nimport altair as alt\\nfrom openpyxl import load_workbook\\nimport sys\\nimport nltk\\nfrom sklearn import svm\\nimport sklearn\\nimport gensim\\nimport xgboost as xgb\\nimport spacy\\nfrom sklearn.model_selection import train_test_split\\nimport plotly.express as px\\nimport pandas as pd'); }\n",
              "    "
            ],
            "text/plain": [
              "<IPython.core.display.Javascript object>"
            ]
          },
          "metadata": {
            "tags": []
          }
        },
        {
          "output_type": "display_data",
          "data": {
            "application/javascript": [
              "\n",
              "        if (window._pyforest_update_imports_cell) { window._pyforest_update_imports_cell('import plotly.graph_objs as go\\nfrom sklearn.manifold import TSNE\\nimport tensorflow as tf\\nfrom sklearn.feature_extraction.text import TfidfVectorizer\\nimport lightgbm as lgb\\nimport tqdm\\nimport matplotlib.pyplot as plt\\nimport glob\\nimport re\\nimport statistics\\nimport numpy as np\\nimport pydot\\nimport pickle\\nimport seaborn as sns\\nimport plotly as py\\nimport matplotlib as mpl\\nimport bokeh\\nimport altair as alt\\nfrom openpyxl import load_workbook\\nimport sys\\nimport nltk\\nfrom sklearn import svm\\nimport sklearn\\nimport gensim\\nimport xgboost as xgb\\nimport spacy\\nfrom sklearn.model_selection import train_test_split\\nimport plotly.express as px\\nimport pandas as pd'); }\n",
              "    "
            ],
            "text/plain": [
              "<IPython.core.display.Javascript object>"
            ]
          },
          "metadata": {
            "tags": []
          }
        },
        {
          "output_type": "display_data",
          "data": {
            "application/javascript": [
              "\n",
              "        if (window._pyforest_update_imports_cell) { window._pyforest_update_imports_cell('import plotly.graph_objs as go\\nfrom sklearn.manifold import TSNE\\nimport tensorflow as tf\\nfrom sklearn.feature_extraction.text import TfidfVectorizer\\nimport lightgbm as lgb\\nimport tqdm\\nimport matplotlib.pyplot as plt\\nimport glob\\nimport re\\nimport statistics\\nimport numpy as np\\nimport pydot\\nimport pickle\\nimport seaborn as sns\\nimport plotly as py\\nimport matplotlib as mpl\\nimport bokeh\\nimport altair as alt\\nfrom openpyxl import load_workbook\\nimport sys\\nimport nltk\\nfrom sklearn import svm\\nimport sklearn\\nimport gensim\\nimport xgboost as xgb\\nimport spacy\\nfrom sklearn.model_selection import train_test_split\\nimport plotly.express as px\\nimport pandas as pd'); }\n",
              "    "
            ],
            "text/plain": [
              "<IPython.core.display.Javascript object>"
            ]
          },
          "metadata": {
            "tags": []
          }
        },
        {
          "output_type": "display_data",
          "data": {
            "application/javascript": [
              "\n",
              "        if (window._pyforest_update_imports_cell) { window._pyforest_update_imports_cell('import plotly.graph_objs as go\\nfrom sklearn.manifold import TSNE\\nimport tensorflow as tf\\nfrom sklearn.feature_extraction.text import TfidfVectorizer\\nimport lightgbm as lgb\\nimport tqdm\\nimport matplotlib.pyplot as plt\\nimport glob\\nimport re\\nimport statistics\\nimport numpy as np\\nimport pydot\\nimport pickle\\nimport seaborn as sns\\nimport plotly as py\\nimport matplotlib as mpl\\nimport bokeh\\nimport altair as alt\\nfrom openpyxl import load_workbook\\nimport sys\\nimport nltk\\nfrom sklearn import svm\\nimport sklearn\\nimport gensim\\nimport xgboost as xgb\\nimport spacy\\nfrom sklearn.model_selection import train_test_split\\nimport plotly.express as px\\nimport pandas as pd'); }\n",
              "    "
            ],
            "text/plain": [
              "<IPython.core.display.Javascript object>"
            ]
          },
          "metadata": {
            "tags": []
          }
        },
        {
          "output_type": "display_data",
          "data": {
            "application/javascript": [
              "\n",
              "        if (window._pyforest_update_imports_cell) { window._pyforest_update_imports_cell('import plotly.graph_objs as go\\nfrom sklearn.manifold import TSNE\\nimport tensorflow as tf\\nfrom sklearn.feature_extraction.text import TfidfVectorizer\\nimport lightgbm as lgb\\nimport tqdm\\nimport matplotlib.pyplot as plt\\nimport glob\\nimport re\\nimport statistics\\nimport numpy as np\\nimport pydot\\nimport pickle\\nimport seaborn as sns\\nimport plotly as py\\nimport matplotlib as mpl\\nimport bokeh\\nimport altair as alt\\nfrom openpyxl import load_workbook\\nimport sys\\nimport nltk\\nfrom sklearn import svm\\nimport sklearn\\nimport gensim\\nimport xgboost as xgb\\nimport spacy\\nfrom sklearn.model_selection import train_test_split\\nimport plotly.express as px\\nimport pandas as pd'); }\n",
              "    "
            ],
            "text/plain": [
              "<IPython.core.display.Javascript object>"
            ]
          },
          "metadata": {
            "tags": []
          }
        },
        {
          "output_type": "display_data",
          "data": {
            "application/javascript": [
              "\n",
              "        if (window._pyforest_update_imports_cell) { window._pyforest_update_imports_cell('import plotly.graph_objs as go\\nfrom sklearn.manifold import TSNE\\nimport tensorflow as tf\\nfrom sklearn.feature_extraction.text import TfidfVectorizer\\nimport lightgbm as lgb\\nimport tqdm\\nimport matplotlib.pyplot as plt\\nimport glob\\nimport re\\nimport statistics\\nimport numpy as np\\nimport pydot\\nimport pickle\\nimport seaborn as sns\\nimport plotly as py\\nimport matplotlib as mpl\\nimport bokeh\\nimport altair as alt\\nfrom openpyxl import load_workbook\\nimport sys\\nimport nltk\\nfrom sklearn import svm\\nimport sklearn\\nimport gensim\\nimport xgboost as xgb\\nimport spacy\\nfrom sklearn.model_selection import train_test_split\\nimport plotly.express as px\\nimport pandas as pd'); }\n",
              "    "
            ],
            "text/plain": [
              "<IPython.core.display.Javascript object>"
            ]
          },
          "metadata": {
            "tags": []
          }
        },
        {
          "output_type": "display_data",
          "data": {
            "application/javascript": [
              "\n",
              "        if (window._pyforest_update_imports_cell) { window._pyforest_update_imports_cell('import plotly.graph_objs as go\\nfrom sklearn.manifold import TSNE\\nimport tensorflow as tf\\nfrom sklearn.feature_extraction.text import TfidfVectorizer\\nimport lightgbm as lgb\\nimport tqdm\\nimport matplotlib.pyplot as plt\\nimport glob\\nimport re\\nimport statistics\\nimport numpy as np\\nimport pydot\\nimport pickle\\nimport seaborn as sns\\nimport plotly as py\\nimport matplotlib as mpl\\nimport bokeh\\nimport altair as alt\\nfrom openpyxl import load_workbook\\nimport sys\\nimport nltk\\nfrom sklearn import svm\\nimport sklearn\\nimport gensim\\nimport xgboost as xgb\\nimport spacy\\nfrom sklearn.model_selection import train_test_split\\nimport plotly.express as px\\nimport pandas as pd'); }\n",
              "    "
            ],
            "text/plain": [
              "<IPython.core.display.Javascript object>"
            ]
          },
          "metadata": {
            "tags": []
          }
        },
        {
          "output_type": "display_data",
          "data": {
            "application/javascript": [
              "\n",
              "        if (window._pyforest_update_imports_cell) { window._pyforest_update_imports_cell('import plotly.graph_objs as go\\nfrom sklearn.manifold import TSNE\\nimport tensorflow as tf\\nfrom sklearn.feature_extraction.text import TfidfVectorizer\\nimport lightgbm as lgb\\nimport tqdm\\nimport matplotlib.pyplot as plt\\nimport glob\\nimport re\\nimport statistics\\nimport numpy as np\\nimport pydot\\nimport pickle\\nimport seaborn as sns\\nimport plotly as py\\nimport matplotlib as mpl\\nimport bokeh\\nimport altair as alt\\nfrom openpyxl import load_workbook\\nimport sys\\nimport nltk\\nfrom sklearn import svm\\nimport sklearn\\nimport gensim\\nimport xgboost as xgb\\nimport spacy\\nfrom sklearn.model_selection import train_test_split\\nimport plotly.express as px\\nimport pandas as pd'); }\n",
              "    "
            ],
            "text/plain": [
              "<IPython.core.display.Javascript object>"
            ]
          },
          "metadata": {
            "tags": []
          }
        },
        {
          "output_type": "display_data",
          "data": {
            "application/javascript": [
              "\n",
              "        if (window._pyforest_update_imports_cell) { window._pyforest_update_imports_cell('import plotly.graph_objs as go\\nfrom sklearn.manifold import TSNE\\nimport tensorflow as tf\\nfrom sklearn.feature_extraction.text import TfidfVectorizer\\nimport lightgbm as lgb\\nimport tqdm\\nimport matplotlib.pyplot as plt\\nimport glob\\nimport re\\nimport statistics\\nimport numpy as np\\nimport pydot\\nimport pickle\\nimport seaborn as sns\\nimport plotly as py\\nimport matplotlib as mpl\\nimport bokeh\\nimport altair as alt\\nfrom openpyxl import load_workbook\\nimport sys\\nimport nltk\\nfrom sklearn import svm\\nimport sklearn\\nimport gensim\\nimport xgboost as xgb\\nimport spacy\\nfrom sklearn.model_selection import train_test_split\\nimport plotly.express as px\\nimport pandas as pd'); }\n",
              "    "
            ],
            "text/plain": [
              "<IPython.core.display.Javascript object>"
            ]
          },
          "metadata": {
            "tags": []
          }
        },
        {
          "output_type": "display_data",
          "data": {
            "application/javascript": [
              "\n",
              "        if (window._pyforest_update_imports_cell) { window._pyforest_update_imports_cell('import plotly.graph_objs as go\\nfrom sklearn.manifold import TSNE\\nimport tensorflow as tf\\nfrom sklearn.feature_extraction.text import TfidfVectorizer\\nimport lightgbm as lgb\\nimport tqdm\\nimport matplotlib.pyplot as plt\\nimport glob\\nimport re\\nimport statistics\\nimport numpy as np\\nimport pydot\\nimport pickle\\nimport seaborn as sns\\nimport plotly as py\\nimport matplotlib as mpl\\nimport bokeh\\nimport altair as alt\\nfrom openpyxl import load_workbook\\nimport sys\\nimport nltk\\nfrom sklearn import svm\\nimport sklearn\\nimport gensim\\nimport xgboost as xgb\\nimport spacy\\nfrom sklearn.model_selection import train_test_split\\nimport plotly.express as px\\nimport pandas as pd'); }\n",
              "    "
            ],
            "text/plain": [
              "<IPython.core.display.Javascript object>"
            ]
          },
          "metadata": {
            "tags": []
          }
        },
        {
          "output_type": "display_data",
          "data": {
            "application/javascript": [
              "\n",
              "        if (window._pyforest_update_imports_cell) { window._pyforest_update_imports_cell('import plotly.graph_objs as go\\nfrom sklearn.manifold import TSNE\\nimport tensorflow as tf\\nfrom sklearn.feature_extraction.text import TfidfVectorizer\\nimport lightgbm as lgb\\nimport tqdm\\nimport matplotlib.pyplot as plt\\nimport glob\\nimport re\\nimport statistics\\nimport numpy as np\\nimport pydot\\nimport pickle\\nimport seaborn as sns\\nimport plotly as py\\nimport matplotlib as mpl\\nimport bokeh\\nimport altair as alt\\nfrom openpyxl import load_workbook\\nimport sys\\nimport nltk\\nfrom sklearn import svm\\nimport sklearn\\nimport gensim\\nimport xgboost as xgb\\nimport spacy\\nfrom sklearn.model_selection import train_test_split\\nimport plotly.express as px\\nimport pandas as pd'); }\n",
              "    "
            ],
            "text/plain": [
              "<IPython.core.display.Javascript object>"
            ]
          },
          "metadata": {
            "tags": []
          }
        },
        {
          "output_type": "display_data",
          "data": {
            "application/javascript": [
              "\n",
              "        if (window._pyforest_update_imports_cell) { window._pyforest_update_imports_cell('import plotly.graph_objs as go\\nfrom sklearn.manifold import TSNE\\nimport tensorflow as tf\\nfrom sklearn.feature_extraction.text import TfidfVectorizer\\nimport lightgbm as lgb\\nimport tqdm\\nimport matplotlib.pyplot as plt\\nimport glob\\nimport re\\nimport statistics\\nimport numpy as np\\nimport pydot\\nimport pickle\\nimport seaborn as sns\\nimport plotly as py\\nimport matplotlib as mpl\\nimport bokeh\\nimport altair as alt\\nfrom openpyxl import load_workbook\\nimport sys\\nimport nltk\\nfrom sklearn import svm\\nimport sklearn\\nimport gensim\\nimport xgboost as xgb\\nimport spacy\\nfrom sklearn.model_selection import train_test_split\\nimport plotly.express as px\\nimport pandas as pd'); }\n",
              "    "
            ],
            "text/plain": [
              "<IPython.core.display.Javascript object>"
            ]
          },
          "metadata": {
            "tags": []
          }
        },
        {
          "output_type": "display_data",
          "data": {
            "application/javascript": [
              "\n",
              "        if (window._pyforest_update_imports_cell) { window._pyforest_update_imports_cell('import plotly.graph_objs as go\\nfrom sklearn.manifold import TSNE\\nimport tensorflow as tf\\nfrom sklearn.feature_extraction.text import TfidfVectorizer\\nimport lightgbm as lgb\\nimport tqdm\\nimport matplotlib.pyplot as plt\\nimport glob\\nimport re\\nimport statistics\\nimport numpy as np\\nimport pydot\\nimport pickle\\nimport seaborn as sns\\nimport plotly as py\\nimport matplotlib as mpl\\nimport bokeh\\nimport altair as alt\\nfrom openpyxl import load_workbook\\nimport sys\\nimport nltk\\nfrom sklearn import svm\\nimport sklearn\\nimport gensim\\nimport xgboost as xgb\\nimport spacy\\nfrom sklearn.model_selection import train_test_split\\nimport plotly.express as px\\nimport pandas as pd'); }\n",
              "    "
            ],
            "text/plain": [
              "<IPython.core.display.Javascript object>"
            ]
          },
          "metadata": {
            "tags": []
          }
        },
        {
          "output_type": "display_data",
          "data": {
            "application/javascript": [
              "\n",
              "        if (window._pyforest_update_imports_cell) { window._pyforest_update_imports_cell('import plotly.graph_objs as go\\nfrom sklearn.manifold import TSNE\\nimport tensorflow as tf\\nfrom sklearn.feature_extraction.text import TfidfVectorizer\\nimport lightgbm as lgb\\nimport tqdm\\nimport matplotlib.pyplot as plt\\nimport glob\\nimport re\\nimport statistics\\nimport numpy as np\\nimport pydot\\nimport pickle\\nimport seaborn as sns\\nimport plotly as py\\nimport matplotlib as mpl\\nimport bokeh\\nimport altair as alt\\nfrom openpyxl import load_workbook\\nimport sys\\nimport nltk\\nfrom sklearn import svm\\nimport sklearn\\nimport gensim\\nimport xgboost as xgb\\nimport spacy\\nfrom sklearn.model_selection import train_test_split\\nimport plotly.express as px\\nimport pandas as pd'); }\n",
              "    "
            ],
            "text/plain": [
              "<IPython.core.display.Javascript object>"
            ]
          },
          "metadata": {
            "tags": []
          }
        },
        {
          "output_type": "display_data",
          "data": {
            "application/javascript": [
              "\n",
              "        if (window._pyforest_update_imports_cell) { window._pyforest_update_imports_cell('import plotly.graph_objs as go\\nfrom sklearn.manifold import TSNE\\nimport tensorflow as tf\\nfrom sklearn.feature_extraction.text import TfidfVectorizer\\nimport lightgbm as lgb\\nimport tqdm\\nimport matplotlib.pyplot as plt\\nimport glob\\nimport re\\nimport statistics\\nimport numpy as np\\nimport pydot\\nimport pickle\\nimport seaborn as sns\\nimport plotly as py\\nimport matplotlib as mpl\\nimport bokeh\\nimport altair as alt\\nfrom openpyxl import load_workbook\\nimport sys\\nimport nltk\\nfrom sklearn import svm\\nimport sklearn\\nimport gensim\\nimport xgboost as xgb\\nimport spacy\\nfrom sklearn.model_selection import train_test_split\\nimport plotly.express as px\\nimport pandas as pd'); }\n",
              "    "
            ],
            "text/plain": [
              "<IPython.core.display.Javascript object>"
            ]
          },
          "metadata": {
            "tags": []
          }
        },
        {
          "output_type": "display_data",
          "data": {
            "application/javascript": [
              "\n",
              "        if (window._pyforest_update_imports_cell) { window._pyforest_update_imports_cell('import plotly.graph_objs as go\\nfrom sklearn.manifold import TSNE\\nimport tensorflow as tf\\nfrom sklearn.feature_extraction.text import TfidfVectorizer\\nimport lightgbm as lgb\\nimport tqdm\\nimport matplotlib.pyplot as plt\\nimport glob\\nimport re\\nimport statistics\\nimport numpy as np\\nimport pydot\\nimport pickle\\nimport seaborn as sns\\nimport plotly as py\\nimport matplotlib as mpl\\nimport bokeh\\nimport altair as alt\\nfrom openpyxl import load_workbook\\nimport sys\\nimport nltk\\nfrom sklearn import svm\\nimport sklearn\\nimport gensim\\nimport xgboost as xgb\\nimport spacy\\nfrom sklearn.model_selection import train_test_split\\nimport plotly.express as px\\nimport pandas as pd'); }\n",
              "    "
            ],
            "text/plain": [
              "<IPython.core.display.Javascript object>"
            ]
          },
          "metadata": {
            "tags": []
          }
        },
        {
          "output_type": "display_data",
          "data": {
            "application/javascript": [
              "\n",
              "        if (window._pyforest_update_imports_cell) { window._pyforest_update_imports_cell('import plotly.graph_objs as go\\nfrom sklearn.manifold import TSNE\\nimport tensorflow as tf\\nfrom sklearn.feature_extraction.text import TfidfVectorizer\\nimport lightgbm as lgb\\nimport tqdm\\nimport matplotlib.pyplot as plt\\nimport glob\\nimport re\\nimport statistics\\nimport numpy as np\\nimport pydot\\nimport pickle\\nimport seaborn as sns\\nimport plotly as py\\nimport matplotlib as mpl\\nimport bokeh\\nimport altair as alt\\nfrom openpyxl import load_workbook\\nimport sys\\nimport nltk\\nfrom sklearn import svm\\nimport sklearn\\nimport gensim\\nimport xgboost as xgb\\nimport spacy\\nfrom sklearn.model_selection import train_test_split\\nimport plotly.express as px\\nimport pandas as pd'); }\n",
              "    "
            ],
            "text/plain": [
              "<IPython.core.display.Javascript object>"
            ]
          },
          "metadata": {
            "tags": []
          }
        },
        {
          "output_type": "display_data",
          "data": {
            "application/javascript": [
              "\n",
              "        if (window._pyforest_update_imports_cell) { window._pyforest_update_imports_cell('import plotly.graph_objs as go\\nfrom sklearn.manifold import TSNE\\nimport tensorflow as tf\\nfrom sklearn.feature_extraction.text import TfidfVectorizer\\nimport lightgbm as lgb\\nimport tqdm\\nimport matplotlib.pyplot as plt\\nimport glob\\nimport re\\nimport statistics\\nimport numpy as np\\nimport pydot\\nimport pickle\\nimport seaborn as sns\\nimport plotly as py\\nimport matplotlib as mpl\\nimport bokeh\\nimport altair as alt\\nfrom openpyxl import load_workbook\\nimport sys\\nimport nltk\\nfrom sklearn import svm\\nimport sklearn\\nimport gensim\\nimport xgboost as xgb\\nimport spacy\\nfrom sklearn.model_selection import train_test_split\\nimport plotly.express as px\\nimport pandas as pd'); }\n",
              "    "
            ],
            "text/plain": [
              "<IPython.core.display.Javascript object>"
            ]
          },
          "metadata": {
            "tags": []
          }
        },
        {
          "output_type": "display_data",
          "data": {
            "application/javascript": [
              "\n",
              "        if (window._pyforest_update_imports_cell) { window._pyforest_update_imports_cell('import plotly.graph_objs as go\\nfrom sklearn.manifold import TSNE\\nimport tensorflow as tf\\nfrom sklearn.feature_extraction.text import TfidfVectorizer\\nimport lightgbm as lgb\\nimport tqdm\\nimport matplotlib.pyplot as plt\\nimport glob\\nimport re\\nimport statistics\\nimport numpy as np\\nimport pydot\\nimport pickle\\nimport seaborn as sns\\nimport plotly as py\\nimport matplotlib as mpl\\nimport bokeh\\nimport altair as alt\\nfrom openpyxl import load_workbook\\nimport sys\\nimport nltk\\nfrom sklearn import svm\\nimport sklearn\\nimport gensim\\nimport xgboost as xgb\\nimport spacy\\nfrom sklearn.model_selection import train_test_split\\nimport plotly.express as px\\nimport pandas as pd'); }\n",
              "    "
            ],
            "text/plain": [
              "<IPython.core.display.Javascript object>"
            ]
          },
          "metadata": {
            "tags": []
          }
        },
        {
          "output_type": "display_data",
          "data": {
            "application/javascript": [
              "\n",
              "        if (window._pyforest_update_imports_cell) { window._pyforest_update_imports_cell('import plotly.graph_objs as go\\nfrom sklearn.manifold import TSNE\\nimport tensorflow as tf\\nfrom sklearn.feature_extraction.text import TfidfVectorizer\\nimport lightgbm as lgb\\nimport tqdm\\nimport matplotlib.pyplot as plt\\nimport glob\\nimport re\\nimport statistics\\nimport numpy as np\\nimport pydot\\nimport pickle\\nimport seaborn as sns\\nimport plotly as py\\nimport matplotlib as mpl\\nimport bokeh\\nimport altair as alt\\nfrom openpyxl import load_workbook\\nimport sys\\nimport nltk\\nfrom sklearn import svm\\nimport sklearn\\nimport gensim\\nimport xgboost as xgb\\nimport spacy\\nfrom sklearn.model_selection import train_test_split\\nimport plotly.express as px\\nimport pandas as pd'); }\n",
              "    "
            ],
            "text/plain": [
              "<IPython.core.display.Javascript object>"
            ]
          },
          "metadata": {
            "tags": []
          }
        },
        {
          "output_type": "display_data",
          "data": {
            "application/javascript": [
              "\n",
              "        if (window._pyforest_update_imports_cell) { window._pyforest_update_imports_cell('import plotly.graph_objs as go\\nfrom sklearn.manifold import TSNE\\nimport tensorflow as tf\\nfrom sklearn.feature_extraction.text import TfidfVectorizer\\nimport lightgbm as lgb\\nimport tqdm\\nimport matplotlib.pyplot as plt\\nimport glob\\nimport re\\nimport statistics\\nimport numpy as np\\nimport pydot\\nimport pickle\\nimport seaborn as sns\\nimport plotly as py\\nimport matplotlib as mpl\\nimport bokeh\\nimport altair as alt\\nfrom openpyxl import load_workbook\\nimport sys\\nimport nltk\\nfrom sklearn import svm\\nimport sklearn\\nimport gensim\\nimport xgboost as xgb\\nimport spacy\\nfrom sklearn.model_selection import train_test_split\\nimport plotly.express as px\\nimport pandas as pd'); }\n",
              "    "
            ],
            "text/plain": [
              "<IPython.core.display.Javascript object>"
            ]
          },
          "metadata": {
            "tags": []
          }
        },
        {
          "output_type": "display_data",
          "data": {
            "application/javascript": [
              "\n",
              "        if (window._pyforest_update_imports_cell) { window._pyforest_update_imports_cell('import plotly.graph_objs as go\\nfrom sklearn.manifold import TSNE\\nimport tensorflow as tf\\nfrom sklearn.feature_extraction.text import TfidfVectorizer\\nimport lightgbm as lgb\\nimport tqdm\\nimport matplotlib.pyplot as plt\\nimport glob\\nimport re\\nimport statistics\\nimport numpy as np\\nimport pydot\\nimport pickle\\nimport seaborn as sns\\nimport plotly as py\\nimport matplotlib as mpl\\nimport bokeh\\nimport altair as alt\\nfrom openpyxl import load_workbook\\nimport sys\\nimport nltk\\nfrom sklearn import svm\\nimport sklearn\\nimport gensim\\nimport xgboost as xgb\\nimport spacy\\nfrom sklearn.model_selection import train_test_split\\nimport plotly.express as px\\nimport pandas as pd'); }\n",
              "    "
            ],
            "text/plain": [
              "<IPython.core.display.Javascript object>"
            ]
          },
          "metadata": {
            "tags": []
          }
        },
        {
          "output_type": "display_data",
          "data": {
            "application/javascript": [
              "\n",
              "        if (window._pyforest_update_imports_cell) { window._pyforest_update_imports_cell('import plotly.graph_objs as go\\nfrom sklearn.manifold import TSNE\\nimport tensorflow as tf\\nfrom sklearn.feature_extraction.text import TfidfVectorizer\\nimport lightgbm as lgb\\nimport tqdm\\nimport matplotlib.pyplot as plt\\nimport glob\\nimport re\\nimport statistics\\nimport numpy as np\\nimport pydot\\nimport pickle\\nimport seaborn as sns\\nimport plotly as py\\nimport matplotlib as mpl\\nimport bokeh\\nimport altair as alt\\nfrom openpyxl import load_workbook\\nimport sys\\nimport nltk\\nfrom sklearn import svm\\nimport sklearn\\nimport gensim\\nimport xgboost as xgb\\nimport spacy\\nfrom sklearn.model_selection import train_test_split\\nimport plotly.express as px\\nimport pandas as pd'); }\n",
              "    "
            ],
            "text/plain": [
              "<IPython.core.display.Javascript object>"
            ]
          },
          "metadata": {
            "tags": []
          }
        },
        {
          "output_type": "display_data",
          "data": {
            "application/javascript": [
              "\n",
              "        if (window._pyforest_update_imports_cell) { window._pyforest_update_imports_cell('import plotly.graph_objs as go\\nfrom sklearn.manifold import TSNE\\nimport tensorflow as tf\\nfrom sklearn.feature_extraction.text import TfidfVectorizer\\nimport lightgbm as lgb\\nimport tqdm\\nimport matplotlib.pyplot as plt\\nimport glob\\nimport re\\nimport statistics\\nimport numpy as np\\nimport pydot\\nimport pickle\\nimport seaborn as sns\\nimport plotly as py\\nimport matplotlib as mpl\\nimport bokeh\\nimport altair as alt\\nfrom openpyxl import load_workbook\\nimport sys\\nimport nltk\\nfrom sklearn import svm\\nimport sklearn\\nimport gensim\\nimport xgboost as xgb\\nimport spacy\\nfrom sklearn.model_selection import train_test_split\\nimport plotly.express as px\\nimport pandas as pd'); }\n",
              "    "
            ],
            "text/plain": [
              "<IPython.core.display.Javascript object>"
            ]
          },
          "metadata": {
            "tags": []
          }
        },
        {
          "output_type": "display_data",
          "data": {
            "application/javascript": [
              "\n",
              "        if (window._pyforest_update_imports_cell) { window._pyforest_update_imports_cell('import plotly.graph_objs as go\\nfrom sklearn.manifold import TSNE\\nimport tensorflow as tf\\nfrom sklearn.feature_extraction.text import TfidfVectorizer\\nimport lightgbm as lgb\\nimport tqdm\\nimport matplotlib.pyplot as plt\\nimport glob\\nimport re\\nimport statistics\\nimport numpy as np\\nimport pydot\\nimport pickle\\nimport seaborn as sns\\nimport plotly as py\\nimport matplotlib as mpl\\nimport bokeh\\nimport altair as alt\\nfrom openpyxl import load_workbook\\nimport sys\\nimport nltk\\nfrom sklearn import svm\\nimport sklearn\\nimport gensim\\nimport xgboost as xgb\\nimport spacy\\nfrom sklearn.model_selection import train_test_split\\nimport plotly.express as px\\nimport pandas as pd'); }\n",
              "    "
            ],
            "text/plain": [
              "<IPython.core.display.Javascript object>"
            ]
          },
          "metadata": {
            "tags": []
          }
        },
        {
          "output_type": "display_data",
          "data": {
            "application/javascript": [
              "\n",
              "        if (window._pyforest_update_imports_cell) { window._pyforest_update_imports_cell('import plotly.graph_objs as go\\nfrom sklearn.manifold import TSNE\\nimport tensorflow as tf\\nfrom sklearn.feature_extraction.text import TfidfVectorizer\\nimport lightgbm as lgb\\nimport tqdm\\nimport matplotlib.pyplot as plt\\nimport glob\\nimport re\\nimport statistics\\nimport numpy as np\\nimport pydot\\nimport pickle\\nimport seaborn as sns\\nimport plotly as py\\nimport matplotlib as mpl\\nimport bokeh\\nimport altair as alt\\nfrom openpyxl import load_workbook\\nimport sys\\nimport nltk\\nfrom sklearn import svm\\nimport sklearn\\nimport gensim\\nimport xgboost as xgb\\nimport spacy\\nfrom sklearn.model_selection import train_test_split\\nimport plotly.express as px\\nimport pandas as pd'); }\n",
              "    "
            ],
            "text/plain": [
              "<IPython.core.display.Javascript object>"
            ]
          },
          "metadata": {
            "tags": []
          }
        },
        {
          "output_type": "display_data",
          "data": {
            "application/javascript": [
              "\n",
              "        if (window._pyforest_update_imports_cell) { window._pyforest_update_imports_cell('import plotly.graph_objs as go\\nfrom sklearn.manifold import TSNE\\nimport tensorflow as tf\\nfrom sklearn.feature_extraction.text import TfidfVectorizer\\nimport lightgbm as lgb\\nimport tqdm\\nimport matplotlib.pyplot as plt\\nimport glob\\nimport re\\nimport statistics\\nimport numpy as np\\nimport pydot\\nimport pickle\\nimport seaborn as sns\\nimport plotly as py\\nimport matplotlib as mpl\\nimport bokeh\\nimport altair as alt\\nfrom openpyxl import load_workbook\\nimport sys\\nimport nltk\\nfrom sklearn import svm\\nimport sklearn\\nimport gensim\\nimport xgboost as xgb\\nimport spacy\\nfrom sklearn.model_selection import train_test_split\\nimport plotly.express as px\\nimport pandas as pd'); }\n",
              "    "
            ],
            "text/plain": [
              "<IPython.core.display.Javascript object>"
            ]
          },
          "metadata": {
            "tags": []
          }
        },
        {
          "output_type": "display_data",
          "data": {
            "application/javascript": [
              "\n",
              "        if (window._pyforest_update_imports_cell) { window._pyforest_update_imports_cell('import plotly.graph_objs as go\\nfrom sklearn.manifold import TSNE\\nimport tensorflow as tf\\nfrom sklearn.feature_extraction.text import TfidfVectorizer\\nimport lightgbm as lgb\\nimport tqdm\\nimport matplotlib.pyplot as plt\\nimport glob\\nimport re\\nimport statistics\\nimport numpy as np\\nimport pydot\\nimport pickle\\nimport seaborn as sns\\nimport plotly as py\\nimport matplotlib as mpl\\nimport bokeh\\nimport altair as alt\\nfrom openpyxl import load_workbook\\nimport sys\\nimport nltk\\nfrom sklearn import svm\\nimport sklearn\\nimport gensim\\nimport xgboost as xgb\\nimport spacy\\nfrom sklearn.model_selection import train_test_split\\nimport plotly.express as px\\nimport pandas as pd'); }\n",
              "    "
            ],
            "text/plain": [
              "<IPython.core.display.Javascript object>"
            ]
          },
          "metadata": {
            "tags": []
          }
        },
        {
          "output_type": "display_data",
          "data": {
            "application/javascript": [
              "\n",
              "        if (window._pyforest_update_imports_cell) { window._pyforest_update_imports_cell('import plotly.graph_objs as go\\nfrom sklearn.manifold import TSNE\\nimport tensorflow as tf\\nfrom sklearn.feature_extraction.text import TfidfVectorizer\\nimport lightgbm as lgb\\nimport tqdm\\nimport matplotlib.pyplot as plt\\nimport glob\\nimport re\\nimport statistics\\nimport numpy as np\\nimport pydot\\nimport pickle\\nimport seaborn as sns\\nimport plotly as py\\nimport matplotlib as mpl\\nimport bokeh\\nimport altair as alt\\nfrom openpyxl import load_workbook\\nimport sys\\nimport nltk\\nfrom sklearn import svm\\nimport sklearn\\nimport gensim\\nimport xgboost as xgb\\nimport spacy\\nfrom sklearn.model_selection import train_test_split\\nimport plotly.express as px\\nimport pandas as pd'); }\n",
              "    "
            ],
            "text/plain": [
              "<IPython.core.display.Javascript object>"
            ]
          },
          "metadata": {
            "tags": []
          }
        },
        {
          "output_type": "display_data",
          "data": {
            "application/javascript": [
              "\n",
              "        if (window._pyforest_update_imports_cell) { window._pyforest_update_imports_cell('import plotly.graph_objs as go\\nfrom sklearn.manifold import TSNE\\nimport tensorflow as tf\\nfrom sklearn.feature_extraction.text import TfidfVectorizer\\nimport lightgbm as lgb\\nimport tqdm\\nimport matplotlib.pyplot as plt\\nimport glob\\nimport re\\nimport statistics\\nimport numpy as np\\nimport pydot\\nimport pickle\\nimport seaborn as sns\\nimport plotly as py\\nimport matplotlib as mpl\\nimport bokeh\\nimport altair as alt\\nfrom openpyxl import load_workbook\\nimport sys\\nimport nltk\\nfrom sklearn import svm\\nimport sklearn\\nimport gensim\\nimport xgboost as xgb\\nimport spacy\\nfrom sklearn.model_selection import train_test_split\\nimport plotly.express as px\\nimport pandas as pd'); }\n",
              "    "
            ],
            "text/plain": [
              "<IPython.core.display.Javascript object>"
            ]
          },
          "metadata": {
            "tags": []
          }
        },
        {
          "output_type": "display_data",
          "data": {
            "application/javascript": [
              "\n",
              "        if (window._pyforest_update_imports_cell) { window._pyforest_update_imports_cell('import plotly.graph_objs as go\\nfrom sklearn.manifold import TSNE\\nimport tensorflow as tf\\nfrom sklearn.feature_extraction.text import TfidfVectorizer\\nimport lightgbm as lgb\\nimport tqdm\\nimport matplotlib.pyplot as plt\\nimport glob\\nimport re\\nimport statistics\\nimport numpy as np\\nimport pydot\\nimport pickle\\nimport seaborn as sns\\nimport plotly as py\\nimport matplotlib as mpl\\nimport bokeh\\nimport altair as alt\\nfrom openpyxl import load_workbook\\nimport sys\\nimport nltk\\nfrom sklearn import svm\\nimport sklearn\\nimport gensim\\nimport xgboost as xgb\\nimport spacy\\nfrom sklearn.model_selection import train_test_split\\nimport plotly.express as px\\nimport pandas as pd'); }\n",
              "    "
            ],
            "text/plain": [
              "<IPython.core.display.Javascript object>"
            ]
          },
          "metadata": {
            "tags": []
          }
        },
        {
          "output_type": "display_data",
          "data": {
            "application/javascript": [
              "\n",
              "        if (window._pyforest_update_imports_cell) { window._pyforest_update_imports_cell('import plotly.graph_objs as go\\nfrom sklearn.manifold import TSNE\\nimport tensorflow as tf\\nfrom sklearn.feature_extraction.text import TfidfVectorizer\\nimport lightgbm as lgb\\nimport tqdm\\nimport matplotlib.pyplot as plt\\nimport glob\\nimport re\\nimport statistics\\nimport numpy as np\\nimport pydot\\nimport pickle\\nimport seaborn as sns\\nimport plotly as py\\nimport matplotlib as mpl\\nimport bokeh\\nimport altair as alt\\nfrom openpyxl import load_workbook\\nimport sys\\nimport nltk\\nfrom sklearn import svm\\nimport sklearn\\nimport gensim\\nimport xgboost as xgb\\nimport spacy\\nfrom sklearn.model_selection import train_test_split\\nimport plotly.express as px\\nimport pandas as pd'); }\n",
              "    "
            ],
            "text/plain": [
              "<IPython.core.display.Javascript object>"
            ]
          },
          "metadata": {
            "tags": []
          }
        },
        {
          "output_type": "display_data",
          "data": {
            "application/javascript": [
              "\n",
              "        if (window._pyforest_update_imports_cell) { window._pyforest_update_imports_cell('import plotly.graph_objs as go\\nfrom sklearn.manifold import TSNE\\nimport tensorflow as tf\\nfrom sklearn.feature_extraction.text import TfidfVectorizer\\nimport lightgbm as lgb\\nimport tqdm\\nimport matplotlib.pyplot as plt\\nimport glob\\nimport re\\nimport statistics\\nimport numpy as np\\nimport pydot\\nimport pickle\\nimport seaborn as sns\\nimport plotly as py\\nimport matplotlib as mpl\\nimport bokeh\\nimport altair as alt\\nfrom openpyxl import load_workbook\\nimport sys\\nimport nltk\\nfrom sklearn import svm\\nimport sklearn\\nimport gensim\\nimport xgboost as xgb\\nimport spacy\\nfrom sklearn.model_selection import train_test_split\\nimport plotly.express as px\\nimport pandas as pd'); }\n",
              "    "
            ],
            "text/plain": [
              "<IPython.core.display.Javascript object>"
            ]
          },
          "metadata": {
            "tags": []
          }
        },
        {
          "output_type": "display_data",
          "data": {
            "application/javascript": [
              "\n",
              "        if (window._pyforest_update_imports_cell) { window._pyforest_update_imports_cell('import plotly.graph_objs as go\\nfrom sklearn.manifold import TSNE\\nimport tensorflow as tf\\nfrom sklearn.feature_extraction.text import TfidfVectorizer\\nimport lightgbm as lgb\\nimport tqdm\\nimport matplotlib.pyplot as plt\\nimport glob\\nimport re\\nimport statistics\\nimport numpy as np\\nimport pydot\\nimport pickle\\nimport seaborn as sns\\nimport plotly as py\\nimport matplotlib as mpl\\nimport bokeh\\nimport altair as alt\\nfrom openpyxl import load_workbook\\nimport sys\\nimport nltk\\nfrom sklearn import svm\\nimport sklearn\\nimport gensim\\nimport xgboost as xgb\\nimport spacy\\nfrom sklearn.model_selection import train_test_split\\nimport plotly.express as px\\nimport pandas as pd'); }\n",
              "    "
            ],
            "text/plain": [
              "<IPython.core.display.Javascript object>"
            ]
          },
          "metadata": {
            "tags": []
          }
        },
        {
          "output_type": "display_data",
          "data": {
            "application/javascript": [
              "\n",
              "        if (window._pyforest_update_imports_cell) { window._pyforest_update_imports_cell('import plotly.graph_objs as go\\nfrom sklearn.manifold import TSNE\\nimport tensorflow as tf\\nfrom sklearn.feature_extraction.text import TfidfVectorizer\\nimport lightgbm as lgb\\nimport tqdm\\nimport matplotlib.pyplot as plt\\nimport glob\\nimport re\\nimport statistics\\nimport numpy as np\\nimport pydot\\nimport pickle\\nimport seaborn as sns\\nimport plotly as py\\nimport matplotlib as mpl\\nimport bokeh\\nimport altair as alt\\nfrom openpyxl import load_workbook\\nimport sys\\nimport nltk\\nfrom sklearn import svm\\nimport sklearn\\nimport gensim\\nimport xgboost as xgb\\nimport spacy\\nfrom sklearn.model_selection import train_test_split\\nimport plotly.express as px\\nimport pandas as pd'); }\n",
              "    "
            ],
            "text/plain": [
              "<IPython.core.display.Javascript object>"
            ]
          },
          "metadata": {
            "tags": []
          }
        },
        {
          "output_type": "display_data",
          "data": {
            "application/javascript": [
              "\n",
              "        if (window._pyforest_update_imports_cell) { window._pyforest_update_imports_cell('import plotly.graph_objs as go\\nfrom sklearn.manifold import TSNE\\nimport tensorflow as tf\\nfrom sklearn.feature_extraction.text import TfidfVectorizer\\nimport lightgbm as lgb\\nimport tqdm\\nimport matplotlib.pyplot as plt\\nimport glob\\nimport re\\nimport statistics\\nimport numpy as np\\nimport pydot\\nimport pickle\\nimport seaborn as sns\\nimport plotly as py\\nimport matplotlib as mpl\\nimport bokeh\\nimport altair as alt\\nfrom openpyxl import load_workbook\\nimport sys\\nimport nltk\\nfrom sklearn import svm\\nimport sklearn\\nimport gensim\\nimport xgboost as xgb\\nimport spacy\\nfrom sklearn.model_selection import train_test_split\\nimport plotly.express as px\\nimport pandas as pd'); }\n",
              "    "
            ],
            "text/plain": [
              "<IPython.core.display.Javascript object>"
            ]
          },
          "metadata": {
            "tags": []
          }
        },
        {
          "output_type": "display_data",
          "data": {
            "application/javascript": [
              "\n",
              "        if (window._pyforest_update_imports_cell) { window._pyforest_update_imports_cell('import plotly.graph_objs as go\\nfrom sklearn.manifold import TSNE\\nimport tensorflow as tf\\nfrom sklearn.feature_extraction.text import TfidfVectorizer\\nimport lightgbm as lgb\\nimport tqdm\\nimport matplotlib.pyplot as plt\\nimport glob\\nimport re\\nimport statistics\\nimport numpy as np\\nimport pydot\\nimport pickle\\nimport seaborn as sns\\nimport plotly as py\\nimport matplotlib as mpl\\nimport bokeh\\nimport altair as alt\\nfrom openpyxl import load_workbook\\nimport sys\\nimport nltk\\nfrom sklearn import svm\\nimport sklearn\\nimport gensim\\nimport xgboost as xgb\\nimport spacy\\nfrom sklearn.model_selection import train_test_split\\nimport plotly.express as px\\nimport pandas as pd'); }\n",
              "    "
            ],
            "text/plain": [
              "<IPython.core.display.Javascript object>"
            ]
          },
          "metadata": {
            "tags": []
          }
        },
        {
          "output_type": "display_data",
          "data": {
            "application/javascript": [
              "\n",
              "        if (window._pyforest_update_imports_cell) { window._pyforest_update_imports_cell('import plotly.graph_objs as go\\nfrom sklearn.manifold import TSNE\\nimport tensorflow as tf\\nfrom sklearn.feature_extraction.text import TfidfVectorizer\\nimport lightgbm as lgb\\nimport tqdm\\nimport matplotlib.pyplot as plt\\nimport glob\\nimport re\\nimport statistics\\nimport numpy as np\\nimport pydot\\nimport pickle\\nimport seaborn as sns\\nimport plotly as py\\nimport matplotlib as mpl\\nimport bokeh\\nimport altair as alt\\nfrom openpyxl import load_workbook\\nimport sys\\nimport nltk\\nfrom sklearn import svm\\nimport sklearn\\nimport gensim\\nimport xgboost as xgb\\nimport spacy\\nfrom sklearn.model_selection import train_test_split\\nimport plotly.express as px\\nimport pandas as pd'); }\n",
              "    "
            ],
            "text/plain": [
              "<IPython.core.display.Javascript object>"
            ]
          },
          "metadata": {
            "tags": []
          }
        },
        {
          "output_type": "display_data",
          "data": {
            "application/javascript": [
              "\n",
              "        if (window._pyforest_update_imports_cell) { window._pyforest_update_imports_cell('import plotly.graph_objs as go\\nfrom sklearn.manifold import TSNE\\nimport tensorflow as tf\\nfrom sklearn.feature_extraction.text import TfidfVectorizer\\nimport lightgbm as lgb\\nimport tqdm\\nimport matplotlib.pyplot as plt\\nimport glob\\nimport re\\nimport statistics\\nimport numpy as np\\nimport pydot\\nimport pickle\\nimport seaborn as sns\\nimport plotly as py\\nimport matplotlib as mpl\\nimport bokeh\\nimport altair as alt\\nfrom openpyxl import load_workbook\\nimport sys\\nimport nltk\\nfrom sklearn import svm\\nimport sklearn\\nimport gensim\\nimport xgboost as xgb\\nimport spacy\\nfrom sklearn.model_selection import train_test_split\\nimport plotly.express as px\\nimport pandas as pd'); }\n",
              "    "
            ],
            "text/plain": [
              "<IPython.core.display.Javascript object>"
            ]
          },
          "metadata": {
            "tags": []
          }
        },
        {
          "output_type": "display_data",
          "data": {
            "application/javascript": [
              "\n",
              "        if (window._pyforest_update_imports_cell) { window._pyforest_update_imports_cell('import plotly.graph_objs as go\\nfrom sklearn.manifold import TSNE\\nimport tensorflow as tf\\nfrom sklearn.feature_extraction.text import TfidfVectorizer\\nimport lightgbm as lgb\\nimport tqdm\\nimport matplotlib.pyplot as plt\\nimport glob\\nimport re\\nimport statistics\\nimport numpy as np\\nimport pydot\\nimport pickle\\nimport seaborn as sns\\nimport plotly as py\\nimport matplotlib as mpl\\nimport bokeh\\nimport altair as alt\\nfrom openpyxl import load_workbook\\nimport sys\\nimport nltk\\nfrom sklearn import svm\\nimport sklearn\\nimport gensim\\nimport xgboost as xgb\\nimport spacy\\nfrom sklearn.model_selection import train_test_split\\nimport plotly.express as px\\nimport pandas as pd'); }\n",
              "    "
            ],
            "text/plain": [
              "<IPython.core.display.Javascript object>"
            ]
          },
          "metadata": {
            "tags": []
          }
        },
        {
          "output_type": "display_data",
          "data": {
            "image/png": "[encoded data removed]",
            "text/plain": [
              "<Figure size 432x288 with 1 Axes>"
            ]
          },
          "metadata": {
            "tags": [],
            "needs_background": "light"
          }
        }
      ]
    },
    {
      "cell_type": "markdown",
      "metadata": {
        "id": "yG1A1XbYsSDB"
      },
      "source": [
        "Avaliação de desempenho variando o parametro estimators."
      ]
    },
    {
      "cell_type": "code",
      "metadata": {
        "colab": {
          "base_uri": "https://localhost:8080/",
          "height": 313,
          "referenced_widgets": [
            "4c929f8ff28d44ec9a64af58297cb685",
            "f07b37bcca6b4e6587745eb331c4fd89",
            "196fe6b204284f31b3b01abd633d160b",
            "04bb3609735c44abb2d6a25649be047d",
            "dfb623f579c149099bd14ca4ce45d52f",
            "d8f08c360eab4270a23923b55ea94189",
            "20d314c378bb4eb295f4ddd0e11604e8",
            "f8728ac3789e4ab5842899aab017cffd",
            "e9372f9995934d0792fcb8d322b7e4df",
            "ec916ce9febb442a8baa4ec61ba991c6",
            "b7e5d96c971b4d90a45fd54f5745e567"
          ]
        },
        "id": "MK2_QXsxPBhr",
        "outputId": "e35fa1dd-e611-4a38-d53b-d15c3f5d0ba9"
      },
      "source": [
        "lgbm_estimators(dados_tratados_features, 100, 1001, 100)"
      ],
      "execution_count": null,
      "outputs": [
        {
          "output_type": "display_data",
          "data": {
            "application/vnd.jupyter.widget-view+json": {
              "model_id": "4c929f8ff28d44ec9a64af58297cb685",
              "version_minor": 0,
              "version_major": 2
            },
            "text/plain": [
              "  0%|          | 0/10 [00:00<?, ?it/s]"
            ]
          },
          "metadata": {
            "tags": []
          }
        },
        {
          "output_type": "display_data",
          "data": {
            "application/javascript": [
              "\n",
              "        if (window._pyforest_update_imports_cell) { window._pyforest_update_imports_cell('import plotly.graph_objs as go\\nfrom sklearn.manifold import TSNE\\nimport tensorflow as tf\\nfrom sklearn.feature_extraction.text import TfidfVectorizer\\nimport lightgbm as lgb\\nimport tqdm\\nimport matplotlib.pyplot as plt\\nimport glob\\nimport re\\nimport statistics\\nimport numpy as np\\nimport pydot\\nimport pickle\\nimport seaborn as sns\\nimport plotly as py\\nimport matplotlib as mpl\\nimport bokeh\\nimport altair as alt\\nfrom openpyxl import load_workbook\\nimport sys\\nimport nltk\\nfrom sklearn import svm\\nimport sklearn\\nimport gensim\\nimport xgboost as xgb\\nimport spacy\\nfrom sklearn.model_selection import train_test_split\\nimport plotly.express as px\\nimport pandas as pd'); }\n",
              "    "
            ],
            "text/plain": [
              "<IPython.core.display.Javascript object>"
            ]
          },
          "metadata": {
            "tags": []
          }
        },
        {
          "output_type": "display_data",
          "data": {
            "application/javascript": [
              "\n",
              "        if (window._pyforest_update_imports_cell) { window._pyforest_update_imports_cell('import plotly.graph_objs as go\\nfrom sklearn.manifold import TSNE\\nimport tensorflow as tf\\nfrom sklearn.feature_extraction.text import TfidfVectorizer\\nimport lightgbm as lgb\\nimport tqdm\\nimport matplotlib.pyplot as plt\\nimport glob\\nimport re\\nimport statistics\\nimport numpy as np\\nimport pydot\\nimport pickle\\nimport seaborn as sns\\nimport plotly as py\\nimport matplotlib as mpl\\nimport bokeh\\nimport altair as alt\\nfrom openpyxl import load_workbook\\nimport sys\\nimport nltk\\nfrom sklearn import svm\\nimport sklearn\\nimport gensim\\nimport xgboost as xgb\\nimport spacy\\nfrom sklearn.model_selection import train_test_split\\nimport plotly.express as px\\nimport pandas as pd'); }\n",
              "    "
            ],
            "text/plain": [
              "<IPython.core.display.Javascript object>"
            ]
          },
          "metadata": {
            "tags": []
          }
        },
        {
          "output_type": "display_data",
          "data": {
            "application/javascript": [
              "\n",
              "        if (window._pyforest_update_imports_cell) { window._pyforest_update_imports_cell('import plotly.graph_objs as go\\nfrom sklearn.manifold import TSNE\\nimport tensorflow as tf\\nfrom sklearn.feature_extraction.text import TfidfVectorizer\\nimport lightgbm as lgb\\nimport tqdm\\nimport matplotlib.pyplot as plt\\nimport glob\\nimport re\\nimport statistics\\nimport numpy as np\\nimport pydot\\nimport pickle\\nimport seaborn as sns\\nimport plotly as py\\nimport matplotlib as mpl\\nimport bokeh\\nimport altair as alt\\nfrom openpyxl import load_workbook\\nimport sys\\nimport nltk\\nfrom sklearn import svm\\nimport sklearn\\nimport gensim\\nimport xgboost as xgb\\nimport spacy\\nfrom sklearn.model_selection import train_test_split\\nimport plotly.express as px\\nimport pandas as pd'); }\n",
              "    "
            ],
            "text/plain": [
              "<IPython.core.display.Javascript object>"
            ]
          },
          "metadata": {
            "tags": []
          }
        },
        {
          "output_type": "display_data",
          "data": {
            "application/javascript": [
              "\n",
              "        if (window._pyforest_update_imports_cell) { window._pyforest_update_imports_cell('import plotly.graph_objs as go\\nfrom sklearn.manifold import TSNE\\nimport tensorflow as tf\\nfrom sklearn.feature_extraction.text import TfidfVectorizer\\nimport lightgbm as lgb\\nimport tqdm\\nimport matplotlib.pyplot as plt\\nimport glob\\nimport re\\nimport statistics\\nimport numpy as np\\nimport pydot\\nimport pickle\\nimport seaborn as sns\\nimport plotly as py\\nimport matplotlib as mpl\\nimport bokeh\\nimport altair as alt\\nfrom openpyxl import load_workbook\\nimport sys\\nimport nltk\\nfrom sklearn import svm\\nimport sklearn\\nimport gensim\\nimport xgboost as xgb\\nimport spacy\\nfrom sklearn.model_selection import train_test_split\\nimport plotly.express as px\\nimport pandas as pd'); }\n",
              "    "
            ],
            "text/plain": [
              "<IPython.core.display.Javascript object>"
            ]
          },
          "metadata": {
            "tags": []
          }
        },
        {
          "output_type": "display_data",
          "data": {
            "application/javascript": [
              "\n",
              "        if (window._pyforest_update_imports_cell) { window._pyforest_update_imports_cell('import plotly.graph_objs as go\\nfrom sklearn.manifold import TSNE\\nimport tensorflow as tf\\nfrom sklearn.feature_extraction.text import TfidfVectorizer\\nimport lightgbm as lgb\\nimport tqdm\\nimport matplotlib.pyplot as plt\\nimport glob\\nimport re\\nimport statistics\\nimport numpy as np\\nimport pydot\\nimport pickle\\nimport seaborn as sns\\nimport plotly as py\\nimport matplotlib as mpl\\nimport bokeh\\nimport altair as alt\\nfrom openpyxl import load_workbook\\nimport sys\\nimport nltk\\nfrom sklearn import svm\\nimport sklearn\\nimport gensim\\nimport xgboost as xgb\\nimport spacy\\nfrom sklearn.model_selection import train_test_split\\nimport plotly.express as px\\nimport pandas as pd'); }\n",
              "    "
            ],
            "text/plain": [
              "<IPython.core.display.Javascript object>"
            ]
          },
          "metadata": {
            "tags": []
          }
        },
        {
          "output_type": "display_data",
          "data": {
            "application/javascript": [
              "\n",
              "        if (window._pyforest_update_imports_cell) { window._pyforest_update_imports_cell('import plotly.graph_objs as go\\nfrom sklearn.manifold import TSNE\\nimport tensorflow as tf\\nfrom sklearn.feature_extraction.text import TfidfVectorizer\\nimport lightgbm as lgb\\nimport tqdm\\nimport matplotlib.pyplot as plt\\nimport glob\\nimport re\\nimport statistics\\nimport numpy as np\\nimport pydot\\nimport pickle\\nimport seaborn as sns\\nimport plotly as py\\nimport matplotlib as mpl\\nimport bokeh\\nimport altair as alt\\nfrom openpyxl import load_workbook\\nimport sys\\nimport nltk\\nfrom sklearn import svm\\nimport sklearn\\nimport gensim\\nimport xgboost as xgb\\nimport spacy\\nfrom sklearn.model_selection import train_test_split\\nimport plotly.express as px\\nimport pandas as pd'); }\n",
              "    "
            ],
            "text/plain": [
              "<IPython.core.display.Javascript object>"
            ]
          },
          "metadata": {
            "tags": []
          }
        },
        {
          "output_type": "display_data",
          "data": {
            "application/javascript": [
              "\n",
              "        if (window._pyforest_update_imports_cell) { window._pyforest_update_imports_cell('import plotly.graph_objs as go\\nfrom sklearn.manifold import TSNE\\nimport tensorflow as tf\\nfrom sklearn.feature_extraction.text import TfidfVectorizer\\nimport lightgbm as lgb\\nimport tqdm\\nimport matplotlib.pyplot as plt\\nimport glob\\nimport re\\nimport statistics\\nimport numpy as np\\nimport pydot\\nimport pickle\\nimport seaborn as sns\\nimport plotly as py\\nimport matplotlib as mpl\\nimport bokeh\\nimport altair as alt\\nfrom openpyxl import load_workbook\\nimport sys\\nimport nltk\\nfrom sklearn import svm\\nimport sklearn\\nimport gensim\\nimport xgboost as xgb\\nimport spacy\\nfrom sklearn.model_selection import train_test_split\\nimport plotly.express as px\\nimport pandas as pd'); }\n",
              "    "
            ],
            "text/plain": [
              "<IPython.core.display.Javascript object>"
            ]
          },
          "metadata": {
            "tags": []
          }
        },
        {
          "output_type": "display_data",
          "data": {
            "application/javascript": [
              "\n",
              "        if (window._pyforest_update_imports_cell) { window._pyforest_update_imports_cell('import plotly.graph_objs as go\\nfrom sklearn.manifold import TSNE\\nimport tensorflow as tf\\nfrom sklearn.feature_extraction.text import TfidfVectorizer\\nimport lightgbm as lgb\\nimport tqdm\\nimport matplotlib.pyplot as plt\\nimport glob\\nimport re\\nimport statistics\\nimport numpy as np\\nimport pydot\\nimport pickle\\nimport seaborn as sns\\nimport plotly as py\\nimport matplotlib as mpl\\nimport bokeh\\nimport altair as alt\\nfrom openpyxl import load_workbook\\nimport sys\\nimport nltk\\nfrom sklearn import svm\\nimport sklearn\\nimport gensim\\nimport xgboost as xgb\\nimport spacy\\nfrom sklearn.model_selection import train_test_split\\nimport plotly.express as px\\nimport pandas as pd'); }\n",
              "    "
            ],
            "text/plain": [
              "<IPython.core.display.Javascript object>"
            ]
          },
          "metadata": {
            "tags": []
          }
        },
        {
          "output_type": "display_data",
          "data": {
            "application/javascript": [
              "\n",
              "        if (window._pyforest_update_imports_cell) { window._pyforest_update_imports_cell('import plotly.graph_objs as go\\nfrom sklearn.manifold import TSNE\\nimport tensorflow as tf\\nfrom sklearn.feature_extraction.text import TfidfVectorizer\\nimport lightgbm as lgb\\nimport tqdm\\nimport matplotlib.pyplot as plt\\nimport glob\\nimport re\\nimport statistics\\nimport numpy as np\\nimport pydot\\nimport pickle\\nimport seaborn as sns\\nimport plotly as py\\nimport matplotlib as mpl\\nimport bokeh\\nimport altair as alt\\nfrom openpyxl import load_workbook\\nimport sys\\nimport nltk\\nfrom sklearn import svm\\nimport sklearn\\nimport gensim\\nimport xgboost as xgb\\nimport spacy\\nfrom sklearn.model_selection import train_test_split\\nimport plotly.express as px\\nimport pandas as pd'); }\n",
              "    "
            ],
            "text/plain": [
              "<IPython.core.display.Javascript object>"
            ]
          },
          "metadata": {
            "tags": []
          }
        },
        {
          "output_type": "display_data",
          "data": {
            "application/javascript": [
              "\n",
              "        if (window._pyforest_update_imports_cell) { window._pyforest_update_imports_cell('import plotly.graph_objs as go\\nfrom sklearn.manifold import TSNE\\nimport tensorflow as tf\\nfrom sklearn.feature_extraction.text import TfidfVectorizer\\nimport lightgbm as lgb\\nimport tqdm\\nimport matplotlib.pyplot as plt\\nimport glob\\nimport re\\nimport statistics\\nimport numpy as np\\nimport pydot\\nimport pickle\\nimport seaborn as sns\\nimport plotly as py\\nimport matplotlib as mpl\\nimport bokeh\\nimport altair as alt\\nfrom openpyxl import load_workbook\\nimport sys\\nimport nltk\\nfrom sklearn import svm\\nimport sklearn\\nimport gensim\\nimport xgboost as xgb\\nimport spacy\\nfrom sklearn.model_selection import train_test_split\\nimport plotly.express as px\\nimport pandas as pd'); }\n",
              "    "
            ],
            "text/plain": [
              "<IPython.core.display.Javascript object>"
            ]
          },
          "metadata": {
            "tags": []
          }
        },
        {
          "output_type": "display_data",
          "data": {
            "application/javascript": [
              "\n",
              "        if (window._pyforest_update_imports_cell) { window._pyforest_update_imports_cell('import plotly.graph_objs as go\\nfrom sklearn.manifold import TSNE\\nimport tensorflow as tf\\nfrom sklearn.feature_extraction.text import TfidfVectorizer\\nimport lightgbm as lgb\\nimport tqdm\\nimport matplotlib.pyplot as plt\\nimport glob\\nimport re\\nimport statistics\\nimport numpy as np\\nimport pydot\\nimport pickle\\nimport seaborn as sns\\nimport plotly as py\\nimport matplotlib as mpl\\nimport bokeh\\nimport altair as alt\\nfrom openpyxl import load_workbook\\nimport sys\\nimport nltk\\nfrom sklearn import svm\\nimport sklearn\\nimport gensim\\nimport xgboost as xgb\\nimport spacy\\nfrom sklearn.model_selection import train_test_split\\nimport plotly.express as px\\nimport pandas as pd'); }\n",
              "    "
            ],
            "text/plain": [
              "<IPython.core.display.Javascript object>"
            ]
          },
          "metadata": {
            "tags": []
          }
        },
        {
          "output_type": "display_data",
          "data": {
            "application/javascript": [
              "\n",
              "        if (window._pyforest_update_imports_cell) { window._pyforest_update_imports_cell('import plotly.graph_objs as go\\nfrom sklearn.manifold import TSNE\\nimport tensorflow as tf\\nfrom sklearn.feature_extraction.text import TfidfVectorizer\\nimport lightgbm as lgb\\nimport tqdm\\nimport matplotlib.pyplot as plt\\nimport glob\\nimport re\\nimport statistics\\nimport numpy as np\\nimport pydot\\nimport pickle\\nimport seaborn as sns\\nimport plotly as py\\nimport matplotlib as mpl\\nimport bokeh\\nimport altair as alt\\nfrom openpyxl import load_workbook\\nimport sys\\nimport nltk\\nfrom sklearn import svm\\nimport sklearn\\nimport gensim\\nimport xgboost as xgb\\nimport spacy\\nfrom sklearn.model_selection import train_test_split\\nimport plotly.express as px\\nimport pandas as pd'); }\n",
              "    "
            ],
            "text/plain": [
              "<IPython.core.display.Javascript object>"
            ]
          },
          "metadata": {
            "tags": []
          }
        },
        {
          "output_type": "display_data",
          "data": {
            "application/javascript": [
              "\n",
              "        if (window._pyforest_update_imports_cell) { window._pyforest_update_imports_cell('import plotly.graph_objs as go\\nfrom sklearn.manifold import TSNE\\nimport tensorflow as tf\\nfrom sklearn.feature_extraction.text import TfidfVectorizer\\nimport lightgbm as lgb\\nimport tqdm\\nimport matplotlib.pyplot as plt\\nimport glob\\nimport re\\nimport statistics\\nimport numpy as np\\nimport pydot\\nimport pickle\\nimport seaborn as sns\\nimport plotly as py\\nimport matplotlib as mpl\\nimport bokeh\\nimport altair as alt\\nfrom openpyxl import load_workbook\\nimport sys\\nimport nltk\\nfrom sklearn import svm\\nimport sklearn\\nimport gensim\\nimport xgboost as xgb\\nimport spacy\\nfrom sklearn.model_selection import train_test_split\\nimport plotly.express as px\\nimport pandas as pd'); }\n",
              "    "
            ],
            "text/plain": [
              "<IPython.core.display.Javascript object>"
            ]
          },
          "metadata": {
            "tags": []
          }
        },
        {
          "output_type": "display_data",
          "data": {
            "application/javascript": [
              "\n",
              "        if (window._pyforest_update_imports_cell) { window._pyforest_update_imports_cell('import plotly.graph_objs as go\\nfrom sklearn.manifold import TSNE\\nimport tensorflow as tf\\nfrom sklearn.feature_extraction.text import TfidfVectorizer\\nimport lightgbm as lgb\\nimport tqdm\\nimport matplotlib.pyplot as plt\\nimport glob\\nimport re\\nimport statistics\\nimport numpy as np\\nimport pydot\\nimport pickle\\nimport seaborn as sns\\nimport plotly as py\\nimport matplotlib as mpl\\nimport bokeh\\nimport altair as alt\\nfrom openpyxl import load_workbook\\nimport sys\\nimport nltk\\nfrom sklearn import svm\\nimport sklearn\\nimport gensim\\nimport xgboost as xgb\\nimport spacy\\nfrom sklearn.model_selection import train_test_split\\nimport plotly.express as px\\nimport pandas as pd'); }\n",
              "    "
            ],
            "text/plain": [
              "<IPython.core.display.Javascript object>"
            ]
          },
          "metadata": {
            "tags": []
          }
        },
        {
          "output_type": "display_data",
          "data": {
            "application/javascript": [
              "\n",
              "        if (window._pyforest_update_imports_cell) { window._pyforest_update_imports_cell('import plotly.graph_objs as go\\nfrom sklearn.manifold import TSNE\\nimport tensorflow as tf\\nfrom sklearn.feature_extraction.text import TfidfVectorizer\\nimport lightgbm as lgb\\nimport tqdm\\nimport matplotlib.pyplot as plt\\nimport glob\\nimport re\\nimport statistics\\nimport numpy as np\\nimport pydot\\nimport pickle\\nimport seaborn as sns\\nimport plotly as py\\nimport matplotlib as mpl\\nimport bokeh\\nimport altair as alt\\nfrom openpyxl import load_workbook\\nimport sys\\nimport nltk\\nfrom sklearn import svm\\nimport sklearn\\nimport gensim\\nimport xgboost as xgb\\nimport spacy\\nfrom sklearn.model_selection import train_test_split\\nimport plotly.express as px\\nimport pandas as pd'); }\n",
              "    "
            ],
            "text/plain": [
              "<IPython.core.display.Javascript object>"
            ]
          },
          "metadata": {
            "tags": []
          }
        },
        {
          "output_type": "display_data",
          "data": {
            "application/javascript": [
              "\n",
              "        if (window._pyforest_update_imports_cell) { window._pyforest_update_imports_cell('import plotly.graph_objs as go\\nfrom sklearn.manifold import TSNE\\nimport tensorflow as tf\\nfrom sklearn.feature_extraction.text import TfidfVectorizer\\nimport lightgbm as lgb\\nimport tqdm\\nimport matplotlib.pyplot as plt\\nimport glob\\nimport re\\nimport statistics\\nimport numpy as np\\nimport pydot\\nimport pickle\\nimport seaborn as sns\\nimport plotly as py\\nimport matplotlib as mpl\\nimport bokeh\\nimport altair as alt\\nfrom openpyxl import load_workbook\\nimport sys\\nimport nltk\\nfrom sklearn import svm\\nimport sklearn\\nimport gensim\\nimport xgboost as xgb\\nimport spacy\\nfrom sklearn.model_selection import train_test_split\\nimport plotly.express as px\\nimport pandas as pd'); }\n",
              "    "
            ],
            "text/plain": [
              "<IPython.core.display.Javascript object>"
            ]
          },
          "metadata": {
            "tags": []
          }
        },
        {
          "output_type": "display_data",
          "data": {
            "application/javascript": [
              "\n",
              "        if (window._pyforest_update_imports_cell) { window._pyforest_update_imports_cell('import plotly.graph_objs as go\\nfrom sklearn.manifold import TSNE\\nimport tensorflow as tf\\nfrom sklearn.feature_extraction.text import TfidfVectorizer\\nimport lightgbm as lgb\\nimport tqdm\\nimport matplotlib.pyplot as plt\\nimport glob\\nimport re\\nimport statistics\\nimport numpy as np\\nimport pydot\\nimport pickle\\nimport seaborn as sns\\nimport plotly as py\\nimport matplotlib as mpl\\nimport bokeh\\nimport altair as alt\\nfrom openpyxl import load_workbook\\nimport sys\\nimport nltk\\nfrom sklearn import svm\\nimport sklearn\\nimport gensim\\nimport xgboost as xgb\\nimport spacy\\nfrom sklearn.model_selection import train_test_split\\nimport plotly.express as px\\nimport pandas as pd'); }\n",
              "    "
            ],
            "text/plain": [
              "<IPython.core.display.Javascript object>"
            ]
          },
          "metadata": {
            "tags": []
          }
        },
        {
          "output_type": "display_data",
          "data": {
            "application/javascript": [
              "\n",
              "        if (window._pyforest_update_imports_cell) { window._pyforest_update_imports_cell('import plotly.graph_objs as go\\nfrom sklearn.manifold import TSNE\\nimport tensorflow as tf\\nfrom sklearn.feature_extraction.text import TfidfVectorizer\\nimport lightgbm as lgb\\nimport tqdm\\nimport matplotlib.pyplot as plt\\nimport glob\\nimport re\\nimport statistics\\nimport numpy as np\\nimport pydot\\nimport pickle\\nimport seaborn as sns\\nimport plotly as py\\nimport matplotlib as mpl\\nimport bokeh\\nimport altair as alt\\nfrom openpyxl import load_workbook\\nimport sys\\nimport nltk\\nfrom sklearn import svm\\nimport sklearn\\nimport gensim\\nimport xgboost as xgb\\nimport spacy\\nfrom sklearn.model_selection import train_test_split\\nimport plotly.express as px\\nimport pandas as pd'); }\n",
              "    "
            ],
            "text/plain": [
              "<IPython.core.display.Javascript object>"
            ]
          },
          "metadata": {
            "tags": []
          }
        },
        {
          "output_type": "display_data",
          "data": {
            "application/javascript": [
              "\n",
              "        if (window._pyforest_update_imports_cell) { window._pyforest_update_imports_cell('import plotly.graph_objs as go\\nfrom sklearn.manifold import TSNE\\nimport tensorflow as tf\\nfrom sklearn.feature_extraction.text import TfidfVectorizer\\nimport lightgbm as lgb\\nimport tqdm\\nimport matplotlib.pyplot as plt\\nimport glob\\nimport re\\nimport statistics\\nimport numpy as np\\nimport pydot\\nimport pickle\\nimport seaborn as sns\\nimport plotly as py\\nimport matplotlib as mpl\\nimport bokeh\\nimport altair as alt\\nfrom openpyxl import load_workbook\\nimport sys\\nimport nltk\\nfrom sklearn import svm\\nimport sklearn\\nimport gensim\\nimport xgboost as xgb\\nimport spacy\\nfrom sklearn.model_selection import train_test_split\\nimport plotly.express as px\\nimport pandas as pd'); }\n",
              "    "
            ],
            "text/plain": [
              "<IPython.core.display.Javascript object>"
            ]
          },
          "metadata": {
            "tags": []
          }
        },
        {
          "output_type": "display_data",
          "data": {
            "application/javascript": [
              "\n",
              "        if (window._pyforest_update_imports_cell) { window._pyforest_update_imports_cell('import plotly.graph_objs as go\\nfrom sklearn.manifold import TSNE\\nimport tensorflow as tf\\nfrom sklearn.feature_extraction.text import TfidfVectorizer\\nimport lightgbm as lgb\\nimport tqdm\\nimport matplotlib.pyplot as plt\\nimport glob\\nimport re\\nimport statistics\\nimport numpy as np\\nimport pydot\\nimport pickle\\nimport seaborn as sns\\nimport plotly as py\\nimport matplotlib as mpl\\nimport bokeh\\nimport altair as alt\\nfrom openpyxl import load_workbook\\nimport sys\\nimport nltk\\nfrom sklearn import svm\\nimport sklearn\\nimport gensim\\nimport xgboost as xgb\\nimport spacy\\nfrom sklearn.model_selection import train_test_split\\nimport plotly.express as px\\nimport pandas as pd'); }\n",
              "    "
            ],
            "text/plain": [
              "<IPython.core.display.Javascript object>"
            ]
          },
          "metadata": {
            "tags": []
          }
        },
        {
          "output_type": "display_data",
          "data": {
            "application/javascript": [
              "\n",
              "        if (window._pyforest_update_imports_cell) { window._pyforest_update_imports_cell('import plotly.graph_objs as go\\nfrom sklearn.manifold import TSNE\\nimport tensorflow as tf\\nfrom sklearn.feature_extraction.text import TfidfVectorizer\\nimport lightgbm as lgb\\nimport tqdm\\nimport matplotlib.pyplot as plt\\nimport glob\\nimport re\\nimport statistics\\nimport numpy as np\\nimport pydot\\nimport pickle\\nimport seaborn as sns\\nimport plotly as py\\nimport matplotlib as mpl\\nimport bokeh\\nimport altair as alt\\nfrom openpyxl import load_workbook\\nimport sys\\nimport nltk\\nfrom sklearn import svm\\nimport sklearn\\nimport gensim\\nimport xgboost as xgb\\nimport spacy\\nfrom sklearn.model_selection import train_test_split\\nimport plotly.express as px\\nimport pandas as pd'); }\n",
              "    "
            ],
            "text/plain": [
              "<IPython.core.display.Javascript object>"
            ]
          },
          "metadata": {
            "tags": []
          }
        },
        {
          "output_type": "display_data",
          "data": {
            "application/javascript": [
              "\n",
              "        if (window._pyforest_update_imports_cell) { window._pyforest_update_imports_cell('import plotly.graph_objs as go\\nfrom sklearn.manifold import TSNE\\nimport tensorflow as tf\\nfrom sklearn.feature_extraction.text import TfidfVectorizer\\nimport lightgbm as lgb\\nimport tqdm\\nimport matplotlib.pyplot as plt\\nimport glob\\nimport re\\nimport statistics\\nimport numpy as np\\nimport pydot\\nimport pickle\\nimport seaborn as sns\\nimport plotly as py\\nimport matplotlib as mpl\\nimport bokeh\\nimport altair as alt\\nfrom openpyxl import load_workbook\\nimport sys\\nimport nltk\\nfrom sklearn import svm\\nimport sklearn\\nimport gensim\\nimport xgboost as xgb\\nimport spacy\\nfrom sklearn.model_selection import train_test_split\\nimport plotly.express as px\\nimport pandas as pd'); }\n",
              "    "
            ],
            "text/plain": [
              "<IPython.core.display.Javascript object>"
            ]
          },
          "metadata": {
            "tags": []
          }
        },
        {
          "output_type": "display_data",
          "data": {
            "application/javascript": [
              "\n",
              "        if (window._pyforest_update_imports_cell) { window._pyforest_update_imports_cell('import plotly.graph_objs as go\\nfrom sklearn.manifold import TSNE\\nimport tensorflow as tf\\nfrom sklearn.feature_extraction.text import TfidfVectorizer\\nimport lightgbm as lgb\\nimport tqdm\\nimport matplotlib.pyplot as plt\\nimport glob\\nimport re\\nimport statistics\\nimport numpy as np\\nimport pydot\\nimport pickle\\nimport seaborn as sns\\nimport plotly as py\\nimport matplotlib as mpl\\nimport bokeh\\nimport altair as alt\\nfrom openpyxl import load_workbook\\nimport sys\\nimport nltk\\nfrom sklearn import svm\\nimport sklearn\\nimport gensim\\nimport xgboost as xgb\\nimport spacy\\nfrom sklearn.model_selection import train_test_split\\nimport plotly.express as px\\nimport pandas as pd'); }\n",
              "    "
            ],
            "text/plain": [
              "<IPython.core.display.Javascript object>"
            ]
          },
          "metadata": {
            "tags": []
          }
        },
        {
          "output_type": "display_data",
          "data": {
            "application/javascript": [
              "\n",
              "        if (window._pyforest_update_imports_cell) { window._pyforest_update_imports_cell('import plotly.graph_objs as go\\nfrom sklearn.manifold import TSNE\\nimport tensorflow as tf\\nfrom sklearn.feature_extraction.text import TfidfVectorizer\\nimport lightgbm as lgb\\nimport tqdm\\nimport matplotlib.pyplot as plt\\nimport glob\\nimport re\\nimport statistics\\nimport numpy as np\\nimport pydot\\nimport pickle\\nimport seaborn as sns\\nimport plotly as py\\nimport matplotlib as mpl\\nimport bokeh\\nimport altair as alt\\nfrom openpyxl import load_workbook\\nimport sys\\nimport nltk\\nfrom sklearn import svm\\nimport sklearn\\nimport gensim\\nimport xgboost as xgb\\nimport spacy\\nfrom sklearn.model_selection import train_test_split\\nimport plotly.express as px\\nimport pandas as pd'); }\n",
              "    "
            ],
            "text/plain": [
              "<IPython.core.display.Javascript object>"
            ]
          },
          "metadata": {
            "tags": []
          }
        },
        {
          "output_type": "display_data",
          "data": {
            "application/javascript": [
              "\n",
              "        if (window._pyforest_update_imports_cell) { window._pyforest_update_imports_cell('import plotly.graph_objs as go\\nfrom sklearn.manifold import TSNE\\nimport tensorflow as tf\\nfrom sklearn.feature_extraction.text import TfidfVectorizer\\nimport lightgbm as lgb\\nimport tqdm\\nimport matplotlib.pyplot as plt\\nimport glob\\nimport re\\nimport statistics\\nimport numpy as np\\nimport pydot\\nimport pickle\\nimport seaborn as sns\\nimport plotly as py\\nimport matplotlib as mpl\\nimport bokeh\\nimport altair as alt\\nfrom openpyxl import load_workbook\\nimport sys\\nimport nltk\\nfrom sklearn import svm\\nimport sklearn\\nimport gensim\\nimport xgboost as xgb\\nimport spacy\\nfrom sklearn.model_selection import train_test_split\\nimport plotly.express as px\\nimport pandas as pd'); }\n",
              "    "
            ],
            "text/plain": [
              "<IPython.core.display.Javascript object>"
            ]
          },
          "metadata": {
            "tags": []
          }
        },
        {
          "output_type": "display_data",
          "data": {
            "application/javascript": [
              "\n",
              "        if (window._pyforest_update_imports_cell) { window._pyforest_update_imports_cell('import plotly.graph_objs as go\\nfrom sklearn.manifold import TSNE\\nimport tensorflow as tf\\nfrom sklearn.feature_extraction.text import TfidfVectorizer\\nimport lightgbm as lgb\\nimport tqdm\\nimport matplotlib.pyplot as plt\\nimport glob\\nimport re\\nimport statistics\\nimport numpy as np\\nimport pydot\\nimport pickle\\nimport seaborn as sns\\nimport plotly as py\\nimport matplotlib as mpl\\nimport bokeh\\nimport altair as alt\\nfrom openpyxl import load_workbook\\nimport sys\\nimport nltk\\nfrom sklearn import svm\\nimport sklearn\\nimport gensim\\nimport xgboost as xgb\\nimport spacy\\nfrom sklearn.model_selection import train_test_split\\nimport plotly.express as px\\nimport pandas as pd'); }\n",
              "    "
            ],
            "text/plain": [
              "<IPython.core.display.Javascript object>"
            ]
          },
          "metadata": {
            "tags": []
          }
        },
        {
          "output_type": "display_data",
          "data": {
            "application/javascript": [
              "\n",
              "        if (window._pyforest_update_imports_cell) { window._pyforest_update_imports_cell('import plotly.graph_objs as go\\nfrom sklearn.manifold import TSNE\\nimport tensorflow as tf\\nfrom sklearn.feature_extraction.text import TfidfVectorizer\\nimport lightgbm as lgb\\nimport tqdm\\nimport matplotlib.pyplot as plt\\nimport glob\\nimport re\\nimport statistics\\nimport numpy as np\\nimport pydot\\nimport pickle\\nimport seaborn as sns\\nimport plotly as py\\nimport matplotlib as mpl\\nimport bokeh\\nimport altair as alt\\nfrom openpyxl import load_workbook\\nimport sys\\nimport nltk\\nfrom sklearn import svm\\nimport sklearn\\nimport gensim\\nimport xgboost as xgb\\nimport spacy\\nfrom sklearn.model_selection import train_test_split\\nimport plotly.express as px\\nimport pandas as pd'); }\n",
              "    "
            ],
            "text/plain": [
              "<IPython.core.display.Javascript object>"
            ]
          },
          "metadata": {
            "tags": []
          }
        },
        {
          "output_type": "display_data",
          "data": {
            "application/javascript": [
              "\n",
              "        if (window._pyforest_update_imports_cell) { window._pyforest_update_imports_cell('import plotly.graph_objs as go\\nfrom sklearn.manifold import TSNE\\nimport tensorflow as tf\\nfrom sklearn.feature_extraction.text import TfidfVectorizer\\nimport lightgbm as lgb\\nimport tqdm\\nimport matplotlib.pyplot as plt\\nimport glob\\nimport re\\nimport statistics\\nimport numpy as np\\nimport pydot\\nimport pickle\\nimport seaborn as sns\\nimport plotly as py\\nimport matplotlib as mpl\\nimport bokeh\\nimport altair as alt\\nfrom openpyxl import load_workbook\\nimport sys\\nimport nltk\\nfrom sklearn import svm\\nimport sklearn\\nimport gensim\\nimport xgboost as xgb\\nimport spacy\\nfrom sklearn.model_selection import train_test_split\\nimport plotly.express as px\\nimport pandas as pd'); }\n",
              "    "
            ],
            "text/plain": [
              "<IPython.core.display.Javascript object>"
            ]
          },
          "metadata": {
            "tags": []
          }
        },
        {
          "output_type": "display_data",
          "data": {
            "application/javascript": [
              "\n",
              "        if (window._pyforest_update_imports_cell) { window._pyforest_update_imports_cell('import plotly.graph_objs as go\\nfrom sklearn.manifold import TSNE\\nimport tensorflow as tf\\nfrom sklearn.feature_extraction.text import TfidfVectorizer\\nimport lightgbm as lgb\\nimport tqdm\\nimport matplotlib.pyplot as plt\\nimport glob\\nimport re\\nimport statistics\\nimport numpy as np\\nimport pydot\\nimport pickle\\nimport seaborn as sns\\nimport plotly as py\\nimport matplotlib as mpl\\nimport bokeh\\nimport altair as alt\\nfrom openpyxl import load_workbook\\nimport sys\\nimport nltk\\nfrom sklearn import svm\\nimport sklearn\\nimport gensim\\nimport xgboost as xgb\\nimport spacy\\nfrom sklearn.model_selection import train_test_split\\nimport plotly.express as px\\nimport pandas as pd'); }\n",
              "    "
            ],
            "text/plain": [
              "<IPython.core.display.Javascript object>"
            ]
          },
          "metadata": {
            "tags": []
          }
        },
        {
          "output_type": "display_data",
          "data": {
            "application/javascript": [
              "\n",
              "        if (window._pyforest_update_imports_cell) { window._pyforest_update_imports_cell('import plotly.graph_objs as go\\nfrom sklearn.manifold import TSNE\\nimport tensorflow as tf\\nfrom sklearn.feature_extraction.text import TfidfVectorizer\\nimport lightgbm as lgb\\nimport tqdm\\nimport matplotlib.pyplot as plt\\nimport glob\\nimport re\\nimport statistics\\nimport numpy as np\\nimport pydot\\nimport pickle\\nimport seaborn as sns\\nimport plotly as py\\nimport matplotlib as mpl\\nimport bokeh\\nimport altair as alt\\nfrom openpyxl import load_workbook\\nimport sys\\nimport nltk\\nfrom sklearn import svm\\nimport sklearn\\nimport gensim\\nimport xgboost as xgb\\nimport spacy\\nfrom sklearn.model_selection import train_test_split\\nimport plotly.express as px\\nimport pandas as pd'); }\n",
              "    "
            ],
            "text/plain": [
              "<IPython.core.display.Javascript object>"
            ]
          },
          "metadata": {
            "tags": []
          }
        },
        {
          "output_type": "display_data",
          "data": {
            "application/javascript": [
              "\n",
              "        if (window._pyforest_update_imports_cell) { window._pyforest_update_imports_cell('import plotly.graph_objs as go\\nfrom sklearn.manifold import TSNE\\nimport tensorflow as tf\\nfrom sklearn.feature_extraction.text import TfidfVectorizer\\nimport lightgbm as lgb\\nimport tqdm\\nimport matplotlib.pyplot as plt\\nimport glob\\nimport re\\nimport statistics\\nimport numpy as np\\nimport pydot\\nimport pickle\\nimport seaborn as sns\\nimport plotly as py\\nimport matplotlib as mpl\\nimport bokeh\\nimport altair as alt\\nfrom openpyxl import load_workbook\\nimport sys\\nimport nltk\\nfrom sklearn import svm\\nimport sklearn\\nimport gensim\\nimport xgboost as xgb\\nimport spacy\\nfrom sklearn.model_selection import train_test_split\\nimport plotly.express as px\\nimport pandas as pd'); }\n",
              "    "
            ],
            "text/plain": [
              "<IPython.core.display.Javascript object>"
            ]
          },
          "metadata": {
            "tags": []
          }
        },
        {
          "output_type": "display_data",
          "data": {
            "application/javascript": [
              "\n",
              "        if (window._pyforest_update_imports_cell) { window._pyforest_update_imports_cell('import plotly.graph_objs as go\\nfrom sklearn.manifold import TSNE\\nimport tensorflow as tf\\nfrom sklearn.feature_extraction.text import TfidfVectorizer\\nimport lightgbm as lgb\\nimport tqdm\\nimport matplotlib.pyplot as plt\\nimport glob\\nimport re\\nimport statistics\\nimport numpy as np\\nimport pydot\\nimport pickle\\nimport seaborn as sns\\nimport plotly as py\\nimport matplotlib as mpl\\nimport bokeh\\nimport altair as alt\\nfrom openpyxl import load_workbook\\nimport sys\\nimport nltk\\nfrom sklearn import svm\\nimport sklearn\\nimport gensim\\nimport xgboost as xgb\\nimport spacy\\nfrom sklearn.model_selection import train_test_split\\nimport plotly.express as px\\nimport pandas as pd'); }\n",
              "    "
            ],
            "text/plain": [
              "<IPython.core.display.Javascript object>"
            ]
          },
          "metadata": {
            "tags": []
          }
        },
        {
          "output_type": "display_data",
          "data": {
            "application/javascript": [
              "\n",
              "        if (window._pyforest_update_imports_cell) { window._pyforest_update_imports_cell('import plotly.graph_objs as go\\nfrom sklearn.manifold import TSNE\\nimport tensorflow as tf\\nfrom sklearn.feature_extraction.text import TfidfVectorizer\\nimport lightgbm as lgb\\nimport tqdm\\nimport matplotlib.pyplot as plt\\nimport glob\\nimport re\\nimport statistics\\nimport numpy as np\\nimport pydot\\nimport pickle\\nimport seaborn as sns\\nimport plotly as py\\nimport matplotlib as mpl\\nimport bokeh\\nimport altair as alt\\nfrom openpyxl import load_workbook\\nimport sys\\nimport nltk\\nfrom sklearn import svm\\nimport sklearn\\nimport gensim\\nimport xgboost as xgb\\nimport spacy\\nfrom sklearn.model_selection import train_test_split\\nimport plotly.express as px\\nimport pandas as pd'); }\n",
              "    "
            ],
            "text/plain": [
              "<IPython.core.display.Javascript object>"
            ]
          },
          "metadata": {
            "tags": []
          }
        },
        {
          "output_type": "display_data",
          "data": {
            "image/png": "[encoded data removed]",
            "text/plain": [
              "<Figure size 432x288 with 1 Axes>"
            ]
          },
          "metadata": {
            "tags": [],
            "needs_background": "light"
          }
        }
      ]
    },
    {
      "cell_type": "markdown",
      "metadata": {
        "id": "M5haI5c_3SzZ"
      },
      "source": [
        "---\n",
        "Sendo assim, os parametros considerados para ajuste:\n",
        "- num_leaves: 2\n",
        "- max_depth: 2\n",
        "- n_estimators: 100 (default)\n",
        "\n",
        "\n",
        "Considerando o AUC de aproximadamente 0.72 identificado pelo LazyPredict e o AUC de aproximadamente 0.74 durante a verificação inicial sem parâmetros, ao ajustar os parâmetros supracitados, o algoritmo atingiu o AUC de 0.77\n",
        "\n",
        "---"
      ]
    },
    {
      "cell_type": "code",
      "metadata": {
        "colab": {
          "base_uri": "https://localhost:8080/",
          "height": 34
        },
        "id": "cIRtJrRCvpQ7",
        "outputId": "6c9cf44b-cbf4-4582-a144-f3012eed5db0"
      },
      "source": [
        "modelo = LGBMClassifier(num_leaves=2, max_depth=2)\n",
        "teste, treino = roda_modelo_cv(modelo, dados_tratados_features, 5, 10)\n",
        "teste"
      ],
      "execution_count": null,
      "outputs": [
        {
          "output_type": "display_data",
          "data": {
            "application/javascript": [
              "\n",
              "        if (window._pyforest_update_imports_cell) { window._pyforest_update_imports_cell('import plotly.graph_objs as go\\nfrom sklearn.manifold import TSNE\\nimport tensorflow as tf\\nfrom sklearn.feature_extraction.text import TfidfVectorizer\\nimport lightgbm as lgb\\nimport tqdm\\nimport matplotlib.pyplot as plt\\nimport glob\\nimport re\\nimport statistics\\nimport numpy as np\\nimport pydot\\nimport pickle\\nimport seaborn as sns\\nimport plotly as py\\nimport matplotlib as mpl\\nimport bokeh\\nimport altair as alt\\nfrom openpyxl import load_workbook\\nimport sys\\nimport os\\nimport nltk\\nfrom sklearn import svm\\nimport sklearn\\nimport gensim\\nfrom sklearn.preprocessing import OneHotEncoder\\nimport xgboost as xgb\\nimport spacy\\nfrom sklearn.model_selection import train_test_split\\nimport plotly.express as px\\nimport pandas as pd'); }\n",
              "    "
            ],
            "text/plain": [
              "<IPython.core.display.Javascript object>"
            ]
          },
          "metadata": {
            "tags": []
          }
        },
        {
          "output_type": "display_data",
          "data": {
            "application/javascript": [
              "\n",
              "        if (window._pyforest_update_imports_cell) { window._pyforest_update_imports_cell('import plotly.graph_objs as go\\nfrom sklearn.manifold import TSNE\\nimport tensorflow as tf\\nfrom sklearn.feature_extraction.text import TfidfVectorizer\\nimport lightgbm as lgb\\nimport tqdm\\nimport matplotlib.pyplot as plt\\nimport glob\\nimport re\\nimport statistics\\nimport numpy as np\\nimport pydot\\nimport pickle\\nimport seaborn as sns\\nimport plotly as py\\nimport matplotlib as mpl\\nimport bokeh\\nimport altair as alt\\nfrom openpyxl import load_workbook\\nimport sys\\nimport os\\nimport nltk\\nfrom sklearn import svm\\nimport sklearn\\nimport gensim\\nfrom sklearn.preprocessing import OneHotEncoder\\nimport xgboost as xgb\\nimport spacy\\nfrom sklearn.model_selection import train_test_split\\nimport plotly.express as px\\nimport pandas as pd'); }\n",
              "    "
            ],
            "text/plain": [
              "<IPython.core.display.Javascript object>"
            ]
          },
          "metadata": {
            "tags": []
          }
        },
        {
          "output_type": "display_data",
          "data": {
            "application/javascript": [
              "\n",
              "        if (window._pyforest_update_imports_cell) { window._pyforest_update_imports_cell('import plotly.graph_objs as go\\nfrom sklearn.manifold import TSNE\\nimport tensorflow as tf\\nfrom sklearn.feature_extraction.text import TfidfVectorizer\\nimport lightgbm as lgb\\nimport tqdm\\nimport matplotlib.pyplot as plt\\nimport glob\\nimport re\\nimport statistics\\nimport numpy as np\\nimport pydot\\nimport pickle\\nimport seaborn as sns\\nimport plotly as py\\nimport matplotlib as mpl\\nimport bokeh\\nimport altair as alt\\nfrom openpyxl import load_workbook\\nimport sys\\nimport os\\nimport nltk\\nfrom sklearn import svm\\nimport sklearn\\nimport gensim\\nfrom sklearn.preprocessing import OneHotEncoder\\nimport xgboost as xgb\\nimport spacy\\nfrom sklearn.model_selection import train_test_split\\nimport plotly.express as px\\nimport pandas as pd'); }\n",
              "    "
            ],
            "text/plain": [
              "<IPython.core.display.Javascript object>"
            ]
          },
          "metadata": {
            "tags": []
          }
        },
        {
          "output_type": "execute_result",
          "data": {
            "text/plain": [
              "0.7676886934781672"
            ]
          },
          "metadata": {
            "tags": []
          },
          "execution_count": 257
        }
      ]
    },
    {
      "cell_type": "markdown",
      "metadata": {
        "id": "hG5ioq4iJ7bL"
      },
      "source": [
        "Como comparação, os mesmos parametros foram utilizados com o conjunto de dados completo, antes da remoção dos campos que não faziam parte das features selecionadas pelo autor do desafio.\n",
        "\n",
        "O resultado foi levemente superior e o AUC Médio foi de 0.78\n"
      ]
    },
    {
      "cell_type": "code",
      "metadata": {
        "colab": {
          "base_uri": "https://localhost:8080/",
          "height": 34
        },
        "id": "XqEbty2r3Hoj",
        "outputId": "10633ab0-0588-4e8b-af98-aeb99cd92aec"
      },
      "source": [
        "modelo = LGBMClassifier(num_leaves=2, max_depth=2)\n",
        "teste, treino = roda_modelo_cv(modelo, dados_tratados, 5, 10)\n",
        "teste"
      ],
      "execution_count": null,
      "outputs": [
        {
          "output_type": "display_data",
          "data": {
            "application/javascript": [
              "\n",
              "        if (window._pyforest_update_imports_cell) { window._pyforest_update_imports_cell('import plotly.graph_objs as go\\nfrom sklearn.manifold import TSNE\\nimport tensorflow as tf\\nfrom sklearn.feature_extraction.text import TfidfVectorizer\\nimport lightgbm as lgb\\nimport tqdm\\nimport matplotlib.pyplot as plt\\nimport glob\\nimport re\\nimport statistics\\nimport numpy as np\\nimport pydot\\nimport pickle\\nimport seaborn as sns\\nimport plotly as py\\nimport matplotlib as mpl\\nimport bokeh\\nimport altair as alt\\nfrom openpyxl import load_workbook\\nimport sys\\nimport os\\nimport nltk\\nfrom sklearn import svm\\nimport sklearn\\nimport gensim\\nfrom sklearn.preprocessing import OneHotEncoder\\nimport xgboost as xgb\\nimport spacy\\nfrom sklearn.model_selection import train_test_split\\nimport plotly.express as px\\nimport pandas as pd'); }\n",
              "    "
            ],
            "text/plain": [
              "<IPython.core.display.Javascript object>"
            ]
          },
          "metadata": {
            "tags": []
          }
        },
        {
          "output_type": "display_data",
          "data": {
            "application/javascript": [
              "\n",
              "        if (window._pyforest_update_imports_cell) { window._pyforest_update_imports_cell('import plotly.graph_objs as go\\nfrom sklearn.manifold import TSNE\\nimport tensorflow as tf\\nfrom sklearn.feature_extraction.text import TfidfVectorizer\\nimport lightgbm as lgb\\nimport tqdm\\nimport matplotlib.pyplot as plt\\nimport glob\\nimport re\\nimport statistics\\nimport numpy as np\\nimport pydot\\nimport pickle\\nimport seaborn as sns\\nimport plotly as py\\nimport matplotlib as mpl\\nimport bokeh\\nimport altair as alt\\nfrom openpyxl import load_workbook\\nimport sys\\nimport os\\nimport nltk\\nfrom sklearn import svm\\nimport sklearn\\nimport gensim\\nfrom sklearn.preprocessing import OneHotEncoder\\nimport xgboost as xgb\\nimport spacy\\nfrom sklearn.model_selection import train_test_split\\nimport plotly.express as px\\nimport pandas as pd'); }\n",
              "    "
            ],
            "text/plain": [
              "<IPython.core.display.Javascript object>"
            ]
          },
          "metadata": {
            "tags": []
          }
        },
        {
          "output_type": "display_data",
          "data": {
            "application/javascript": [
              "\n",
              "        if (window._pyforest_update_imports_cell) { window._pyforest_update_imports_cell('import plotly.graph_objs as go\\nfrom sklearn.manifold import TSNE\\nimport tensorflow as tf\\nfrom sklearn.feature_extraction.text import TfidfVectorizer\\nimport lightgbm as lgb\\nimport tqdm\\nimport matplotlib.pyplot as plt\\nimport glob\\nimport re\\nimport statistics\\nimport numpy as np\\nimport pydot\\nimport pickle\\nimport seaborn as sns\\nimport plotly as py\\nimport matplotlib as mpl\\nimport bokeh\\nimport altair as alt\\nfrom openpyxl import load_workbook\\nimport sys\\nimport os\\nimport nltk\\nfrom sklearn import svm\\nimport sklearn\\nimport gensim\\nfrom sklearn.preprocessing import OneHotEncoder\\nimport xgboost as xgb\\nimport spacy\\nfrom sklearn.model_selection import train_test_split\\nimport plotly.express as px\\nimport pandas as pd'); }\n",
              "    "
            ],
            "text/plain": [
              "<IPython.core.display.Javascript object>"
            ]
          },
          "metadata": {
            "tags": []
          }
        },
        {
          "output_type": "execute_result",
          "data": {
            "text/plain": [
              "0.7814912213349713"
            ]
          },
          "metadata": {
            "tags": []
          },
          "execution_count": 268
        }
      ]
    },
    {
      "cell_type": "markdown",
      "metadata": {
        "id": "Gk0lQXgrLBs6"
      },
      "source": [
        "# Conclusão\n",
        "---\n",
        "Embora o algoritmo de escolha não seja o mais apropriado para conjuntos pequenos de dados, o LGBMClassifier atingiu um AUC de 0.77 de precisão.\n",
        "\n",
        "Para os próximos passos, talvez valha a pena comparar o resultado do LGBMClassifier com o XGBClassifier, que também teve um bom desempenho de acordo com o LazyPredict.\n",
        "\n",
        "Também seria interessante o uso de algoritmos com melhores performance com pequenos datasets, tais como SVC ou LogisticRegression.\n",
        "\n",
        "\n",
        "---"
      ]
    },
    {
      "cell_type": "markdown",
      "metadata": {
        "id": "O4d09IKe81Zq"
      },
      "source": [
        "# Fontes\n",
        "- https://blog.neoprospecta.com/origens-sars-cov-2/\n",
        "- https://pt.wikipedia.org/wiki/Coronavírus_da_síndrome_respiratória_aguda_grave_2\n",
        "- https://ourworldindata.org/coronavirus\n",
        "- https://saude.estadao.com.br/noticias/geral,cidades-de-sp-registram-pelo-menos-88-mortes-de-pacientes-da-covid-na-fila-por-leito\n",
        "- https://www.correiobraziliense.com.br/brasil/2021/03/4912974-brasileiros-infectados-pela-covid-19-morrem-em-filas-a-espera-de-vagas-uti.html\n",
        "- https://www.kaggle.com/Sírio-Libanes/covid19/code\n",
        "- https://towardsdatascience.com/how-to-run-30-machine-learning-models-with-2-lines-of-code-d0f94a537e52\n",
        "- https://lazypredict.readthedocs.io/en/latest/\n",
        "- https://lightgbm.readthedocs.io/en/latest/index.html"
      ]
    }
  ]
}